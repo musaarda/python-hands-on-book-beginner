{
 "cells": [
  {
   "cell_type": "markdown",
   "id": "consecutive-payment",
   "metadata": {},
   "source": [
    "# Set"
   ]
  },
  {
   "cell_type": "markdown",
   "id": "fifth-horizontal",
   "metadata": {},
   "source": [
    "## Set Creation"
   ]
  },
  {
   "cell_type": "markdown",
   "id": "speaking-wrong",
   "metadata": {},
   "source": [
    "So far, we have covered List, Dictionary and Tuple."
   ]
  },
  {
   "cell_type": "markdown",
   "id": "civic-andorra",
   "metadata": {},
   "source": [
    "Now we will learn another built-in data type in Python: `Set`"
   ]
  },
  {
   "cell_type": "markdown",
   "id": "colored-evaluation",
   "metadata": {},
   "source": [
    "`Set`:\n",
    "* is a datatype that include other data types (like List, Dict, String)\n",
    "* is **unordered** and **unindexed**\n",
    "* elements are **unique**\n",
    "* is created:\n",
    "    * `{ }` -> but with elements in it\n",
    "    * `set()`"
   ]
  },
  {
   "cell_type": "markdown",
   "id": "based-robertson",
   "metadata": {},
   "source": [
    "**Create a Set via `{ }`**"
   ]
  },
  {
   "cell_type": "code",
   "execution_count": 1,
   "id": "remarkable-hypothesis",
   "metadata": {},
   "outputs": [
    {
     "data": {
      "text/plain": [
       "{}"
      ]
     },
     "execution_count": 1,
     "metadata": {},
     "output_type": "execute_result"
    }
   ],
   "source": [
    "# Try to Create Set with {}\n",
    "my_set = {}\n",
    "my_set"
   ]
  },
  {
   "cell_type": "code",
   "execution_count": 2,
   "id": "ancient-devil",
   "metadata": {},
   "outputs": [
    {
     "data": {
      "text/plain": [
       "dict"
      ]
     },
     "execution_count": 2,
     "metadata": {},
     "output_type": "execute_result"
    }
   ],
   "source": [
    "type(my_set)"
   ]
  },
  {
   "cell_type": "code",
   "execution_count": 3,
   "id": "dried-hampshire",
   "metadata": {},
   "outputs": [
    {
     "data": {
      "text/plain": [
       "{'cat', 'dog', 'horse'}"
      ]
     },
     "execution_count": 3,
     "metadata": {},
     "output_type": "execute_result"
    }
   ],
   "source": [
    "# empty {} -> dict\n",
    "\n",
    "# for set\n",
    "# we have to pass items in {}\n",
    "my_set = {'dog', 'cat', 'horse'}\n",
    "my_set"
   ]
  },
  {
   "cell_type": "code",
   "execution_count": 4,
   "id": "boxed-strap",
   "metadata": {},
   "outputs": [
    {
     "data": {
      "text/plain": [
       "set"
      ]
     },
     "execution_count": 4,
     "metadata": {},
     "output_type": "execute_result"
    }
   ],
   "source": [
    "type(my_set)"
   ]
  },
  {
   "cell_type": "markdown",
   "id": "recent-buddy",
   "metadata": {},
   "source": [
    "**Create a Set via `set()`**"
   ]
  },
  {
   "cell_type": "code",
   "execution_count": 5,
   "id": "fifth-scholarship",
   "metadata": {},
   "outputs": [
    {
     "data": {
      "text/plain": [
       "set"
      ]
     },
     "execution_count": 5,
     "metadata": {},
     "output_type": "execute_result"
    }
   ],
   "source": [
    "# set({}) -> empty set\n",
    "an_empty_set = set({})\n",
    "type(an_empty_set)"
   ]
  },
  {
   "cell_type": "code",
   "execution_count": 6,
   "id": "shaped-jungle",
   "metadata": {},
   "outputs": [
    {
     "data": {
      "text/plain": [
       "{'A', 'B', 'C', 'D'}"
      ]
     },
     "execution_count": 6,
     "metadata": {},
     "output_type": "execute_result"
    }
   ],
   "source": [
    "# a set with elements\n",
    "letters = set({'A', 'B', 'C', 'D'})\n",
    "letters"
   ]
  },
  {
   "cell_type": "code",
   "execution_count": 7,
   "id": "direct-pattern",
   "metadata": {},
   "outputs": [
    {
     "name": "stdout",
     "output_type": "stream",
     "text": [
      "['A', 'A', 'B', 'C', 'B', 'C']\n"
     ]
    }
   ],
   "source": [
    "# Same element in a set -> only once\n",
    "grades = ['A', 'A', 'B', 'C', 'B', 'C']\n",
    "print(grades)"
   ]
  },
  {
   "cell_type": "code",
   "execution_count": 8,
   "id": "composed-acrobat",
   "metadata": {},
   "outputs": [
    {
     "data": {
      "text/plain": [
       "{'A', 'B', 'C'}"
      ]
     },
     "execution_count": 8,
     "metadata": {},
     "output_type": "execute_result"
    }
   ],
   "source": [
    "# convert the List -> Set\n",
    "# the same elements -> removed\n",
    "grades_set = set(grades)\n",
    "grades_set"
   ]
  },
  {
   "cell_type": "code",
   "execution_count": 9,
   "id": "velvet-captain",
   "metadata": {},
   "outputs": [
    {
     "data": {
      "text/plain": [
       "{'c', 'e', 'n', 's', 't'}"
      ]
     },
     "execution_count": 9,
     "metadata": {},
     "output_type": "execute_result"
    }
   ],
   "source": [
    "# String -> Set\n",
    "sentence = 'sentence'\n",
    "set(sentence)"
   ]
  },
  {
   "cell_type": "code",
   "execution_count": 10,
   "id": "julian-capacity",
   "metadata": {},
   "outputs": [
    {
     "ename": "TypeError",
     "evalue": "'set' object is not subscriptable",
     "output_type": "error",
     "traceback": [
      "\u001b[1;31m---------------------------------------------------------------------------\u001b[0m",
      "\u001b[1;31mTypeError\u001b[0m                                 Traceback (most recent call last)",
      "\u001b[1;32m<ipython-input-10-aca56b65c5f9>\u001b[0m in \u001b[0;36m<module>\u001b[1;34m\u001b[0m\n\u001b[0;32m      1\u001b[0m \u001b[1;31m# try to access the elements of a Set with index\u001b[0m\u001b[1;33m\u001b[0m\u001b[1;33m\u001b[0m\u001b[1;33m\u001b[0m\u001b[0m\n\u001b[1;32m----> 2\u001b[1;33m \u001b[0mgrades_set\u001b[0m\u001b[1;33m[\u001b[0m\u001b[1;36m0\u001b[0m\u001b[1;33m]\u001b[0m\u001b[1;33m\u001b[0m\u001b[1;33m\u001b[0m\u001b[0m\n\u001b[0m",
      "\u001b[1;31mTypeError\u001b[0m: 'set' object is not subscriptable"
     ]
    }
   ],
   "source": [
    "# try to access the elements of a Set with index\n",
    "grades_set[0]"
   ]
  },
  {
   "cell_type": "markdown",
   "id": "played-truth",
   "metadata": {},
   "source": [
    "**index** -> **subscriptable**"
   ]
  },
  {
   "cell_type": "markdown",
   "id": "handed-pillow",
   "metadata": {},
   "source": [
    "## Set Methods"
   ]
  },
  {
   "cell_type": "markdown",
   "id": "incident-trout",
   "metadata": {},
   "source": [
    "**intersection:**\n",
    "\n",
    "Intersection of two sets:\n",
    "\n",
    "$$ A \\cap B $$\n",
    "\n",
    "A.intersection(B)"
   ]
  },
  {
   "cell_type": "code",
   "execution_count": 11,
   "id": "metropolitan-event",
   "metadata": {},
   "outputs": [
    {
     "data": {
      "text/plain": [
       "{'A', 'B', 'C'}"
      ]
     },
     "execution_count": 11,
     "metadata": {},
     "output_type": "execute_result"
    }
   ],
   "source": [
    "grades = ['A', 'A', 'B', 'C', 'B', 'C']\n",
    "grades = set(grades)\n",
    "grades"
   ]
  },
  {
   "cell_type": "code",
   "execution_count": 12,
   "id": "dutch-howard",
   "metadata": {},
   "outputs": [
    {
     "data": {
      "text/plain": [
       "{'A', 'B', 'F', 'L', 'T'}"
      ]
     },
     "execution_count": 12,
     "metadata": {},
     "output_type": "execute_result"
    }
   ],
   "source": [
    "letters = ['A', 'L', 'T', 'B', 'F']\n",
    "letters = set(letters)\n",
    "letters"
   ]
  },
  {
   "cell_type": "code",
   "execution_count": 13,
   "id": "synthetic-supplement",
   "metadata": {},
   "outputs": [
    {
     "data": {
      "text/plain": [
       "{'A', 'B'}"
      ]
     },
     "execution_count": 13,
     "metadata": {},
     "output_type": "execute_result"
    }
   ],
   "source": [
    "# A.intersection(B)\n",
    "grades.intersection(letters)"
   ]
  },
  {
   "cell_type": "markdown",
   "id": "metropolitan-vertex",
   "metadata": {},
   "source": [
    "**union:**\n",
    "\n",
    "Union of two sets:\n",
    "\n",
    "$$ A \\cup B $$\n",
    "\n",
    "A.union(B)"
   ]
  },
  {
   "cell_type": "code",
   "execution_count": 14,
   "id": "korean-orleans",
   "metadata": {},
   "outputs": [
    {
     "data": {
      "text/plain": [
       "{'A', 'B', 'C', 'F', 'L', 'T'}"
      ]
     },
     "execution_count": 14,
     "metadata": {},
     "output_type": "execute_result"
    }
   ],
   "source": [
    "# get the union of grades and letters\n",
    "grades.union(letters)"
   ]
  },
  {
   "cell_type": "markdown",
   "id": "surprising-parliament",
   "metadata": {},
   "source": [
    "**difference:**\n",
    "\n",
    "Difference of two sets:\n",
    "\n",
    "$$ A \\setminus B $$\n",
    "\n",
    "A.difference(B)"
   ]
  },
  {
   "cell_type": "code",
   "execution_count": 15,
   "id": "violent-madonna",
   "metadata": {},
   "outputs": [
    {
     "data": {
      "text/plain": [
       "{'C'}"
      ]
     },
     "execution_count": 15,
     "metadata": {},
     "output_type": "execute_result"
    }
   ],
   "source": [
    "# get the difference of grades from letters\n",
    "grades.difference(letters)"
   ]
  },
  {
   "cell_type": "code",
   "execution_count": 16,
   "id": "welsh-cuisine",
   "metadata": {},
   "outputs": [
    {
     "data": {
      "text/plain": [
       "{'F', 'L', 'T'}"
      ]
     },
     "execution_count": 16,
     "metadata": {},
     "output_type": "execute_result"
    }
   ],
   "source": [
    "# get the difference of letters from grades\n",
    "letters.difference(grades)"
   ]
  },
  {
   "cell_type": "markdown",
   "id": "impressed-given",
   "metadata": {},
   "source": [
    "**issubset()**\n",
    "\n",
    "Checks if a set (A) is the subset of the other one (B).\n",
    "\n",
    "A.issubset(B)\n",
    "\n",
    "(All elements of A are in B)"
   ]
  },
  {
   "cell_type": "code",
   "execution_count": 17,
   "id": "indirect-stephen",
   "metadata": {},
   "outputs": [
    {
     "data": {
      "text/plain": [
       "False"
      ]
     },
     "execution_count": 17,
     "metadata": {},
     "output_type": "execute_result"
    }
   ],
   "source": [
    "# if grades is a subset of letters\n",
    "grades.issubset(letters)"
   ]
  },
  {
   "cell_type": "code",
   "execution_count": 18,
   "id": "numerical-painting",
   "metadata": {},
   "outputs": [],
   "source": [
    "# define a new set\n",
    "grades_small = {'A', 'B'}"
   ]
  },
  {
   "cell_type": "code",
   "execution_count": 19,
   "id": "described-gates",
   "metadata": {},
   "outputs": [
    {
     "data": {
      "text/plain": [
       "True"
      ]
     },
     "execution_count": 19,
     "metadata": {},
     "output_type": "execute_result"
    }
   ],
   "source": [
    "# if grades_small is a subset of letters\n",
    "grades_small.issubset(letters)"
   ]
  },
  {
   "cell_type": "code",
   "execution_count": 20,
   "id": "automated-biology",
   "metadata": {},
   "outputs": [
    {
     "data": {
      "text/plain": [
       "True"
      ]
     },
     "execution_count": 20,
     "metadata": {},
     "output_type": "execute_result"
    }
   ],
   "source": [
    "# if grades_small is a subset of grades\n",
    "grades_small.issubset(grades)"
   ]
  },
  {
   "cell_type": "markdown",
   "id": "activated-purple",
   "metadata": {},
   "source": [
    "**issuperset()**\n",
    "\n",
    "Checks if a set (A) is the superset of the other one (B).\n",
    "\n",
    "A.issuperset(B)\n",
    "\n",
    "(All elements of B are in A)"
   ]
  },
  {
   "cell_type": "code",
   "execution_count": 21,
   "id": "extreme-venue",
   "metadata": {},
   "outputs": [
    {
     "data": {
      "text/plain": [
       "False"
      ]
     },
     "execution_count": 21,
     "metadata": {},
     "output_type": "execute_result"
    }
   ],
   "source": [
    "# if letters is a superset of grades\n",
    "letters.issuperset(grades)"
   ]
  },
  {
   "cell_type": "code",
   "execution_count": 22,
   "id": "handled-lancaster",
   "metadata": {},
   "outputs": [
    {
     "data": {
      "text/plain": [
       "True"
      ]
     },
     "execution_count": 22,
     "metadata": {},
     "output_type": "execute_result"
    }
   ],
   "source": [
    "# if letters is a superset of grades_small\n",
    "letters.issuperset(grades_small)"
   ]
  },
  {
   "cell_type": "markdown",
   "id": "beginning-photography",
   "metadata": {},
   "source": [
    "**symmetric_difference()**\n",
    "\n",
    "Checks the symmetric difference between A and B.\n",
    "\n",
    "<pre>\n",
    "All elements which are only in A \n",
    "+ \n",
    "All elements which are only in B \n",
    "</pre>\n",
    "\n",
    "$$ (A \\setminus B) \\cup (B \\setminus A) $$"
   ]
  },
  {
   "cell_type": "code",
   "execution_count": 23,
   "id": "herbal-spending",
   "metadata": {},
   "outputs": [
    {
     "data": {
      "text/plain": [
       "{'C', 'F', 'L', 'T'}"
      ]
     },
     "execution_count": 23,
     "metadata": {},
     "output_type": "execute_result"
    }
   ],
   "source": [
    "# symmetric difference of letters and grades\n",
    "letters.symmetric_difference(grades)"
   ]
  },
  {
   "cell_type": "markdown",
   "id": "statewide-rescue",
   "metadata": {},
   "source": [
    "## Set Operations"
   ]
  },
  {
   "cell_type": "markdown",
   "id": "industrial-strand",
   "metadata": {},
   "source": [
    "**Add elements to set -> `add()`**"
   ]
  },
  {
   "cell_type": "code",
   "execution_count": 24,
   "id": "checked-malta",
   "metadata": {},
   "outputs": [
    {
     "data": {
      "text/plain": [
       "{'A', 'B', 'C', 'F'}"
      ]
     },
     "execution_count": 24,
     "metadata": {},
     "output_type": "execute_result"
    }
   ],
   "source": [
    "# add 'F' to grades\n",
    "grades.add('F')\n",
    "grades"
   ]
  },
  {
   "cell_type": "code",
   "execution_count": 25,
   "id": "metropolitan-blogger",
   "metadata": {},
   "outputs": [
    {
     "data": {
      "text/plain": [
       "{'A', 'B', 'C', 'F', 'T'}"
      ]
     },
     "execution_count": 25,
     "metadata": {},
     "output_type": "execute_result"
    }
   ],
   "source": [
    "# add 'T' to grades\n",
    "grades.add('T')\n",
    "grades"
   ]
  },
  {
   "cell_type": "code",
   "execution_count": 26,
   "id": "joined-major",
   "metadata": {},
   "outputs": [
    {
     "data": {
      "text/plain": [
       "{'A', 'B', 'C', 'F', 'T'}"
      ]
     },
     "execution_count": 26,
     "metadata": {},
     "output_type": "execute_result"
    }
   ],
   "source": [
    "# Python will ignore the same element\n",
    "grades.add('F')\n",
    "grades"
   ]
  },
  {
   "cell_type": "markdown",
   "id": "negative-writer",
   "metadata": {},
   "source": [
    "**Remove elements from set -> `remove()`**"
   ]
  },
  {
   "cell_type": "code",
   "execution_count": 27,
   "id": "thick-stretch",
   "metadata": {},
   "outputs": [
    {
     "data": {
      "text/plain": [
       "{'A', 'B', 'F', 'T'}"
      ]
     },
     "execution_count": 27,
     "metadata": {},
     "output_type": "execute_result"
    }
   ],
   "source": [
    "# set.remove(<element>)\n",
    "grades.remove('C')\n",
    "grades"
   ]
  },
  {
   "cell_type": "code",
   "execution_count": 28,
   "id": "final-timber",
   "metadata": {},
   "outputs": [
    {
     "data": {
      "text/plain": [
       "{'A', 'B', 'T'}"
      ]
     },
     "execution_count": 28,
     "metadata": {},
     "output_type": "execute_result"
    }
   ],
   "source": [
    "# remove 'F'\n",
    "grades.remove('F')\n",
    "grades"
   ]
  },
  {
   "cell_type": "markdown",
   "id": "behavioral-produce",
   "metadata": {},
   "source": [
    "**Loop over a Set**"
   ]
  },
  {
   "cell_type": "code",
   "execution_count": 29,
   "id": "closing-orchestra",
   "metadata": {},
   "outputs": [
    {
     "name": "stdout",
     "output_type": "stream",
     "text": [
      "B\n",
      "F\n",
      "L\n",
      "T\n",
      "A\n"
     ]
    }
   ],
   "source": [
    "for letter in letters:\n",
    "    print(letter)"
   ]
  },
  {
   "cell_type": "code",
   "execution_count": 30,
   "id": "concrete-pavilion",
   "metadata": {},
   "outputs": [
    {
     "name": "stdout",
     "output_type": "stream",
     "text": [
      "B\n",
      "T\n",
      "A\n"
     ]
    }
   ],
   "source": [
    "for g in grades:\n",
    "    print(g)"
   ]
  },
  {
   "cell_type": "markdown",
   "id": "juvenile-think",
   "metadata": {},
   "source": [
    "**Assignment in Sets**\n",
    "\n",
    "Assignment is `Aliasing`.\n",
    "\n",
    "Aliasing: giving another name."
   ]
  },
  {
   "cell_type": "code",
   "execution_count": 31,
   "id": "designed-voice",
   "metadata": {},
   "outputs": [
    {
     "name": "stdout",
     "output_type": "stream",
     "text": [
      "a: {2, 5, 7}\n",
      "b: {2, 5, 7}\n"
     ]
    }
   ],
   "source": [
    "# create a set\n",
    "a = {2, 5, 7}\n",
    "\n",
    "# assignment -> aliasing\n",
    "b = a\n",
    "\n",
    "print('a:', a)\n",
    "print('b:', b)"
   ]
  },
  {
   "cell_type": "code",
   "execution_count": 32,
   "id": "promotional-kingston",
   "metadata": {},
   "outputs": [],
   "source": [
    "# add element into b\n",
    "b.add('NEW')"
   ]
  },
  {
   "cell_type": "code",
   "execution_count": 33,
   "id": "continued-manufacturer",
   "metadata": {},
   "outputs": [
    {
     "name": "stdout",
     "output_type": "stream",
     "text": [
      "a: {2, 'NEW', 5, 7}\n",
      "b: {2, 'NEW', 5, 7}\n"
     ]
    }
   ],
   "source": [
    "# print both a and b to see they are identical\n",
    "print('a:', a)\n",
    "print('b:', b)"
   ]
  },
  {
   "cell_type": "markdown",
   "id": "horizontal-metadata",
   "metadata": {},
   "source": [
    "**identical**"
   ]
  },
  {
   "cell_type": "code",
   "execution_count": 34,
   "id": "rental-iraqi",
   "metadata": {},
   "outputs": [
    {
     "data": {
      "text/plain": [
       "True"
      ]
     },
     "execution_count": 34,
     "metadata": {},
     "output_type": "execute_result"
    }
   ],
   "source": [
    "# identity check\n",
    "a is b"
   ]
  },
  {
   "cell_type": "markdown",
   "id": "greenhouse-cleaning",
   "metadata": {},
   "source": [
    "**equivalence**"
   ]
  },
  {
   "cell_type": "code",
   "execution_count": 35,
   "id": "generic-lending",
   "metadata": {},
   "outputs": [
    {
     "data": {
      "text/plain": [
       "True"
      ]
     },
     "execution_count": 35,
     "metadata": {},
     "output_type": "execute_result"
    }
   ],
   "source": [
    "# equality check\n",
    "a == b"
   ]
  },
  {
   "cell_type": "code",
   "execution_count": 36,
   "id": "based-stockholm",
   "metadata": {},
   "outputs": [
    {
     "data": {
      "text/plain": [
       "True"
      ]
     },
     "execution_count": 36,
     "metadata": {},
     "output_type": "execute_result"
    }
   ],
   "source": [
    "a.issubset(b)"
   ]
  },
  {
   "cell_type": "code",
   "execution_count": 37,
   "id": "deadly-aviation",
   "metadata": {},
   "outputs": [
    {
     "data": {
      "text/plain": [
       "True"
      ]
     },
     "execution_count": 37,
     "metadata": {},
     "output_type": "execute_result"
    }
   ],
   "source": [
    "a.issuperset(b)"
   ]
  },
  {
   "cell_type": "code",
   "execution_count": 38,
   "id": "chemical-saint",
   "metadata": {},
   "outputs": [],
   "source": [
    "# add a new element to a\n",
    "a.add('YYYY')"
   ]
  },
  {
   "cell_type": "code",
   "execution_count": 39,
   "id": "private-repair",
   "metadata": {},
   "outputs": [
    {
     "name": "stdout",
     "output_type": "stream",
     "text": [
      "a: {2, 'NEW', 5, 'YYYY', 7}\n",
      "b: {2, 'NEW', 5, 'YYYY', 7}\n"
     ]
    }
   ],
   "source": [
    "print('a:', a)\n",
    "print('b:', b)"
   ]
  },
  {
   "cell_type": "markdown",
   "id": "individual-chapter",
   "metadata": {},
   "source": [
    "**Adding multiple elements to a Set -> `update()`** "
   ]
  },
  {
   "cell_type": "code",
   "execution_count": 40,
   "id": "proprietary-graduate",
   "metadata": {},
   "outputs": [
    {
     "data": {
      "text/plain": [
       "{'Apple', 'Melon', 'Orange'}"
      ]
     },
     "execution_count": 40,
     "metadata": {},
     "output_type": "execute_result"
    }
   ],
   "source": [
    "# define a set of fruits\n",
    "fruits = {'Apple', 'Orange', 'Melon'}\n",
    "fruits"
   ]
  },
  {
   "cell_type": "code",
   "execution_count": 41,
   "id": "authentic-applicant",
   "metadata": {},
   "outputs": [
    {
     "data": {
      "text/plain": [
       "['Cherry', 'Banana']"
      ]
     },
     "execution_count": 41,
     "metadata": {},
     "output_type": "execute_result"
    }
   ],
   "source": [
    "# define a list\n",
    "more_fruits = ['Cherry', 'Banana']\n",
    "more_fruits"
   ]
  },
  {
   "cell_type": "code",
   "execution_count": 42,
   "id": "integral-harvey",
   "metadata": {},
   "outputs": [
    {
     "data": {
      "text/plain": [
       "{'Apple', 'Banana', 'Cherry', 'Melon', 'Orange'}"
      ]
     },
     "execution_count": 42,
     "metadata": {},
     "output_type": "execute_result"
    }
   ],
   "source": [
    "# update fruits with more_fruits\n",
    "fruits.update(more_fruits)\n",
    "fruits"
   ]
  }
 ],
 "metadata": {
  "kernelspec": {
   "display_name": "Python 3",
   "language": "python",
   "name": "python3"
  },
  "language_info": {
   "codemirror_mode": {
    "name": "ipython",
    "version": 3
   },
   "file_extension": ".py",
   "mimetype": "text/x-python",
   "name": "python",
   "nbconvert_exporter": "python",
   "pygments_lexer": "ipython3",
   "version": "3.8.8"
  }
 },
 "nbformat": 4,
 "nbformat_minor": 5
}
