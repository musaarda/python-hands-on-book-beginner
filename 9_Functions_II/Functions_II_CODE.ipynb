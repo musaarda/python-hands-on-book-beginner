{
 "cells": [
  {
   "cell_type": "markdown",
   "id": "opposed-second",
   "metadata": {},
   "source": [
    "# Functions II"
   ]
  },
  {
   "cell_type": "markdown",
   "id": "prompt-grill",
   "metadata": {},
   "source": [
    "## Return Value"
   ]
  },
  {
   "cell_type": "markdown",
   "id": "considerable-campus",
   "metadata": {},
   "source": [
    "Most of the time functions return a value after execution.\n",
    "\n",
    "The caller of that function receives this returned value and uses it.\n",
    "\n",
    "There are functions which do not return any value -> **void functions**"
   ]
  },
  {
   "cell_type": "markdown",
   "id": "french-popularity",
   "metadata": {},
   "source": [
    "**Important:**\n",
    "\n",
    "In a function, the code lines below **return** is not **executed**.\n",
    "\n",
    "Return is the final line in a function."
   ]
  },
  {
   "cell_type": "markdown",
   "id": "aware-continent",
   "metadata": {},
   "source": [
    "**Example:**\n",
    "\n",
    "Define a function to calculate the area of the circle and returns it.\n",
    "\n",
    "Then call this function, get the area and print it."
   ]
  },
  {
   "cell_type": "code",
   "execution_count": 1,
   "id": "meaningful-sword",
   "metadata": {},
   "outputs": [],
   "source": [
    "import math\n",
    "\n",
    "def area_of_circle(radius):\n",
    "    # calcuate the area and assign to a variable\n",
    "    a = math.pi * radius**2\n",
    "    \n",
    "    # return the area\n",
    "    return a"
   ]
  },
  {
   "cell_type": "code",
   "execution_count": 2,
   "id": "expressed-plymouth",
   "metadata": {},
   "outputs": [
    {
     "name": "stdout",
     "output_type": "stream",
     "text": [
      "50.26548245743669\n"
     ]
    }
   ],
   "source": [
    "area = area_of_circle(4)\n",
    "print(area)"
   ]
  },
  {
   "cell_type": "markdown",
   "id": "united-geology",
   "metadata": {},
   "source": [
    "**Temporary Variable:**\n",
    "\n",
    "In the function abouve, the variable `a` is called temp variable.\n",
    "\n",
    "It's purpose is to keep the area and pass it to return statement."
   ]
  },
  {
   "cell_type": "markdown",
   "id": "reasonable-audio",
   "metadata": {},
   "source": [
    "We don't have use this temp variable."
   ]
  },
  {
   "cell_type": "code",
   "execution_count": 3,
   "id": "accessible-delhi",
   "metadata": {},
   "outputs": [],
   "source": [
    "# function without temp variable\n",
    "\n",
    "def area_of_circle_without_temp(radius):\n",
    "    # calculate the area and return it\n",
    "    return math.pi * radius**2"
   ]
  },
  {
   "cell_type": "markdown",
   "id": "lucky-accordance",
   "metadata": {},
   "source": [
    "Mainly, temp variables are used for debugging purposes."
   ]
  },
  {
   "cell_type": "code",
   "execution_count": 4,
   "id": "three-ferry",
   "metadata": {},
   "outputs": [
    {
     "name": "stdout",
     "output_type": "stream",
     "text": [
      "50.26548245743669\n"
     ]
    }
   ],
   "source": [
    "area = area_of_circle_without_temp(4)\n",
    "print(area)"
   ]
  },
  {
   "cell_type": "markdown",
   "id": "exterior-minute",
   "metadata": {},
   "source": [
    "In function call -> `area` variable is a temp variable.\n",
    "\n",
    "We don't need to use it."
   ]
  },
  {
   "cell_type": "code",
   "execution_count": 5,
   "id": "challenging-designation",
   "metadata": {},
   "outputs": [
    {
     "name": "stdout",
     "output_type": "stream",
     "text": [
      "50.26548245743669\n"
     ]
    }
   ],
   "source": [
    "# More Functional Approach\n",
    "print(area_of_circle_without_temp(4))"
   ]
  },
  {
   "cell_type": "markdown",
   "id": "enabling-tissue",
   "metadata": {},
   "source": [
    "## Incremental Development"
   ]
  },
  {
   "cell_type": "markdown",
   "id": "entitled-index",
   "metadata": {},
   "source": [
    "We can not consider and code everything at once, while developing programs.\n",
    "\n",
    "That's why we have to concentrate on **Inceremental Development**."
   ]
  },
  {
   "cell_type": "markdown",
   "id": "faced-upper",
   "metadata": {},
   "source": [
    "Incremental Development is essential for Debugging.\n",
    "\n",
    "If you can not debug every step of your code, and make sure that it works correctly, you can not be sure about its quality."
   ]
  },
  {
   "cell_type": "markdown",
   "id": "presidential-hazard",
   "metadata": {},
   "source": [
    "**Example:**\n",
    "\n",
    "Let's say we are trying to calculate the distance between to points."
   ]
  },
  {
   "cell_type": "markdown",
   "id": "colonial-roulette",
   "metadata": {},
   "source": [
    "In Math it is very easy to calculate via Pythagoras' Theorem:\n",
    "\n",
    "$$ distance = \\sqrt{(x_2-x_1)^2 + (y_2-y_1)^2} $$"
   ]
  },
  {
   "cell_type": "markdown",
   "id": "continuing-station",
   "metadata": {},
   "source": [
    "But this single line of equation is not that easy to do in Python."
   ]
  },
  {
   "cell_type": "markdown",
   "id": "polar-chess",
   "metadata": {},
   "source": [
    "We have to plan evey bir step to do this calculation.\n",
    "\n",
    "Let's see it in a function:"
   ]
  },
  {
   "cell_type": "code",
   "execution_count": 6,
   "id": "sharp-packing",
   "metadata": {},
   "outputs": [],
   "source": [
    "# Step 1: Calcualte the distances and print them\n",
    "\n",
    "def distance(x1, y1, x2, y2):\n",
    "    \n",
    "    # first diff of x's\n",
    "    dx = x2 - x1\n",
    "    \n",
    "    # diff of y's\n",
    "    dy = y2 - y1\n",
    "    \n",
    "    # <------- DEBUG -------> #    \n",
    "    print(\"dx:\", dx)\n",
    "    print(\"dy:\", dy)"
   ]
  },
  {
   "cell_type": "code",
   "execution_count": 7,
   "id": "inside-turning",
   "metadata": {},
   "outputs": [
    {
     "name": "stdout",
     "output_type": "stream",
     "text": [
      "dx: 3\n",
      "dy: 4\n"
     ]
    }
   ],
   "source": [
    "distance(1, 6, 4, 10)"
   ]
  },
  {
   "cell_type": "markdown",
   "id": "invalid-stereo",
   "metadata": {},
   "source": [
    "Move on developing"
   ]
  },
  {
   "cell_type": "code",
   "execution_count": 8,
   "id": "understanding-missouri",
   "metadata": {},
   "outputs": [],
   "source": [
    "# Step 2: Calculate the sum of squares and print it\n",
    "\n",
    "def distance(x1, y1, x2, y2):\n",
    "    \n",
    "    # first diff of x's\n",
    "    dx = x2 - x1\n",
    "    \n",
    "    # diff of y's\n",
    "    dy = y2 - y1\n",
    "    \n",
    "    # <------- DEBUG -------> #\n",
    "    # print(\"dx:\", dx)\n",
    "    # print(\"dy:\", dy)\n",
    "    \n",
    "    # calculate sum of squares\n",
    "    sum_of_squares = dx**2 + dy**2\n",
    "    \n",
    "    # <------- DEBUG -------> #\n",
    "    print(\"sum_of_squares:\", sum_of_squares)    "
   ]
  },
  {
   "cell_type": "code",
   "execution_count": 9,
   "id": "functioning-database",
   "metadata": {},
   "outputs": [
    {
     "name": "stdout",
     "output_type": "stream",
     "text": [
      "sum_of_squares: 25\n"
     ]
    }
   ],
   "source": [
    "distance(1, 6, 4, 10)"
   ]
  },
  {
   "cell_type": "code",
   "execution_count": 10,
   "id": "respiratory-intensity",
   "metadata": {},
   "outputs": [
    {
     "name": "stdout",
     "output_type": "stream",
     "text": [
      "sum_of_squares: 289\n"
     ]
    }
   ],
   "source": [
    "distance(2, 6, 10, 21)"
   ]
  },
  {
   "cell_type": "markdown",
   "id": "alleged-degree",
   "metadata": {},
   "source": [
    "**TDD (Test Driven Development)**\n",
    "\n",
    "We test every function and every step."
   ]
  },
  {
   "cell_type": "code",
   "execution_count": 11,
   "id": "compact-indonesia",
   "metadata": {},
   "outputs": [],
   "source": [
    "import math\n",
    "\n",
    "def distance(x1, y1, x2, y2):\n",
    "    \n",
    "    # first diff of x's\n",
    "    dx = x2 - x1\n",
    "    \n",
    "    # diff of y's\n",
    "    dy = y2 - y1\n",
    "    \n",
    "    # <------- DEBUG -------> #\n",
    "    # print(\"dx:\", dx)\n",
    "    # print(\"dy:\", dy)\n",
    "    \n",
    "    # calculate sum of squares\n",
    "    sum_of_squares = dx**2 + dy**2\n",
    "    \n",
    "    # <------- DEBUG -------> #\n",
    "    # print(\"sum_of_squares:\", sum_of_squares)\n",
    "    \n",
    "    # return the distance\n",
    "    return math.sqrt(sum_of_squares)    "
   ]
  },
  {
   "cell_type": "code",
   "execution_count": 12,
   "id": "compliant-enzyme",
   "metadata": {},
   "outputs": [
    {
     "data": {
      "text/plain": [
       "5.0"
      ]
     },
     "execution_count": 12,
     "metadata": {},
     "output_type": "execute_result"
    }
   ],
   "source": [
    "distance(1, 6, 4, 10)"
   ]
  },
  {
   "cell_type": "code",
   "execution_count": 13,
   "id": "executive-norway",
   "metadata": {},
   "outputs": [
    {
     "data": {
      "text/plain": [
       "17.0"
      ]
     },
     "execution_count": 13,
     "metadata": {},
     "output_type": "execute_result"
    }
   ],
   "source": [
    "distance(2, 6, 10, 21)"
   ]
  },
  {
   "cell_type": "markdown",
   "id": "driving-foundation",
   "metadata": {},
   "source": [
    "## Compositions"
   ]
  },
  {
   "cell_type": "markdown",
   "id": "pointed-sister",
   "metadata": {},
   "source": [
    "**Functional Programming**\n",
    "\n",
    "In its core, FP is dividing tasks into pieces and define seperate functions for these tasks.\n",
    "\n",
    "Each function is responsible from its own task."
   ]
  },
  {
   "cell_type": "markdown",
   "id": "common-factor",
   "metadata": {},
   "source": [
    "**Example:**\n",
    "\n",
    "Let's say we have two points.\n",
    "\n",
    "And let's assume the line segment combining these two pieces as the radius.\n",
    "\n",
    "And let's try to calculate the area of the circle having this radius.\n",
    "\n",
    "Instead of doing all the steps in one giant function,\n",
    "\n",
    "We will create seperate functions for each task and call them when needed."
   ]
  },
  {
   "cell_type": "code",
   "execution_count": 14,
   "id": "hollywood-reception",
   "metadata": {},
   "outputs": [],
   "source": [
    "def area_of_circle_combining_two_points(x1, y1, x2, y2):\n",
    "    \"\"\"\n",
    "    Calculates the area of circle with radius from point one to point two.\n",
    "    Parameters: int x1, y1 first point, int x2, y2 second point\n",
    "    Returns: The area of circle\n",
    "    \"\"\"\n",
    "    \n",
    "    # calculate the radius from points\n",
    "    # distance between point 1 and point 2\n",
    "    r = distance(x1, y1, x2, y2)\n",
    "    \n",
    "    # calcuate area\n",
    "    area = area_of_circle(r)\n",
    "    \n",
    "    # return the result\n",
    "    return area"
   ]
  },
  {
   "cell_type": "code",
   "execution_count": 15,
   "id": "subsequent-insulation",
   "metadata": {},
   "outputs": [
    {
     "data": {
      "text/plain": [
       "78.53981633974483"
      ]
     },
     "execution_count": 15,
     "metadata": {},
     "output_type": "execute_result"
    }
   ],
   "source": [
    "area_of_circle_combining_two_points(1, 6, 4, 10)"
   ]
  },
  {
   "cell_type": "markdown",
   "id": "terminal-knife",
   "metadata": {},
   "source": [
    "**Bool Functions**\n",
    "\n",
    "Functions which return either True or False."
   ]
  },
  {
   "cell_type": "code",
   "execution_count": 16,
   "id": "variable-trance",
   "metadata": {},
   "outputs": [],
   "source": [
    "# if a number is even or odd\n",
    "\n",
    "# even fn\n",
    "def is_even(x):\n",
    "    return x % 2 == 0\n",
    "\n",
    "# odd fn\n",
    "def is_odd(x):\n",
    "    return x % 2 == 1"
   ]
  },
  {
   "cell_type": "code",
   "execution_count": 17,
   "id": "smaller-front",
   "metadata": {},
   "outputs": [
    {
     "data": {
      "text/plain": [
       "False"
      ]
     },
     "execution_count": 17,
     "metadata": {},
     "output_type": "execute_result"
    }
   ],
   "source": [
    "is_even(11)"
   ]
  },
  {
   "cell_type": "code",
   "execution_count": 18,
   "id": "coral-presence",
   "metadata": {},
   "outputs": [
    {
     "data": {
      "text/plain": [
       "True"
      ]
     },
     "execution_count": 18,
     "metadata": {},
     "output_type": "execute_result"
    }
   ],
   "source": [
    "is_odd(11)"
   ]
  },
  {
   "cell_type": "code",
   "execution_count": 19,
   "id": "incorporated-hardwood",
   "metadata": {},
   "outputs": [
    {
     "data": {
      "text/plain": [
       "True"
      ]
     },
     "execution_count": 19,
     "metadata": {},
     "output_type": "execute_result"
    }
   ],
   "source": [
    "is_even(40)"
   ]
  },
  {
   "cell_type": "markdown",
   "id": "honey-partition",
   "metadata": {},
   "source": [
    "## Functions are First-Class Citizens"
   ]
  },
  {
   "cell_type": "markdown",
   "id": "happy-discrimination",
   "metadata": {},
   "source": [
    "In Python, Functions are First-Class Citizens:\n",
    "\n",
    "* assign function to variables\n",
    "* pass functions as parameters\n",
    "* reassing functions"
   ]
  },
  {
   "cell_type": "code",
   "execution_count": 20,
   "id": "tropical-senate",
   "metadata": {},
   "outputs": [],
   "source": [
    "# define a function to return the cube of a number\n",
    "def cube(num):    \n",
    "    out = num**3    \n",
    "    return out"
   ]
  },
  {
   "cell_type": "code",
   "execution_count": 21,
   "id": "urban-sperm",
   "metadata": {},
   "outputs": [
    {
     "data": {
      "text/plain": [
       "125"
      ]
     },
     "execution_count": 21,
     "metadata": {},
     "output_type": "execute_result"
    }
   ],
   "source": [
    "cube(5)"
   ]
  },
  {
   "cell_type": "code",
   "execution_count": 22,
   "id": "alien-michael",
   "metadata": {},
   "outputs": [],
   "source": [
    "# assign this function to a variable\n",
    "q = cube"
   ]
  },
  {
   "cell_type": "code",
   "execution_count": 23,
   "id": "finnish-creature",
   "metadata": {},
   "outputs": [
    {
     "data": {
      "text/plain": [
       "function"
      ]
     },
     "execution_count": 23,
     "metadata": {},
     "output_type": "execute_result"
    }
   ],
   "source": [
    "type(q)"
   ]
  },
  {
   "cell_type": "code",
   "execution_count": 24,
   "id": "reported-internship",
   "metadata": {},
   "outputs": [
    {
     "data": {
      "text/plain": [
       "125"
      ]
     },
     "execution_count": 24,
     "metadata": {},
     "output_type": "execute_result"
    }
   ],
   "source": [
    "# call q\n",
    "q(5)"
   ]
  },
  {
   "cell_type": "markdown",
   "id": "negative-butter",
   "metadata": {},
   "source": [
    "When we call q -> Python executes cube function."
   ]
  },
  {
   "cell_type": "markdown",
   "id": "german-commerce",
   "metadata": {},
   "source": [
    "**Alising:** Add a new name to the function.\n",
    "\n",
    "* cube\n",
    "* q"
   ]
  },
  {
   "cell_type": "code",
   "execution_count": 25,
   "id": "reasonable-given",
   "metadata": {},
   "outputs": [],
   "source": [
    "def say_hello(text):\n",
    "    print(text)"
   ]
  },
  {
   "cell_type": "code",
   "execution_count": 26,
   "id": "patent-advancement",
   "metadata": {},
   "outputs": [
    {
     "name": "stdout",
     "output_type": "stream",
     "text": [
      "Hi there Python\n"
     ]
    }
   ],
   "source": [
    "say_hello(\"Hi there Python\")"
   ]
  },
  {
   "cell_type": "code",
   "execution_count": 27,
   "id": "geographic-proceeding",
   "metadata": {},
   "outputs": [],
   "source": [
    "hello = say_hello"
   ]
  },
  {
   "cell_type": "code",
   "execution_count": 28,
   "id": "multiple-breach",
   "metadata": {},
   "outputs": [
    {
     "name": "stdout",
     "output_type": "stream",
     "text": [
      "Hi yourself Developer\n"
     ]
    }
   ],
   "source": [
    "hello(\"Hi yourself Developer\")"
   ]
  },
  {
   "cell_type": "markdown",
   "id": "ambient-story",
   "metadata": {},
   "source": [
    "## Unknown Parameters: *args"
   ]
  },
  {
   "cell_type": "markdown",
   "id": "revised-involvement",
   "metadata": {},
   "source": [
    "In some cases, you may not know the actual number of parameters.\n",
    "\n",
    "`*args`"
   ]
  },
  {
   "cell_type": "code",
   "execution_count": 29,
   "id": "explicit-modification",
   "metadata": {},
   "outputs": [],
   "source": [
    "# summation with unknown parameters\n",
    "\n",
    "def summation(*args):\n",
    "    print('args:', args)\n",
    "    print(type(args))"
   ]
  },
  {
   "cell_type": "code",
   "execution_count": 30,
   "id": "demographic-richmond",
   "metadata": {},
   "outputs": [
    {
     "name": "stdout",
     "output_type": "stream",
     "text": [
      "args: (5, 7)\n",
      "<class 'tuple'>\n"
     ]
    }
   ],
   "source": [
    "summation(5, 7)"
   ]
  },
  {
   "cell_type": "code",
   "execution_count": 31,
   "id": "asian-freight",
   "metadata": {},
   "outputs": [
    {
     "name": "stdout",
     "output_type": "stream",
     "text": [
      "args: (5, 7, 1, 4, 3)\n",
      "<class 'tuple'>\n"
     ]
    }
   ],
   "source": [
    "summation(5, 7, 1, 4, 3)"
   ]
  },
  {
   "cell_type": "code",
   "execution_count": 32,
   "id": "sustained-basketball",
   "metadata": {},
   "outputs": [],
   "source": [
    "# summation\n",
    "\n",
    "def summation(*args):\n",
    "    # get the sum of args with built-in sum() fn\n",
    "    summation_result = sum(args)\n",
    "    \n",
    "    print(summation_result)"
   ]
  },
  {
   "cell_type": "code",
   "execution_count": 33,
   "id": "rational-scholarship",
   "metadata": {},
   "outputs": [
    {
     "name": "stdout",
     "output_type": "stream",
     "text": [
      "12\n"
     ]
    }
   ],
   "source": [
    "summation(5, 7)"
   ]
  },
  {
   "cell_type": "code",
   "execution_count": 34,
   "id": "environmental-syndrome",
   "metadata": {},
   "outputs": [
    {
     "name": "stdout",
     "output_type": "stream",
     "text": [
      "20\n"
     ]
    }
   ],
   "source": [
    "summation(5, 7, 1, 4, 3)"
   ]
  },
  {
   "cell_type": "code",
   "execution_count": 35,
   "id": "voluntary-yukon",
   "metadata": {},
   "outputs": [],
   "source": [
    "# summation\n",
    "\n",
    "def summation(*args):\n",
    "    return sum(args)"
   ]
  },
  {
   "cell_type": "code",
   "execution_count": 36,
   "id": "constitutional-geneva",
   "metadata": {},
   "outputs": [
    {
     "data": {
      "text/plain": [
       "20"
      ]
     },
     "execution_count": 36,
     "metadata": {},
     "output_type": "execute_result"
    }
   ],
   "source": [
    "sum_of_numbers = summation(5, 7, 1, 4, 3)\n",
    "sum_of_numbers"
   ]
  },
  {
   "cell_type": "code",
   "execution_count": 37,
   "id": "royal-fitness",
   "metadata": {},
   "outputs": [],
   "source": [
    "# print the arguments inside the *args\n",
    "\n",
    "def print_parameters(*args):\n",
    "    # loop over the arguments\n",
    "    for arg in args:\n",
    "        print(arg)"
   ]
  },
  {
   "cell_type": "code",
   "execution_count": 38,
   "id": "going-butter",
   "metadata": {},
   "outputs": [
    {
     "name": "stdout",
     "output_type": "stream",
     "text": [
      "A\n",
      "B\n",
      "45\n",
      "True\n",
      "Python\n"
     ]
    }
   ],
   "source": [
    "print_parameters('A', 'B', 45, True, 'Python')"
   ]
  },
  {
   "cell_type": "code",
   "execution_count": 39,
   "id": "professional-office",
   "metadata": {},
   "outputs": [
    {
     "name": "stdout",
     "output_type": "stream",
     "text": [
      "Book\n",
      "[1, 2, 3]\n",
      "('A', 'B')\n",
      "True\n",
      "Python\n"
     ]
    }
   ],
   "source": [
    "print_parameters('Book', [1,2,3], ('A', 'B'), True, 'Python')"
   ]
  },
  {
   "cell_type": "markdown",
   "id": "informed-philadelphia",
   "metadata": {},
   "source": [
    "## lambda Function"
   ]
  },
  {
   "cell_type": "markdown",
   "id": "banned-rally",
   "metadata": {},
   "source": [
    "Sometimes, we need to define a function without a name.\n",
    "\n",
    "We use `lambda` for this purpose.\n",
    "\n",
    "Lambda functions are known as **one line functions**."
   ]
  },
  {
   "cell_type": "code",
   "execution_count": 40,
   "id": "stone-satin",
   "metadata": {},
   "outputs": [
    {
     "data": {
      "text/plain": [
       "['Hi', 'there', 'you', 'Python']"
      ]
     },
     "execution_count": 40,
     "metadata": {},
     "output_type": "execute_result"
    }
   ],
   "source": [
    "text = 'Hi there you Python'\n",
    "text.split()"
   ]
  },
  {
   "cell_type": "code",
   "execution_count": 41,
   "id": "subject-modem",
   "metadata": {},
   "outputs": [
    {
     "data": {
      "text/plain": [
       "<function __main__.<lambda>(x)>"
      ]
     },
     "execution_count": 41,
     "metadata": {},
     "output_type": "execute_result"
    }
   ],
   "source": [
    "# we will define a lambda function to use split()\n",
    "\n",
    "lambda x: x.split()"
   ]
  },
  {
   "cell_type": "code",
   "execution_count": 42,
   "id": "straight-acrylic",
   "metadata": {},
   "outputs": [],
   "source": [
    "# assign the lambda function to a variable\n",
    "# to be able to use it\n",
    "\n",
    "split_text = lambda x: x.split()"
   ]
  },
  {
   "cell_type": "code",
   "execution_count": 43,
   "id": "historical-sussex",
   "metadata": {},
   "outputs": [
    {
     "data": {
      "text/plain": [
       "['Hi', 'there', 'you', 'Python']"
      ]
     },
     "execution_count": 43,
     "metadata": {},
     "output_type": "execute_result"
    }
   ],
   "source": [
    "# call the split_text function\n",
    "# it's just a name for the lambda function\n",
    "split_text('Hi there you Python')"
   ]
  },
  {
   "cell_type": "code",
   "execution_count": 44,
   "id": "latin-spain",
   "metadata": {},
   "outputs": [
    {
     "data": {
      "text/plain": [
       "['A', 'B', 'C', 'D']"
      ]
     },
     "execution_count": 44,
     "metadata": {},
     "output_type": "execute_result"
    }
   ],
   "source": [
    "split_text('A B C D')"
   ]
  },
  {
   "cell_type": "code",
   "execution_count": 45,
   "id": "legendary-concern",
   "metadata": {},
   "outputs": [],
   "source": [
    "# Multiplication with lambda function\n",
    "\n",
    "multiply = lambda x, y: x * y"
   ]
  },
  {
   "cell_type": "code",
   "execution_count": 46,
   "id": "designed-insider",
   "metadata": {},
   "outputs": [
    {
     "data": {
      "text/plain": [
       "60"
      ]
     },
     "execution_count": 46,
     "metadata": {},
     "output_type": "execute_result"
    }
   ],
   "source": [
    "multiply(10, 6)"
   ]
  },
  {
   "cell_type": "code",
   "execution_count": 47,
   "id": "amino-baker",
   "metadata": {},
   "outputs": [
    {
     "data": {
      "text/plain": [
       "15"
      ]
     },
     "execution_count": 47,
     "metadata": {},
     "output_type": "execute_result"
    }
   ],
   "source": [
    "multiply(5, 3)"
   ]
  },
  {
   "cell_type": "code",
   "execution_count": 48,
   "id": "dying-elimination",
   "metadata": {},
   "outputs": [],
   "source": [
    "# power function with lambda\n",
    "\n",
    "exponential = lambda num, p: num**p"
   ]
  },
  {
   "cell_type": "code",
   "execution_count": 49,
   "id": "complex-authentication",
   "metadata": {},
   "outputs": [
    {
     "data": {
      "text/plain": [
       "32"
      ]
     },
     "execution_count": 49,
     "metadata": {},
     "output_type": "execute_result"
    }
   ],
   "source": [
    "exponential(2, 5)"
   ]
  },
  {
   "cell_type": "code",
   "execution_count": 50,
   "id": "incorrect-andrews",
   "metadata": {},
   "outputs": [
    {
     "data": {
      "text/plain": [
       "64"
      ]
     },
     "execution_count": 50,
     "metadata": {},
     "output_type": "execute_result"
    }
   ],
   "source": [
    "exponential(4, 3)"
   ]
  },
  {
   "cell_type": "markdown",
   "id": "nonprofit-occasion",
   "metadata": {},
   "source": [
    "## Functions Returning Functions"
   ]
  },
  {
   "cell_type": "code",
   "execution_count": 51,
   "id": "qualified-kenya",
   "metadata": {},
   "outputs": [],
   "source": [
    "# a function that returns a lambda function\n",
    "\n",
    "def multiply_by(n):\n",
    "    \"\"\"\n",
    "    Generic multiplication function.\n",
    "    Parameter: int n\n",
    "    Returns: lambda a: a * n\n",
    "    \"\"\"\n",
    "    # return a lambda\n",
    "    return lambda a: a * n"
   ]
  },
  {
   "cell_type": "code",
   "execution_count": 52,
   "id": "useful-lightweight",
   "metadata": {},
   "outputs": [],
   "source": [
    "# pass the value 2 to the multiply_by fn\n",
    "# assign the returned function to a variable\n",
    "double_multiplier = multiply_by(2)"
   ]
  },
  {
   "cell_type": "code",
   "execution_count": 53,
   "id": "growing-management",
   "metadata": {},
   "outputs": [
    {
     "data": {
      "text/plain": [
       "function"
      ]
     },
     "execution_count": 53,
     "metadata": {},
     "output_type": "execute_result"
    }
   ],
   "source": [
    "type(double_multiplier)"
   ]
  },
  {
   "cell_type": "code",
   "execution_count": 54,
   "id": "convinced-absence",
   "metadata": {},
   "outputs": [
    {
     "data": {
      "text/plain": [
       "30"
      ]
     },
     "execution_count": 54,
     "metadata": {},
     "output_type": "execute_result"
    }
   ],
   "source": [
    "double_multiplier(15)"
   ]
  },
  {
   "cell_type": "code",
   "execution_count": 55,
   "id": "domestic-enough",
   "metadata": {},
   "outputs": [
    {
     "data": {
      "text/plain": [
       "18"
      ]
     },
     "execution_count": 55,
     "metadata": {},
     "output_type": "execute_result"
    }
   ],
   "source": [
    "double_multiplier(9)"
   ]
  },
  {
   "cell_type": "code",
   "execution_count": 56,
   "id": "coordinated-stuart",
   "metadata": {},
   "outputs": [],
   "source": [
    "# pass the value 3 to the multiply_by fn\n",
    "# assign the returned function to a variable\n",
    "triple_multiplier = multiply_by(3)"
   ]
  },
  {
   "cell_type": "code",
   "execution_count": 57,
   "id": "announced-brother",
   "metadata": {},
   "outputs": [
    {
     "data": {
      "text/plain": [
       "24"
      ]
     },
     "execution_count": 57,
     "metadata": {},
     "output_type": "execute_result"
    }
   ],
   "source": [
    "triple_multiplier(8)"
   ]
  },
  {
   "cell_type": "code",
   "execution_count": 58,
   "id": "north-longer",
   "metadata": {},
   "outputs": [
    {
     "data": {
      "text/plain": [
       "\u001b[1;31mSignature:\u001b[0m \u001b[0mtriple_multiplier\u001b[0m\u001b[1;33m(\u001b[0m\u001b[0ma\u001b[0m\u001b[1;33m)\u001b[0m\u001b[1;33m\u001b[0m\u001b[1;33m\u001b[0m\u001b[0m\n",
       "\u001b[1;31mDocstring:\u001b[0m <no docstring>\n",
       "\u001b[1;31mSource:\u001b[0m        \u001b[1;32mreturn\u001b[0m \u001b[1;32mlambda\u001b[0m \u001b[0ma\u001b[0m\u001b[1;33m:\u001b[0m \u001b[0ma\u001b[0m \u001b[1;33m*\u001b[0m \u001b[0mn\u001b[0m\u001b[1;33m\u001b[0m\u001b[1;33m\u001b[0m\u001b[0m\n",
       "\u001b[1;31mFile:\u001b[0m      c:\\users\\musaa\\desktop\\en\\ebook\\python\\contents\\9_functions_ii\\ref\\<ipython-input-51-6d1bba65973f>\n",
       "\u001b[1;31mType:\u001b[0m      function\n"
      ]
     },
     "metadata": {},
     "output_type": "display_data"
    }
   ],
   "source": [
    "triple_multiplier??"
   ]
  },
  {
   "cell_type": "code",
   "execution_count": 59,
   "id": "lesser-czech",
   "metadata": {},
   "outputs": [
    {
     "data": {
      "text/plain": [
       "\u001b[1;31mSignature:\u001b[0m \u001b[0mdouble_multiplier\u001b[0m\u001b[1;33m(\u001b[0m\u001b[0ma\u001b[0m\u001b[1;33m)\u001b[0m\u001b[1;33m\u001b[0m\u001b[1;33m\u001b[0m\u001b[0m\n",
       "\u001b[1;31mDocstring:\u001b[0m <no docstring>\n",
       "\u001b[1;31mSource:\u001b[0m        \u001b[1;32mreturn\u001b[0m \u001b[1;32mlambda\u001b[0m \u001b[0ma\u001b[0m\u001b[1;33m:\u001b[0m \u001b[0ma\u001b[0m \u001b[1;33m*\u001b[0m \u001b[0mn\u001b[0m\u001b[1;33m\u001b[0m\u001b[1;33m\u001b[0m\u001b[0m\n",
       "\u001b[1;31mFile:\u001b[0m      c:\\users\\musaa\\desktop\\en\\ebook\\python\\contents\\9_functions_ii\\ref\\<ipython-input-51-6d1bba65973f>\n",
       "\u001b[1;31mType:\u001b[0m      function\n"
      ]
     },
     "metadata": {},
     "output_type": "display_data"
    }
   ],
   "source": [
    "double_multiplier??"
   ]
  },
  {
   "cell_type": "code",
   "execution_count": 60,
   "id": "editorial-bidder",
   "metadata": {},
   "outputs": [],
   "source": [
    "penta_multiplier = multiply_by(5)"
   ]
  },
  {
   "cell_type": "code",
   "execution_count": 61,
   "id": "changing-small",
   "metadata": {},
   "outputs": [
    {
     "data": {
      "text/plain": [
       "\u001b[1;31mSignature:\u001b[0m \u001b[0mpenta_multiplier\u001b[0m\u001b[1;33m(\u001b[0m\u001b[0ma\u001b[0m\u001b[1;33m)\u001b[0m\u001b[1;33m\u001b[0m\u001b[1;33m\u001b[0m\u001b[0m\n",
       "\u001b[1;31mDocstring:\u001b[0m <no docstring>\n",
       "\u001b[1;31mSource:\u001b[0m        \u001b[1;32mreturn\u001b[0m \u001b[1;32mlambda\u001b[0m \u001b[0ma\u001b[0m\u001b[1;33m:\u001b[0m \u001b[0ma\u001b[0m \u001b[1;33m*\u001b[0m \u001b[0mn\u001b[0m\u001b[1;33m\u001b[0m\u001b[1;33m\u001b[0m\u001b[0m\n",
       "\u001b[1;31mFile:\u001b[0m      c:\\users\\musaa\\desktop\\en\\ebook\\python\\contents\\9_functions_ii\\ref\\<ipython-input-51-6d1bba65973f>\n",
       "\u001b[1;31mType:\u001b[0m      function\n"
      ]
     },
     "metadata": {},
     "output_type": "display_data"
    }
   ],
   "source": [
    "penta_multiplier??"
   ]
  },
  {
   "cell_type": "code",
   "execution_count": 62,
   "id": "athletic-divorce",
   "metadata": {},
   "outputs": [
    {
     "data": {
      "text/plain": [
       "30"
      ]
     },
     "execution_count": 62,
     "metadata": {},
     "output_type": "execute_result"
    }
   ],
   "source": [
    "penta_multiplier(6)"
   ]
  },
  {
   "cell_type": "markdown",
   "id": "standard-bumper",
   "metadata": {},
   "source": [
    "## Nested Functions"
   ]
  },
  {
   "cell_type": "markdown",
   "id": "complimentary-cameroon",
   "metadata": {},
   "source": [
    "**Example:**\n",
    "\n",
    "We will use nested functions, to check whether a given number is a multiply of both 5 and 8."
   ]
  },
  {
   "cell_type": "code",
   "execution_count": 63,
   "id": "focused-tooth",
   "metadata": {},
   "outputs": [],
   "source": [
    "# 2 nested functions inside the main function\n",
    "\n",
    "def is_it_common_multiple(n):\n",
    "    \"\"\"\n",
    "    Checks whether the given number is a common multiple of 5 and 8.\n",
    "    Parameter: int n\n",
    "    Returns: True if its multiplier of 5 and 8, False otherwise\n",
    "    \"\"\"\n",
    "    \n",
    "    # nested function 1 -> 5 \n",
    "    def multiple_of_five(n):\n",
    "        if n % 5 == 0:\n",
    "            return True\n",
    "        else:\n",
    "            return False\n",
    "    \n",
    "    # nested function 2 -> 8\n",
    "    def multiple_of_eight(n):\n",
    "        if n % 8 == 0:\n",
    "            return True\n",
    "        else:\n",
    "            return False\n",
    "    \n",
    "    # Check both conditions\n",
    "    if multiple_of_five(n) and multiple_of_eight(n):\n",
    "        return True\n",
    "    else:\n",
    "        return False"
   ]
  },
  {
   "cell_type": "code",
   "execution_count": 64,
   "id": "sized-liberty",
   "metadata": {},
   "outputs": [
    {
     "data": {
      "text/plain": [
       "False"
      ]
     },
     "execution_count": 64,
     "metadata": {},
     "output_type": "execute_result"
    }
   ],
   "source": [
    "is_it_common_multiple(24)"
   ]
  },
  {
   "cell_type": "code",
   "execution_count": 65,
   "id": "after-asian",
   "metadata": {},
   "outputs": [
    {
     "data": {
      "text/plain": [
       "True"
      ]
     },
     "execution_count": 65,
     "metadata": {},
     "output_type": "execute_result"
    }
   ],
   "source": [
    "is_it_common_multiple(40)"
   ]
  },
  {
   "cell_type": "markdown",
   "id": "connected-providence",
   "metadata": {},
   "source": [
    "## Mutable vs. Immutable"
   ]
  },
  {
   "cell_type": "markdown",
   "id": "sensitive-norwegian",
   "metadata": {},
   "source": [
    "In Python, everything is an object."
   ]
  },
  {
   "cell_type": "markdown",
   "id": "noticed-rider",
   "metadata": {},
   "source": [
    "And every object has a type."
   ]
  },
  {
   "cell_type": "markdown",
   "id": "formal-residence",
   "metadata": {},
   "source": [
    "**Immutable:** \n",
    "\n",
    "Some types stay as they have assigned. \n",
    "\n",
    "They can not be mutated.\n",
    "\n",
    "They are rigid bodies, you can not change any of its parts."
   ]
  },
  {
   "cell_type": "markdown",
   "id": "placed-sweden",
   "metadata": {},
   "source": [
    "**Mutable:** \n",
    "\n",
    "Are the types you can change them, mutate them.\n",
    "\n",
    "You can change its parts."
   ]
  },
  {
   "cell_type": "markdown",
   "id": "continent-protein",
   "metadata": {},
   "source": [
    "Python Built-In Types and Mutability:\n",
    "<pre>\n",
    "int   : integer    -> Immutable\n",
    "float : float      -> Immutable \n",
    "bool  : Boolean    -> Immutable\n",
    "str   : String     -> Immutable\n",
    "list  : List       -> Mutable\n",
    "tuple : Tuple      -> Immutable\n",
    "dict  : Dictionary -> Mutable\n",
    "set   : Set        -> Mutable\n",
    "</pre>"
   ]
  },
  {
   "cell_type": "code",
   "execution_count": 66,
   "id": "exact-increase",
   "metadata": {},
   "outputs": [],
   "source": [
    "# Example:\n",
    "\n",
    "# IMMUTABLE -> String\n",
    "\n",
    "# Python\n",
    "text = 'Tython'"
   ]
  },
  {
   "cell_type": "code",
   "execution_count": 67,
   "id": "spectacular-patent",
   "metadata": {},
   "outputs": [
    {
     "data": {
      "text/plain": [
       "'T'"
      ]
     },
     "execution_count": 67,
     "metadata": {},
     "output_type": "execute_result"
    }
   ],
   "source": [
    "# index -> []\n",
    "# get the first item in text variable\n",
    "# first means index = 0\n",
    "\n",
    "text[0]"
   ]
  },
  {
   "cell_type": "code",
   "execution_count": 68,
   "id": "collect-auction",
   "metadata": {},
   "outputs": [
    {
     "ename": "TypeError",
     "evalue": "'str' object does not support item assignment",
     "output_type": "error",
     "traceback": [
      "\u001b[1;31m---------------------------------------------------------------------------\u001b[0m",
      "\u001b[1;31mTypeError\u001b[0m                                 Traceback (most recent call last)",
      "\u001b[1;32m<ipython-input-68-03fdd4a20e92>\u001b[0m in \u001b[0;36m<module>\u001b[1;34m\u001b[0m\n\u001b[1;32m----> 1\u001b[1;33m \u001b[0mtext\u001b[0m\u001b[1;33m[\u001b[0m\u001b[1;36m0\u001b[0m\u001b[1;33m]\u001b[0m \u001b[1;33m=\u001b[0m \u001b[1;34m'P'\u001b[0m\u001b[1;33m\u001b[0m\u001b[1;33m\u001b[0m\u001b[0m\n\u001b[0m",
      "\u001b[1;31mTypeError\u001b[0m: 'str' object does not support item assignment"
     ]
    }
   ],
   "source": [
    "text[0] = 'P'"
   ]
  },
  {
   "cell_type": "markdown",
   "id": "assisted-somalia",
   "metadata": {},
   "source": [
    "**Question:**\n",
    "\n",
    "How will we change this string."
   ]
  },
  {
   "cell_type": "markdown",
   "id": "opposed-iraqi",
   "metadata": {},
   "source": [
    "**Answer:**\n",
    "\n",
    "You reassing it."
   ]
  },
  {
   "cell_type": "code",
   "execution_count": 69,
   "id": "superb-parking",
   "metadata": {},
   "outputs": [],
   "source": [
    "# reassign the text variable\n",
    "text = 'Python'"
   ]
  },
  {
   "cell_type": "code",
   "execution_count": 70,
   "id": "quarterly-kernel",
   "metadata": {},
   "outputs": [
    {
     "name": "stdout",
     "output_type": "stream",
     "text": [
      "Python\n"
     ]
    }
   ],
   "source": [
    "print(text)"
   ]
  },
  {
   "cell_type": "markdown",
   "id": "approximate-lyric",
   "metadata": {},
   "source": [
    "**Reassignment** doesn't mean **Mutation**."
   ]
  },
  {
   "cell_type": "code",
   "execution_count": 71,
   "id": "perfect-entrepreneur",
   "metadata": {},
   "outputs": [
    {
     "data": {
      "text/plain": [
       "['a', 'b', 'C', 'd', 'e']"
      ]
     },
     "execution_count": 71,
     "metadata": {},
     "output_type": "execute_result"
    }
   ],
   "source": [
    "# Example:\n",
    "\n",
    "# MUTABLE -> List\n",
    "\n",
    "my_list = ['a', 'b', 'C', 'd', 'e']\n",
    "my_list"
   ]
  },
  {
   "cell_type": "code",
   "execution_count": 72,
   "id": "demanding-netherlands",
   "metadata": {},
   "outputs": [
    {
     "data": {
      "text/plain": [
       "'C'"
      ]
     },
     "execution_count": 72,
     "metadata": {},
     "output_type": "execute_result"
    }
   ],
   "source": [
    "# get the item at index 2\n",
    "my_list[2]"
   ]
  },
  {
   "cell_type": "code",
   "execution_count": 73,
   "id": "loaded-advocacy",
   "metadata": {},
   "outputs": [],
   "source": [
    "# mutate the list\n",
    "# change the value at index 2\n",
    "my_list[2] = 'c'"
   ]
  },
  {
   "cell_type": "code",
   "execution_count": 74,
   "id": "awful-ceramic",
   "metadata": {},
   "outputs": [
    {
     "name": "stdout",
     "output_type": "stream",
     "text": [
      "['a', 'b', 'c', 'd', 'e']\n"
     ]
    }
   ],
   "source": [
    "print(my_list)"
   ]
  },
  {
   "cell_type": "markdown",
   "id": "optional-retention",
   "metadata": {},
   "source": [
    "## Pass by Value, Pass by Reference"
   ]
  },
  {
   "cell_type": "markdown",
   "id": "brave-class",
   "metadata": {},
   "source": [
    "Since we learned about, Mutable & Immutable Types,\n",
    "\n",
    "now let's see what will happen, if we pass these types to functions as arguments."
   ]
  },
  {
   "cell_type": "markdown",
   "id": "compact-deviation",
   "metadata": {},
   "source": [
    "**Rule of Thumb:**\n",
    "\n",
    "**Immutable -> Pass by Value:**\n",
    "* If you pass an Immutable Object (int, str, ...) as a parameter to a function; \n",
    "* only **its duplicate** will pass to function. \n",
    "* Not itself, just a copy of it.\n",
    "\n",
    "**Mutable -> Pass by Reference:**\n",
    "* If you pass a Mutable Object (list, dict, set) as a parameter to a function; \n",
    "* **its Reference** will pass to function.\n",
    "* The object itself will be accessible inside the function."
   ]
  },
  {
   "cell_type": "code",
   "execution_count": 75,
   "id": "banner-workplace",
   "metadata": {},
   "outputs": [
    {
     "name": "stdout",
     "output_type": "stream",
     "text": [
      "------ Before passing to function ----- :  Python\n",
      "------ After passing to function ----- :  Python\n"
     ]
    }
   ],
   "source": [
    "# Example:\n",
    "\n",
    "# IMMUTABLE \n",
    "# str\n",
    "\n",
    "language = 'Python'\n",
    "print(\"------ Before passing to function ----- : \", language)\n",
    "\n",
    "# function is changing the parameter\n",
    "def change_language(name):\n",
    "    name = 'Java'\n",
    "    \n",
    "# call function and pass language\n",
    "change_language(language)\n",
    "\n",
    "print(\"------ After passing to function ----- : \", language)"
   ]
  },
  {
   "cell_type": "markdown",
   "id": "oriental-general",
   "metadata": {},
   "source": [
    "Here, just a copy of `language` variable has passed to function.\n",
    "\n",
    "The original value of language variable stays unchanged.\n",
    "\n",
    "It's str -> Immutable\n",
    "\n",
    "Passed by Value"
   ]
  },
  {
   "cell_type": "code",
   "execution_count": 76,
   "id": "driving-recovery",
   "metadata": {},
   "outputs": [
    {
     "name": "stdout",
     "output_type": "stream",
     "text": [
      "------ Before passing to function ----- :  45\n",
      "------ After passing to function ----- :  45\n"
     ]
    }
   ],
   "source": [
    "# Example:\n",
    "\n",
    "# IMMUTABLE \n",
    "# int\n",
    "\n",
    "number = 45\n",
    "print(\"------ Before passing to function ----- : \", number)\n",
    "\n",
    "# function is changing the parameter\n",
    "def change_number(number):\n",
    "    number = 1000\n",
    "    \n",
    "# call function and pass number\n",
    "change_number(number)\n",
    "\n",
    "print(\"------ After passing to function ----- : \", number)"
   ]
  },
  {
   "cell_type": "markdown",
   "id": "critical-digest",
   "metadata": {},
   "source": [
    "int -> Immutable -> Passes by Value"
   ]
  },
  {
   "cell_type": "code",
   "execution_count": 77,
   "id": "growing-hospital",
   "metadata": {},
   "outputs": [
    {
     "name": "stdout",
     "output_type": "stream",
     "text": [
      "------ Before passing to function ----- :  [1, 2, 3, 4, 5]\n",
      "------ After passing to function ----- :  ['A', 'B', 3, 4, 5]\n"
     ]
    }
   ],
   "source": [
    "# Example:\n",
    "\n",
    "# MUTABLE \n",
    "# list\n",
    "\n",
    "numbers = [1, 2, 3, 4, 5]\n",
    "print(\"------ Before passing to function ----- : \", numbers)\n",
    "\n",
    "# function is changing the parameter\n",
    "def change_numbers(nums):\n",
    "    nums[0] = 'A'\n",
    "    nums[1] = 'B'\n",
    "    \n",
    "# call function and pass numbers\n",
    "change_numbers(numbers)\n",
    "\n",
    "print(\"------ After passing to function ----- : \", numbers)"
   ]
  },
  {
   "cell_type": "markdown",
   "id": "needed-scottish",
   "metadata": {},
   "source": [
    "list -> Mutable -> Passes by Reference (Original object may change)"
   ]
  },
  {
   "cell_type": "code",
   "execution_count": null,
   "id": "resistant-metadata",
   "metadata": {},
   "outputs": [],
   "source": []
  }
 ],
 "metadata": {
  "kernelspec": {
   "display_name": "Python 3",
   "language": "python",
   "name": "python3"
  },
  "language_info": {
   "codemirror_mode": {
    "name": "ipython",
    "version": 3
   },
   "file_extension": ".py",
   "mimetype": "text/x-python",
   "name": "python",
   "nbconvert_exporter": "python",
   "pygments_lexer": "ipython3",
   "version": "3.8.8"
  }
 },
 "nbformat": 4,
 "nbformat_minor": 5
}
