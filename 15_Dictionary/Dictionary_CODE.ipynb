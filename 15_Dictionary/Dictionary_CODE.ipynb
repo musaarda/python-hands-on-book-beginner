{
 "cells": [
  {
   "cell_type": "markdown",
   "id": "fabulous-mistake",
   "metadata": {},
   "source": [
    "# Dictionary"
   ]
  },
  {
   "cell_type": "markdown",
   "id": "worst-suicide",
   "metadata": {},
   "source": [
    "## What is a Dictionary?"
   ]
  },
  {
   "cell_type": "markdown",
   "id": "supposed-recipient",
   "metadata": {},
   "source": [
    "Let's say we want to store employee data; name, age, department"
   ]
  },
  {
   "cell_type": "code",
   "execution_count": 1,
   "id": "desirable-mauritius",
   "metadata": {},
   "outputs": [],
   "source": [
    "employee = {\n",
    "    'name': 'Clark Kent',\n",
    "    \"age\": 37,\n",
    "    \"department\": 'News Service'\n",
    "}"
   ]
  },
  {
   "cell_type": "markdown",
   "id": "composite-diary",
   "metadata": {},
   "source": [
    "We can think of Dictionaries as a general form Lists."
   ]
  },
  {
   "cell_type": "markdown",
   "id": "verbal-tunisia",
   "metadata": {},
   "source": [
    "In List, indices are integer (int) and they are defined implicitly by Python."
   ]
  },
  {
   "cell_type": "markdown",
   "id": "casual-fairy",
   "metadata": {},
   "source": [
    "You don't define indices for lists."
   ]
  },
  {
   "cell_type": "markdown",
   "id": "mexican-extraction",
   "metadata": {},
   "source": [
    "But for Dictionary, we define indices manually, and they do not have to be integers. They may be any suitable type."
   ]
  },
  {
   "cell_type": "markdown",
   "id": "cleared-geology",
   "metadata": {},
   "source": [
    "Element Structure:\n",
    "\n",
    "{ key : value }"
   ]
  },
  {
   "cell_type": "markdown",
   "id": "genetic-cemetery",
   "metadata": {},
   "source": [
    "So in a dictionary, each **key** is mapped to a **value**.\n",
    "\n",
    "Key-Value pairs."
   ]
  },
  {
   "cell_type": "markdown",
   "id": "animated-november",
   "metadata": {},
   "source": [
    "| Key | Value |\n",
    "| --- | --- |\n",
    "| name | Klark Kent |\n",
    "| age | 37 |\n",
    "| department | News Service |"
   ]
  },
  {
   "cell_type": "markdown",
   "id": "confirmed-dallas",
   "metadata": {},
   "source": [
    "**Keys** must be unique.\n",
    "\n",
    "You can not have duplicate keys."
   ]
  },
  {
   "cell_type": "code",
   "execution_count": 2,
   "id": "seasonal-symbol",
   "metadata": {},
   "outputs": [],
   "source": [
    "numbers = {\n",
    "    1: \"one\",\n",
    "    2: \"two\",\n",
    "    3: 'three',\n",
    "    4: 'four'\n",
    "}"
   ]
  },
  {
   "cell_type": "markdown",
   "id": "equal-prefix",
   "metadata": {},
   "source": [
    "## Creating a Dictionary"
   ]
  },
  {
   "cell_type": "markdown",
   "id": "lucky-aerospace",
   "metadata": {},
   "source": [
    "List -> create list [] -> list()\n",
    "\n",
    "**Dictionary** -> create dict **{}** -> **dict()**"
   ]
  },
  {
   "cell_type": "markdown",
   "id": "filled-serbia",
   "metadata": {},
   "source": [
    "**{}:**"
   ]
  },
  {
   "cell_type": "code",
   "execution_count": 3,
   "id": "aggregate-trademark",
   "metadata": {},
   "outputs": [],
   "source": [
    "# empty dict\n",
    "cars_empty = {}"
   ]
  },
  {
   "cell_type": "code",
   "execution_count": 4,
   "id": "future-weight",
   "metadata": {},
   "outputs": [
    {
     "data": {
      "text/plain": [
       "dict"
      ]
     },
     "execution_count": 4,
     "metadata": {},
     "output_type": "execute_result"
    }
   ],
   "source": [
    "type(cars_empty)"
   ]
  },
  {
   "cell_type": "code",
   "execution_count": 5,
   "id": "robust-abuse",
   "metadata": {},
   "outputs": [],
   "source": [
    "# dict with elements\n",
    "cars = {\n",
    "    'Audi': 'Germany',\n",
    "    'Mazda': 'Japan',\n",
    "    'Fiat': 'Italy'\n",
    "}"
   ]
  },
  {
   "cell_type": "code",
   "execution_count": 6,
   "id": "second-bidding",
   "metadata": {},
   "outputs": [
    {
     "name": "stdout",
     "output_type": "stream",
     "text": [
      "{'Audi': 'Germany', 'Mazda': 'Japan', 'Fiat': 'Italy'}\n"
     ]
    }
   ],
   "source": [
    "print(cars)"
   ]
  },
  {
   "cell_type": "markdown",
   "id": "spoken-brother",
   "metadata": {},
   "source": [
    "**dict():**"
   ]
  },
  {
   "cell_type": "code",
   "execution_count": 7,
   "id": "million-memphis",
   "metadata": {},
   "outputs": [],
   "source": [
    "# empty dict with constructor\n",
    "cars_empty_2 = dict()"
   ]
  },
  {
   "cell_type": "code",
   "execution_count": 8,
   "id": "everyday-philip",
   "metadata": {},
   "outputs": [
    {
     "data": {
      "text/plain": [
       "dict"
      ]
     },
     "execution_count": 8,
     "metadata": {},
     "output_type": "execute_result"
    }
   ],
   "source": [
    "type(cars_empty_2)"
   ]
  },
  {
   "cell_type": "code",
   "execution_count": 9,
   "id": "dated-token",
   "metadata": {},
   "outputs": [],
   "source": [
    "# dict with elements\n",
    "cars_2 = dict({\n",
    "    'Audi': 'Germany',\n",
    "    'Mazda': 'Japan',\n",
    "    'Fiat': 'Italy'\n",
    "})"
   ]
  },
  {
   "cell_type": "code",
   "execution_count": 10,
   "id": "specified-progressive",
   "metadata": {},
   "outputs": [
    {
     "data": {
      "text/plain": [
       "{'Audi': 'Germany', 'Mazda': 'Japan', 'Fiat': 'Italy'}"
      ]
     },
     "execution_count": 10,
     "metadata": {},
     "output_type": "execute_result"
    }
   ],
   "source": [
    "cars_2"
   ]
  },
  {
   "cell_type": "markdown",
   "id": "above-caution",
   "metadata": {},
   "source": [
    "**Note:**\n",
    "\n",
    "* In Lists -> we access elements via [] -> my_list[index]\n",
    "* In dict we do not use index -> **my_dic[key]**"
   ]
  },
  {
   "cell_type": "code",
   "execution_count": 11,
   "id": "pregnant-sending",
   "metadata": {},
   "outputs": [
    {
     "data": {
      "text/plain": [
       "'Germany'"
      ]
     },
     "execution_count": 11,
     "metadata": {},
     "output_type": "execute_result"
    }
   ],
   "source": [
    "# dict[key]\n",
    "cars['Audi']"
   ]
  },
  {
   "cell_type": "code",
   "execution_count": 12,
   "id": "substantial-terrain",
   "metadata": {},
   "outputs": [
    {
     "data": {
      "text/plain": [
       "'Italy'"
      ]
     },
     "execution_count": 12,
     "metadata": {},
     "output_type": "execute_result"
    }
   ],
   "source": [
    "cars['Fiat']"
   ]
  },
  {
   "cell_type": "code",
   "execution_count": 13,
   "id": "graduate-dynamics",
   "metadata": {},
   "outputs": [
    {
     "ename": "KeyError",
     "evalue": "'Ford'",
     "output_type": "error",
     "traceback": [
      "\u001b[1;31m---------------------------------------------------------------------------\u001b[0m",
      "\u001b[1;31mKeyError\u001b[0m                                  Traceback (most recent call last)",
      "\u001b[1;32m<ipython-input-13-d9ad524a860a>\u001b[0m in \u001b[0;36m<module>\u001b[1;34m\u001b[0m\n\u001b[0;32m      1\u001b[0m \u001b[1;31m# no element with key -> Ford\u001b[0m\u001b[1;33m\u001b[0m\u001b[1;33m\u001b[0m\u001b[1;33m\u001b[0m\u001b[0m\n\u001b[1;32m----> 2\u001b[1;33m \u001b[0mcars\u001b[0m\u001b[1;33m[\u001b[0m\u001b[1;34m'Ford'\u001b[0m\u001b[1;33m]\u001b[0m\u001b[1;33m\u001b[0m\u001b[1;33m\u001b[0m\u001b[0m\n\u001b[0m",
      "\u001b[1;31mKeyError\u001b[0m: 'Ford'"
     ]
    }
   ],
   "source": [
    "# no element with key -> Ford\n",
    "cars['Ford']"
   ]
  },
  {
   "cell_type": "markdown",
   "id": "progressive-greeting",
   "metadata": {},
   "source": [
    "## Adding Elements to a Dictionary"
   ]
  },
  {
   "cell_type": "markdown",
   "id": "signed-linux",
   "metadata": {},
   "source": [
    "In Lists -> append(), insert()"
   ]
  },
  {
   "cell_type": "markdown",
   "id": "expected-evanescence",
   "metadata": {},
   "source": [
    "In List we don't have these methods:\n",
    "\n",
    "* my_dic[key] = value\n",
    "* update()"
   ]
  },
  {
   "cell_type": "markdown",
   "id": "animal-nomination",
   "metadata": {},
   "source": [
    "Remember:\n",
    "\n",
    "* Dictionary -> `{ key: value }`"
   ]
  },
  {
   "cell_type": "code",
   "execution_count": 14,
   "id": "tough-cancellation",
   "metadata": {},
   "outputs": [],
   "source": [
    "numbers = {\n",
    "    1: \"one\",\n",
    "    2: \"two\",\n",
    "    3: 'three',\n",
    "    4: 'four'\n",
    "}"
   ]
  },
  {
   "cell_type": "code",
   "execution_count": 15,
   "id": "nasty-faculty",
   "metadata": {},
   "outputs": [],
   "source": [
    "# add with key\n",
    "numbers[5] = 'five'"
   ]
  },
  {
   "cell_type": "code",
   "execution_count": 16,
   "id": "waiting-gathering",
   "metadata": {},
   "outputs": [
    {
     "data": {
      "text/plain": [
       "{1: 'one', 2: 'two', 3: 'three', 4: 'four', 5: 'five'}"
      ]
     },
     "execution_count": 16,
     "metadata": {},
     "output_type": "execute_result"
    }
   ],
   "source": [
    "numbers"
   ]
  },
  {
   "cell_type": "code",
   "execution_count": 17,
   "id": "smaller-harvest",
   "metadata": {},
   "outputs": [
    {
     "data": {
      "text/plain": [
       "{1: 'one', 2: 'two', 3: 'three', 4: 'four', 5: 'five', 6: 'sixty'}"
      ]
     },
     "execution_count": 17,
     "metadata": {},
     "output_type": "execute_result"
    }
   ],
   "source": [
    "numbers[6] = 'sixty'\n",
    "numbers"
   ]
  },
  {
   "cell_type": "code",
   "execution_count": 18,
   "id": "massive-exhibition",
   "metadata": {},
   "outputs": [
    {
     "data": {
      "text/plain": [
       "{1: 'one', 2: 'two', 3: 'three', 4: 'four', 5: 'five', 6: 'six'}"
      ]
     },
     "execution_count": 18,
     "metadata": {},
     "output_type": "execute_result"
    }
   ],
   "source": [
    "# to fix it -> we will reassign that element\n",
    "numbers[6] = 'six'\n",
    "numbers"
   ]
  },
  {
   "cell_type": "code",
   "execution_count": 19,
   "id": "fuzzy-turkey",
   "metadata": {},
   "outputs": [],
   "source": [
    "# add some items\n",
    "numbers[7] = 'seven'\n",
    "numbers[8] = 'eight'\n",
    "numbers[9] = 'nine'"
   ]
  },
  {
   "cell_type": "code",
   "execution_count": 20,
   "id": "hawaiian-display",
   "metadata": {},
   "outputs": [
    {
     "data": {
      "text/plain": [
       "{1: 'one',\n",
       " 2: 'two',\n",
       " 3: 'three',\n",
       " 4: 'four',\n",
       " 5: 'five',\n",
       " 6: 'six',\n",
       " 7: 'seven',\n",
       " 8: 'eight',\n",
       " 9: 'nine'}"
      ]
     },
     "execution_count": 20,
     "metadata": {},
     "output_type": "execute_result"
    }
   ],
   "source": [
    "numbers"
   ]
  },
  {
   "cell_type": "markdown",
   "id": "straight-action",
   "metadata": {},
   "source": [
    "**update()**"
   ]
  },
  {
   "cell_type": "code",
   "execution_count": 21,
   "id": "roman-atlas",
   "metadata": {},
   "outputs": [
    {
     "name": "stdout",
     "output_type": "stream",
     "text": [
      "{'brand': 'Ford', 'model': 'Mustang', 'year': 1964}\n"
     ]
    }
   ],
   "source": [
    "# define a dict\n",
    "car = {\n",
    "    \"brand\": 'Ford',\n",
    "    'model': \"Mustang\",\n",
    "    'year': 1964\n",
    "}\n",
    "\n",
    "print(car)"
   ]
  },
  {
   "cell_type": "code",
   "execution_count": 22,
   "id": "cardiac-feeling",
   "metadata": {},
   "outputs": [
    {
     "name": "stdout",
     "output_type": "stream",
     "text": [
      "{'brand': 'Ford', 'model': 'Mustang', 'year': 1964, 'color': 'red'}\n"
     ]
    }
   ],
   "source": [
    "# define the new element as a dict\n",
    "element_to_add = {'color': 'red'}\n",
    "\n",
    "# add this element to the dict\n",
    "car.update(element_to_add)\n",
    "\n",
    "print(car)"
   ]
  },
  {
   "cell_type": "code",
   "execution_count": 23,
   "id": "voluntary-shuttle",
   "metadata": {},
   "outputs": [],
   "source": [
    "# inside parentheses\n",
    "car.update({ 'age': 50 })"
   ]
  },
  {
   "cell_type": "code",
   "execution_count": 24,
   "id": "maritime-edmonton",
   "metadata": {},
   "outputs": [
    {
     "data": {
      "text/plain": [
       "{'brand': 'Ford', 'model': 'Mustang', 'year': 1964, 'color': 'red', 'age': 50}"
      ]
     },
     "execution_count": 24,
     "metadata": {},
     "output_type": "execute_result"
    }
   ],
   "source": [
    "car"
   ]
  },
  {
   "cell_type": "code",
   "execution_count": 25,
   "id": "marine-demand",
   "metadata": {},
   "outputs": [],
   "source": [
    "# add more than one key:value pair\n",
    "elements_to_add = {\n",
    "    'price': 100000,\n",
    "    'motor': 1.6,\n",
    "    'age': 72\n",
    "}\n",
    "\n",
    "car.update(elements_to_add)"
   ]
  },
  {
   "cell_type": "code",
   "execution_count": 26,
   "id": "refined-trailer",
   "metadata": {},
   "outputs": [
    {
     "data": {
      "text/plain": [
       "{'brand': 'Ford',\n",
       " 'model': 'Mustang',\n",
       " 'year': 1964,\n",
       " 'color': 'red',\n",
       " 'age': 72,\n",
       " 'price': 100000,\n",
       " 'motor': 1.6}"
      ]
     },
     "execution_count": 26,
     "metadata": {},
     "output_type": "execute_result"
    }
   ],
   "source": [
    "car"
   ]
  },
  {
   "cell_type": "code",
   "execution_count": 27,
   "id": "entertaining-filter",
   "metadata": {},
   "outputs": [
    {
     "data": {
      "text/plain": [
       "{'brand': 'Ford',\n",
       " 'model': 'Mustang',\n",
       " 'year': 1964,\n",
       " 'color': 'red',\n",
       " 'age': 72,\n",
       " 'price': 100000,\n",
       " 'motor': 1.6,\n",
       " 'mileage': 60000,\n",
       " 'id': 'FM-64145879',\n",
       " 'type': 'coupe'}"
      ]
     },
     "execution_count": 27,
     "metadata": {},
     "output_type": "execute_result"
    }
   ],
   "source": [
    "# add multiple items in parentheses\n",
    "car.update({\n",
    "    'mileage': 60000,\n",
    "    'id': 'FM-64145879',\n",
    "    'type': 'coupe'\n",
    "})\n",
    "\n",
    "car"
   ]
  },
  {
   "cell_type": "markdown",
   "id": "answering-pledge",
   "metadata": {},
   "source": [
    "## Deleting Elements from a Dictionary"
   ]
  },
  {
   "cell_type": "markdown",
   "id": "substantial-fourth",
   "metadata": {},
   "source": [
    "In Lists to delete -> `pop()`, `del`\n",
    "\n",
    "We use both for Dictionary also."
   ]
  },
  {
   "cell_type": "markdown",
   "id": "pursuant-madrid",
   "metadata": {},
   "source": [
    "**pop()**\n",
    "\n",
    "It returns the deleted element."
   ]
  },
  {
   "cell_type": "code",
   "execution_count": 28,
   "id": "adverse-position",
   "metadata": {},
   "outputs": [
    {
     "data": {
      "text/plain": [
       "{'one': 1,\n",
       " 'two': 2,\n",
       " 'three': 3,\n",
       " 'four': 4,\n",
       " 'five': 5,\n",
       " 'six': 6,\n",
       " 'seven': 7,\n",
       " 'eight': 8}"
      ]
     },
     "execution_count": 28,
     "metadata": {},
     "output_type": "execute_result"
    }
   ],
   "source": [
    "# define an empty dict\n",
    "number_names = {}\n",
    "\n",
    "# add items with keys\n",
    "number_names['one'] = 1\n",
    "number_names['two'] = 2\n",
    "number_names['three'] = 3\n",
    "number_names['four'] = 4\n",
    "number_names['five'] = 5\n",
    "number_names['six'] = 6\n",
    "number_names['seven'] = 7\n",
    "number_names['eight'] = 8\n",
    "\n",
    "# print the dict\n",
    "number_names"
   ]
  },
  {
   "cell_type": "code",
   "execution_count": 29,
   "id": "suspended-soviet",
   "metadata": {},
   "outputs": [
    {
     "data": {
      "text/plain": [
       "8"
      ]
     },
     "execution_count": 29,
     "metadata": {},
     "output_type": "execute_result"
    }
   ],
   "source": [
    "# remove the item and assign it to a variable\n",
    "deleted_element = number_names.pop('eight')\n",
    "\n",
    "# print the deleted item\n",
    "deleted_element"
   ]
  },
  {
   "cell_type": "code",
   "execution_count": 30,
   "id": "through-withdrawal",
   "metadata": {},
   "outputs": [
    {
     "data": {
      "text/plain": [
       "{'one': 1, 'two': 2, 'three': 3, 'four': 4, 'five': 5, 'six': 6, 'seven': 7}"
      ]
     },
     "execution_count": 30,
     "metadata": {},
     "output_type": "execute_result"
    }
   ],
   "source": [
    "# print the dict again\n",
    "number_names"
   ]
  },
  {
   "cell_type": "code",
   "execution_count": 31,
   "id": "western-night",
   "metadata": {},
   "outputs": [
    {
     "data": {
      "text/plain": [
       "{'one': 1, 'two': 2, 'three': 3, 'four': 4, 'five': 5, 'six': 6}"
      ]
     },
     "execution_count": 31,
     "metadata": {},
     "output_type": "execute_result"
    }
   ],
   "source": [
    "# remove the item with key 'seven'\n",
    "number_names.pop('seven')\n",
    "\n",
    "# print number_names again\n",
    "number_names"
   ]
  },
  {
   "cell_type": "markdown",
   "id": "moving-plymouth",
   "metadata": {},
   "source": [
    "**del**:\n",
    "\n",
    "Doesn't return the element."
   ]
  },
  {
   "cell_type": "code",
   "execution_count": 32,
   "id": "hungarian-flush",
   "metadata": {},
   "outputs": [
    {
     "data": {
      "text/plain": [
       "{'one': 1,\n",
       " 'two': 2,\n",
       " 'three': 3,\n",
       " 'four': 4,\n",
       " 'five': 5,\n",
       " 'six': 6,\n",
       " 'seven': 7,\n",
       " 'eight': 8}"
      ]
     },
     "execution_count": 32,
     "metadata": {},
     "output_type": "execute_result"
    }
   ],
   "source": [
    "# redefine an empty dict\n",
    "number_names = {}\n",
    "\n",
    "# add items with keys\n",
    "number_names['one'] = 1\n",
    "number_names['two'] = 2\n",
    "number_names['three'] = 3\n",
    "number_names['four'] = 4\n",
    "number_names['five'] = 5\n",
    "number_names['six'] = 6\n",
    "number_names['seven'] = 7\n",
    "number_names['eight'] = 8\n",
    "\n",
    "# print the dict\n",
    "number_names"
   ]
  },
  {
   "cell_type": "code",
   "execution_count": 33,
   "id": "unavailable-listing",
   "metadata": {},
   "outputs": [
    {
     "data": {
      "text/plain": [
       "{'two': 2, 'three': 3, 'four': 4, 'five': 5, 'six': 6, 'seven': 7, 'eight': 8}"
      ]
     },
     "execution_count": 33,
     "metadata": {},
     "output_type": "execute_result"
    }
   ],
   "source": [
    "# delete item 'one' with del\n",
    "del number_names['one']\n",
    "\n",
    "# print the dict\n",
    "number_names"
   ]
  },
  {
   "cell_type": "code",
   "execution_count": 34,
   "id": "employed-decline",
   "metadata": {},
   "outputs": [
    {
     "data": {
      "text/plain": [
       "{'two': 2, 'three': 3, 'four': 4, 'six': 6, 'seven': 7, 'eight': 8}"
      ]
     },
     "execution_count": 34,
     "metadata": {},
     "output_type": "execute_result"
    }
   ],
   "source": [
    "# delete item 'five' with del\n",
    "del number_names['five']\n",
    "\n",
    "# print the dict\n",
    "number_names"
   ]
  },
  {
   "cell_type": "code",
   "execution_count": 35,
   "id": "entire-hospital",
   "metadata": {},
   "outputs": [
    {
     "ename": "KeyError",
     "evalue": "'ten'",
     "output_type": "error",
     "traceback": [
      "\u001b[1;31m---------------------------------------------------------------------------\u001b[0m",
      "\u001b[1;31mKeyError\u001b[0m                                  Traceback (most recent call last)",
      "\u001b[1;32m<ipython-input-35-39cbeaae3659>\u001b[0m in \u001b[0;36m<module>\u001b[1;34m\u001b[0m\n\u001b[0;32m      1\u001b[0m \u001b[1;31m# pass a key which does not exist\u001b[0m\u001b[1;33m\u001b[0m\u001b[1;33m\u001b[0m\u001b[1;33m\u001b[0m\u001b[0m\n\u001b[1;32m----> 2\u001b[1;33m \u001b[1;32mdel\u001b[0m \u001b[0mnumber_names\u001b[0m\u001b[1;33m[\u001b[0m\u001b[1;34m'ten'\u001b[0m\u001b[1;33m]\u001b[0m\u001b[1;33m\u001b[0m\u001b[1;33m\u001b[0m\u001b[0m\n\u001b[0m",
      "\u001b[1;31mKeyError\u001b[0m: 'ten'"
     ]
    }
   ],
   "source": [
    "# pass a key which does not exist\n",
    "del number_names['ten']"
   ]
  },
  {
   "cell_type": "markdown",
   "id": "unsigned-marker",
   "metadata": {},
   "source": [
    "## Read Elements from a Dictionary"
   ]
  },
  {
   "cell_type": "markdown",
   "id": "passive-savings",
   "metadata": {},
   "source": [
    "dict[key] => value"
   ]
  },
  {
   "cell_type": "code",
   "execution_count": 36,
   "id": "charged-irish",
   "metadata": {},
   "outputs": [
    {
     "data": {
      "text/plain": [
       "{'one': 1,\n",
       " 'two': 2,\n",
       " 'three': 3,\n",
       " 'four': 4,\n",
       " 'five': 5,\n",
       " 'six': 6,\n",
       " 'seven': 7,\n",
       " 'eight': 8}"
      ]
     },
     "execution_count": 36,
     "metadata": {},
     "output_type": "execute_result"
    }
   ],
   "source": [
    "# redefine an empty dict\n",
    "number_names = {}\n",
    "\n",
    "# add items with keys\n",
    "number_names['one'] = 1\n",
    "number_names['two'] = 2\n",
    "number_names['three'] = 3\n",
    "number_names['four'] = 4\n",
    "number_names['five'] = 5\n",
    "number_names['six'] = 6\n",
    "number_names['seven'] = 7\n",
    "number_names['eight'] = 8\n",
    "\n",
    "# print the dict\n",
    "number_names"
   ]
  },
  {
   "cell_type": "code",
   "execution_count": 37,
   "id": "private-stereo",
   "metadata": {},
   "outputs": [
    {
     "data": {
      "text/plain": [
       "7"
      ]
     },
     "execution_count": 37,
     "metadata": {},
     "output_type": "execute_result"
    }
   ],
   "source": [
    "# get the item with key 'seven'\n",
    "number_names['seven']"
   ]
  },
  {
   "cell_type": "code",
   "execution_count": 38,
   "id": "creative-grace",
   "metadata": {},
   "outputs": [
    {
     "data": {
      "text/plain": [
       "2"
      ]
     },
     "execution_count": 38,
     "metadata": {},
     "output_type": "execute_result"
    }
   ],
   "source": [
    "# get the item with key 'two'\n",
    "number_names['two']"
   ]
  },
  {
   "cell_type": "markdown",
   "id": "technical-member",
   "metadata": {},
   "source": [
    "**dict.items()**\n",
    "\n",
    "Returns the items as `key-value` pairs."
   ]
  },
  {
   "cell_type": "code",
   "execution_count": 39,
   "id": "interracial-tract",
   "metadata": {},
   "outputs": [
    {
     "data": {
      "text/plain": [
       "dict_items([('one', 1), ('two', 2), ('three', 3), ('four', 4), ('five', 5), ('six', 6), ('seven', 7), ('eight', 8)])"
      ]
     },
     "execution_count": 39,
     "metadata": {},
     "output_type": "execute_result"
    }
   ],
   "source": [
    "# get all items in the dict\n",
    "number_names.items()"
   ]
  },
  {
   "cell_type": "markdown",
   "id": "latest-fleet",
   "metadata": {},
   "source": [
    "**dict.keys()**\n",
    "\n",
    "Returns only the keys."
   ]
  },
  {
   "cell_type": "code",
   "execution_count": 40,
   "id": "static-afghanistan",
   "metadata": {},
   "outputs": [
    {
     "data": {
      "text/plain": [
       "dict_keys(['one', 'two', 'three', 'four', 'five', 'six', 'seven', 'eight'])"
      ]
     },
     "execution_count": 40,
     "metadata": {},
     "output_type": "execute_result"
    }
   ],
   "source": [
    "# get all keys\n",
    "number_names.keys()"
   ]
  },
  {
   "cell_type": "markdown",
   "id": "significant-southeast",
   "metadata": {},
   "source": [
    "**dict.values()**\n",
    "\n",
    "Returns the values only."
   ]
  },
  {
   "cell_type": "code",
   "execution_count": 41,
   "id": "contained-universe",
   "metadata": {},
   "outputs": [
    {
     "data": {
      "text/plain": [
       "dict_values([1, 2, 3, 4, 5, 6, 7, 8])"
      ]
     },
     "execution_count": 41,
     "metadata": {},
     "output_type": "execute_result"
    }
   ],
   "source": [
    "# get the values only\n",
    "number_names.values()"
   ]
  },
  {
   "cell_type": "code",
   "execution_count": 42,
   "id": "stunning-outreach",
   "metadata": {},
   "outputs": [
    {
     "name": "stdout",
     "output_type": "stream",
     "text": [
      "one : 1\n",
      "two : 2\n",
      "three : 3\n",
      "four : 4\n",
      "five : 5\n",
      "six : 6\n",
      "seven : 7\n",
      "eight : 8\n"
     ]
    }
   ],
   "source": [
    "# with for loop, print the items\n",
    "for key, value in number_names.items():\n",
    "    print(key, ':', value)"
   ]
  },
  {
   "cell_type": "code",
   "execution_count": 43,
   "id": "hidden-charger",
   "metadata": {},
   "outputs": [
    {
     "name": "stdout",
     "output_type": "stream",
     "text": [
      "one : 1\n",
      "two : 2\n",
      "three : 3\n",
      "four : 4\n",
      "five : 5\n",
      "six : 6\n",
      "seven : 7\n",
      "eight : 8\n"
     ]
    }
   ],
   "source": [
    "# 'k' is key and 'v' is for value\n",
    "for k, v in number_names.items():\n",
    "    print(k, ':', v)"
   ]
  },
  {
   "cell_type": "code",
   "execution_count": 44,
   "id": "agreed-reunion",
   "metadata": {},
   "outputs": [
    {
     "name": "stdout",
     "output_type": "stream",
     "text": [
      "one\n",
      "two\n",
      "three\n",
      "four\n",
      "five\n",
      "six\n",
      "seven\n",
      "eight\n"
     ]
    }
   ],
   "source": [
    "# only the keys\n",
    "for k in number_names.keys():\n",
    "    print(k)"
   ]
  },
  {
   "cell_type": "code",
   "execution_count": 45,
   "id": "japanese-uruguay",
   "metadata": {},
   "outputs": [
    {
     "name": "stdout",
     "output_type": "stream",
     "text": [
      "1\n",
      "2\n",
      "3\n",
      "4\n",
      "5\n",
      "6\n",
      "7\n",
      "8\n"
     ]
    }
   ],
   "source": [
    "# only the values\n",
    "for p in number_names.values():\n",
    "    print(p)"
   ]
  },
  {
   "cell_type": "code",
   "execution_count": 46,
   "id": "insured-darkness",
   "metadata": {},
   "outputs": [],
   "source": [
    "car = {\n",
    "    'brand': 'Ford',\n",
    "     'model': 'Mustang',\n",
    "     'year': 1964,\n",
    "     'color': 'red',\n",
    "     'age': 72,\n",
    "     'price': 100000,\n",
    "     'motor': 1.6\n",
    "}"
   ]
  },
  {
   "cell_type": "code",
   "execution_count": 47,
   "id": "economic-hybrid",
   "metadata": {},
   "outputs": [
    {
     "data": {
      "text/plain": [
       "'Ford'"
      ]
     },
     "execution_count": 47,
     "metadata": {},
     "output_type": "execute_result"
    }
   ],
   "source": [
    "car['brand']"
   ]
  },
  {
   "cell_type": "code",
   "execution_count": 48,
   "id": "discrete-cemetery",
   "metadata": {},
   "outputs": [
    {
     "ename": "KeyError",
     "evalue": "'BRAND'",
     "output_type": "error",
     "traceback": [
      "\u001b[1;31m---------------------------------------------------------------------------\u001b[0m",
      "\u001b[1;31mKeyError\u001b[0m                                  Traceback (most recent call last)",
      "\u001b[1;32m<ipython-input-48-6cf0d1c289d5>\u001b[0m in \u001b[0;36m<module>\u001b[1;34m\u001b[0m\n\u001b[0;32m      1\u001b[0m \u001b[1;31m# KeyError: 'BRAND'\u001b[0m\u001b[1;33m\u001b[0m\u001b[1;33m\u001b[0m\u001b[1;33m\u001b[0m\u001b[0m\n\u001b[1;32m----> 2\u001b[1;33m \u001b[0mcar\u001b[0m\u001b[1;33m[\u001b[0m\u001b[1;34m'BRAND'\u001b[0m\u001b[1;33m]\u001b[0m\u001b[1;33m\u001b[0m\u001b[1;33m\u001b[0m\u001b[0m\n\u001b[0m",
      "\u001b[1;31mKeyError\u001b[0m: 'BRAND'"
     ]
    }
   ],
   "source": [
    "# KeyError: 'BRAND'\n",
    "car['BRAND']"
   ]
  },
  {
   "cell_type": "markdown",
   "id": "based-intention",
   "metadata": {},
   "source": [
    "**get()**\n",
    "\n",
    "It returns the element if exists, None if not."
   ]
  },
  {
   "cell_type": "code",
   "execution_count": 49,
   "id": "accredited-vatican",
   "metadata": {},
   "outputs": [
    {
     "data": {
      "text/plain": [
       "'Ford'"
      ]
     },
     "execution_count": 49,
     "metadata": {},
     "output_type": "execute_result"
    }
   ],
   "source": [
    "# get the item 'brand'\n",
    "car.get('brand')"
   ]
  },
  {
   "cell_type": "code",
   "execution_count": 50,
   "id": "popular-characterization",
   "metadata": {},
   "outputs": [
    {
     "data": {
      "text/plain": [
       "'No such brand'"
      ]
     },
     "execution_count": 50,
     "metadata": {},
     "output_type": "execute_result"
    }
   ],
   "source": [
    "# get the item 'BRAND'\n",
    "car.get('BRAND')\n",
    "\n",
    "# decide the return value, if not exist\n",
    "car.get('BRAND', 'No such brand')"
   ]
  },
  {
   "cell_type": "markdown",
   "id": "southeast-campaign",
   "metadata": {},
   "source": [
    "**len()**\n",
    "\n",
    "It gives you the length of Dictionary -> number of key-value pair."
   ]
  },
  {
   "cell_type": "code",
   "execution_count": 51,
   "id": "variable-person",
   "metadata": {},
   "outputs": [
    {
     "data": {
      "text/plain": [
       "7"
      ]
     },
     "execution_count": 51,
     "metadata": {},
     "output_type": "execute_result"
    }
   ],
   "source": [
    "# length of the car dict\n",
    "len(car)"
   ]
  },
  {
   "cell_type": "markdown",
   "id": "derived-suite",
   "metadata": {},
   "source": [
    "**in**\n",
    "\n",
    "To check if the key is in Dictionary Keys."
   ]
  },
  {
   "cell_type": "code",
   "execution_count": 52,
   "id": "regulated-falls",
   "metadata": {},
   "outputs": [
    {
     "data": {
      "text/plain": [
       "True"
      ]
     },
     "execution_count": 52,
     "metadata": {},
     "output_type": "execute_result"
    }
   ],
   "source": [
    "# in checks for keys\n",
    "# is there a key as 'age'\n",
    "'age' in car"
   ]
  },
  {
   "cell_type": "code",
   "execution_count": 53,
   "id": "cleared-edition",
   "metadata": {},
   "outputs": [
    {
     "data": {
      "text/plain": [
       "False"
      ]
     },
     "execution_count": 53,
     "metadata": {},
     "output_type": "execute_result"
    }
   ],
   "source": [
    "# is there a key as 'height'\n",
    "'height' in car"
   ]
  },
  {
   "cell_type": "code",
   "execution_count": 54,
   "id": "alleged-france",
   "metadata": {},
   "outputs": [
    {
     "data": {
      "text/plain": [
       "False"
      ]
     },
     "execution_count": 54,
     "metadata": {},
     "output_type": "execute_result"
    }
   ],
   "source": [
    "# is there a key as 'height'\n",
    "'height' in car.keys()"
   ]
  },
  {
   "cell_type": "code",
   "execution_count": 55,
   "id": "massive-establishment",
   "metadata": {},
   "outputs": [
    {
     "data": {
      "text/plain": [
       "True"
      ]
     },
     "execution_count": 55,
     "metadata": {},
     "output_type": "execute_result"
    }
   ],
   "source": [
    "# check for values\n",
    "6 in number_names.values()"
   ]
  },
  {
   "cell_type": "code",
   "execution_count": 56,
   "id": "induced-blowing",
   "metadata": {},
   "outputs": [
    {
     "data": {
      "text/plain": [
       "True"
      ]
     },
     "execution_count": 56,
     "metadata": {},
     "output_type": "execute_result"
    }
   ],
   "source": [
    "# check for value 'Mustang'\n",
    "value_to_check = 'Mustang'\n",
    "value_to_check in car.values()"
   ]
  },
  {
   "cell_type": "code",
   "execution_count": 57,
   "id": "aware-desperate",
   "metadata": {},
   "outputs": [
    {
     "data": {
      "text/plain": [
       "False"
      ]
     },
     "execution_count": 57,
     "metadata": {},
     "output_type": "execute_result"
    }
   ],
   "source": [
    "# check for value 'Mondeo'\n",
    "value_to_check = 'Mondeo'\n",
    "value_to_check in car.values()"
   ]
  },
  {
   "cell_type": "markdown",
   "id": "excess-python",
   "metadata": {},
   "source": [
    "## Loop Over Dictionary"
   ]
  },
  {
   "cell_type": "code",
   "execution_count": 58,
   "id": "advanced-minutes",
   "metadata": {},
   "outputs": [
    {
     "data": {
      "text/plain": [
       "{'Audi': 'Germany', 'Mazda': 'Japan', 'Fiat': 'Italy', 'Ford': 'US'}"
      ]
     },
     "execution_count": 58,
     "metadata": {},
     "output_type": "execute_result"
    }
   ],
   "source": [
    "cars = {\n",
    "    'Audi': 'Germany',\n",
    "    'Mazda': 'Japan',\n",
    "    'Fiat': 'Italy',\n",
    "    'Ford': 'US'\n",
    "}\n",
    "\n",
    "cars"
   ]
  },
  {
   "cell_type": "markdown",
   "id": "freelance-guidance",
   "metadata": {},
   "source": [
    "**items(), keys(), values()**"
   ]
  },
  {
   "cell_type": "code",
   "execution_count": 59,
   "id": "structural-dictionary",
   "metadata": {},
   "outputs": [
    {
     "name": "stdout",
     "output_type": "stream",
     "text": [
      "('Audi', 'Germany')\n",
      "('Mazda', 'Japan')\n",
      "('Fiat', 'Italy')\n",
      "('Ford', 'US')\n"
     ]
    }
   ],
   "source": [
    "# print the items\n",
    "for car in cars.items():\n",
    "    print(car)"
   ]
  },
  {
   "cell_type": "code",
   "execution_count": 60,
   "id": "extensive-wiring",
   "metadata": {},
   "outputs": [
    {
     "name": "stdout",
     "output_type": "stream",
     "text": [
      "Audi - Germany\n",
      "Mazda - Japan\n",
      "Fiat - Italy\n",
      "Ford - US\n"
     ]
    }
   ],
   "source": [
    "# deconstructing the items as key, value\n",
    "for brand, country in cars.items():\n",
    "    print(brand, '-', country)"
   ]
  },
  {
   "cell_type": "code",
   "execution_count": 61,
   "id": "robust-possible",
   "metadata": {},
   "outputs": [
    {
     "name": "stdout",
     "output_type": "stream",
     "text": [
      "Audi\n",
      "Mazda\n",
      "Fiat\n",
      "Ford\n"
     ]
    }
   ],
   "source": [
    "# loop over the keys\n",
    "for k in cars.keys():\n",
    "    print(k)"
   ]
  },
  {
   "cell_type": "code",
   "execution_count": 62,
   "id": "treated-fitness",
   "metadata": {},
   "outputs": [
    {
     "name": "stdout",
     "output_type": "stream",
     "text": [
      "Germany\n",
      "Japan\n",
      "Italy\n",
      "US\n"
     ]
    }
   ],
   "source": [
    "# loop over the values\n",
    "for country in cars.values():\n",
    "    print(country)"
   ]
  },
  {
   "cell_type": "markdown",
   "id": "graphic-announcement",
   "metadata": {},
   "source": [
    "**Example:**\n",
    "\n",
    "Define a function named **count_letters**.\n",
    "\n",
    "It will count each letter in a text and print.\n",
    "\n",
    "Ex: {'a': 3, 's': 3, 'e': 1 }"
   ]
  },
  {
   "cell_type": "code",
   "execution_count": 63,
   "id": "amended-lobby",
   "metadata": {},
   "outputs": [],
   "source": [
    "def count_letters(text):    \n",
    "    # a dict for numbers and counts\n",
    "    letters = dict()\n",
    "    \n",
    "    # loop over the letters in the text\n",
    "    for char in text:       \n",
    "        # check if letter is alphabetical\n",
    "        if char.isalpha():\n",
    "            letters[char] = letters.get(char, 0) + 1\n",
    "            \n",
    "    return letters"
   ]
  },
  {
   "cell_type": "code",
   "execution_count": 64,
   "id": "demonstrated-venezuela",
   "metadata": {},
   "outputs": [
    {
     "data": {
      "text/plain": [
       "{'e': 3, 'x': 2, 'a': 1, 'm': 1, 'p': 1, 'l': 1, 't': 2}"
      ]
     },
     "execution_count": 64,
     "metadata": {},
     "output_type": "execute_result"
    }
   ],
   "source": [
    "text = 'example text!'\n",
    "letters = count_letters(text)\n",
    "letters"
   ]
  },
  {
   "cell_type": "markdown",
   "id": "north-monster",
   "metadata": {},
   "source": [
    "## Reverse Lookup"
   ]
  },
  {
   "cell_type": "markdown",
   "id": "announced-prison",
   "metadata": {},
   "source": [
    "In dictionaries we mainly look for a key and try to find the value corresponding to that key.\n",
    "\n",
    "That is the main idea of dictionary search in Python.\n",
    "\n",
    "And its very fast because it use **hashtable** structure."
   ]
  },
  {
   "cell_type": "markdown",
   "id": "broke-pencil",
   "metadata": {},
   "source": [
    "Now, let's say we want to do the opposite.\n",
    "\n",
    "Let's assume, we have a value this time and what to find the key corresponding this value.\n",
    "\n",
    "Consequences:\n",
    "* There might be more than one key mapping to the same value\n",
    "* It will cause to memory cost"
   ]
  },
  {
   "cell_type": "code",
   "execution_count": 65,
   "id": "conventional-methodology",
   "metadata": {},
   "outputs": [],
   "source": [
    "def reverse_lookup(dictionary, value):    \n",
    "    # loop over the dictionary\n",
    "    for key in dictionary:        \n",
    "        # check if the value with this key == value\n",
    "        if dictionary[key] == value:\n",
    "            # we found the key\n",
    "            return key"
   ]
  },
  {
   "cell_type": "code",
   "execution_count": 66,
   "id": "right-clearing",
   "metadata": {},
   "outputs": [
    {
     "data": {
      "text/plain": [
       "{'a': 2, 'b': 1, 'c': 4, 'd': 3, 'e': 2}"
      ]
     },
     "execution_count": 66,
     "metadata": {},
     "output_type": "execute_result"
    }
   ],
   "source": [
    "dictionary = {\n",
    "    'a': 2,\n",
    "    'b': 1,\n",
    "    'c': 4,\n",
    "    'd': 3,\n",
    "    'e': 2\n",
    "}\n",
    "\n",
    "dictionary"
   ]
  },
  {
   "cell_type": "code",
   "execution_count": 67,
   "id": "hidden-reading",
   "metadata": {},
   "outputs": [
    {
     "data": {
      "text/plain": [
       "'a'"
      ]
     },
     "execution_count": 67,
     "metadata": {},
     "output_type": "execute_result"
    }
   ],
   "source": [
    "value = 2\n",
    "reverse_lookup(dictionary, value)"
   ]
  },
  {
   "cell_type": "code",
   "execution_count": 68,
   "id": "exclusive-rugby",
   "metadata": {},
   "outputs": [],
   "source": [
    "value = 122\n",
    "reverse_lookup(dictionary, value)"
   ]
  },
  {
   "cell_type": "markdown",
   "id": "seeing-stanley",
   "metadata": {},
   "source": [
    "Let's raise an error."
   ]
  },
  {
   "cell_type": "code",
   "execution_count": 69,
   "id": "figured-assistant",
   "metadata": {},
   "outputs": [],
   "source": [
    "def reverse_lookup(dictionary, value):    \n",
    "    # loop over the dictionary\n",
    "    for key in dictionary:        \n",
    "        # check if the value with this key == value\n",
    "        if dictionary[key] == value:\n",
    "            # we found the key\n",
    "            return key\n",
    "    else:\n",
    "        # raise error\n",
    "        raise KeyError('We could not find with this value:', value)"
   ]
  },
  {
   "cell_type": "code",
   "execution_count": 70,
   "id": "committed-portland",
   "metadata": {},
   "outputs": [
    {
     "ename": "KeyError",
     "evalue": "('We could not find with this value:', 333)",
     "output_type": "error",
     "traceback": [
      "\u001b[1;31m---------------------------------------------------------------------------\u001b[0m",
      "\u001b[1;31mKeyError\u001b[0m                                  Traceback (most recent call last)",
      "\u001b[1;32m<ipython-input-70-1499828b8602>\u001b[0m in \u001b[0;36m<module>\u001b[1;34m\u001b[0m\n\u001b[0;32m      1\u001b[0m \u001b[0mvalue\u001b[0m \u001b[1;33m=\u001b[0m \u001b[1;36m333\u001b[0m\u001b[1;33m\u001b[0m\u001b[1;33m\u001b[0m\u001b[0m\n\u001b[1;32m----> 2\u001b[1;33m \u001b[0mreverse_lookup\u001b[0m\u001b[1;33m(\u001b[0m\u001b[0mdictionary\u001b[0m\u001b[1;33m,\u001b[0m \u001b[0mvalue\u001b[0m\u001b[1;33m)\u001b[0m\u001b[1;33m\u001b[0m\u001b[1;33m\u001b[0m\u001b[0m\n\u001b[0m",
      "\u001b[1;32m<ipython-input-69-7ea5e5ef5732>\u001b[0m in \u001b[0;36mreverse_lookup\u001b[1;34m(dictionary, value)\u001b[0m\n\u001b[0;32m      8\u001b[0m     \u001b[1;32melse\u001b[0m\u001b[1;33m:\u001b[0m\u001b[1;33m\u001b[0m\u001b[1;33m\u001b[0m\u001b[0m\n\u001b[0;32m      9\u001b[0m         \u001b[1;31m# raise error\u001b[0m\u001b[1;33m\u001b[0m\u001b[1;33m\u001b[0m\u001b[1;33m\u001b[0m\u001b[0m\n\u001b[1;32m---> 10\u001b[1;33m         \u001b[1;32mraise\u001b[0m \u001b[0mKeyError\u001b[0m\u001b[1;33m(\u001b[0m\u001b[1;34m'We could not find with this value:'\u001b[0m\u001b[1;33m,\u001b[0m \u001b[0mvalue\u001b[0m\u001b[1;33m)\u001b[0m\u001b[1;33m\u001b[0m\u001b[1;33m\u001b[0m\u001b[0m\n\u001b[0m",
      "\u001b[1;31mKeyError\u001b[0m: ('We could not find with this value:', 333)"
     ]
    }
   ],
   "source": [
    "value = 333\n",
    "reverse_lookup(dictionary, value)"
   ]
  },
  {
   "cell_type": "markdown",
   "id": "pressing-raise",
   "metadata": {},
   "source": [
    "## Dictionary & List"
   ]
  },
  {
   "cell_type": "markdown",
   "id": "industrial-battle",
   "metadata": {},
   "source": [
    "Lists can be used as values in Dictionaries."
   ]
  },
  {
   "cell_type": "markdown",
   "id": "beginning-chain",
   "metadata": {},
   "source": [
    "Ex: for each letter in a text we can keep the number as key and value as list of letter:"
   ]
  },
  {
   "cell_type": "code",
   "execution_count": 71,
   "id": "purple-courtesy",
   "metadata": {},
   "outputs": [
    {
     "name": "stdout",
     "output_type": "stream",
     "text": [
      "{1: ['k', 'd'], 2: ['e', 'g', 'l'], 3: ['a'], 4: ['i', 's']}\n"
     ]
    }
   ],
   "source": [
    "letters_list = {\n",
    " 1: ['k', 'd'],\n",
    " 2: ['e', 'g', 'l'],\n",
    " 3: ['a'],\n",
    " 4: ['i', 's']\n",
    "}\n",
    "\n",
    "print(letters_list)"
   ]
  },
  {
   "cell_type": "code",
   "execution_count": 72,
   "id": "fleet-nation",
   "metadata": {},
   "outputs": [],
   "source": [
    "def lists_of_letters(text):\n",
    "    \n",
    "    # get the dictionary of occurrences\n",
    "    # by calling the count_letters function\n",
    "    dictionary_with_letter_key = count_letters(text)\n",
    "    \n",
    "    dictionary_with_count_key = {}\n",
    "    \n",
    "    for letter, count in dictionary_with_letter_key.items():               \n",
    "        # if this count is not in keys -> add it and assign a list of key\n",
    "        if count not in dictionary_with_count_key:\n",
    "            dictionary_with_count_key[count] = [letter]\n",
    "        else:\n",
    "            # this value is in letters keys\n",
    "            dictionary_with_count_key[count].append(letter)\n",
    "            \n",
    "    return dictionary_with_count_key"
   ]
  },
  {
   "cell_type": "code",
   "execution_count": 73,
   "id": "later-pillow",
   "metadata": {},
   "outputs": [
    {
     "data": {
      "text/plain": [
       "{3: ['e'], 2: ['x', 't'], 1: ['a', 'm', 'p', 'l']}"
      ]
     },
     "execution_count": 73,
     "metadata": {},
     "output_type": "execute_result"
    }
   ],
   "source": [
    "text = 'example text!'\n",
    "letters_numbers = lists_of_letters(text)\n",
    "letters_numbers"
   ]
  },
  {
   "cell_type": "markdown",
   "id": "separated-return",
   "metadata": {},
   "source": [
    "**Very Important:**\n",
    "\n",
    "* Lists can be used as values of Dictionaries.\n",
    "* But **can not be used as keys** of Dictionaries."
   ]
  },
  {
   "cell_type": "code",
   "execution_count": 74,
   "id": "surface-arcade",
   "metadata": {},
   "outputs": [
    {
     "ename": "TypeError",
     "evalue": "unhashable type: 'list'",
     "output_type": "error",
     "traceback": [
      "\u001b[1;31m---------------------------------------------------------------------------\u001b[0m",
      "\u001b[1;31mTypeError\u001b[0m                                 Traceback (most recent call last)",
      "\u001b[1;32m<ipython-input-74-c09d79892925>\u001b[0m in \u001b[0;36m<module>\u001b[1;34m\u001b[0m\n\u001b[0;32m      6\u001b[0m \u001b[1;33m\u001b[0m\u001b[0m\n\u001b[0;32m      7\u001b[0m \u001b[1;31m# pass list as key\u001b[0m\u001b[1;33m\u001b[0m\u001b[1;33m\u001b[0m\u001b[1;33m\u001b[0m\u001b[0m\n\u001b[1;32m----> 8\u001b[1;33m \u001b[0ms\u001b[0m\u001b[1;33m[\u001b[0m\u001b[0ma\u001b[0m\u001b[1;33m]\u001b[0m \u001b[1;33m=\u001b[0m \u001b[1;34m'my list'\u001b[0m\u001b[1;33m\u001b[0m\u001b[1;33m\u001b[0m\u001b[0m\n\u001b[0m",
      "\u001b[1;31mTypeError\u001b[0m: unhashable type: 'list'"
     ]
    }
   ],
   "source": [
    "# list\n",
    "a = [1, 2]\n",
    "\n",
    "# dict\n",
    "s = dict()\n",
    "\n",
    "# pass list as key for dict\n",
    "s[a] = 'my list'"
   ]
  },
  {
   "cell_type": "markdown",
   "id": "collectible-pressing",
   "metadata": {},
   "source": [
    "**Rule of Thumb:**\n",
    "\n",
    "* Dictionary Keys must be **hashable** types."
   ]
  },
  {
   "cell_type": "markdown",
   "id": "guilty-neighborhood",
   "metadata": {},
   "source": [
    "**hash** is a function which takes any value but returns an integer for that value."
   ]
  },
  {
   "cell_type": "raw",
   "id": "least-france",
   "metadata": {},
   "source": [
    "Immutable\n",
    "'some text'  ---->  hash(some_text)  ----->  14478565  (NOT CHANGE HASH)\n",
    "\n",
    "Mutable\n",
    "[1, 2, 'a', 'c', 'd'] -----> hash(some_list)  ----->  877820823657  (CHANGE HASH)"
   ]
  },
  {
   "cell_type": "markdown",
   "id": "cellular-writing",
   "metadata": {},
   "source": [
    "Dictionary uses this **hash value** of keys to access them.\n",
    "\n",
    "It uses this hash value like an index."
   ]
  },
  {
   "cell_type": "markdown",
   "id": "announced-bread",
   "metadata": {},
   "source": [
    "**Mutable vs. Immutable**:\n",
    "\n",
    "* Hash values for Mutable types may change (because they can be mutated)\n",
    "* Hash values for Immutable types can not change (they can not be mutated)"
   ]
  },
  {
   "cell_type": "markdown",
   "id": "contrary-completion",
   "metadata": {},
   "source": [
    "That's why:\n",
    "* **Mutable** Types can **not** be keys for Dictionary\n",
    "* Immutable Types can be keys for Dictionary"
   ]
  },
  {
   "cell_type": "markdown",
   "id": "integrated-engineering",
   "metadata": {},
   "source": [
    "Python Mutable vs. Immutable Types and If They can be Keys for Dictionary:\n",
    "\n",
    "| Type | Desc. | Immutable? | Can be Key for Dictionary? | \n",
    "| --- | --- | --- | --- |\n",
    "| int | Integer | $\\checkmark$ | $\\checkmark$ |\n",
    "| float | Float | $\\checkmark$ | $\\checkmark$ |\n",
    "| bool | Boolean | $\\checkmark$ | $\\checkmark$ |\n",
    "| str | String | $\\checkmark$ | $\\checkmark$ |\n",
    "| list | List |  |  |\n",
    "| tuple | Tuple | $\\checkmark$ | $\\checkmark$ |\n",
    "| dict | Dictionary |  |  |\n",
    "| set | Set |  |  |\n",
    "| frozenset | Frozen Set | $\\checkmark$ | $\\checkmark$ |"
   ]
  },
  {
   "cell_type": "markdown",
   "id": "proper-platinum",
   "metadata": {},
   "source": [
    "* Immutable Types can be Keys for Dictionary.\n",
    "* Mutable Types can not.\n",
    "    * List\n",
    "    * Dictionary\n",
    "    * Set"
   ]
  },
  {
   "cell_type": "code",
   "execution_count": 75,
   "id": "effective-semiconductor",
   "metadata": {},
   "outputs": [],
   "source": [
    "# define an empty dict\n",
    "s = dict()\n",
    "\n",
    "# bool keys are valid\n",
    "s[True] = 'Correct'\n",
    "s[False] = 'Incorrect'\n",
    "\n",
    "# int and float keys are valid\n",
    "s[5] = 'five'\n",
    "s[4.8] = 'four-dot-eight'\n",
    "\n",
    "# string keys are valid\n",
    "s['final'] = 124545454"
   ]
  },
  {
   "cell_type": "code",
   "execution_count": 76,
   "id": "married-conservation",
   "metadata": {},
   "outputs": [
    {
     "data": {
      "text/plain": [
       "{True: 'Correct',\n",
       " False: 'Incorrect',\n",
       " 5: 'five',\n",
       " 4.8: 'four-dot-eight',\n",
       " 'final': 124545454}"
      ]
     },
     "execution_count": 76,
     "metadata": {},
     "output_type": "execute_result"
    }
   ],
   "source": [
    "# print the final value of s\n",
    "s"
   ]
  }
 ],
 "metadata": {
  "kernelspec": {
   "display_name": "Python 3",
   "language": "python",
   "name": "python3"
  },
  "language_info": {
   "codemirror_mode": {
    "name": "ipython",
    "version": 3
   },
   "file_extension": ".py",
   "mimetype": "text/x-python",
   "name": "python",
   "nbconvert_exporter": "python",
   "pygments_lexer": "ipython3",
   "version": "3.8.8"
  }
 },
 "nbformat": 4,
 "nbformat_minor": 5
}
