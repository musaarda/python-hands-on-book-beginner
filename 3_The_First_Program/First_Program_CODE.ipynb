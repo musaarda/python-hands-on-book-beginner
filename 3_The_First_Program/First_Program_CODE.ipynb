{
 "cells": [
  {
   "cell_type": "markdown",
   "id": "arabic-lobby",
   "metadata": {},
   "source": [
    "# First Program"
   ]
  },
  {
   "cell_type": "markdown",
   "id": "present-generation",
   "metadata": {},
   "source": [
    "**Program:** A program is a procedure that tells the computer how to succeed a given task."
   ]
  },
  {
   "cell_type": "code",
   "execution_count": 1,
   "id": "rural-mattress",
   "metadata": {},
   "outputs": [
    {
     "name": "stdout",
     "output_type": "stream",
     "text": [
      "Hello World!\n"
     ]
    }
   ],
   "source": [
    "print(\"Hello World!\")"
   ]
  },
  {
   "cell_type": "code",
   "execution_count": 2,
   "id": "boolean-maryland",
   "metadata": {},
   "outputs": [
    {
     "name": "stdout",
     "output_type": "stream",
     "text": [
      "This is the second line of code\n"
     ]
    }
   ],
   "source": [
    "print(\"This is the second line of code\")"
   ]
  },
  {
   "cell_type": "code",
   "execution_count": 3,
   "id": "enabling-coordination",
   "metadata": {},
   "outputs": [
    {
     "name": "stdout",
     "output_type": "stream",
     "text": [
      "2345\n"
     ]
    }
   ],
   "source": [
    "print(2345)"
   ]
  },
  {
   "cell_type": "code",
   "execution_count": 4,
   "id": "failing-clinton",
   "metadata": {},
   "outputs": [
    {
     "data": {
      "text/plain": [
       "7"
      ]
     },
     "execution_count": 4,
     "metadata": {},
     "output_type": "execute_result"
    }
   ],
   "source": [
    "5 + 2"
   ]
  },
  {
   "cell_type": "markdown",
   "id": "lucky-baptist",
   "metadata": {},
   "source": [
    "## Arithmetic Operations"
   ]
  },
  {
   "cell_type": "markdown",
   "id": "racial-correspondence",
   "metadata": {},
   "source": [
    "* Addition: +\n",
    "* Subtraction: -\n",
    "* Multiplication: *\n",
    "* Division: /\n",
    "* Exponential: **\n",
    "* Modulo Operator: %\n",
    "* Floor Division: //"
   ]
  },
  {
   "cell_type": "code",
   "execution_count": 5,
   "id": "inclusive-range",
   "metadata": {},
   "outputs": [
    {
     "data": {
      "text/plain": [
       "40"
      ]
     },
     "execution_count": 5,
     "metadata": {},
     "output_type": "execute_result"
    }
   ],
   "source": [
    "# Addition\n",
    "24 + 16"
   ]
  },
  {
   "cell_type": "code",
   "execution_count": 6,
   "id": "deluxe-stock",
   "metadata": {},
   "outputs": [
    {
     "data": {
      "text/plain": [
       "30"
      ]
     },
     "execution_count": 6,
     "metadata": {},
     "output_type": "execute_result"
    }
   ],
   "source": [
    "# Subtraction\n",
    "47 - 17"
   ]
  },
  {
   "cell_type": "code",
   "execution_count": 7,
   "id": "executive-uniform",
   "metadata": {},
   "outputs": [
    {
     "data": {
      "text/plain": [
       "40"
      ]
     },
     "execution_count": 7,
     "metadata": {},
     "output_type": "execute_result"
    }
   ],
   "source": [
    "# Multiplication\n",
    "5 * 8"
   ]
  },
  {
   "cell_type": "code",
   "execution_count": 8,
   "id": "informed-seminar",
   "metadata": {},
   "outputs": [
    {
     "data": {
      "text/plain": [
       "8.0"
      ]
     },
     "execution_count": 8,
     "metadata": {},
     "output_type": "execute_result"
    }
   ],
   "source": [
    "# Division\n",
    "80 / 10"
   ]
  },
  {
   "cell_type": "code",
   "execution_count": 9,
   "id": "covered-token",
   "metadata": {},
   "outputs": [
    {
     "data": {
      "text/plain": [
       "4.5"
      ]
     },
     "execution_count": 9,
     "metadata": {},
     "output_type": "execute_result"
    }
   ],
   "source": [
    "# Division\n",
    "9 / 2"
   ]
  },
  {
   "cell_type": "code",
   "execution_count": 10,
   "id": "classified-thompson",
   "metadata": {},
   "outputs": [
    {
     "data": {
      "text/plain": [
       "9"
      ]
     },
     "execution_count": 10,
     "metadata": {},
     "output_type": "execute_result"
    }
   ],
   "source": [
    "# Exponential\n",
    "3**2"
   ]
  },
  {
   "cell_type": "code",
   "execution_count": 11,
   "id": "piano-graphic",
   "metadata": {},
   "outputs": [
    {
     "data": {
      "text/plain": [
       "64"
      ]
     },
     "execution_count": 11,
     "metadata": {},
     "output_type": "execute_result"
    }
   ],
   "source": [
    "# Exponential\n",
    "4**3"
   ]
  },
  {
   "cell_type": "code",
   "execution_count": 12,
   "id": "important-storage",
   "metadata": {},
   "outputs": [
    {
     "data": {
      "text/plain": [
       "4"
      ]
     },
     "execution_count": 12,
     "metadata": {},
     "output_type": "execute_result"
    }
   ],
   "source": [
    "# Modulo Operator\n",
    "64 % 5"
   ]
  },
  {
   "cell_type": "code",
   "execution_count": 13,
   "id": "looking-james",
   "metadata": {},
   "outputs": [
    {
     "data": {
      "text/plain": [
       "1"
      ]
     },
     "execution_count": 13,
     "metadata": {},
     "output_type": "execute_result"
    }
   ],
   "source": [
    "# Modulo Operator\n",
    "9 % 2"
   ]
  },
  {
   "cell_type": "code",
   "execution_count": 14,
   "id": "signed-design",
   "metadata": {},
   "outputs": [
    {
     "data": {
      "text/plain": [
       "4"
      ]
     },
     "execution_count": 14,
     "metadata": {},
     "output_type": "execute_result"
    }
   ],
   "source": [
    "# Floor Division\n",
    "9 // 2"
   ]
  },
  {
   "cell_type": "code",
   "execution_count": 15,
   "id": "responsible-oliver",
   "metadata": {},
   "outputs": [
    {
     "data": {
      "text/plain": [
       "2"
      ]
     },
     "execution_count": 15,
     "metadata": {},
     "output_type": "execute_result"
    }
   ],
   "source": [
    "# Floor Division\n",
    "12 // 5"
   ]
  },
  {
   "cell_type": "code",
   "execution_count": 16,
   "id": "distributed-sewing",
   "metadata": {},
   "outputs": [
    {
     "data": {
      "text/plain": [
       "-5"
      ]
     },
     "execution_count": 16,
     "metadata": {},
     "output_type": "execute_result"
    }
   ],
   "source": [
    "# Floor Division\n",
    "-9 // 2"
   ]
  },
  {
   "cell_type": "code",
   "execution_count": 17,
   "id": "domestic-ranch",
   "metadata": {},
   "outputs": [
    {
     "data": {
      "text/plain": [
       "-3"
      ]
     },
     "execution_count": 17,
     "metadata": {},
     "output_type": "execute_result"
    }
   ],
   "source": [
    "# Floor Division\n",
    "-12 // 5"
   ]
  },
  {
   "cell_type": "markdown",
   "id": "signed-button",
   "metadata": {},
   "source": [
    "## Values and Types"
   ]
  },
  {
   "cell_type": "markdown",
   "id": "convinced-split",
   "metadata": {},
   "source": [
    "**Values**: Values are anything in the program which holds meaning (data).\n",
    "\n",
    "They compose program memory (state)."
   ]
  },
  {
   "cell_type": "markdown",
   "id": "backed-status",
   "metadata": {},
   "source": [
    "**Type:** Type is format of that value (memory)."
   ]
  },
  {
   "cell_type": "code",
   "execution_count": 18,
   "id": "rubber-farming",
   "metadata": {},
   "outputs": [
    {
     "data": {
      "text/plain": [
       "'Hello World!'"
      ]
     },
     "execution_count": 18,
     "metadata": {},
     "output_type": "execute_result"
    }
   ],
   "source": [
    "\"Hello World!\""
   ]
  },
  {
   "cell_type": "code",
   "execution_count": 19,
   "id": "opponent-professional",
   "metadata": {},
   "outputs": [
    {
     "data": {
      "text/plain": [
       "str"
      ]
     },
     "execution_count": 19,
     "metadata": {},
     "output_type": "execute_result"
    }
   ],
   "source": [
    "type(\"Hello World!\")"
   ]
  },
  {
   "cell_type": "code",
   "execution_count": 20,
   "id": "guilty-closer",
   "metadata": {},
   "outputs": [
    {
     "data": {
      "text/plain": [
       "int"
      ]
     },
     "execution_count": 20,
     "metadata": {},
     "output_type": "execute_result"
    }
   ],
   "source": [
    "type(2)"
   ]
  },
  {
   "cell_type": "code",
   "execution_count": 21,
   "id": "green-prompt",
   "metadata": {},
   "outputs": [
    {
     "data": {
      "text/plain": [
       "float"
      ]
     },
     "execution_count": 21,
     "metadata": {},
     "output_type": "execute_result"
    }
   ],
   "source": [
    "type(4.6)"
   ]
  }
 ],
 "metadata": {
  "kernelspec": {
   "display_name": "Python 3",
   "language": "python",
   "name": "python3"
  },
  "language_info": {
   "codemirror_mode": {
    "name": "ipython",
    "version": 3
   },
   "file_extension": ".py",
   "mimetype": "text/x-python",
   "name": "python",
   "nbconvert_exporter": "python",
   "pygments_lexer": "ipython3",
   "version": "3.8.8"
  }
 },
 "nbformat": 4,
 "nbformat_minor": 5
}
