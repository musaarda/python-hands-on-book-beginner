{
 "cells": [
  {
   "cell_type": "markdown",
   "id": "north-edward",
   "metadata": {},
   "source": [
    "# Variables"
   ]
  },
  {
   "cell_type": "markdown",
   "id": "consecutive-radical",
   "metadata": {},
   "source": [
    "## What is a Variable?"
   ]
  },
  {
   "cell_type": "markdown",
   "id": "documented-appointment",
   "metadata": {},
   "source": [
    "**Variable** is a name referring to a value."
   ]
  },
  {
   "cell_type": "markdown",
   "id": "stretch-cruise",
   "metadata": {},
   "source": [
    "It is the **name of the address** for that **value** in the memory."
   ]
  },
  {
   "cell_type": "markdown",
   "id": "through-possession",
   "metadata": {},
   "source": [
    "**Assignment** creates a variable and binds it to the given value.\n",
    "\n",
    "`=`"
   ]
  },
  {
   "cell_type": "code",
   "execution_count": 1,
   "id": "celtic-front",
   "metadata": {},
   "outputs": [],
   "source": [
    "myNumber = 12"
   ]
  },
  {
   "cell_type": "code",
   "execution_count": 2,
   "id": "attached-associate",
   "metadata": {},
   "outputs": [],
   "source": [
    "print(myNumber)"
   ]
  },
  {
   "cell_type": "code",
   "execution_count": 3,
   "id": "treated-indian",
   "metadata": {},
   "outputs": [],
   "source": [
    "info = \"Python name comes from Monty Python's Flying Circus\""
   ]
  },
  {
   "cell_type": "code",
   "execution_count": 4,
   "id": "applied-ribbon",
   "metadata": {},
   "outputs": [
    {
     "name": "stdout",
     "output_type": "stream",
     "text": [
      "Python name comes from Monty Python's Flying Circus\n"
     ]
    }
   ],
   "source": [
    "print(info)"
   ]
  },
  {
   "cell_type": "code",
   "execution_count": 5,
   "id": "earlier-commission",
   "metadata": {},
   "outputs": [
    {
     "name": "stdout",
     "output_type": "stream",
     "text": [
      "3.1415\n"
     ]
    }
   ],
   "source": [
    "pi = 3.1415\n",
    "print(pi)"
   ]
  },
  {
   "cell_type": "code",
   "execution_count": 6,
   "id": "located-culture",
   "metadata": {},
   "outputs": [
    {
     "name": "stdout",
     "output_type": "stream",
     "text": [
      "460\n"
     ]
    }
   ],
   "source": [
    "n = 460\n",
    "print(n)"
   ]
  },
  {
   "cell_type": "code",
   "execution_count": 7,
   "id": "proof-pacific",
   "metadata": {},
   "outputs": [
    {
     "ename": "NameError",
     "evalue": "name 'a' is not defined",
     "output_type": "error",
     "traceback": [
      "\u001b[1;31m---------------------------------------------------------------------------\u001b[0m",
      "\u001b[1;31mNameError\u001b[0m                                 Traceback (most recent call last)",
      "\u001b[1;32m<ipython-input-7-bca0e2660b9f>\u001b[0m in \u001b[0;36m<module>\u001b[1;34m\u001b[0m\n\u001b[1;32m----> 1\u001b[1;33m \u001b[0mprint\u001b[0m\u001b[1;33m(\u001b[0m\u001b[0ma\u001b[0m\u001b[1;33m)\u001b[0m\u001b[1;33m\u001b[0m\u001b[1;33m\u001b[0m\u001b[0m\n\u001b[0m",
      "\u001b[1;31mNameError\u001b[0m: name 'a' is not defined"
     ]
    }
   ],
   "source": [
    "print(a)"
   ]
  },
  {
   "cell_type": "code",
   "execution_count": 8,
   "id": "useful-shell",
   "metadata": {},
   "outputs": [
    {
     "data": {
      "text/plain": [
       "1000"
      ]
     },
     "execution_count": 8,
     "metadata": {},
     "output_type": "execute_result"
    }
   ],
   "source": [
    "a = 1000\n",
    "a"
   ]
  },
  {
   "cell_type": "code",
   "execution_count": 9,
   "id": "remarkable-appointment",
   "metadata": {},
   "outputs": [
    {
     "data": {
      "text/plain": [
       "'Python Hands-On'"
      ]
     },
     "execution_count": 9,
     "metadata": {},
     "output_type": "execute_result"
    }
   ],
   "source": [
    "myNumber = \"Python Hands-On\"\n",
    "myNumber"
   ]
  },
  {
   "cell_type": "markdown",
   "id": "macro-guyana",
   "metadata": {},
   "source": [
    "## Variable Names"
   ]
  },
  {
   "cell_type": "markdown",
   "id": "positive-marketplace",
   "metadata": {},
   "source": [
    "In Python, Variable Names:\n",
    "\n",
    "* should be meaningful, self-explanatory\n",
    "* generally we use snake_case\n",
    "\n",
    "average_car\n",
    "\n",
    "starting_index\n"
   ]
  },
  {
   "cell_type": "markdown",
   "id": "communist-victorian",
   "metadata": {},
   "source": [
    "Variable Names CAN NOT:\n",
    "\n",
    "* start with a number\n",
    "    * 1number \n",
    "    * 3_rd_position\n",
    "    \n",
    "* include space\n",
    "    * average speed\n",
    "    \n",
    "* include special characters\n",
    "    * @, -, +, *, etc.\n",
    "    * @number\n",
    "    \n",
    "* include keywords\n",
    "    * and, for, return, True, if..."
   ]
  },
  {
   "cell_type": "code",
   "execution_count": 10,
   "id": "paperback-frederick",
   "metadata": {},
   "outputs": [
    {
     "ename": "SyntaxError",
     "evalue": "invalid syntax (<ipython-input-10-a2d0bf6727ee>, line 1)",
     "output_type": "error",
     "traceback": [
      "\u001b[1;36m  File \u001b[1;32m\"<ipython-input-10-a2d0bf6727ee>\"\u001b[1;36m, line \u001b[1;32m1\u001b[0m\n\u001b[1;33m    1number = 1245\u001b[0m\n\u001b[1;37m     ^\u001b[0m\n\u001b[1;31mSyntaxError\u001b[0m\u001b[1;31m:\u001b[0m invalid syntax\n"
     ]
    }
   ],
   "source": [
    "1number = 1245"
   ]
  },
  {
   "cell_type": "code",
   "execution_count": 11,
   "id": "invisible-startup",
   "metadata": {},
   "outputs": [
    {
     "ename": "SyntaxError",
     "evalue": "invalid syntax (<ipython-input-11-233d5a2dc3ff>, line 1)",
     "output_type": "error",
     "traceback": [
      "\u001b[1;36m  File \u001b[1;32m\"<ipython-input-11-233d5a2dc3ff>\"\u001b[1;36m, line \u001b[1;32m1\u001b[0m\n\u001b[1;33m    average speed = 85\u001b[0m\n\u001b[1;37m            ^\u001b[0m\n\u001b[1;31mSyntaxError\u001b[0m\u001b[1;31m:\u001b[0m invalid syntax\n"
     ]
    }
   ],
   "source": [
    "average speed = 85"
   ]
  },
  {
   "cell_type": "code",
   "execution_count": 12,
   "id": "funny-equipment",
   "metadata": {},
   "outputs": [
    {
     "data": {
      "text/plain": [
       "80"
      ]
     },
     "execution_count": 12,
     "metadata": {},
     "output_type": "execute_result"
    }
   ],
   "source": [
    "average_speed = 80\n",
    "average_speed "
   ]
  },
  {
   "cell_type": "code",
   "execution_count": 13,
   "id": "skilled-spank",
   "metadata": {},
   "outputs": [
    {
     "ename": "SyntaxError",
     "evalue": "invalid syntax (<ipython-input-13-987a113a153f>, line 1)",
     "output_type": "error",
     "traceback": [
      "\u001b[1;36m  File \u001b[1;32m\"<ipython-input-13-987a113a153f>\"\u001b[1;36m, line \u001b[1;32m1\u001b[0m\n\u001b[1;33m    @tenth = 10\u001b[0m\n\u001b[1;37m           ^\u001b[0m\n\u001b[1;31mSyntaxError\u001b[0m\u001b[1;31m:\u001b[0m invalid syntax\n"
     ]
    }
   ],
   "source": [
    "@tenth = 10\n",
    "@tenth"
   ]
  },
  {
   "cell_type": "code",
   "execution_count": 14,
   "id": "unavailable-cooler",
   "metadata": {},
   "outputs": [
    {
     "ename": "SyntaxError",
     "evalue": "cannot assign to operator (<ipython-input-14-4fdc4c0315c6>, line 1)",
     "output_type": "error",
     "traceback": [
      "\u001b[1;36m  File \u001b[1;32m\"<ipython-input-14-4fdc4c0315c6>\"\u001b[1;36m, line \u001b[1;32m1\u001b[0m\n\u001b[1;33m    ten@th = 10\u001b[0m\n\u001b[1;37m    ^\u001b[0m\n\u001b[1;31mSyntaxError\u001b[0m\u001b[1;31m:\u001b[0m cannot assign to operator\n"
     ]
    }
   ],
   "source": [
    "ten@th = 10\n",
    "ten@th"
   ]
  },
  {
   "cell_type": "code",
   "execution_count": 15,
   "id": "technical-possible",
   "metadata": {},
   "outputs": [
    {
     "ename": "SyntaxError",
     "evalue": "starred assignment target must be in a list or tuple (<ipython-input-15-0372a79b2c9c>, line 1)",
     "output_type": "error",
     "traceback": [
      "\u001b[1;36m  File \u001b[1;32m\"<ipython-input-15-0372a79b2c9c>\"\u001b[1;36m, line \u001b[1;32m1\u001b[0m\n\u001b[1;33m    *a = 45\u001b[0m\n\u001b[1;37m    ^\u001b[0m\n\u001b[1;31mSyntaxError\u001b[0m\u001b[1;31m:\u001b[0m starred assignment target must be in a list or tuple\n"
     ]
    }
   ],
   "source": [
    "*a = 45\n",
    "*a"
   ]
  },
  {
   "cell_type": "code",
   "execution_count": 16,
   "id": "arabic-shame",
   "metadata": {},
   "outputs": [
    {
     "ename": "SyntaxError",
     "evalue": "invalid syntax (<ipython-input-16-ece5be1d6013>, line 1)",
     "output_type": "error",
     "traceback": [
      "\u001b[1;36m  File \u001b[1;32m\"<ipython-input-16-ece5be1d6013>\"\u001b[1;36m, line \u001b[1;32m1\u001b[0m\n\u001b[1;33m    for = 4\u001b[0m\n\u001b[1;37m        ^\u001b[0m\n\u001b[1;31mSyntaxError\u001b[0m\u001b[1;31m:\u001b[0m invalid syntax\n"
     ]
    }
   ],
   "source": [
    "for = 4\n",
    "for"
   ]
  },
  {
   "cell_type": "markdown",
   "id": "basic-athens",
   "metadata": {},
   "source": [
    "**Important:**\n",
    "\n",
    "In Python, **CAPITAL-small** letters are different.\n",
    "\n",
    "`Python is CASE SENSITIVE`"
   ]
  },
  {
   "cell_type": "code",
   "execution_count": 17,
   "id": "grand-period",
   "metadata": {},
   "outputs": [],
   "source": [
    "a = 10\n",
    "A = 45"
   ]
  },
  {
   "cell_type": "code",
   "execution_count": 18,
   "id": "narrow-reception",
   "metadata": {},
   "outputs": [
    {
     "name": "stdout",
     "output_type": "stream",
     "text": [
      "10\n",
      "45\n"
     ]
    }
   ],
   "source": [
    "print(a)\n",
    "print(A)"
   ]
  },
  {
   "cell_type": "markdown",
   "id": "annoying-ridge",
   "metadata": {},
   "source": [
    "a is not equal to A in Python."
   ]
  },
  {
   "cell_type": "code",
   "execution_count": 19,
   "id": "sticky-vancouver",
   "metadata": {},
   "outputs": [
    {
     "name": "stdout",
     "output_type": "stream",
     "text": [
      "5\n",
      "12\n"
     ]
    }
   ],
   "source": [
    "num = 5\n",
    "Num = 12\n",
    "print(num)\n",
    "print(Num)"
   ]
  },
  {
   "cell_type": "markdown",
   "id": "funky-interaction",
   "metadata": {},
   "source": [
    "**Unicode Characters:**\n",
    "\n",
    "Try not to use Unicode Characters in variable names.\n",
    "\n",
    "Only use English Alphabet (ASCII)."
   ]
  },
  {
   "cell_type": "code",
   "execution_count": 20,
   "id": "stunning-highland",
   "metadata": {},
   "outputs": [
    {
     "name": "stdout",
     "output_type": "stream",
     "text": [
      "80\n"
     ]
    }
   ],
   "source": [
    "Ω_omega = 80\n",
    "print(Ω_omega)"
   ]
  },
  {
   "cell_type": "code",
   "execution_count": 21,
   "id": "atlantic-utilization",
   "metadata": {},
   "outputs": [
    {
     "name": "stdout",
     "output_type": "stream",
     "text": [
      "80\n"
     ]
    }
   ],
   "source": [
    "omega = 80\n",
    "print(omega)"
   ]
  },
  {
   "cell_type": "markdown",
   "id": "balanced-scanning",
   "metadata": {},
   "source": [
    "## Python Data Types"
   ]
  },
  {
   "cell_type": "markdown",
   "id": "unsigned-antique",
   "metadata": {},
   "source": [
    "In Python Data Types are:\n",
    "\n",
    "* Text Type: **str**\n",
    "* Numeric Types: **int, float, complex**\n",
    "* Sequence Types: **list, tuple, range**\n",
    "* Mapping Type: **dict**\n",
    "* Set Types: **set, frozenset**\n",
    "* Boolean Type: **bool**\n",
    "* Binary Types: **bytes, bytearray, memoryview**"
   ]
  },
  {
   "cell_type": "markdown",
   "id": "quiet-association",
   "metadata": {},
   "source": [
    "To get the type of a variable `type()`"
   ]
  },
  {
   "cell_type": "code",
   "execution_count": 22,
   "id": "enhanced-standing",
   "metadata": {},
   "outputs": [
    {
     "data": {
      "text/plain": [
       "str"
      ]
     },
     "execution_count": 22,
     "metadata": {},
     "output_type": "execute_result"
    }
   ],
   "source": [
    "# str (string) with single quotes\n",
    "text = 'This is a single quoted string'\n",
    "type(text)"
   ]
  },
  {
   "cell_type": "code",
   "execution_count": 23,
   "id": "worst-siemens",
   "metadata": {},
   "outputs": [
    {
     "data": {
      "text/plain": [
       "str"
      ]
     },
     "execution_count": 23,
     "metadata": {},
     "output_type": "execute_result"
    }
   ],
   "source": [
    "# str (string) with double quotes\n",
    "text = \"This is a double quoted string\"\n",
    "type(text)"
   ]
  },
  {
   "cell_type": "code",
   "execution_count": 24,
   "id": "wicked-celebration",
   "metadata": {},
   "outputs": [
    {
     "data": {
      "text/plain": [
       "int"
      ]
     },
     "execution_count": 24,
     "metadata": {},
     "output_type": "execute_result"
    }
   ],
   "source": [
    "# int (integer)\n",
    "integer_number = 16\n",
    "type(integer_number)"
   ]
  },
  {
   "cell_type": "code",
   "execution_count": 25,
   "id": "considered-freeze",
   "metadata": {},
   "outputs": [
    {
     "name": "stdout",
     "output_type": "stream",
     "text": [
      "<class 'float'>\n"
     ]
    }
   ],
   "source": [
    "# float\n",
    "floating_point_number = 4.6\n",
    "print(type(floating_point_number))"
   ]
  },
  {
   "cell_type": "code",
   "execution_count": 26,
   "id": "lasting-horse",
   "metadata": {},
   "outputs": [
    {
     "name": "stdout",
     "output_type": "stream",
     "text": [
      "<class 'complex'>\n"
     ]
    }
   ],
   "source": [
    "# complex\n",
    "complex_number = 2+3j\n",
    "print(type(complex_number))"
   ]
  },
  {
   "cell_type": "code",
   "execution_count": 27,
   "id": "fourth-insulin",
   "metadata": {},
   "outputs": [
    {
     "name": "stdout",
     "output_type": "stream",
     "text": [
      "[1, 2, 3, 4, 5]\n"
     ]
    }
   ],
   "source": [
    "# list\n",
    "my_list = [1, 2, 3, 4, 5]\n",
    "print(my_list)"
   ]
  },
  {
   "cell_type": "code",
   "execution_count": 28,
   "id": "indian-cyprus",
   "metadata": {},
   "outputs": [
    {
     "data": {
      "text/plain": [
       "list"
      ]
     },
     "execution_count": 28,
     "metadata": {},
     "output_type": "execute_result"
    }
   ],
   "source": [
    "type(my_list)"
   ]
  },
  {
   "cell_type": "code",
   "execution_count": 29,
   "id": "intended-stupid",
   "metadata": {},
   "outputs": [
    {
     "name": "stdout",
     "output_type": "stream",
     "text": [
      "('A', 'B', 'C')\n"
     ]
    },
    {
     "data": {
      "text/plain": [
       "tuple"
      ]
     },
     "execution_count": 29,
     "metadata": {},
     "output_type": "execute_result"
    }
   ],
   "source": [
    "# tuple\n",
    "three_letters = ('A', 'B', 'C')\n",
    "print(three_letters)\n",
    "type(three_letters)"
   ]
  },
  {
   "cell_type": "code",
   "execution_count": 30,
   "id": "passive-diana",
   "metadata": {},
   "outputs": [
    {
     "name": "stdout",
     "output_type": "stream",
     "text": [
      "range(0, 5)\n"
     ]
    },
    {
     "data": {
      "text/plain": [
       "range"
      ]
     },
     "execution_count": 30,
     "metadata": {},
     "output_type": "execute_result"
    }
   ],
   "source": [
    "# range\n",
    "up_to_five = range(5)\n",
    "print(up_to_five)\n",
    "type(up_to_five)"
   ]
  },
  {
   "cell_type": "code",
   "execution_count": 31,
   "id": "actual-bristol",
   "metadata": {},
   "outputs": [
    {
     "name": "stdout",
     "output_type": "stream",
     "text": [
      "0\n",
      "1\n",
      "2\n",
      "3\n",
      "4\n"
     ]
    }
   ],
   "source": [
    "for i in up_to_five:\n",
    "    print(i)"
   ]
  },
  {
   "cell_type": "code",
   "execution_count": 32,
   "id": "placed-azerbaijan",
   "metadata": {},
   "outputs": [
    {
     "name": "stdout",
     "output_type": "stream",
     "text": [
      "{'name': 'Musa', 'lastname': 'Arda', 'language': 'Python'}\n"
     ]
    }
   ],
   "source": [
    "# dictionary\n",
    "user = {\n",
    "    \"name\": \"Musa\",\n",
    "    \"lastname\": \"Arda\",\n",
    "    \"language\": \"Python\"\n",
    "}\n",
    "\n",
    "print(user)"
   ]
  },
  {
   "cell_type": "code",
   "execution_count": 33,
   "id": "anticipated-inspector",
   "metadata": {},
   "outputs": [
    {
     "data": {
      "text/plain": [
       "dict"
      ]
     },
     "execution_count": 33,
     "metadata": {},
     "output_type": "execute_result"
    }
   ],
   "source": [
    "type(user)"
   ]
  },
  {
   "cell_type": "code",
   "execution_count": 34,
   "id": "italian-blair",
   "metadata": {},
   "outputs": [
    {
     "name": "stdout",
     "output_type": "stream",
     "text": [
      "{1, 2, 3, 4}\n"
     ]
    }
   ],
   "source": [
    "# set\n",
    "set_of_numbers = {1, 2, 2, 3, 1, 3, 4, 4, 1}\n",
    "print(set_of_numbers)"
   ]
  },
  {
   "cell_type": "code",
   "execution_count": 35,
   "id": "documented-commercial",
   "metadata": {},
   "outputs": [
    {
     "data": {
      "text/plain": [
       "set"
      ]
     },
     "execution_count": 35,
     "metadata": {},
     "output_type": "execute_result"
    }
   ],
   "source": [
    "type(set_of_numbers)"
   ]
  },
  {
   "cell_type": "code",
   "execution_count": 36,
   "id": "skilled-maryland",
   "metadata": {},
   "outputs": [],
   "source": [
    "# booleans\n",
    "correct = True\n",
    "wrong = False"
   ]
  },
  {
   "cell_type": "code",
   "execution_count": 37,
   "id": "original-madison",
   "metadata": {},
   "outputs": [
    {
     "name": "stdout",
     "output_type": "stream",
     "text": [
      "True\n",
      "False\n"
     ]
    }
   ],
   "source": [
    "print(correct)\n",
    "print(wrong)"
   ]
  },
  {
   "cell_type": "code",
   "execution_count": 38,
   "id": "silver-wrist",
   "metadata": {},
   "outputs": [
    {
     "data": {
      "text/plain": [
       "bool"
      ]
     },
     "execution_count": 38,
     "metadata": {},
     "output_type": "execute_result"
    }
   ],
   "source": [
    "type(correct)"
   ]
  },
  {
   "cell_type": "markdown",
   "id": "intensive-luther",
   "metadata": {},
   "source": [
    "## Type Conversion"
   ]
  },
  {
   "cell_type": "code",
   "execution_count": 39,
   "id": "wrong-anthropology",
   "metadata": {},
   "outputs": [
    {
     "data": {
      "text/plain": [
       "str"
      ]
     },
     "execution_count": 39,
     "metadata": {},
     "output_type": "execute_result"
    }
   ],
   "source": [
    "# a string variable\n",
    "str_num = \"24\"\n",
    "type(str_num)"
   ]
  },
  {
   "cell_type": "code",
   "execution_count": 40,
   "id": "attempted-particular",
   "metadata": {},
   "outputs": [
    {
     "data": {
      "text/plain": [
       "int"
      ]
     },
     "execution_count": 40,
     "metadata": {},
     "output_type": "execute_result"
    }
   ],
   "source": [
    "# convert it into integer\n",
    "int_num = int(str_num)\n",
    "type(int_num)"
   ]
  },
  {
   "cell_type": "code",
   "execution_count": 41,
   "id": "hispanic-pocket",
   "metadata": {},
   "outputs": [
    {
     "data": {
      "text/plain": [
       "int"
      ]
     },
     "execution_count": 41,
     "metadata": {},
     "output_type": "execute_result"
    }
   ],
   "source": [
    "# create a floating point number first\n",
    "my_decimal = 3.71486\n",
    "\n",
    "# convert it into integer\n",
    "my_int = int(my_decimal)\n",
    "\n",
    "# print the type of my_int\n",
    "type(my_int)"
   ]
  },
  {
   "cell_type": "code",
   "execution_count": 42,
   "id": "considered-copying",
   "metadata": {},
   "outputs": [
    {
     "data": {
      "text/plain": [
       "4.0"
      ]
     },
     "execution_count": 42,
     "metadata": {},
     "output_type": "execute_result"
    }
   ],
   "source": [
    "my_float = float(4)\n",
    "my_float"
   ]
  },
  {
   "cell_type": "code",
   "execution_count": 43,
   "id": "constant-surge",
   "metadata": {},
   "outputs": [
    {
     "name": "stdout",
     "output_type": "stream",
     "text": [
      "3.14159\n",
      "<class 'float'>\n"
     ]
    }
   ],
   "source": [
    "pi = float(\"3.14159\")\n",
    "print(pi)\n",
    "print(type(pi))"
   ]
  },
  {
   "cell_type": "code",
   "execution_count": 44,
   "id": "caroline-botswana",
   "metadata": {},
   "outputs": [
    {
     "name": "stdout",
     "output_type": "stream",
     "text": [
      "<class 'str'>\n"
     ]
    },
    {
     "data": {
      "text/plain": [
       "'188'"
      ]
     },
     "execution_count": 44,
     "metadata": {},
     "output_type": "execute_result"
    }
   ],
   "source": [
    "number_in_quotes = str(188)\n",
    "print(type(number_in_quotes))\n",
    "number_in_quotes"
   ]
  },
  {
   "cell_type": "code",
   "execution_count": 45,
   "id": "random-investing",
   "metadata": {},
   "outputs": [
    {
     "data": {
      "text/plain": [
       "'3.14159'"
      ]
     },
     "execution_count": 45,
     "metadata": {},
     "output_type": "execute_result"
    }
   ],
   "source": [
    "str(3.14159)"
   ]
  },
  {
   "cell_type": "markdown",
   "id": "bored-acrobat",
   "metadata": {},
   "source": [
    "## Python Comments"
   ]
  },
  {
   "cell_type": "markdown",
   "id": "mysterious-knife",
   "metadata": {},
   "source": [
    "**Compiler** translates your source code into machine language.\n",
    "\n",
    "Compiler does this translation all at once, when you finish coding. (as a whole)\n",
    "\n",
    "**Interpreter** translates your source code into machine language.\n",
    "\n",
    "Interpeter does this translation while you are coding. (line by line)\n",
    "\n",
    "In Python, we have Python Interpreter."
   ]
  },
  {
   "cell_type": "markdown",
   "id": "narrow-moral",
   "metadata": {},
   "source": [
    "**Comments** are lines, which are `ignored` by Python Interpreter.\n",
    "\n",
    "Interpreter does not run Comments."
   ]
  },
  {
   "cell_type": "code",
   "execution_count": 46,
   "id": "periodic-colony",
   "metadata": {},
   "outputs": [],
   "source": [
    "# One Line Comment\n",
    "\n",
    "# This is one line comment"
   ]
  },
  {
   "cell_type": "code",
   "execution_count": 47,
   "id": "lyric-webster",
   "metadata": {},
   "outputs": [
    {
     "name": "stdout",
     "output_type": "stream",
     "text": [
      "90000\n"
     ]
    }
   ],
   "source": [
    "# keeps the miles traveled\n",
    "miles_traveled = 90000\n",
    "\n",
    "print(miles_traveled)"
   ]
  },
  {
   "cell_type": "code",
   "execution_count": 48,
   "id": "consistent-institute",
   "metadata": {},
   "outputs": [
    {
     "name": "stdout",
     "output_type": "stream",
     "text": [
      "75.0\n"
     ]
    }
   ],
   "source": [
    "# average speed = displacement / change in time\n",
    "\n",
    "# first get the displacement\n",
    "displacement = 450  # km\n",
    "\n",
    "# then get the change in time\n",
    "change_in_time = 6  # hr\n",
    "\n",
    "# calculate the average speed\n",
    "average_speed = displacement / change_in_time\n",
    "\n",
    "# print the result\n",
    "print(average_speed)"
   ]
  },
  {
   "cell_type": "code",
   "execution_count": 49,
   "id": "brown-mixer",
   "metadata": {},
   "outputs": [
    {
     "data": {
      "text/plain": [
       "'\\n\\nMulti-Line Comment\\n\\nIn Python, Multi-Line comments,\\nare created via a pair of triple quotes: \\n\\nAs in this case.\\n\\n'"
      ]
     },
     "execution_count": 49,
     "metadata": {},
     "output_type": "execute_result"
    }
   ],
   "source": [
    "\"\"\"\n",
    "\n",
    "Multi-Line Comment\n",
    "\n",
    "In Python, Multi-Line comments,\n",
    "are created via a pair of triple quotes: \"\"\"  \"\"\"\n",
    "\n",
    "As in this case.\n",
    "\n",
    "\"\"\""
   ]
  },
  {
   "cell_type": "code",
   "execution_count": 50,
   "id": "ranging-culture",
   "metadata": {},
   "outputs": [
    {
     "name": "stdout",
     "output_type": "stream",
     "text": [
      "Line 1 \n",
      "Line 2 \n",
      "Line 3\n"
     ]
    }
   ],
   "source": [
    "multi_line_text = \"Line 1 \\nLine 2 \\nLine 3\"\n",
    "print(multi_line_text)"
   ]
  },
  {
   "cell_type": "markdown",
   "id": "numerical-simon",
   "metadata": {},
   "source": [
    "`\\n` new line character."
   ]
  },
  {
   "cell_type": "code",
   "execution_count": 51,
   "id": "martial-hacker",
   "metadata": {},
   "outputs": [
    {
     "name": "stdout",
     "output_type": "stream",
     "text": [
      "Hello my dear \n",
      "Python\n"
     ]
    }
   ],
   "source": [
    "print(\"Hello my dear \\nPython\")"
   ]
  },
  {
   "cell_type": "code",
   "execution_count": 52,
   "id": "tracked-fitting",
   "metadata": {},
   "outputs": [
    {
     "data": {
      "text/plain": [
       "'\\n    This is line 1\\n        This is line 2\\n            This is line 3\\n\\n'"
      ]
     },
     "execution_count": 52,
     "metadata": {},
     "output_type": "execute_result"
    }
   ],
   "source": [
    "\"\"\"\n",
    "    This is line 1\n",
    "        This is line 2\n",
    "            This is line 3\n",
    "\n",
    "\"\"\""
   ]
  },
  {
   "cell_type": "markdown",
   "id": "better-accordance",
   "metadata": {},
   "source": [
    "## Numeric Operations"
   ]
  },
  {
   "cell_type": "code",
   "execution_count": 53,
   "id": "subjective-slovak",
   "metadata": {},
   "outputs": [],
   "source": [
    "# define two variables\n",
    "\n",
    "a = 30\n",
    "b = 7"
   ]
  },
  {
   "cell_type": "code",
   "execution_count": 54,
   "id": "religious-arrival",
   "metadata": {},
   "outputs": [
    {
     "name": "stdout",
     "output_type": "stream",
     "text": [
      "37\n"
     ]
    }
   ],
   "source": [
    "print(a + b)     # addition"
   ]
  },
  {
   "cell_type": "code",
   "execution_count": 55,
   "id": "pressing-europe",
   "metadata": {},
   "outputs": [
    {
     "name": "stdout",
     "output_type": "stream",
     "text": [
      "23\n"
     ]
    }
   ],
   "source": [
    "print(a - b)     # subtraction"
   ]
  },
  {
   "cell_type": "code",
   "execution_count": 56,
   "id": "swedish-ghost",
   "metadata": {},
   "outputs": [
    {
     "name": "stdout",
     "output_type": "stream",
     "text": [
      "210\n"
     ]
    }
   ],
   "source": [
    "print(a * b)     # multiplication"
   ]
  },
  {
   "cell_type": "code",
   "execution_count": 57,
   "id": "auburn-petroleum",
   "metadata": {},
   "outputs": [
    {
     "name": "stdout",
     "output_type": "stream",
     "text": [
      "4.285714285714286\n"
     ]
    }
   ],
   "source": [
    "print(a / b)     # division"
   ]
  },
  {
   "cell_type": "code",
   "execution_count": 58,
   "id": "numerous-decrease",
   "metadata": {},
   "outputs": [
    {
     "name": "stdout",
     "output_type": "stream",
     "text": [
      "4\n"
     ]
    }
   ],
   "source": [
    "print(a // b)     # floor division (integer division)"
   ]
  },
  {
   "cell_type": "code",
   "execution_count": 59,
   "id": "spare-complexity",
   "metadata": {},
   "outputs": [
    {
     "name": "stdout",
     "output_type": "stream",
     "text": [
      "2\n"
     ]
    }
   ],
   "source": [
    "print(a % b)     # modulo"
   ]
  },
  {
   "cell_type": "code",
   "execution_count": 60,
   "id": "divided-substitute",
   "metadata": {},
   "outputs": [
    {
     "name": "stdout",
     "output_type": "stream",
     "text": [
      "21870000000\n"
     ]
    }
   ],
   "source": [
    "print(a**b)     # power"
   ]
  },
  {
   "cell_type": "markdown",
   "id": "waiting-keyboard",
   "metadata": {},
   "source": [
    "**Order of Operations:** Parenthesis, Exponents, Division, Multiplication, Addition, Subtraction\n",
    "\n",
    "`PEDMAS`"
   ]
  },
  {
   "cell_type": "code",
   "execution_count": 61,
   "id": "valuable-motion",
   "metadata": {},
   "outputs": [
    {
     "name": "stdout",
     "output_type": "stream",
     "text": [
      "13.0\n"
     ]
    }
   ],
   "source": [
    "print(4 * 5 - 9 + 14 / 7)"
   ]
  },
  {
   "cell_type": "code",
   "execution_count": 62,
   "id": "respective-teddy",
   "metadata": {},
   "outputs": [
    {
     "data": {
      "text/plain": [
       "10"
      ]
     },
     "execution_count": 62,
     "metadata": {},
     "output_type": "execute_result"
    }
   ],
   "source": [
    "a = 9\n",
    "\n",
    "# increment a by 1\n",
    "a = a + 1\n",
    "a"
   ]
  },
  {
   "cell_type": "code",
   "execution_count": 63,
   "id": "substantial-collectible",
   "metadata": {},
   "outputs": [
    {
     "data": {
      "text/plain": [
       "14"
      ]
     },
     "execution_count": 63,
     "metadata": {},
     "output_type": "execute_result"
    }
   ],
   "source": [
    "a = a + 4\n",
    "a"
   ]
  },
  {
   "cell_type": "code",
   "execution_count": 64,
   "id": "integral-antibody",
   "metadata": {},
   "outputs": [
    {
     "data": {
      "text/plain": [
       "15"
      ]
     },
     "execution_count": 64,
     "metadata": {},
     "output_type": "execute_result"
    }
   ],
   "source": [
    "# Shorthand Increment -> +=\n",
    "\n",
    "a += 1     # a = a + 1\n",
    "a"
   ]
  },
  {
   "cell_type": "code",
   "execution_count": 65,
   "id": "relative-bunch",
   "metadata": {},
   "outputs": [
    {
     "data": {
      "text/plain": [
       "9"
      ]
     },
     "execution_count": 65,
     "metadata": {},
     "output_type": "execute_result"
    }
   ],
   "source": [
    "# Shorthand Decrement -> -=\n",
    "\n",
    "a -= 6    # a = a - 6\n",
    "a"
   ]
  },
  {
   "cell_type": "code",
   "execution_count": 66,
   "id": "chinese-greeting",
   "metadata": {},
   "outputs": [
    {
     "data": {
      "text/plain": [
       "45"
      ]
     },
     "execution_count": 66,
     "metadata": {},
     "output_type": "execute_result"
    }
   ],
   "source": [
    "# Shorthand Multiply -> *=\n",
    "\n",
    "a *= 5     # a = a * 5\n",
    "a"
   ]
  },
  {
   "cell_type": "code",
   "execution_count": 67,
   "id": "handed-logging",
   "metadata": {},
   "outputs": [
    {
     "data": {
      "text/plain": [
       "4.090909090909091"
      ]
     },
     "execution_count": 67,
     "metadata": {},
     "output_type": "execute_result"
    }
   ],
   "source": [
    "# Shorthand Division -> /=\n",
    "\n",
    "a /= 11     # a = a / 11\n",
    "a"
   ]
  },
  {
   "cell_type": "markdown",
   "id": "killing-extra",
   "metadata": {},
   "source": [
    "## String Operations"
   ]
  },
  {
   "cell_type": "markdown",
   "id": "curious-arkansas",
   "metadata": {},
   "source": [
    "In Python, Strings are displayed via **double quotes (\" \")** or **single quotes (' ')**."
   ]
  },
  {
   "cell_type": "markdown",
   "id": "flying-smooth",
   "metadata": {},
   "source": [
    "`Opening and Closing Quotes should match.`"
   ]
  },
  {
   "cell_type": "code",
   "execution_count": 68,
   "id": "impressive-while",
   "metadata": {},
   "outputs": [
    {
     "name": "stdout",
     "output_type": "stream",
     "text": [
      "This is a double quotes string.\n"
     ]
    }
   ],
   "source": [
    "string_double = \"This is a double quotes string.\"\n",
    "print(string_double)"
   ]
  },
  {
   "cell_type": "code",
   "execution_count": 69,
   "id": "molecular-helena",
   "metadata": {},
   "outputs": [
    {
     "name": "stdout",
     "output_type": "stream",
     "text": [
      "This is a single quote string\n"
     ]
    }
   ],
   "source": [
    "string_single = 'This is a single quote string'\n",
    "print(string_single)"
   ]
  },
  {
   "cell_type": "code",
   "execution_count": 70,
   "id": "increasing-missile",
   "metadata": {},
   "outputs": [
    {
     "name": "stdout",
     "output_type": "stream",
     "text": [
      "Python's the best language.\n"
     ]
    }
   ],
   "source": [
    "# If you need to use both in the same string\n",
    "\n",
    "single_in_double = \"Python's the best language.\"\n",
    "print(single_in_double)"
   ]
  },
  {
   "cell_type": "code",
   "execution_count": 71,
   "id": "historic-tolerance",
   "metadata": {},
   "outputs": [
    {
     "data": {
      "text/plain": [
       "'Jenny said \"Run, Forest, run\", and he did.'"
      ]
     },
     "execution_count": 71,
     "metadata": {},
     "output_type": "execute_result"
    }
   ],
   "source": [
    "double_in_single = 'Jenny said \"Run, Forest, run\", and he did.'\n",
    "double_in_single"
   ]
  },
  {
   "cell_type": "code",
   "execution_count": 72,
   "id": "digital-illness",
   "metadata": {},
   "outputs": [
    {
     "ename": "SyntaxError",
     "evalue": "EOL while scanning string literal (<ipython-input-72-8168303684c0>, line 1)",
     "output_type": "error",
     "traceback": [
      "\u001b[1;36m  File \u001b[1;32m\"<ipython-input-72-8168303684c0>\"\u001b[1;36m, line \u001b[1;32m1\u001b[0m\n\u001b[1;33m    false_usage = \"This is a 'double quote'\u001b[0m\n\u001b[1;37m                                           ^\u001b[0m\n\u001b[1;31mSyntaxError\u001b[0m\u001b[1;31m:\u001b[0m EOL while scanning string literal\n"
     ]
    }
   ],
   "source": [
    "false_usage = \"This is a 'double quote'"
   ]
  },
  {
   "cell_type": "markdown",
   "id": "accepted-trail",
   "metadata": {},
   "source": [
    "In Python, you can not do Arithmetic Operations on Strings (str).\n",
    "\n",
    "* -, /\n",
    "* '4' - '3'"
   ]
  },
  {
   "cell_type": "code",
   "execution_count": 73,
   "id": "detected-director",
   "metadata": {},
   "outputs": [
    {
     "ename": "TypeError",
     "evalue": "unsupported operand type(s) for -: 'str' and 'str'",
     "output_type": "error",
     "traceback": [
      "\u001b[1;31m---------------------------------------------------------------------------\u001b[0m",
      "\u001b[1;31mTypeError\u001b[0m                                 Traceback (most recent call last)",
      "\u001b[1;32m<ipython-input-73-76ad527f5a7e>\u001b[0m in \u001b[0;36m<module>\u001b[1;34m\u001b[0m\n\u001b[1;32m----> 1\u001b[1;33m \u001b[1;34m'4'\u001b[0m \u001b[1;33m-\u001b[0m \u001b[1;34m'3'\u001b[0m\u001b[1;33m\u001b[0m\u001b[1;33m\u001b[0m\u001b[0m\n\u001b[0m",
      "\u001b[1;31mTypeError\u001b[0m: unsupported operand type(s) for -: 'str' and 'str'"
     ]
    }
   ],
   "source": [
    "'4' - '3'"
   ]
  },
  {
   "cell_type": "code",
   "execution_count": 74,
   "id": "heavy-story",
   "metadata": {},
   "outputs": [
    {
     "ename": "TypeError",
     "evalue": "unsupported operand type(s) for /: 'str' and 'str'",
     "output_type": "error",
     "traceback": [
      "\u001b[1;31m---------------------------------------------------------------------------\u001b[0m",
      "\u001b[1;31mTypeError\u001b[0m                                 Traceback (most recent call last)",
      "\u001b[1;32m<ipython-input-74-6b4018763e91>\u001b[0m in \u001b[0;36m<module>\u001b[1;34m\u001b[0m\n\u001b[1;32m----> 1\u001b[1;33m \u001b[1;34m'4'\u001b[0m \u001b[1;33m/\u001b[0m \u001b[1;34m'3'\u001b[0m\u001b[1;33m\u001b[0m\u001b[1;33m\u001b[0m\u001b[0m\n\u001b[0m",
      "\u001b[1;31mTypeError\u001b[0m: unsupported operand type(s) for /: 'str' and 'str'"
     ]
    }
   ],
   "source": [
    "'4' / '3'"
   ]
  },
  {
   "cell_type": "markdown",
   "id": "lightweight-specification",
   "metadata": {},
   "source": [
    "**Exceptional Case:** + and * is possible with str.\n",
    "\n",
    "(but with its own logic)"
   ]
  },
  {
   "cell_type": "code",
   "execution_count": 75,
   "id": "satellite-empty",
   "metadata": {},
   "outputs": [],
   "source": [
    "# define two string variables\n",
    "first = \"Sunny\"\n",
    "second = \"Days\""
   ]
  },
  {
   "cell_type": "code",
   "execution_count": 76,
   "id": "discrete-gateway",
   "metadata": {},
   "outputs": [
    {
     "data": {
      "text/plain": [
       "'SunnyDays'"
      ]
     },
     "execution_count": 76,
     "metadata": {},
     "output_type": "execute_result"
    }
   ],
   "source": [
    "# Addition in Strings (Concatination)\n",
    "\n",
    "first + second"
   ]
  },
  {
   "cell_type": "code",
   "execution_count": 77,
   "id": "controlling-capacity",
   "metadata": {},
   "outputs": [
    {
     "data": {
      "text/plain": [
       "'SunnyDaysSunnySunnyDays'"
      ]
     },
     "execution_count": 77,
     "metadata": {},
     "output_type": "execute_result"
    }
   ],
   "source": [
    "first + second + first + first + second"
   ]
  },
  {
   "cell_type": "code",
   "execution_count": 78,
   "id": "assigned-integer",
   "metadata": {},
   "outputs": [
    {
     "data": {
      "text/plain": [
       "'SunnySunnySunnySunny'"
      ]
     },
     "execution_count": 78,
     "metadata": {},
     "output_type": "execute_result"
    }
   ],
   "source": [
    "# Multiplication in strings\n",
    "\n",
    "4 * first"
   ]
  },
  {
   "cell_type": "code",
   "execution_count": 79,
   "id": "amazing-astrology",
   "metadata": {},
   "outputs": [
    {
     "data": {
      "text/plain": [
       "'555555'"
      ]
     },
     "execution_count": 79,
     "metadata": {},
     "output_type": "execute_result"
    }
   ],
   "source": [
    "6 * '5'"
   ]
  },
  {
   "cell_type": "code",
   "execution_count": 80,
   "id": "based-disco",
   "metadata": {},
   "outputs": [
    {
     "data": {
      "text/plain": [
       "'888'"
      ]
     },
     "execution_count": 80,
     "metadata": {},
     "output_type": "execute_result"
    }
   ],
   "source": [
    "3 * '8'"
   ]
  },
  {
   "cell_type": "markdown",
   "id": "attempted-disabled",
   "metadata": {},
   "source": [
    "## Keywords"
   ]
  },
  {
   "cell_type": "markdown",
   "id": "settled-spank",
   "metadata": {},
   "source": [
    "Python keywords are in **keyword** package."
   ]
  },
  {
   "cell_type": "markdown",
   "id": "generic-factor",
   "metadata": {},
   "source": [
    "**import**"
   ]
  },
  {
   "cell_type": "code",
   "execution_count": 81,
   "id": "stylish-daily",
   "metadata": {},
   "outputs": [],
   "source": [
    "# first import the keyword package\n",
    "\n",
    "import keyword"
   ]
  },
  {
   "cell_type": "code",
   "execution_count": 82,
   "id": "diagnostic-atlas",
   "metadata": {},
   "outputs": [
    {
     "name": "stdout",
     "output_type": "stream",
     "text": [
      "['False', 'None', 'True', 'and', 'as', 'assert', 'async', 'await', 'break', 'class', 'continue', 'def', 'del', 'elif', 'else', 'except', 'finally', 'for', 'from', 'global', 'if', 'import', 'in', 'is', 'lambda', 'nonlocal', 'not', 'or', 'pass', 'raise', 'return', 'try', 'while', 'with', 'yield']\n"
     ]
    }
   ],
   "source": [
    "# Get keyword list\n",
    "# And assign this list to a variable\n",
    "\n",
    "python_keywords = keyword.kwlist\n",
    "\n",
    "# print keywords\n",
    "print(python_keywords)"
   ]
  },
  {
   "cell_type": "code",
   "execution_count": 83,
   "id": "rough-bearing",
   "metadata": {},
   "outputs": [
    {
     "ename": "SyntaxError",
     "evalue": "invalid syntax (<ipython-input-83-82fef50b7975>, line 1)",
     "output_type": "error",
     "traceback": [
      "\u001b[1;36m  File \u001b[1;32m\"<ipython-input-83-82fef50b7975>\"\u001b[1;36m, line \u001b[1;32m1\u001b[0m\n\u001b[1;33m    import = 45\u001b[0m\n\u001b[1;37m           ^\u001b[0m\n\u001b[1;31mSyntaxError\u001b[0m\u001b[1;31m:\u001b[0m invalid syntax\n"
     ]
    }
   ],
   "source": [
    "import = 45"
   ]
  },
  {
   "cell_type": "code",
   "execution_count": 84,
   "id": "diagnostic-usage",
   "metadata": {},
   "outputs": [
    {
     "ename": "SyntaxError",
     "evalue": "invalid syntax (<ipython-input-84-f145bd44b7db>, line 1)",
     "output_type": "error",
     "traceback": [
      "\u001b[1;36m  File \u001b[1;32m\"<ipython-input-84-f145bd44b7db>\"\u001b[1;36m, line \u001b[1;32m1\u001b[0m\n\u001b[1;33m    global = 'ABC'\u001b[0m\n\u001b[1;37m           ^\u001b[0m\n\u001b[1;31mSyntaxError\u001b[0m\u001b[1;31m:\u001b[0m invalid syntax\n"
     ]
    }
   ],
   "source": [
    "global = 'ABC'"
   ]
  },
  {
   "cell_type": "markdown",
   "id": "attempted-billy",
   "metadata": {},
   "source": [
    "Is any word a keyword for Python?"
   ]
  },
  {
   "cell_type": "code",
   "execution_count": 85,
   "id": "acceptable-georgia",
   "metadata": {},
   "outputs": [
    {
     "data": {
      "text/plain": [
       "True"
      ]
     },
     "execution_count": 85,
     "metadata": {},
     "output_type": "execute_result"
    }
   ],
   "source": [
    "# To check -> keyword.iskeyword()\n",
    "\n",
    "keyword.iskeyword('not')"
   ]
  },
  {
   "cell_type": "code",
   "execution_count": 86,
   "id": "radical-sensitivity",
   "metadata": {},
   "outputs": [
    {
     "data": {
      "text/plain": [
       "True"
      ]
     },
     "execution_count": 86,
     "metadata": {},
     "output_type": "execute_result"
    }
   ],
   "source": [
    "keyword.iskeyword('None')"
   ]
  },
  {
   "cell_type": "code",
   "execution_count": 87,
   "id": "competitive-optimization",
   "metadata": {},
   "outputs": [
    {
     "data": {
      "text/plain": [
       "True"
      ]
     },
     "execution_count": 87,
     "metadata": {},
     "output_type": "execute_result"
    }
   ],
   "source": [
    "keyword.iskeyword('return')"
   ]
  },
  {
   "cell_type": "code",
   "execution_count": 88,
   "id": "anonymous-speed",
   "metadata": {},
   "outputs": [
    {
     "data": {
      "text/plain": [
       "False"
      ]
     },
     "execution_count": 88,
     "metadata": {},
     "output_type": "execute_result"
    }
   ],
   "source": [
    "keyword.iskeyword('python')"
   ]
  },
  {
   "cell_type": "code",
   "execution_count": 89,
   "id": "cooperative-community",
   "metadata": {},
   "outputs": [
    {
     "data": {
      "text/plain": [
       "False"
      ]
     },
     "execution_count": 89,
     "metadata": {},
     "output_type": "execute_result"
    }
   ],
   "source": [
    "keyword.iskeyword('word')"
   ]
  }
 ],
 "metadata": {
  "kernelspec": {
   "display_name": "Python 3",
   "language": "python",
   "name": "python3"
  },
  "language_info": {
   "codemirror_mode": {
    "name": "ipython",
    "version": 3
   },
   "file_extension": ".py",
   "mimetype": "text/x-python",
   "name": "python",
   "nbconvert_exporter": "python",
   "pygments_lexer": "ipython3",
   "version": "3.8.8"
  }
 },
 "nbformat": 4,
 "nbformat_minor": 5
}
