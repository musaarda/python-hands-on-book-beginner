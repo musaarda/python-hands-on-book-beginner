{
 "cells": [
  {
   "cell_type": "markdown",
   "id": "subject-uruguay",
   "metadata": {},
   "source": [
    "## Comprehension"
   ]
  },
  {
   "cell_type": "markdown",
   "id": "classified-memorabilia",
   "metadata": {},
   "source": [
    "### What is Comprehension?"
   ]
  },
  {
   "cell_type": "markdown",
   "id": "bridal-grill",
   "metadata": {},
   "source": [
    "**Comprehension:**\n",
    "\n",
    "Comprehension is an easy way to loop over sequences."
   ]
  },
  {
   "cell_type": "markdown",
   "id": "viral-marks",
   "metadata": {},
   "source": [
    "**List Comprehension**"
   ]
  },
  {
   "cell_type": "markdown",
   "id": "passing-parliament",
   "metadata": {},
   "source": [
    "**Example:**\n",
    "\n",
    "Create a list that contain the squares of numbers from 1 to 10:"
   ]
  },
  {
   "cell_type": "code",
   "execution_count": 1,
   "id": "valued-retail",
   "metadata": {},
   "outputs": [
    {
     "name": "stdout",
     "output_type": "stream",
     "text": [
      "[1, 4, 9, 16, 25, 36, 49, 64, 81, 100]\n"
     ]
    }
   ],
   "source": [
    "# classical method -> loop\n",
    "\n",
    "# define an empty list\n",
    "squares = []\n",
    "\n",
    "# loop over the range\n",
    "for i in range(1, 11):\n",
    "    squares.append(i**2)\n",
    "    \n",
    "print(squares)"
   ]
  },
  {
   "cell_type": "code",
   "execution_count": 2,
   "id": "acoustic-indication",
   "metadata": {},
   "outputs": [
    {
     "name": "stdout",
     "output_type": "stream",
     "text": [
      "[1, 4, 9, 16, 25, 36, 49, 64, 81, 100]\n"
     ]
    }
   ],
   "source": [
    "# comprehension\n",
    "squares_comp = [i**2 for i in range(1, 11)]\n",
    "\n",
    "print(squares_comp)"
   ]
  },
  {
   "cell_type": "markdown",
   "id": "athletic-toronto",
   "metadata": {},
   "source": [
    "**Example:**\n",
    "\n",
    "Create a list that contain the cubes of numbers from 1 to 7:"
   ]
  },
  {
   "cell_type": "code",
   "execution_count": 3,
   "id": "impaired-suspect",
   "metadata": {},
   "outputs": [
    {
     "data": {
      "text/plain": [
       "[1, 8, 27, 64, 125, 216]"
      ]
     },
     "execution_count": 3,
     "metadata": {},
     "output_type": "execute_result"
    }
   ],
   "source": [
    "# classical method - loops\n",
    "\n",
    "# define an empty list\n",
    "cubes = list()\n",
    "\n",
    "# loop over the range\n",
    "for k in range(1, 7):\n",
    "    cubes.append(k**3)\n",
    "\n",
    "cubes "
   ]
  },
  {
   "cell_type": "code",
   "execution_count": 4,
   "id": "adequate-guyana",
   "metadata": {},
   "outputs": [
    {
     "data": {
      "text/plain": [
       "[1, 8, 27, 64, 125, 216]"
      ]
     },
     "execution_count": 4,
     "metadata": {},
     "output_type": "execute_result"
    }
   ],
   "source": [
    "# comprehension\n",
    "cubes_comp = [k**3 for k in range(1, 7)]\n",
    "\n",
    "cubes_comp"
   ]
  },
  {
   "cell_type": "markdown",
   "id": "future-reynolds",
   "metadata": {},
   "source": [
    "**Example:**\n",
    "\n",
    "Convert the letters of 'lorem impsum' into upper case and append them to a list:"
   ]
  },
  {
   "cell_type": "code",
   "execution_count": 5,
   "id": "fifth-appraisal",
   "metadata": {},
   "outputs": [],
   "source": [
    "# define the string variable\n",
    "text = 'lorem ipsum'"
   ]
  },
  {
   "cell_type": "code",
   "execution_count": 6,
   "id": "corrected-response",
   "metadata": {},
   "outputs": [
    {
     "data": {
      "text/plain": [
       "['L', 'O', 'R', 'E', 'M', ' ', 'I', 'P', 'S', 'U', 'M']"
      ]
     },
     "execution_count": 6,
     "metadata": {},
     "output_type": "execute_result"
    }
   ],
   "source": [
    "# classical method -> loops\n",
    "\n",
    "# define an empty list\n",
    "capitals = []\n",
    "\n",
    "# loop over the letters\n",
    "for letter in text:\n",
    "    capitals.append(letter.upper())\n",
    "\n",
    "capitals"
   ]
  },
  {
   "cell_type": "code",
   "execution_count": 7,
   "id": "consolidated-budget",
   "metadata": {},
   "outputs": [
    {
     "data": {
      "text/plain": [
       "['L', 'O', 'R', 'E', 'M', ' ', 'I', 'P', 'S', 'U', 'M']"
      ]
     },
     "execution_count": 7,
     "metadata": {},
     "output_type": "execute_result"
    }
   ],
   "source": [
    "# Comprehension\n",
    "capitals_comp = [letter.upper()\n",
    "                 for letter in text]\n",
    "\n",
    "capitals_comp"
   ]
  },
  {
   "cell_type": "markdown",
   "id": "covered-graduate",
   "metadata": {},
   "source": [
    "**Dictionary Comprehension**"
   ]
  },
  {
   "cell_type": "markdown",
   "id": "confidential-bernard",
   "metadata": {},
   "source": [
    "**Example:**\n",
    "\n",
    "We have two lists:\n",
    "\n",
    "Programming Languages and Release Years:\n",
    "\n",
    "<pre>\n",
    "languages = ['Python', 'Java', 'JavaScript', 'C#']\n",
    "years = [1989, 1995, 1995, 2000]\n",
    "</pre>\n",
    "\n",
    "We will combine these two lists in a dictionary:"
   ]
  },
  {
   "cell_type": "code",
   "execution_count": 8,
   "id": "junior-ocean",
   "metadata": {},
   "outputs": [],
   "source": [
    "# define the lists\n",
    "languages = ['Python', 'Java', 'JavaScript', 'C#']\n",
    "years = [1989, 1995, 1995, 2000]"
   ]
  },
  {
   "cell_type": "code",
   "execution_count": 9,
   "id": "formed-aging",
   "metadata": {},
   "outputs": [
    {
     "data": {
      "text/plain": [
       "{'Python': 1989, 'Java': 1995, 'JavaScript': 1995, 'C#': 2000}"
      ]
     },
     "execution_count": 9,
     "metadata": {},
     "output_type": "execute_result"
    }
   ],
   "source": [
    "# classical method -> loop\n",
    "\n",
    "# define an empty dict\n",
    "lang_year = {}\n",
    "\n",
    "# loop over both lists with zip()\n",
    "for lang, year in zip(languages, years):\n",
    "    lang_year[lang] = year\n",
    "\n",
    "lang_year"
   ]
  },
  {
   "cell_type": "code",
   "execution_count": 10,
   "id": "oriented-importance",
   "metadata": {},
   "outputs": [
    {
     "data": {
      "text/plain": [
       "{'Python': 1989, 'Java': 1995, 'JavaScript': 1995, 'C#': 2000}"
      ]
     },
     "execution_count": 10,
     "metadata": {},
     "output_type": "execute_result"
    }
   ],
   "source": [
    "# Comprehension\n",
    "lang_year_comp = {lang: year\n",
    "                  for lang, year in zip(languages, years)}\n",
    "\n",
    "lang_year_comp"
   ]
  },
  {
   "cell_type": "markdown",
   "id": "desperate-input",
   "metadata": {},
   "source": [
    "**Set Comprehension**"
   ]
  },
  {
   "cell_type": "markdown",
   "id": "olympic-advertising",
   "metadata": {},
   "source": [
    "**Example:**\n",
    "\n",
    "Let's create a set containing the letters of 'pepper'."
   ]
  },
  {
   "cell_type": "code",
   "execution_count": 11,
   "id": "alleged-lexington",
   "metadata": {},
   "outputs": [],
   "source": [
    "# define the variable\n",
    "pepper = 'pepper'"
   ]
  },
  {
   "cell_type": "code",
   "execution_count": 12,
   "id": "residential-medline",
   "metadata": {},
   "outputs": [
    {
     "data": {
      "text/plain": [
       "{'e', 'p', 'r'}"
      ]
     },
     "execution_count": 12,
     "metadata": {},
     "output_type": "execute_result"
    }
   ],
   "source": [
    "# classical method -> loop\n",
    "\n",
    "# define an empty set\n",
    "letters = set()\n",
    "\n",
    "# loop over the items\n",
    "for l in pepper:\n",
    "    letters.add(l)\n",
    "\n",
    "letters"
   ]
  },
  {
   "cell_type": "code",
   "execution_count": 13,
   "id": "indoor-clear",
   "metadata": {},
   "outputs": [
    {
     "data": {
      "text/plain": [
       "{'e', 'p', 'r'}"
      ]
     },
     "execution_count": 13,
     "metadata": {},
     "output_type": "execute_result"
    }
   ],
   "source": [
    "# comprehension\n",
    "letters_comp = {l for l in pepper}\n",
    "letters_comp"
   ]
  },
  {
   "cell_type": "markdown",
   "id": "bound-medline",
   "metadata": {},
   "source": [
    "### Nested Comprehensions"
   ]
  },
  {
   "cell_type": "markdown",
   "id": "promotional-circular",
   "metadata": {},
   "source": [
    "**Example:**\n",
    "\n",
    "We have two lists and we want to create a new list of Tuples.\n",
    "\n",
    "The Tuple elements will be the pairs of the items from these lists:"
   ]
  },
  {
   "cell_type": "code",
   "execution_count": 14,
   "id": "worse-hammer",
   "metadata": {},
   "outputs": [],
   "source": [
    "# lists\n",
    "letters = ['A', 'B']\n",
    "numbers = [1, 2, 3]"
   ]
  },
  {
   "cell_type": "markdown",
   "id": "changed-drunk",
   "metadata": {},
   "source": [
    "Expected Output:\n",
    "\n",
    "<pre>\n",
    "[\n",
    " ('A', 1),\n",
    " ('A', 2),\n",
    " ('A', 3),\n",
    " ...\n",
    "]\n",
    "</pre>"
   ]
  },
  {
   "cell_type": "code",
   "execution_count": 15,
   "id": "corrected-crest",
   "metadata": {},
   "outputs": [
    {
     "name": "stdout",
     "output_type": "stream",
     "text": [
      "[('A', 1), ('A', 2), ('A', 3), ('B', 1), ('B', 2), ('B', 3)]\n"
     ]
    }
   ],
   "source": [
    "# classical method -> loop\n",
    "\n",
    "# define an empty list\n",
    "result = []\n",
    "\n",
    "# nested loops on the lists\n",
    "for letter in letters:\n",
    "    for number in numbers:\n",
    "        tup = (letter, number)\n",
    "        result.append(tup)\n",
    "\n",
    "print(result)"
   ]
  },
  {
   "cell_type": "code",
   "execution_count": 16,
   "id": "correct-catalyst",
   "metadata": {},
   "outputs": [
    {
     "data": {
      "text/plain": [
       "[('A', 1), ('A', 2), ('A', 3), ('B', 1), ('B', 2), ('B', 3)]"
      ]
     },
     "execution_count": 16,
     "metadata": {},
     "output_type": "execute_result"
    }
   ],
   "source": [
    "# nested comprehension\n",
    "result_comp = [(letter, number)\n",
    "                for letter in letters \n",
    "                for number in numbers]\n",
    "result_comp"
   ]
  },
  {
   "cell_type": "markdown",
   "id": "aggregate-capability",
   "metadata": {},
   "source": [
    "**Example:**\n",
    "\n",
    "We want to create a dictionary for numbers from 1 to 10.\n",
    "\n",
    "The number itself will be the key and a list of all the numbers less than or equal to that number will be the value:"
   ]
  },
  {
   "cell_type": "markdown",
   "id": "sexual-repair",
   "metadata": {},
   "source": [
    "<pre>\n",
    "smallers = {\n",
    " 1: [1],\n",
    " 2: [1, 2],\n",
    " 3: [1, 2, 3],\n",
    " 4: [1, 2, 3, 4],\n",
    " 5: [1, 2, 3, 4, 5],\n",
    " 6: [1, 2, 3, 4, 5, 6],\n",
    " 7: [1, 2, 3, 4, 5, 6, 7],\n",
    " 8: [1, 2, 3, 4, 5, 6, 7, 8],\n",
    " 9: [1, 2, 3, 4, 5, 6, 7, 8, 9],\n",
    " 10: [1, 2, 3, 4, 5, 6, 7, 8, 9, 10]\n",
    "}\n",
    "</pre>"
   ]
  },
  {
   "cell_type": "code",
   "execution_count": 17,
   "id": "actual-malaysia",
   "metadata": {},
   "outputs": [
    {
     "data": {
      "text/plain": [
       "{1: [1],\n",
       " 2: [1, 2],\n",
       " 3: [1, 2, 3],\n",
       " 4: [1, 2, 3, 4],\n",
       " 5: [1, 2, 3, 4, 5],\n",
       " 6: [1, 2, 3, 4, 5, 6],\n",
       " 7: [1, 2, 3, 4, 5, 6, 7],\n",
       " 8: [1, 2, 3, 4, 5, 6, 7, 8],\n",
       " 9: [1, 2, 3, 4, 5, 6, 7, 8, 9],\n",
       " 10: [1, 2, 3, 4, 5, 6, 7, 8, 9, 10]}"
      ]
     },
     "execution_count": 17,
     "metadata": {},
     "output_type": "execute_result"
    }
   ],
   "source": [
    "# classical method -> loops\n",
    "\n",
    "# empty dict\n",
    "smallers = dict()\n",
    "\n",
    "for i in range(1, 11):\n",
    "    for j in range(1, i+1):\n",
    "        # if already not in dict\n",
    "        if not i in smallers:\n",
    "            smallers[i] = [j]\n",
    "        else:\n",
    "            smallers[i].append(j)\n",
    "\n",
    "smallers"
   ]
  },
  {
   "cell_type": "code",
   "execution_count": 18,
   "id": "offshore-disclaimer",
   "metadata": {},
   "outputs": [
    {
     "data": {
      "text/plain": [
       "{1: [1],\n",
       " 2: [1, 2],\n",
       " 3: [1, 2, 3],\n",
       " 4: [1, 2, 3, 4],\n",
       " 5: [1, 2, 3, 4, 5],\n",
       " 6: [1, 2, 3, 4, 5, 6],\n",
       " 7: [1, 2, 3, 4, 5, 6, 7],\n",
       " 8: [1, 2, 3, 4, 5, 6, 7, 8],\n",
       " 9: [1, 2, 3, 4, 5, 6, 7, 8, 9],\n",
       " 10: [1, 2, 3, 4, 5, 6, 7, 8, 9, 10]}"
      ]
     },
     "execution_count": 18,
     "metadata": {},
     "output_type": "execute_result"
    }
   ],
   "source": [
    "# nested comprehension\n",
    "smallers_comp = {i: [j for j in range(1, i+1)]\n",
    "                 for i in range(1, 11)}\n",
    "\n",
    "smallers_comp"
   ]
  },
  {
   "cell_type": "markdown",
   "id": "affiliated-steal",
   "metadata": {},
   "source": [
    "### Conditional Statements in Comprehension"
   ]
  },
  {
   "cell_type": "markdown",
   "id": "superb-economy",
   "metadata": {},
   "source": [
    "**Example:**\n",
    "\n",
    "Let's find the odd numbers from 1 to 20:"
   ]
  },
  {
   "cell_type": "code",
   "execution_count": 19,
   "id": "precise-notice",
   "metadata": {},
   "outputs": [
    {
     "data": {
      "text/plain": [
       "[1, 3, 5, 7, 9, 11, 13, 15, 17, 19]"
      ]
     },
     "execution_count": 19,
     "metadata": {},
     "output_type": "execute_result"
    }
   ],
   "source": [
    "# classical method -> loop\n",
    "\n",
    "# empty list\n",
    "odds = []\n",
    "\n",
    "for i in range(1, 21):\n",
    "    if i % 2 == 1:\n",
    "        odds.append(i)\n",
    "\n",
    "odds"
   ]
  },
  {
   "cell_type": "markdown",
   "id": "instrumental-answer",
   "metadata": {},
   "source": [
    "**Rule of Thumb:**\n",
    "\n",
    "`if-else` structure in Comprehension is exactly the same in loops."
   ]
  },
  {
   "cell_type": "code",
   "execution_count": 20,
   "id": "cultural-cowboy",
   "metadata": {},
   "outputs": [
    {
     "data": {
      "text/plain": [
       "[1, 3, 5, 7, 9, 11, 13, 15, 17, 19]"
      ]
     },
     "execution_count": 20,
     "metadata": {},
     "output_type": "execute_result"
    }
   ],
   "source": [
    "# comprehension\n",
    "odds_comp = [i\n",
    "            for i in range(1, 21)\n",
    "            if i % 2 == 1]\n",
    "\n",
    "odds_comp"
   ]
  },
  {
   "cell_type": "markdown",
   "id": "reflected-offering",
   "metadata": {},
   "source": [
    "**Example:**\n",
    "\n",
    "We want to create a dictionary for numbers from 2 to 20.\n",
    "\n",
    "The number itself will be the key and a the value will be a list.\n",
    "\n",
    "This list is going to be the positive factors of that number.\n",
    "\n",
    "<pre>\n",
    "factors = {\n",
    " 2: [2],\n",
    " 3: [3],\n",
    " 4: [2, 4],\n",
    " 5: [5],\n",
    " 6: [2, 3, 6]\n",
    " 7: [7],\n",
    " 8: [2, 4, 8],\n",
    " 9: [3, 9],\n",
    " 10: [2, 5, 10],\n",
    " ...\n",
    "}\n",
    "</pre>"
   ]
  },
  {
   "cell_type": "code",
   "execution_count": 21,
   "id": "changed-appreciation",
   "metadata": {},
   "outputs": [
    {
     "data": {
      "text/plain": [
       "{2: [2],\n",
       " 3: [3],\n",
       " 4: [2, 4],\n",
       " 5: [5],\n",
       " 6: [2, 3, 6],\n",
       " 7: [7],\n",
       " 8: [2, 4, 8],\n",
       " 9: [3, 9],\n",
       " 10: [2, 5, 10],\n",
       " 11: [11],\n",
       " 12: [2, 3, 4, 6, 12],\n",
       " 13: [13],\n",
       " 14: [2, 7, 14],\n",
       " 15: [3, 5, 15],\n",
       " 16: [2, 4, 8, 16],\n",
       " 17: [17],\n",
       " 18: [2, 3, 6, 9, 18],\n",
       " 19: [19],\n",
       " 20: [2, 4, 5, 10, 20]}"
      ]
     },
     "execution_count": 21,
     "metadata": {},
     "output_type": "execute_result"
    }
   ],
   "source": [
    "# classical method -> loops\n",
    "\n",
    "# empty dict\n",
    "factors = {}\n",
    "\n",
    "for i in range(2, 21):\n",
    "    for j in range(2, i+1):\n",
    "        # check if its a factor\n",
    "        if i % j == 0:            \n",
    "            # check if not already in dictionary\n",
    "            if not i in factors:\n",
    "                factors[i] = [j]\n",
    "            else:\n",
    "                factors[i].append(j)\n",
    "\n",
    "factors"
   ]
  },
  {
   "cell_type": "code",
   "execution_count": 22,
   "id": "purple-diving",
   "metadata": {},
   "outputs": [
    {
     "data": {
      "text/plain": [
       "{2: [2],\n",
       " 3: [3],\n",
       " 4: [2, 4],\n",
       " 5: [5],\n",
       " 6: [2, 3, 6],\n",
       " 7: [7],\n",
       " 8: [2, 4, 8],\n",
       " 9: [3, 9],\n",
       " 10: [2, 5, 10],\n",
       " 11: [11],\n",
       " 12: [2, 3, 4, 6, 12],\n",
       " 13: [13],\n",
       " 14: [2, 7, 14],\n",
       " 15: [3, 5, 15],\n",
       " 16: [2, 4, 8, 16],\n",
       " 17: [17],\n",
       " 18: [2, 3, 6, 9, 18],\n",
       " 19: [19],\n",
       " 20: [2, 4, 5, 10, 20]}"
      ]
     },
     "execution_count": 22,
     "metadata": {},
     "output_type": "execute_result"
    }
   ],
   "source": [
    "# comprehension\n",
    "factors_comp = {\n",
    "    i: [j for j in range(2, i+1) if i % j == 0]\n",
    "    for i in range(2, 21)\n",
    "}\n",
    "\n",
    "factors_comp"
   ]
  },
  {
   "cell_type": "markdown",
   "id": "general-constraint",
   "metadata": {},
   "source": [
    "**Example:**\n",
    "\n",
    "We want to create a dictionary for **even numbers** from 2 to 20.\n",
    "\n",
    "The number itself will be the key and a the value will be a list.\n",
    "\n",
    "This list is going to be the positive factors of that number.\n",
    "\n",
    "<pre>\n",
    "factors_of_evens = {\n",
    " 2: [2],\n",
    " 4: [2, 4],\n",
    " 6: [2, 3, 6],\n",
    " 8: [2, 4, 8],\n",
    " 10: [2, 5, 10],\n",
    " 12: [2, 3, 4, 6, 12],\n",
    " 14: [2, 7, 14],\n",
    " 16: [2, 4, 8, 16],\n",
    " 18: [2, 3, 6, 9, 18],\n",
    " 20: [2, 4, 5, 10, 20]\n",
    "}\n",
    "</pre>"
   ]
  },
  {
   "cell_type": "code",
   "execution_count": 23,
   "id": "former-change",
   "metadata": {},
   "outputs": [
    {
     "data": {
      "text/plain": [
       "{2: [2],\n",
       " 4: [2, 4],\n",
       " 6: [2, 3, 6],\n",
       " 8: [2, 4, 8],\n",
       " 10: [2, 5, 10],\n",
       " 12: [2, 3, 4, 6, 12],\n",
       " 14: [2, 7, 14],\n",
       " 16: [2, 4, 8, 16],\n",
       " 18: [2, 3, 6, 9, 18],\n",
       " 20: [2, 4, 5, 10, 20]}"
      ]
     },
     "execution_count": 23,
     "metadata": {},
     "output_type": "execute_result"
    }
   ],
   "source": [
    "# classical method -> loops\n",
    "\n",
    "# empty dict\n",
    "factors_of_evens = {}\n",
    "\n",
    "for i in range(2, 21):\n",
    "    # check if i is even\n",
    "    if i % 2 == 0:\n",
    "        for j in range(2, i+1):\n",
    "            # check if its a factor\n",
    "            if i % j == 0:\n",
    "                # check if not already in dictionary\n",
    "                if not i in factors_of_evens:\n",
    "                    factors_of_evens[i] = [j]\n",
    "                else:\n",
    "                    factors_of_evens[i].append(j)\n",
    "\n",
    "factors_of_evens"
   ]
  },
  {
   "cell_type": "markdown",
   "id": "nonprofit-minimum",
   "metadata": {},
   "source": [
    "As you see it takes long. Let's do the same thing easliy with Comprehension."
   ]
  },
  {
   "cell_type": "code",
   "execution_count": 24,
   "id": "thorough-cutting",
   "metadata": {},
   "outputs": [
    {
     "data": {
      "text/plain": [
       "{2: [2],\n",
       " 4: [2, 4],\n",
       " 6: [2, 3, 6],\n",
       " 8: [2, 4, 8],\n",
       " 10: [2, 5, 10],\n",
       " 12: [2, 3, 4, 6, 12],\n",
       " 14: [2, 7, 14],\n",
       " 16: [2, 4, 8, 16],\n",
       " 18: [2, 3, 6, 9, 18],\n",
       " 20: [2, 4, 5, 10, 20]}"
      ]
     },
     "execution_count": 24,
     "metadata": {},
     "output_type": "execute_result"
    }
   ],
   "source": [
    "# comprehension\n",
    "factors_of_evens_comp = { i: [j for j in range(2, i+1) if i % j == 0]\n",
    "                          for i in range(2, 21) if i % 2 == 0 }\n",
    "\n",
    "factors_of_evens_comp"
   ]
  },
  {
   "cell_type": "markdown",
   "id": "available-testing",
   "metadata": {},
   "source": [
    "Try to use Comprehension instead of loops, whenever possible"
   ]
  }
 ],
 "metadata": {
  "kernelspec": {
   "display_name": "Python 3",
   "language": "python",
   "name": "python3"
  },
  "language_info": {
   "codemirror_mode": {
    "name": "ipython",
    "version": 3
   },
   "file_extension": ".py",
   "mimetype": "text/x-python",
   "name": "python",
   "nbconvert_exporter": "python",
   "pygments_lexer": "ipython3",
   "version": "3.8.8"
  }
 },
 "nbformat": 4,
 "nbformat_minor": 5
}
