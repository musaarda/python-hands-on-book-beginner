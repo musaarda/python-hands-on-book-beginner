{
 "cells": [
  {
   "cell_type": "markdown",
   "id": "actual-synthesis",
   "metadata": {},
   "source": [
    "# Conditional Statements"
   ]
  },
  {
   "cell_type": "markdown",
   "id": "loving-andrew",
   "metadata": {},
   "source": [
    "## What is a Conditional Statement?"
   ]
  },
  {
   "cell_type": "markdown",
   "id": "sensitive-freeze",
   "metadata": {},
   "source": [
    "Python runs the code from top to down.\n",
    "\n",
    "We call it Execution Flow.\n",
    "\n",
    "There will be places in the code, that you may want to control this flow.\n",
    "\n",
    "For example, let's say you want to print the number if it is positive.\n",
    "\n",
    "This decision making is called **conditional execution** and it is done via **if statements**."
   ]
  },
  {
   "cell_type": "markdown",
   "id": "weekly-concord",
   "metadata": {},
   "source": [
    "A conditional statement is an expression which evaluates either **True** or **False**."
   ]
  },
  {
   "cell_type": "code",
   "execution_count": 1,
   "id": "related-tracy",
   "metadata": {},
   "outputs": [],
   "source": [
    "6 == 6"
   ]
  },
  {
   "cell_type": "code",
   "execution_count": 2,
   "id": "removed-fiber",
   "metadata": {},
   "outputs": [
    {
     "data": {
      "text/plain": [
       "6"
      ]
     },
     "execution_count": 2,
     "metadata": {},
     "output_type": "execute_result"
    }
   ],
   "source": [
    "# single equal sign -> = , assignment\n",
    "a = 6\n",
    "a"
   ]
  },
  {
   "cell_type": "code",
   "execution_count": 3,
   "id": "sudden-blind",
   "metadata": {},
   "outputs": [
    {
     "data": {
      "text/plain": [
       "True"
      ]
     },
     "execution_count": 3,
     "metadata": {},
     "output_type": "execute_result"
    }
   ],
   "source": [
    "# double equal sign -> == , equality check\n",
    "a == 6"
   ]
  },
  {
   "cell_type": "code",
   "execution_count": 4,
   "id": "drawn-romance",
   "metadata": {},
   "outputs": [
    {
     "data": {
      "text/plain": [
       "False"
      ]
     },
     "execution_count": 4,
     "metadata": {},
     "output_type": "execute_result"
    }
   ],
   "source": [
    "a == 8"
   ]
  },
  {
   "cell_type": "markdown",
   "id": "affiliated-canvas",
   "metadata": {},
   "source": [
    "`=` is assignment\n",
    "\n",
    "`==` is equality check"
   ]
  },
  {
   "cell_type": "code",
   "execution_count": 5,
   "id": "dimensional-contrary",
   "metadata": {},
   "outputs": [
    {
     "data": {
      "text/plain": [
       "bool"
      ]
     },
     "execution_count": 5,
     "metadata": {},
     "output_type": "execute_result"
    }
   ],
   "source": [
    "type(True)"
   ]
  },
  {
   "cell_type": "markdown",
   "id": "multiple-bridge",
   "metadata": {},
   "source": [
    "**Boolean Expressions:**\n",
    "\n",
    "* x == y : x is equal to y\n",
    "* x != y : x is not equal to y\n",
    "* x < y : x is less than y\n",
    "* x > y : x is greater than y\n",
    "* x <= y : x is less than or equal to y\n",
    "* x >= y : x is greater than or equal to y"
   ]
  },
  {
   "cell_type": "code",
   "execution_count": 6,
   "id": "secondary-template",
   "metadata": {},
   "outputs": [
    {
     "name": "stdout",
     "output_type": "stream",
     "text": [
      "x == y : False\n",
      "x != y : True\n",
      "x < y : False\n",
      "x > y : True\n",
      "x <= y : False\n",
      "x >= y : True\n"
     ]
    }
   ],
   "source": [
    "x = 12\n",
    "y = 8\n",
    "\n",
    "print(\"x == y :\", x == y)\n",
    "print(\"x != y :\", x != y)\n",
    "print(\"x < y :\", x < y)\n",
    "print(\"x > y :\", x > y)\n",
    "print(\"x <= y :\", x <= y)\n",
    "print(\"x >= y :\", x >= y)"
   ]
  },
  {
   "cell_type": "markdown",
   "id": "pediatric-camping",
   "metadata": {},
   "source": [
    "**Logical Operators:**\n",
    "* `and`: True if both of the conditions are True, False otherwise\n",
    "* `or`: True if any of the conditions is True, False if all conditions are False\n",
    "* `not`: negates a boolean expression, **not True** is False"
   ]
  },
  {
   "cell_type": "markdown",
   "id": "minute-crest",
   "metadata": {},
   "source": [
    "**and:**"
   ]
  },
  {
   "cell_type": "code",
   "execution_count": 7,
   "id": "fitting-radio",
   "metadata": {},
   "outputs": [
    {
     "data": {
      "text/plain": [
       "True"
      ]
     },
     "execution_count": 7,
     "metadata": {},
     "output_type": "execute_result"
    }
   ],
   "source": [
    "True and True"
   ]
  },
  {
   "cell_type": "code",
   "execution_count": 8,
   "id": "unlimited-binary",
   "metadata": {},
   "outputs": [
    {
     "data": {
      "text/plain": [
       "False"
      ]
     },
     "execution_count": 8,
     "metadata": {},
     "output_type": "execute_result"
    }
   ],
   "source": [
    "True and False"
   ]
  },
  {
   "cell_type": "code",
   "execution_count": 9,
   "id": "criminal-mechanics",
   "metadata": {},
   "outputs": [
    {
     "data": {
      "text/plain": [
       "False"
      ]
     },
     "execution_count": 9,
     "metadata": {},
     "output_type": "execute_result"
    }
   ],
   "source": [
    "False and True"
   ]
  },
  {
   "cell_type": "code",
   "execution_count": 10,
   "id": "efficient-application",
   "metadata": {},
   "outputs": [
    {
     "data": {
      "text/plain": [
       "False"
      ]
     },
     "execution_count": 10,
     "metadata": {},
     "output_type": "execute_result"
    }
   ],
   "source": [
    "False and False"
   ]
  },
  {
   "cell_type": "markdown",
   "id": "aquatic-payday",
   "metadata": {},
   "source": [
    "**or:**"
   ]
  },
  {
   "cell_type": "code",
   "execution_count": 11,
   "id": "sapphire-antigua",
   "metadata": {},
   "outputs": [
    {
     "data": {
      "text/plain": [
       "True"
      ]
     },
     "execution_count": 11,
     "metadata": {},
     "output_type": "execute_result"
    }
   ],
   "source": [
    "True or True"
   ]
  },
  {
   "cell_type": "code",
   "execution_count": 12,
   "id": "moving-amber",
   "metadata": {},
   "outputs": [
    {
     "data": {
      "text/plain": [
       "True"
      ]
     },
     "execution_count": 12,
     "metadata": {},
     "output_type": "execute_result"
    }
   ],
   "source": [
    "True or False"
   ]
  },
  {
   "cell_type": "code",
   "execution_count": 13,
   "id": "running-organ",
   "metadata": {},
   "outputs": [
    {
     "data": {
      "text/plain": [
       "True"
      ]
     },
     "execution_count": 13,
     "metadata": {},
     "output_type": "execute_result"
    }
   ],
   "source": [
    "False or True"
   ]
  },
  {
   "cell_type": "code",
   "execution_count": 14,
   "id": "classical-meditation",
   "metadata": {},
   "outputs": [
    {
     "data": {
      "text/plain": [
       "False"
      ]
     },
     "execution_count": 14,
     "metadata": {},
     "output_type": "execute_result"
    }
   ],
   "source": [
    "False or False"
   ]
  },
  {
   "cell_type": "markdown",
   "id": "forced-basics",
   "metadata": {},
   "source": [
    "**Example with Variables:**"
   ]
  },
  {
   "cell_type": "code",
   "execution_count": 15,
   "id": "composite-parker",
   "metadata": {},
   "outputs": [
    {
     "data": {
      "text/plain": [
       "True"
      ]
     },
     "execution_count": 15,
     "metadata": {},
     "output_type": "execute_result"
    }
   ],
   "source": [
    "# a -> True\n",
    "a = 5 == 5\n",
    "a"
   ]
  },
  {
   "cell_type": "code",
   "execution_count": 16,
   "id": "typical-criminal",
   "metadata": {},
   "outputs": [
    {
     "data": {
      "text/plain": [
       "False"
      ]
     },
     "execution_count": 16,
     "metadata": {},
     "output_type": "execute_result"
    }
   ],
   "source": [
    "# b -> False\n",
    "b = 'a' == 'A'\n",
    "b"
   ]
  },
  {
   "cell_type": "code",
   "execution_count": 17,
   "id": "soviet-transfer",
   "metadata": {},
   "outputs": [
    {
     "name": "stdout",
     "output_type": "stream",
     "text": [
      "----  and ----\n"
     ]
    },
    {
     "data": {
      "text/plain": [
       "'True and False: False'"
      ]
     },
     "execution_count": 17,
     "metadata": {},
     "output_type": "execute_result"
    }
   ],
   "source": [
    "# and\n",
    "print(\"----  and ----\")\n",
    "\"{0} and {1}: {2}\".format(a, b, a and b)"
   ]
  },
  {
   "cell_type": "code",
   "execution_count": 18,
   "id": "responsible-cylinder",
   "metadata": {},
   "outputs": [
    {
     "name": "stdout",
     "output_type": "stream",
     "text": [
      "----  or ----\n"
     ]
    },
    {
     "data": {
      "text/plain": [
       "'True or False: True'"
      ]
     },
     "execution_count": 18,
     "metadata": {},
     "output_type": "execute_result"
    }
   ],
   "source": [
    "# or \n",
    "print(\"----  or ----\")\n",
    "\"{0} or {1}: {2}\".format(a, b, a or b)"
   ]
  },
  {
   "cell_type": "markdown",
   "id": "photographic-wellington",
   "metadata": {},
   "source": [
    "## if"
   ]
  },
  {
   "cell_type": "code",
   "execution_count": 19,
   "id": "social-fluid",
   "metadata": {},
   "outputs": [
    {
     "name": "stdout",
     "output_type": "stream",
     "text": [
      "7 is greater than 0.\n"
     ]
    }
   ],
   "source": [
    "# Print x, if it is greater than zero (positive)\n",
    "\n",
    "x = 7\n",
    "\n",
    "if x > 0:\n",
    "    print(\"{} is greater than 0.\".format(x))    "
   ]
  },
  {
   "cell_type": "code",
   "execution_count": 20,
   "id": "mysterious-colleague",
   "metadata": {},
   "outputs": [
    {
     "name": "stdout",
     "output_type": "stream",
     "text": [
      "end of if statement\n"
     ]
    }
   ],
   "source": [
    "x = -10\n",
    "\n",
    "if x > 0:\n",
    "    print(\"{} is greater than 0.\".format(x))    \n",
    "    \n",
    "print(\"end of if statement\")"
   ]
  },
  {
   "cell_type": "code",
   "execution_count": 21,
   "id": "freelance-timothy",
   "metadata": {},
   "outputs": [
    {
     "name": "stdout",
     "output_type": "stream",
     "text": [
      "---------\n",
      "10 is greater than 0 and less than or equal to 10.\n",
      "---------\n"
     ]
    }
   ],
   "source": [
    "# If x is greater than 0 and less than or eqaul to 10, print it\n",
    "\n",
    "x = 10\n",
    "\n",
    "print(\"---------\")\n",
    "\n",
    "if x > 0 and x <= 10:\n",
    "    print(\"{} is greater than 0 and less than or equal to 10.\".format(x))\n",
    "\n",
    "print(\"---------\")"
   ]
  },
  {
   "cell_type": "code",
   "execution_count": 22,
   "id": "continental-arkansas",
   "metadata": {},
   "outputs": [
    {
     "name": "stdout",
     "output_type": "stream",
     "text": [
      "---------\n",
      "---------\n"
     ]
    }
   ],
   "source": [
    "x = 17\n",
    "\n",
    "print(\"---------\")\n",
    "\n",
    "if x > 0 and x <= 10:\n",
    "    print(\"{} is greater than 0 and less than or equal to 10.\".format(x))\n",
    "\n",
    "print(\"---------\")"
   ]
  },
  {
   "cell_type": "code",
   "execution_count": 23,
   "id": "following-rebound",
   "metadata": {},
   "outputs": [
    {
     "name": "stdout",
     "output_type": "stream",
     "text": [
      "---------\n",
      "6 is greater than 0 and less than or equal to 10.\n",
      "---------\n"
     ]
    }
   ],
   "source": [
    "x = 6\n",
    "\n",
    "print(\"---------\")\n",
    "\n",
    "if x > 0 and x <= 10:\n",
    "    print(\"{} is greater than 0 and less than or equal to 10.\".format(x))\n",
    "\n",
    "print(\"---------\")"
   ]
  },
  {
   "cell_type": "code",
   "execution_count": 24,
   "id": "endangered-cigarette",
   "metadata": {},
   "outputs": [
    {
     "name": "stdout",
     "output_type": "stream",
     "text": [
      "---------\n",
      "19 is greater than or equal 0 and less than 20.\n",
      "---------\n"
     ]
    }
   ],
   "source": [
    "# if x is greater than or equal to 0 and less than 20, print it.\n",
    "\n",
    "x = 19\n",
    "\n",
    "print(\"---------\")\n",
    "\n",
    "if x >= 0 and x < 20:\n",
    "    print(\"{} is greater than or equal 0 and less than 20.\".format(x))\n",
    "\n",
    "print(\"---------\")"
   ]
  },
  {
   "cell_type": "code",
   "execution_count": 25,
   "id": "facial-unknown",
   "metadata": {},
   "outputs": [
    {
     "name": "stdout",
     "output_type": "stream",
     "text": [
      "---------\n",
      "---------\n"
     ]
    }
   ],
   "source": [
    "x = 49\n",
    "\n",
    "print(\"---------\")\n",
    "\n",
    "if x >= 0 and x < 20:\n",
    "    print(\"{} is greater than or equal 0 and less than 20.\".format(x))\n",
    "\n",
    "print(\"---------\")"
   ]
  },
  {
   "cell_type": "code",
   "execution_count": 26,
   "id": "iraqi-plaza",
   "metadata": {},
   "outputs": [
    {
     "name": "stdout",
     "output_type": "stream",
     "text": [
      "---------\n",
      "---------\n"
     ]
    }
   ],
   "source": [
    "x = -6\n",
    "\n",
    "print(\"---------\")\n",
    "\n",
    "if x >= 0 and x < 20:\n",
    "    print(\"{} is greater than or equal 0 and less than 20.\".format(x))\n",
    "\n",
    "print(\"---------\")"
   ]
  },
  {
   "cell_type": "code",
   "execution_count": 27,
   "id": "demonstrated-indonesia",
   "metadata": {},
   "outputs": [
    {
     "name": "stdout",
     "output_type": "stream",
     "text": [
      "---------\n",
      "---------\n"
     ]
    }
   ],
   "source": [
    "# or\n",
    "\n",
    "# if x is greater than 100 or less than 0, print it\n",
    "\n",
    "x = 80\n",
    "\n",
    "print(\"---------\")\n",
    "\n",
    "if x > 100 or x < 0:\n",
    "    print(\"{} is greater than 100 or less than 0.\".format(x))\n",
    "\n",
    "print(\"---------\")"
   ]
  },
  {
   "cell_type": "code",
   "execution_count": 28,
   "id": "directed-benchmark",
   "metadata": {},
   "outputs": [
    {
     "name": "stdout",
     "output_type": "stream",
     "text": [
      "---------\n",
      "280 is greater than 100 or less than 0.\n",
      "---------\n"
     ]
    }
   ],
   "source": [
    "x = 280\n",
    "\n",
    "print(\"---------\")\n",
    "\n",
    "if x > 100 or x < 0:\n",
    "    print(\"{} is greater than 100 or less than 0.\".format(x))\n",
    "\n",
    "print(\"---------\")"
   ]
  },
  {
   "cell_type": "code",
   "execution_count": 29,
   "id": "asian-vaccine",
   "metadata": {},
   "outputs": [
    {
     "name": "stdout",
     "output_type": "stream",
     "text": [
      "---------\n",
      "-300 is greater than 100 or less than 0.\n",
      "---------\n"
     ]
    }
   ],
   "source": [
    "x = -300\n",
    "\n",
    "print(\"---------\")\n",
    "\n",
    "if x > 100 or x < 0:\n",
    "    print(\"{} is greater than 100 or less than 0.\".format(x))\n",
    "\n",
    "print(\"---------\")"
   ]
  },
  {
   "cell_type": "markdown",
   "id": "painful-biology",
   "metadata": {},
   "source": [
    "## else"
   ]
  },
  {
   "cell_type": "markdown",
   "id": "excellent-miniature",
   "metadata": {},
   "source": [
    "**Alternative Execution: else**"
   ]
  },
  {
   "cell_type": "markdown",
   "id": "trying-lesbian",
   "metadata": {},
   "source": [
    "Most of the time we need more than one condition to check.\n",
    "\n",
    "For multiple conditions check we use **else** with **if**."
   ]
  },
  {
   "cell_type": "code",
   "execution_count": 30,
   "id": "effective-snapshot",
   "metadata": {},
   "outputs": [
    {
     "name": "stdout",
     "output_type": "stream",
     "text": [
      "---- before if block ----\n",
      "EVEN\n",
      "---- after if block ----\n"
     ]
    }
   ],
   "source": [
    "# if x is an even number, print \"EVEN\"\n",
    "# if not (else) print \"ODD\"\n",
    "\n",
    "# condition for being even: divisible by 2 (% modulus operator)\n",
    "\n",
    "x = 14\n",
    "\n",
    "print(\"---- before if block ----\")\n",
    "\n",
    "if x % 2 == 0:\n",
    "    print(\"EVEN\")\n",
    "else:\n",
    "    print(\"ODD\")       \n",
    "\n",
    "print(\"---- after if block ----\")"
   ]
  },
  {
   "cell_type": "code",
   "execution_count": 31,
   "id": "central-immigration",
   "metadata": {},
   "outputs": [
    {
     "name": "stdout",
     "output_type": "stream",
     "text": [
      "---- before if block ----\n",
      "ODD\n",
      "---- after if block ----\n"
     ]
    }
   ],
   "source": [
    "x = 9\n",
    "\n",
    "print(\"---- before if block ----\")\n",
    "\n",
    "if x % 2 == 0:\n",
    "    print(\"EVEN\")\n",
    "else:\n",
    "    print(\"ODD\")       \n",
    "\n",
    "print(\"---- after if block ----\")"
   ]
  },
  {
   "cell_type": "code",
   "execution_count": 32,
   "id": "nutritional-chest",
   "metadata": {},
   "outputs": [
    {
     "name": "stdout",
     "output_type": "stream",
     "text": [
      "INTEGER\n"
     ]
    }
   ],
   "source": [
    "# if x is integer, print \"INTEGER\"\n",
    "# else print \"NOT INTEGER\"\n",
    "\n",
    "# for integer check -> type()\n",
    "\n",
    "x = 9\n",
    "\n",
    "if type(x) == int:\n",
    "    print(\"INTEGER\")\n",
    "else:\n",
    "    print(\"NOT INTEGER\")"
   ]
  },
  {
   "cell_type": "code",
   "execution_count": 33,
   "id": "satisfied-california",
   "metadata": {},
   "outputs": [
    {
     "name": "stdout",
     "output_type": "stream",
     "text": [
      "NOT INTEGER\n"
     ]
    }
   ],
   "source": [
    "# lets define a string (str) variable\n",
    "# and check its type\n",
    "x = \"xyz\"\n",
    "\n",
    "if type(x) == int:\n",
    "    print(\"INTEGER\")\n",
    "else:\n",
    "    print(\"NOT INTEGER\")"
   ]
  },
  {
   "cell_type": "markdown",
   "id": "individual-cabin",
   "metadata": {},
   "source": [
    "## elif"
   ]
  },
  {
   "cell_type": "markdown",
   "id": "ready-research",
   "metadata": {},
   "source": [
    "So far, we only checked for 2 conditions:\n",
    "* if\n",
    "* else\n",
    "\n",
    "When need more than 2 conditions: **elif**\n",
    "\n",
    "Namely: **if-elif-elif-...-else**\n",
    "\n",
    "* if\n",
    "* elif\n",
    "* elif\n",
    "* elif\n",
    "* .\n",
    "* .\n",
    "* .\n",
    "* else"
   ]
  },
  {
   "cell_type": "markdown",
   "id": "alpine-contributor",
   "metadata": {},
   "source": [
    "**elif**: `el`se `if`"
   ]
  },
  {
   "cell_type": "code",
   "execution_count": 34,
   "id": "architectural-suicide",
   "metadata": {},
   "outputs": [],
   "source": [
    "# ask the user to enter a number\n",
    "# and check if the input is 'POSITIVE', 'ZERO', 'NEGATIVE'\n",
    "\n",
    "def is_positive():\n",
    "    \n",
    "    # input() returns str\n",
    "    user_input = input(\"Please enter a number: \")\n",
    "    \n",
    "    # cast input into int -> int()\n",
    "    n = int(user_input)\n",
    "    \n",
    "    # check conditions\n",
    "    if n > 0:\n",
    "        print(\"POSITIVE\")\n",
    "    elif n == 0:\n",
    "        print(\"ZERO\")\n",
    "    else:\n",
    "        print(\"NEGATIVE\")"
   ]
  },
  {
   "cell_type": "code",
   "execution_count": 35,
   "id": "centered-proportion",
   "metadata": {},
   "outputs": [
    {
     "name": "stdin",
     "output_type": "stream",
     "text": [
      "Please enter a number:  -8\n"
     ]
    },
    {
     "name": "stdout",
     "output_type": "stream",
     "text": [
      "NEGATIVE\n"
     ]
    }
   ],
   "source": [
    "is_positive()"
   ]
  },
  {
   "cell_type": "code",
   "execution_count": 36,
   "id": "supposed-psychology",
   "metadata": {},
   "outputs": [
    {
     "name": "stdin",
     "output_type": "stream",
     "text": [
      "Please enter a number:  25\n"
     ]
    },
    {
     "name": "stdout",
     "output_type": "stream",
     "text": [
      "POSITIVE\n"
     ]
    }
   ],
   "source": [
    "is_positive()"
   ]
  },
  {
   "cell_type": "code",
   "execution_count": 37,
   "id": "critical-affair",
   "metadata": {},
   "outputs": [
    {
     "name": "stdin",
     "output_type": "stream",
     "text": [
      "Please enter a number:  0\n"
     ]
    },
    {
     "name": "stdout",
     "output_type": "stream",
     "text": [
      "ZERO\n"
     ]
    }
   ],
   "source": [
    "is_positive()"
   ]
  },
  {
   "cell_type": "markdown",
   "id": "paperback-trinidad",
   "metadata": {},
   "source": [
    "**Important:**\n",
    "\n",
    "You can not use **elif without if**."
   ]
  },
  {
   "cell_type": "code",
   "execution_count": 38,
   "id": "simplified-vietnamese",
   "metadata": {},
   "outputs": [
    {
     "ename": "SyntaxError",
     "evalue": "invalid syntax (<ipython-input-38-5d7d570f4f1f>, line 4)",
     "output_type": "error",
     "traceback": [
      "\u001b[1;36m  File \u001b[1;32m\"<ipython-input-38-5d7d570f4f1f>\"\u001b[1;36m, line \u001b[1;32m4\u001b[0m\n\u001b[1;33m    elif a == 1:\u001b[0m\n\u001b[1;37m    ^\u001b[0m\n\u001b[1;31mSyntaxError\u001b[0m\u001b[1;31m:\u001b[0m invalid syntax\n"
     ]
    }
   ],
   "source": [
    "a = 1\n",
    "\n",
    "# write elif without if\n",
    "elif a == 1:\n",
    "    print(\"a is 1\")\n",
    "else:\n",
    "    print(\"not 1\")"
   ]
  },
  {
   "cell_type": "markdown",
   "id": "colored-ground",
   "metadata": {},
   "source": [
    "**Exercise**:\n",
    "\n",
    "Define a function.\n",
    "\n",
    "Ask for a number between 1-7.\n",
    "\n",
    "We will decide the day of the week via this number."
   ]
  },
  {
   "cell_type": "code",
   "execution_count": 39,
   "id": "adapted-georgia",
   "metadata": {},
   "outputs": [],
   "source": [
    "def day_of_week():\n",
    "    \n",
    "    # ask for number of the day\n",
    "    number_of_day = int(input(\"Please enter a number (1-7): \"))\n",
    "    \n",
    "    # define a variable for name of the day\n",
    "    name_of_day = \"\"\n",
    "    \n",
    "    # conditions\n",
    "    if number_of_day == 1:\n",
    "        name_of_day = 'MONDAY'\n",
    "    elif number_of_day == 2:\n",
    "        name_of_day = 'TUESDAY'\n",
    "    elif number_of_day == 3:\n",
    "        name_of_day = 'WEDNESDAY'\n",
    "    elif number_of_day == 4:\n",
    "        name_of_day = 'THURSDAY'\n",
    "    elif number_of_day == 5:\n",
    "        name_of_day = 'FRIDAY'\n",
    "    elif number_of_day == 6:\n",
    "        name_of_day = 'SATURDAY'\n",
    "    else:\n",
    "        name_of_day = 'SUNDAY'\n",
    "        \n",
    "    # return name of day\n",
    "    return name_of_day"
   ]
  },
  {
   "cell_type": "code",
   "execution_count": 40,
   "id": "sacred-shirt",
   "metadata": {},
   "outputs": [
    {
     "name": "stdin",
     "output_type": "stream",
     "text": [
      "Please enter a number (1-7):  4\n"
     ]
    },
    {
     "data": {
      "text/plain": [
       "'THURSDAY'"
      ]
     },
     "execution_count": 40,
     "metadata": {},
     "output_type": "execute_result"
    }
   ],
   "source": [
    "day_of_week()"
   ]
  },
  {
   "cell_type": "code",
   "execution_count": 41,
   "id": "permanent-keyboard",
   "metadata": {},
   "outputs": [
    {
     "name": "stdin",
     "output_type": "stream",
     "text": [
      "Please enter a number (1-7):  7\n"
     ]
    },
    {
     "data": {
      "text/plain": [
       "'SUNDAY'"
      ]
     },
     "execution_count": 41,
     "metadata": {},
     "output_type": "execute_result"
    }
   ],
   "source": [
    "day_of_week()"
   ]
  },
  {
   "cell_type": "code",
   "execution_count": 42,
   "id": "under-spirituality",
   "metadata": {},
   "outputs": [
    {
     "name": "stdin",
     "output_type": "stream",
     "text": [
      "Please enter a number (1-7):  0\n"
     ]
    },
    {
     "data": {
      "text/plain": [
       "'SUNDAY'"
      ]
     },
     "execution_count": 42,
     "metadata": {},
     "output_type": "execute_result"
    }
   ],
   "source": [
    "day_of_week()"
   ]
  },
  {
   "cell_type": "markdown",
   "id": "banner-archives",
   "metadata": {},
   "source": [
    "day_of _week seems working fine, but has bugs:\n",
    "\n",
    "What if the user:\n",
    "* enters a letter instead a number\n",
    "* enters a number greater than 7\n",
    "* enters a number less than 1"
   ]
  },
  {
   "cell_type": "code",
   "execution_count": 43,
   "id": "vanilla-romania",
   "metadata": {},
   "outputs": [
    {
     "name": "stdin",
     "output_type": "stream",
     "text": [
      "Please enter a number (1-7):  A\n"
     ]
    },
    {
     "ename": "ValueError",
     "evalue": "invalid literal for int() with base 10: 'A'",
     "output_type": "error",
     "traceback": [
      "\u001b[1;31m---------------------------------------------------------------------------\u001b[0m",
      "\u001b[1;31mValueError\u001b[0m                                Traceback (most recent call last)",
      "\u001b[1;32m<ipython-input-43-26ab6e67a5c2>\u001b[0m in \u001b[0;36m<module>\u001b[1;34m\u001b[0m\n\u001b[0;32m      1\u001b[0m \u001b[1;31m# a letter instead of a number\u001b[0m\u001b[1;33m\u001b[0m\u001b[1;33m\u001b[0m\u001b[1;33m\u001b[0m\u001b[0m\n\u001b[1;32m----> 2\u001b[1;33m \u001b[0mday_of_week\u001b[0m\u001b[1;33m(\u001b[0m\u001b[1;33m)\u001b[0m\u001b[1;33m\u001b[0m\u001b[1;33m\u001b[0m\u001b[0m\n\u001b[0m",
      "\u001b[1;32m<ipython-input-39-0c58c1150e8e>\u001b[0m in \u001b[0;36mday_of_week\u001b[1;34m()\u001b[0m\n\u001b[0;32m      2\u001b[0m \u001b[1;33m\u001b[0m\u001b[0m\n\u001b[0;32m      3\u001b[0m     \u001b[1;31m# ask for number of the day\u001b[0m\u001b[1;33m\u001b[0m\u001b[1;33m\u001b[0m\u001b[1;33m\u001b[0m\u001b[0m\n\u001b[1;32m----> 4\u001b[1;33m     \u001b[0mnumber_of_day\u001b[0m \u001b[1;33m=\u001b[0m \u001b[0mint\u001b[0m\u001b[1;33m(\u001b[0m\u001b[0minput\u001b[0m\u001b[1;33m(\u001b[0m\u001b[1;34m\"Please enter a number (1-7): \"\u001b[0m\u001b[1;33m)\u001b[0m\u001b[1;33m)\u001b[0m\u001b[1;33m\u001b[0m\u001b[1;33m\u001b[0m\u001b[0m\n\u001b[0m\u001b[0;32m      5\u001b[0m \u001b[1;33m\u001b[0m\u001b[0m\n\u001b[0;32m      6\u001b[0m     \u001b[1;31m# define a variable for name of the day\u001b[0m\u001b[1;33m\u001b[0m\u001b[1;33m\u001b[0m\u001b[1;33m\u001b[0m\u001b[0m\n",
      "\u001b[1;31mValueError\u001b[0m: invalid literal for int() with base 10: 'A'"
     ]
    }
   ],
   "source": [
    "# a letter instead of a number\n",
    "day_of_week()"
   ]
  },
  {
   "cell_type": "code",
   "execution_count": 44,
   "id": "relative-leave",
   "metadata": {},
   "outputs": [
    {
     "name": "stdin",
     "output_type": "stream",
     "text": [
      "Please enter a number (1-7):  99\n"
     ]
    },
    {
     "data": {
      "text/plain": [
       "'SUNDAY'"
      ]
     },
     "execution_count": 44,
     "metadata": {},
     "output_type": "execute_result"
    }
   ],
   "source": [
    "# a number greater than 7\n",
    "day_of_week()"
   ]
  },
  {
   "cell_type": "code",
   "execution_count": 45,
   "id": "smart-offense",
   "metadata": {},
   "outputs": [
    {
     "name": "stdin",
     "output_type": "stream",
     "text": [
      "Please enter a number (1-7):  -6\n"
     ]
    },
    {
     "data": {
      "text/plain": [
       "'SUNDAY'"
      ]
     },
     "execution_count": 45,
     "metadata": {},
     "output_type": "execute_result"
    }
   ],
   "source": [
    "# a number less than 1\n",
    "day_of_week()"
   ]
  },
  {
   "cell_type": "markdown",
   "id": "legislative-accountability",
   "metadata": {},
   "source": [
    "Let's fix the bugs (code refactoring)."
   ]
  },
  {
   "cell_type": "code",
   "execution_count": 46,
   "id": "smooth-occasion",
   "metadata": {},
   "outputs": [],
   "source": [
    "def day_of_week():    \n",
    "    # ask for number of the day\n",
    "    # check if its numeric -> cast into int\n",
    "    # input() -> returns str\n",
    "    user_input = input(\"Please enter a number (1-7): \")\n",
    "    \n",
    "    # CONTROL 1 - BEING INTEGER\n",
    "    if user_input.isdigit():\n",
    "        number_of_day = int(user_input)\n",
    "    else:\n",
    "        print(\"Please enter an integer.\")\n",
    "        # end the program -> return\n",
    "        return\n",
    "    \n",
    "    print(\"------ CONTROL #1 is SUCCESSFUL ------\")\n",
    "    \n",
    "    # CONTROL 2 - BEING BETWEEN 1-7\n",
    "    if number_of_day < 1 or number_of_day > 7:\n",
    "        print(\"Please enter a number between 1-7.\")\n",
    "        # end the program -> return\n",
    "        return\n",
    "    \n",
    "    print(\"------ CONTROL #2 is SUCCESSFUL ------\")\n",
    "    \n",
    "    # define a variable for name of the day\n",
    "    name_of_day = \"\"\n",
    "    \n",
    "    # conditions\n",
    "    if number_of_day == 1:\n",
    "        name_of_day = 'MONDAY'\n",
    "    elif number_of_day == 2:\n",
    "        name_of_day = 'TUESDAY'\n",
    "    elif number_of_day == 3:\n",
    "        name_of_day = 'WEDNESDAY'\n",
    "    elif number_of_day == 4:\n",
    "        name_of_day = 'THURSDAY'\n",
    "    elif number_of_day == 5:\n",
    "        name_of_day = 'FRIDAY'\n",
    "    elif number_of_day == 6:\n",
    "        name_of_day = 'SATURDAY'\n",
    "    else:\n",
    "        name_of_day = 'SUNDAY'\n",
    "        \n",
    "    # return name of day\n",
    "    return name_of_day"
   ]
  },
  {
   "cell_type": "code",
   "execution_count": 47,
   "id": "cultural-commercial",
   "metadata": {},
   "outputs": [
    {
     "name": "stdin",
     "output_type": "stream",
     "text": [
      "Please enter a number (1-7):  A\n"
     ]
    },
    {
     "name": "stdout",
     "output_type": "stream",
     "text": [
      "Please enter an integer.\n"
     ]
    }
   ],
   "source": [
    "# test for being a letter instead of a number\n",
    "day_of_week()"
   ]
  },
  {
   "cell_type": "code",
   "execution_count": 48,
   "id": "marked-mercy",
   "metadata": {},
   "outputs": [
    {
     "name": "stdin",
     "output_type": "stream",
     "text": [
      "Please enter a number (1-7):  88\n"
     ]
    },
    {
     "name": "stdout",
     "output_type": "stream",
     "text": [
      "------ CONTROL #1 is SUCCESSFUL ------\n",
      "Please enter a number between 1-7.\n"
     ]
    }
   ],
   "source": [
    "# test for a number greater than 7\n",
    "day_of_week()"
   ]
  },
  {
   "cell_type": "code",
   "execution_count": 49,
   "id": "preceding-postage",
   "metadata": {},
   "outputs": [
    {
     "name": "stdin",
     "output_type": "stream",
     "text": [
      "Please enter a number (1-7):  -4\n"
     ]
    },
    {
     "name": "stdout",
     "output_type": "stream",
     "text": [
      "Please enter an integer.\n"
     ]
    }
   ],
   "source": [
    "# test for a number less than 1\n",
    "day_of_week()"
   ]
  },
  {
   "cell_type": "code",
   "execution_count": 50,
   "id": "coated-framework",
   "metadata": {},
   "outputs": [
    {
     "name": "stdin",
     "output_type": "stream",
     "text": [
      "Please enter a number (1-7):  6\n"
     ]
    },
    {
     "name": "stdout",
     "output_type": "stream",
     "text": [
      "------ CONTROL #1 is SUCCESSFUL ------\n",
      "------ CONTROL #2 is SUCCESSFUL ------\n"
     ]
    },
    {
     "data": {
      "text/plain": [
       "'SATURDAY'"
      ]
     },
     "execution_count": 50,
     "metadata": {},
     "output_type": "execute_result"
    }
   ],
   "source": [
    "# call with a valid day number\n",
    "day_of_week()"
   ]
  },
  {
   "cell_type": "markdown",
   "id": "private-elimination",
   "metadata": {},
   "source": [
    "## Nested Conditionals"
   ]
  },
  {
   "cell_type": "markdown",
   "id": "sporting-reggae",
   "metadata": {},
   "source": [
    "**not** operator:\n",
    "\n",
    "`not` operator turns a boolean (True, False) into its opposite."
   ]
  },
  {
   "cell_type": "code",
   "execution_count": 51,
   "id": "anonymous-sessions",
   "metadata": {},
   "outputs": [
    {
     "data": {
      "text/plain": [
       "False"
      ]
     },
     "execution_count": 51,
     "metadata": {},
     "output_type": "execute_result"
    }
   ],
   "source": [
    "not True"
   ]
  },
  {
   "cell_type": "code",
   "execution_count": 52,
   "id": "ceramic-satellite",
   "metadata": {},
   "outputs": [
    {
     "data": {
      "text/plain": [
       "True"
      ]
     },
     "execution_count": 52,
     "metadata": {},
     "output_type": "execute_result"
    }
   ],
   "source": [
    "not False"
   ]
  },
  {
   "cell_type": "code",
   "execution_count": 53,
   "id": "domestic-college",
   "metadata": {},
   "outputs": [
    {
     "data": {
      "text/plain": [
       "True"
      ]
     },
     "execution_count": 53,
     "metadata": {},
     "output_type": "execute_result"
    }
   ],
   "source": [
    "x = 5\n",
    "x == 5"
   ]
  },
  {
   "cell_type": "code",
   "execution_count": 54,
   "id": "earlier-filter",
   "metadata": {},
   "outputs": [
    {
     "data": {
      "text/plain": [
       "False"
      ]
     },
     "execution_count": 54,
     "metadata": {},
     "output_type": "execute_result"
    }
   ],
   "source": [
    "not x == 5"
   ]
  },
  {
   "cell_type": "code",
   "execution_count": 55,
   "id": "dental-month",
   "metadata": {},
   "outputs": [
    {
     "name": "stdout",
     "output_type": "stream",
     "text": [
      "x is 5\n"
     ]
    }
   ],
   "source": [
    "# if statement in the usual way\n",
    "\n",
    "if x == 5:\n",
    "    print('x is 5')\n",
    "else:\n",
    "    print('x is not 5')"
   ]
  },
  {
   "cell_type": "code",
   "execution_count": 56,
   "id": "owned-conditioning",
   "metadata": {},
   "outputs": [
    {
     "name": "stdout",
     "output_type": "stream",
     "text": [
      "x is 5\n"
     ]
    }
   ],
   "source": [
    "# not in if statement\n",
    "\n",
    "if not x == 5:\n",
    "    print(\"x is not 5\")\n",
    "else:\n",
    "    print('x is 5')"
   ]
  },
  {
   "cell_type": "markdown",
   "id": "proud-chassis",
   "metadata": {},
   "source": [
    "**Important:**\n",
    "\n",
    "if needs True to evaluate its scope.\n",
    "\n",
    "<pre>\n",
    "if True:\n",
    "    ......\n",
    "    ......\n",
    "    ......\n",
    "</pre>"
   ]
  },
  {
   "cell_type": "code",
   "execution_count": 57,
   "id": "extreme-february",
   "metadata": {},
   "outputs": [
    {
     "name": "stdout",
     "output_type": "stream",
     "text": [
      "x is greater than y\n"
     ]
    }
   ],
   "source": [
    "# Example:\n",
    "\n",
    "x = 300\n",
    "y = 40\n",
    "\n",
    "if x == y:\n",
    "    print(\"x is equal to y\")\n",
    "else:\n",
    "    # x is not equal to y\n",
    "    if x > y:\n",
    "        print(\"x is greater than y\")\n",
    "    elif x == y:\n",
    "        print(\"x is equal to y\")\n",
    "    else:\n",
    "        print(\"x is less than y\")"
   ]
  },
  {
   "cell_type": "code",
   "execution_count": 58,
   "id": "metropolitan-order",
   "metadata": {},
   "outputs": [
    {
     "name": "stdout",
     "output_type": "stream",
     "text": [
      "x is less than y\n"
     ]
    }
   ],
   "source": [
    "# Example:\n",
    "\n",
    "x = 10\n",
    "y = 50\n",
    "\n",
    "if x == y:\n",
    "    print(\"x is equal to y\")\n",
    "else:\n",
    "    # x is not equal to y\n",
    "    if x > y:\n",
    "        print(\"x is greater than y\")\n",
    "    # redundant\n",
    "    # elif x == y:\n",
    "        # print(\"x is equal to y\")\n",
    "    else:\n",
    "        print(\"x is less than y\")"
   ]
  },
  {
   "cell_type": "code",
   "execution_count": 59,
   "id": "genetic-saturday",
   "metadata": {},
   "outputs": [],
   "source": [
    "# Example:\n",
    "# ask a number from user\n",
    "\n",
    "# if the number is less than 10:\n",
    "    # if odd -> ODD LESS THAN 10\n",
    "    # if even -> EVEN LESS THAN 10\n",
    "    \n",
    "# if it is greater than 10\n",
    "    # if odd -> ODD\n",
    "    # if even -> EVEN\n",
    "    \n",
    "def odd_or_even():\n",
    "    # ask for input\n",
    "    user_input = input(\"Please enter a number: \")\n",
    "    \n",
    "    # input() -> str -> cast to int()\n",
    "    num = int(user_input)\n",
    "    \n",
    "    # conditions\n",
    "    if num < 10:\n",
    "        # odd or even\n",
    "        if num % 2 == 1:\n",
    "            print(\"ODD LESS THAN 10\")\n",
    "        else:\n",
    "            print(\"EVEN LESS THAN 10\")\n",
    "    else:\n",
    "        # odd or even\n",
    "        if num % 2 == 1:\n",
    "            print(\"ODD\")\n",
    "        else:\n",
    "            print(\"EVEN\")"
   ]
  },
  {
   "cell_type": "code",
   "execution_count": 60,
   "id": "combined-thesis",
   "metadata": {},
   "outputs": [
    {
     "name": "stdin",
     "output_type": "stream",
     "text": [
      "Please enter a number:  7\n"
     ]
    },
    {
     "name": "stdout",
     "output_type": "stream",
     "text": [
      "ODD LESS THAN 10\n"
     ]
    }
   ],
   "source": [
    "odd_or_even()"
   ]
  },
  {
   "cell_type": "code",
   "execution_count": 61,
   "id": "mexican-meeting",
   "metadata": {},
   "outputs": [
    {
     "name": "stdin",
     "output_type": "stream",
     "text": [
      "Please enter a number:  4\n"
     ]
    },
    {
     "name": "stdout",
     "output_type": "stream",
     "text": [
      "EVEN LESS THAN 10\n"
     ]
    }
   ],
   "source": [
    "odd_or_even()"
   ]
  },
  {
   "cell_type": "code",
   "execution_count": 62,
   "id": "spare-thong",
   "metadata": {},
   "outputs": [
    {
     "name": "stdin",
     "output_type": "stream",
     "text": [
      "Please enter a number:  10\n"
     ]
    },
    {
     "name": "stdout",
     "output_type": "stream",
     "text": [
      "EVEN\n"
     ]
    }
   ],
   "source": [
    "odd_or_even()"
   ]
  },
  {
   "cell_type": "code",
   "execution_count": 63,
   "id": "fallen-insider",
   "metadata": {},
   "outputs": [
    {
     "name": "stdin",
     "output_type": "stream",
     "text": [
      "Please enter a number:  87\n"
     ]
    },
    {
     "name": "stdout",
     "output_type": "stream",
     "text": [
      "ODD\n"
     ]
    }
   ],
   "source": [
    "odd_or_even()"
   ]
  },
  {
   "cell_type": "markdown",
   "id": "funny-greek",
   "metadata": {},
   "source": [
    "## Recursion"
   ]
  },
  {
   "cell_type": "markdown",
   "id": "graphic-correspondence",
   "metadata": {},
   "source": [
    "A function can call other functions.\n",
    "\n",
    "It also can call itself.\n",
    "\n",
    "We call this **Recursion**\n",
    "\n",
    "Ex: A function which prints backwards from a given number up to 0."
   ]
  },
  {
   "cell_type": "markdown",
   "id": "competitive-chase",
   "metadata": {},
   "source": [
    "**Very Important:**\n",
    "\n",
    "In Recursion, you have to set an **exit condition**.\n",
    "\n",
    "Otherwise, the function will call itself up to infinity -> infinite recursion."
   ]
  },
  {
   "cell_type": "code",
   "execution_count": 64,
   "id": "medieval-swimming",
   "metadata": {},
   "outputs": [],
   "source": [
    "# Example:\n",
    "\n",
    "def count_down(n):\n",
    "    \"\"\"\n",
    "    The count down function to print numbers.\n",
    "    Parameters: int n, the number to print\n",
    "    The function calls itself with the next number.\n",
    "    \"\"\"\n",
    "    \n",
    "    # exit condition\n",
    "    if n <= 0:\n",
    "        print(\"------ End of Program -------\")\n",
    "        return\n",
    "    else:\n",
    "        print(n)\n",
    "        # call itself\n",
    "        count_down(n-1)"
   ]
  },
  {
   "cell_type": "code",
   "execution_count": 65,
   "id": "solved-breath",
   "metadata": {},
   "outputs": [
    {
     "name": "stdout",
     "output_type": "stream",
     "text": [
      "5\n",
      "4\n",
      "3\n",
      "2\n",
      "1\n",
      "------ End of Program -------\n"
     ]
    }
   ],
   "source": [
    "count_down(5)"
   ]
  },
  {
   "cell_type": "code",
   "execution_count": 66,
   "id": "continent-defendant",
   "metadata": {},
   "outputs": [
    {
     "name": "stdout",
     "output_type": "stream",
     "text": [
      "10\n",
      "9\n",
      "8\n",
      "7\n",
      "6\n",
      "5\n",
      "4\n",
      "3\n",
      "2\n",
      "1\n",
      "------ End of Program -------\n"
     ]
    }
   ],
   "source": [
    "count_down(10)"
   ]
  },
  {
   "cell_type": "code",
   "execution_count": 67,
   "id": "afraid-nothing",
   "metadata": {},
   "outputs": [],
   "source": [
    "# Example:\n",
    "# create a function which will print the text parameter given to it.\n",
    "# The function will write this text number n times.\n",
    "# n is second parameter\n",
    "\n",
    "def write_text(text, n):    \n",
    "    # exit condition\n",
    "    if n <= 0:\n",
    "        return\n",
    "    else:\n",
    "        print(text)\n",
    "        write_text(text, n-1)"
   ]
  },
  {
   "cell_type": "code",
   "execution_count": 68,
   "id": "fourth-polls",
   "metadata": {},
   "outputs": [
    {
     "name": "stdout",
     "output_type": "stream",
     "text": [
      "Hands-On Python is great :)\n",
      "Hands-On Python is great :)\n",
      "Hands-On Python is great :)\n",
      "Hands-On Python is great :)\n",
      "Hands-On Python is great :)\n"
     ]
    }
   ],
   "source": [
    "write_text('Hands-On Python is great :)', 5)"
   ]
  },
  {
   "cell_type": "code",
   "execution_count": 69,
   "id": "recreational-awareness",
   "metadata": {},
   "outputs": [],
   "source": [
    "# let's print numbers\n",
    "\n",
    "def write_text(text, n):\n",
    "    # exit condition\n",
    "    if n <= 0:\n",
    "        return    \n",
    "    else:\n",
    "        print(\"{} : {}\".format(n, text))\n",
    "        write_text(text, n-1)"
   ]
  },
  {
   "cell_type": "code",
   "execution_count": 70,
   "id": "overall-prototype",
   "metadata": {},
   "outputs": [
    {
     "name": "stdout",
     "output_type": "stream",
     "text": [
      "5 : Hands-On Python is great :)\n",
      "4 : Hands-On Python is great :)\n",
      "3 : Hands-On Python is great :)\n",
      "2 : Hands-On Python is great :)\n",
      "1 : Hands-On Python is great :)\n"
     ]
    }
   ],
   "source": [
    "write_text('Hands-On Python is great :)', 5)"
   ]
  },
  {
   "cell_type": "markdown",
   "id": "super-possibility",
   "metadata": {},
   "source": [
    "Let's assume we did not set a proper exit condition.\n",
    "\n",
    "**RecursionError**"
   ]
  },
  {
   "cell_type": "code",
   "execution_count": 71,
   "id": "given-border",
   "metadata": {},
   "outputs": [],
   "source": [
    "def up_to_hundred(n):\n",
    "    \n",
    "    # no exit condition\n",
    "    \n",
    "    print(n)\n",
    "    up_to_hundred(n+1)"
   ]
  },
  {
   "cell_type": "code",
   "execution_count": null,
   "id": "graduate-church",
   "metadata": {},
   "outputs": [],
   "source": [
    "up_to_hundred(80)"
   ]
  },
  {
   "cell_type": "code",
   "execution_count": 72,
   "id": "rational-jaguar",
   "metadata": {},
   "outputs": [],
   "source": [
    "def up_to_hundred(n):\n",
    "    \n",
    "    # exit condition\n",
    "    if n > 100:\n",
    "        return\n",
    "    else:\n",
    "        print(n)\n",
    "        up_to_hundred(n+1)"
   ]
  },
  {
   "cell_type": "code",
   "execution_count": 73,
   "id": "automatic-trailer",
   "metadata": {},
   "outputs": [
    {
     "name": "stdout",
     "output_type": "stream",
     "text": [
      "80\n",
      "81\n",
      "82\n",
      "83\n",
      "84\n",
      "85\n",
      "86\n",
      "87\n",
      "88\n",
      "89\n",
      "90\n",
      "91\n",
      "92\n",
      "93\n",
      "94\n",
      "95\n",
      "96\n",
      "97\n",
      "98\n",
      "99\n",
      "100\n"
     ]
    }
   ],
   "source": [
    "up_to_hundred(80)"
   ]
  },
  {
   "cell_type": "code",
   "execution_count": null,
   "id": "moderate-reference",
   "metadata": {},
   "outputs": [],
   "source": []
  }
 ],
 "metadata": {
  "kernelspec": {
   "display_name": "Python 3",
   "language": "python",
   "name": "python3"
  },
  "language_info": {
   "codemirror_mode": {
    "name": "ipython",
    "version": 3
   },
   "file_extension": ".py",
   "mimetype": "text/x-python",
   "name": "python",
   "nbconvert_exporter": "python",
   "pygments_lexer": "ipython3",
   "version": "3.8.8"
  }
 },
 "nbformat": 4,
 "nbformat_minor": 5
}
