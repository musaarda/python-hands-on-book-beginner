{
 "cells": [
  {
   "cell_type": "markdown",
   "id": "loved-monaco",
   "metadata": {},
   "source": [
    "# List"
   ]
  },
  {
   "cell_type": "markdown",
   "id": "straight-semiconductor",
   "metadata": {},
   "source": [
    "## List is a Squence"
   ]
  },
  {
   "cell_type": "markdown",
   "id": "european-puppy",
   "metadata": {},
   "source": [
    "Previously, we learned that Strings are Sequences.\n",
    "\n",
    "Lists are also Sequence Types."
   ]
  },
  {
   "cell_type": "markdown",
   "id": "explicit-security",
   "metadata": {},
   "source": [
    "For Sequences, you can access elements via `index`."
   ]
  },
  {
   "cell_type": "markdown",
   "id": "toxic-threshold",
   "metadata": {},
   "source": [
    "List are definded: `[]`"
   ]
  },
  {
   "cell_type": "code",
   "execution_count": 1,
   "id": "induced-sperm",
   "metadata": {},
   "outputs": [
    {
     "data": {
      "text/plain": [
       "[10, 20, 30, 40]"
      ]
     },
     "execution_count": 1,
     "metadata": {},
     "output_type": "execute_result"
    }
   ],
   "source": [
    "my_list = [10, 20, 30, 40]\n",
    "my_list"
   ]
  },
  {
   "cell_type": "code",
   "execution_count": 2,
   "id": "prescribed-stake",
   "metadata": {},
   "outputs": [
    {
     "name": "stdout",
     "output_type": "stream",
     "text": [
      "['a', 'b', 'c', 'd', 'e']\n"
     ]
    }
   ],
   "source": [
    "letters = ['a', 'b', 'c', 'd', 'e']\n",
    "print(letters)"
   ]
  },
  {
   "cell_type": "code",
   "execution_count": 3,
   "id": "pretty-macintosh",
   "metadata": {},
   "outputs": [
    {
     "data": {
      "text/plain": [
       "list"
      ]
     },
     "execution_count": 3,
     "metadata": {},
     "output_type": "execute_result"
    }
   ],
   "source": [
    "type(letters)"
   ]
  },
  {
   "cell_type": "code",
   "execution_count": 4,
   "id": "systematic-solomon",
   "metadata": {},
   "outputs": [
    {
     "data": {
      "text/plain": [
       "[2, 'A', 'B', True, 'mail']"
      ]
     },
     "execution_count": 4,
     "metadata": {},
     "output_type": "execute_result"
    }
   ],
   "source": [
    "mixed_list = [2, 'A', 'B', True, 'mail']\n",
    "mixed_list"
   ]
  },
  {
   "cell_type": "code",
   "execution_count": 5,
   "id": "ranging-mobility",
   "metadata": {},
   "outputs": [
    {
     "data": {
      "text/plain": [
       "['city', 'name', 4, True, [1, 2, 3], 'A', ['a', 'b']]"
      ]
     },
     "execution_count": 5,
     "metadata": {},
     "output_type": "execute_result"
    }
   ],
   "source": [
    "nested_list = ['city', 'name', 4, True, [1, 2, 3], 'A', ['a', 'b']]\n",
    "nested_list"
   ]
  },
  {
   "cell_type": "code",
   "execution_count": 6,
   "id": "celtic-introduction",
   "metadata": {},
   "outputs": [
    {
     "data": {
      "text/plain": [
       "'city'"
      ]
     },
     "execution_count": 6,
     "metadata": {},
     "output_type": "execute_result"
    }
   ],
   "source": [
    "# item at index 0\n",
    "nested_list[0]"
   ]
  },
  {
   "cell_type": "code",
   "execution_count": 7,
   "id": "liberal-chapel",
   "metadata": {},
   "outputs": [
    {
     "data": {
      "text/plain": [
       "True"
      ]
     },
     "execution_count": 7,
     "metadata": {},
     "output_type": "execute_result"
    }
   ],
   "source": [
    "# item at index 3\n",
    "nested_list[3]"
   ]
  },
  {
   "cell_type": "code",
   "execution_count": 8,
   "id": "rental-implementation",
   "metadata": {},
   "outputs": [
    {
     "data": {
      "text/plain": [
       "[1, 2, 3]"
      ]
     },
     "execution_count": 8,
     "metadata": {},
     "output_type": "execute_result"
    }
   ],
   "source": [
    "# item at index 4\n",
    "nested_list[4]"
   ]
  },
  {
   "cell_type": "code",
   "execution_count": 9,
   "id": "tough-highland",
   "metadata": {},
   "outputs": [
    {
     "data": {
      "text/plain": [
       "['a', 'b']"
      ]
     },
     "execution_count": 9,
     "metadata": {},
     "output_type": "execute_result"
    }
   ],
   "source": [
    "# item at index 6\n",
    "nested_list[6]"
   ]
  },
  {
   "cell_type": "code",
   "execution_count": 10,
   "id": "modern-contribution",
   "metadata": {},
   "outputs": [
    {
     "data": {
      "text/plain": [
       "3"
      ]
     },
     "execution_count": 10,
     "metadata": {},
     "output_type": "execute_result"
    }
   ],
   "source": [
    "# access the items in the nested lists\n",
    "# double indexing\n",
    "nested_list[4][2]"
   ]
  },
  {
   "cell_type": "code",
   "execution_count": 11,
   "id": "collective-romance",
   "metadata": {},
   "outputs": [
    {
     "data": {
      "text/plain": [
       "['a', 'b']"
      ]
     },
     "execution_count": 11,
     "metadata": {},
     "output_type": "execute_result"
    }
   ],
   "source": [
    "# item at index 6 is a nested list\n",
    "nested_list[6]"
   ]
  },
  {
   "cell_type": "code",
   "execution_count": 12,
   "id": "cardiac-humidity",
   "metadata": {},
   "outputs": [
    {
     "data": {
      "text/plain": [
       "'a'"
      ]
     },
     "execution_count": 12,
     "metadata": {},
     "output_type": "execute_result"
    }
   ],
   "source": [
    "# get the item 0 at of the nested list\n",
    "nested_list[6][0]"
   ]
  },
  {
   "cell_type": "code",
   "execution_count": 13,
   "id": "simple-flash",
   "metadata": {},
   "outputs": [
    {
     "data": {
      "text/plain": [
       "[]"
      ]
     },
     "execution_count": 13,
     "metadata": {},
     "output_type": "execute_result"
    }
   ],
   "source": [
    "# Empty list\n",
    "empty = []\n",
    "empty"
   ]
  },
  {
   "cell_type": "markdown",
   "id": "worth-contact",
   "metadata": {},
   "source": [
    "## Lists are Mutable"
   ]
  },
  {
   "cell_type": "markdown",
   "id": "satellite-feeding",
   "metadata": {},
   "source": [
    "Strings are Immutable.\n",
    "\n",
    "Lists are Mutable."
   ]
  },
  {
   "cell_type": "code",
   "execution_count": 14,
   "id": "designed-ocean",
   "metadata": {},
   "outputs": [
    {
     "data": {
      "text/plain": [
       "['audi', 'Ford', 'Mazda']"
      ]
     },
     "execution_count": 14,
     "metadata": {},
     "output_type": "execute_result"
    }
   ],
   "source": [
    "cars = ['audi', 'Ford', 'Mazda']\n",
    "cars"
   ]
  },
  {
   "cell_type": "code",
   "execution_count": 15,
   "id": "canadian-tennis",
   "metadata": {},
   "outputs": [
    {
     "data": {
      "text/plain": [
       "['Audi', 'Ford', 'Mazda']"
      ]
     },
     "execution_count": 15,
     "metadata": {},
     "output_type": "execute_result"
    }
   ],
   "source": [
    "# mutate the cars list\n",
    "cars[0] = 'Audi'\n",
    "cars"
   ]
  },
  {
   "cell_type": "code",
   "execution_count": 16,
   "id": "capable-geneva",
   "metadata": {},
   "outputs": [
    {
     "data": {
      "text/plain": [
       "5"
      ]
     },
     "execution_count": 16,
     "metadata": {},
     "output_type": "execute_result"
    }
   ],
   "source": [
    "nums = [1, 2, 3, 4, 5]\n",
    "nums[4]"
   ]
  },
  {
   "cell_type": "code",
   "execution_count": 17,
   "id": "dress-muscle",
   "metadata": {},
   "outputs": [
    {
     "data": {
      "text/plain": [
       "[1, 2, 3, 4, '55555']"
      ]
     },
     "execution_count": 17,
     "metadata": {},
     "output_type": "execute_result"
    }
   ],
   "source": [
    "nums[4] = '55555'\n",
    "nums"
   ]
  },
  {
   "cell_type": "code",
   "execution_count": 18,
   "id": "split-cincinnati",
   "metadata": {},
   "outputs": [
    {
     "ename": "IndexError",
     "evalue": "list index out of range",
     "output_type": "error",
     "traceback": [
      "\u001b[1;31m---------------------------------------------------------------------------\u001b[0m",
      "\u001b[1;31mIndexError\u001b[0m                                Traceback (most recent call last)",
      "\u001b[1;32m<ipython-input-18-cfc5f3c665c7>\u001b[0m in \u001b[0;36m<module>\u001b[1;34m\u001b[0m\n\u001b[0;32m      1\u001b[0m \u001b[1;31m# Access an index which does not exist\u001b[0m\u001b[1;33m\u001b[0m\u001b[1;33m\u001b[0m\u001b[1;33m\u001b[0m\u001b[0m\n\u001b[0;32m      2\u001b[0m \u001b[1;31m# IndexError: list index out of range\u001b[0m\u001b[1;33m\u001b[0m\u001b[1;33m\u001b[0m\u001b[1;33m\u001b[0m\u001b[0m\n\u001b[1;32m----> 3\u001b[1;33m \u001b[0mnums\u001b[0m\u001b[1;33m[\u001b[0m\u001b[1;36m6\u001b[0m\u001b[1;33m]\u001b[0m\u001b[1;33m\u001b[0m\u001b[1;33m\u001b[0m\u001b[0m\n\u001b[0m",
      "\u001b[1;31mIndexError\u001b[0m: list index out of range"
     ]
    }
   ],
   "source": [
    "# Access an index which does not exist\n",
    "# IndexError: list index out of range\n",
    "nums[6]"
   ]
  },
  {
   "cell_type": "raw",
   "id": "dental-atlas",
   "metadata": {},
   "source": [
    "negative index :  comes from Right to Left\n",
    "starts from -1\n",
    "\n",
    "index\n",
    "------------>\n",
    "   0        1        2\n",
    "['Audi', 'Ford', 'Mazda']\n",
    "\n",
    "\n",
    "negative index\n",
    "<------------\n",
    "   -3      -2      -1\n",
    "['Audi', 'Ford', 'Mazda']\n"
   ]
  },
  {
   "cell_type": "code",
   "execution_count": 19,
   "id": "facial-bulgaria",
   "metadata": {},
   "outputs": [
    {
     "data": {
      "text/plain": [
       "'Mazda'"
      ]
     },
     "execution_count": 19,
     "metadata": {},
     "output_type": "execute_result"
    }
   ],
   "source": [
    "cars[-1]"
   ]
  },
  {
   "cell_type": "code",
   "execution_count": 20,
   "id": "third-frost",
   "metadata": {},
   "outputs": [
    {
     "data": {
      "text/plain": [
       "'Ford'"
      ]
     },
     "execution_count": 20,
     "metadata": {},
     "output_type": "execute_result"
    }
   ],
   "source": [
    "cars[-2]"
   ]
  },
  {
   "cell_type": "raw",
   "id": "cleared-sailing",
   "metadata": {},
   "source": [
    "\n",
    "['Audi', 'Ford', 'Mazda']  |  ['Audi', 'Ford', 'Mazda'] \n",
    "  -3       -2       -1            0      1        2"
   ]
  },
  {
   "cell_type": "code",
   "execution_count": 21,
   "id": "covered-couple",
   "metadata": {},
   "outputs": [
    {
     "data": {
      "text/plain": [
       "'Audi'"
      ]
     },
     "execution_count": 21,
     "metadata": {},
     "output_type": "execute_result"
    }
   ],
   "source": [
    "cars[-3]"
   ]
  },
  {
   "cell_type": "markdown",
   "id": "secure-denmark",
   "metadata": {},
   "source": [
    "## Loop Over a List"
   ]
  },
  {
   "cell_type": "code",
   "execution_count": 22,
   "id": "geographic-thanks",
   "metadata": {},
   "outputs": [
    {
     "name": "stdout",
     "output_type": "stream",
     "text": [
      "Audi\n",
      "Ford\n",
      "Mazda\n"
     ]
    }
   ],
   "source": [
    "# loop over cars list\n",
    "for car in cars:\n",
    "    print(car)"
   ]
  },
  {
   "cell_type": "code",
   "execution_count": 23,
   "id": "signed-description",
   "metadata": {},
   "outputs": [
    {
     "name": "stdout",
     "output_type": "stream",
     "text": [
      "0 - Audi\n",
      "1 - Ford\n",
      "2 - Mazda\n"
     ]
    }
   ],
   "source": [
    "# we need the index -> enumerate()\n",
    "for index, car in enumerate(cars):\n",
    "    print(\"{0} - {1}\".format(index, car))"
   ]
  },
  {
   "cell_type": "markdown",
   "id": "worth-feeding",
   "metadata": {},
   "source": [
    "We want to change the elemants during the loop."
   ]
  },
  {
   "cell_type": "code",
   "execution_count": 24,
   "id": "operating-indonesian",
   "metadata": {},
   "outputs": [
    {
     "data": {
      "text/plain": [
       "[1, 2, 3, 4, 5]"
      ]
     },
     "execution_count": 24,
     "metadata": {},
     "output_type": "execute_result"
    }
   ],
   "source": [
    "nums = [1, 2, 3, 4, 5]\n",
    "nums"
   ]
  },
  {
   "cell_type": "code",
   "execution_count": 25,
   "id": "absent-personality",
   "metadata": {},
   "outputs": [
    {
     "name": "stdout",
     "output_type": "stream",
     "text": [
      "10\n",
      "20\n",
      "30\n",
      "40\n",
      "50\n"
     ]
    }
   ],
   "source": [
    "# loop over the list -> multiply elements by 10\n",
    "for num in nums:\n",
    "    num *= 10\n",
    "    print(num)"
   ]
  },
  {
   "cell_type": "code",
   "execution_count": 26,
   "id": "essential-roulette",
   "metadata": {},
   "outputs": [
    {
     "data": {
      "text/plain": [
       "[1, 2, 3, 4, 5]"
      ]
     },
     "execution_count": 26,
     "metadata": {},
     "output_type": "execute_result"
    }
   ],
   "source": [
    "nums"
   ]
  },
  {
   "cell_type": "code",
   "execution_count": 27,
   "id": "planned-closing",
   "metadata": {},
   "outputs": [],
   "source": [
    "# we want to change the original list in loop\n",
    "# we need index to update the element -> list\n",
    "for index, num in enumerate(nums):    \n",
    "    # calculate the new num\n",
    "    new_num = num * 10\n",
    "    \n",
    "    # update the list via index\n",
    "    nums[index] = new_num"
   ]
  },
  {
   "cell_type": "code",
   "execution_count": 28,
   "id": "artistic-reset",
   "metadata": {},
   "outputs": [
    {
     "data": {
      "text/plain": [
       "[10, 20, 30, 40, 50]"
      ]
     },
     "execution_count": 28,
     "metadata": {},
     "output_type": "execute_result"
    }
   ],
   "source": [
    "nums"
   ]
  },
  {
   "cell_type": "code",
   "execution_count": 29,
   "id": "choice-brain",
   "metadata": {},
   "outputs": [],
   "source": [
    "# cars list\n",
    "# we will update each car as ' Car' -> Audi Car, Ford Car, Mazda Car\n",
    "for index, car in enumerate(cars):\n",
    "    # concatenate ' Car' with the item\n",
    "    cars[index] = car + ' Car'"
   ]
  },
  {
   "cell_type": "code",
   "execution_count": 30,
   "id": "critical-recognition",
   "metadata": {},
   "outputs": [
    {
     "data": {
      "text/plain": [
       "['Audi Car', 'Ford Car', 'Mazda Car']"
      ]
     },
     "execution_count": 30,
     "metadata": {},
     "output_type": "execute_result"
    }
   ],
   "source": [
    "cars"
   ]
  },
  {
   "cell_type": "markdown",
   "id": "respected-assembly",
   "metadata": {},
   "source": [
    "## List Operations"
   ]
  },
  {
   "cell_type": "markdown",
   "id": "molecular-solomon",
   "metadata": {},
   "source": [
    "In Lists +, * (addition and multiplication) operations are allowed.\n",
    "\n",
    "But with its own logic."
   ]
  },
  {
   "cell_type": "markdown",
   "id": "impaired-indication",
   "metadata": {},
   "source": [
    "**`+` Operator**\n",
    "\n",
    "It concatenates lists."
   ]
  },
  {
   "cell_type": "code",
   "execution_count": 31,
   "id": "empty-party",
   "metadata": {},
   "outputs": [
    {
     "name": "stdout",
     "output_type": "stream",
     "text": [
      "[10, 20, 30, 4, 8, 12]\n"
     ]
    }
   ],
   "source": [
    "# define two lists\n",
    "a = [10, 20, 30]\n",
    "b = [4, 8, 12]\n",
    "\n",
    "# now add the lists\n",
    "c = a + b\n",
    "print(c)"
   ]
  },
  {
   "cell_type": "code",
   "execution_count": 32,
   "id": "interior-index",
   "metadata": {},
   "outputs": [
    {
     "data": {
      "text/plain": [
       "[10, 20, 30, 4, 8, 12, 'A', 'B', 'C']"
      ]
     },
     "execution_count": 32,
     "metadata": {},
     "output_type": "execute_result"
    }
   ],
   "source": [
    "# define three lists\n",
    "a = [10, 20, 30]\n",
    "b = [4, 8, 12]\n",
    "c = ['A', 'B', 'C']\n",
    "\n",
    "# add them\n",
    "d = a + b + c\n",
    "d"
   ]
  },
  {
   "cell_type": "markdown",
   "id": "celtic-classic",
   "metadata": {},
   "source": [
    "**`*` Operator**\n",
    "\n",
    "It duplicates the list in the number of multiply."
   ]
  },
  {
   "cell_type": "code",
   "execution_count": 33,
   "id": "geographic-daisy",
   "metadata": {},
   "outputs": [
    {
     "data": {
      "text/plain": [
       "'CarCarCar'"
      ]
     },
     "execution_count": 33,
     "metadata": {},
     "output_type": "execute_result"
    }
   ],
   "source": [
    "car = 'Car'\n",
    "3 * car"
   ]
  },
  {
   "cell_type": "code",
   "execution_count": 34,
   "id": "senior-center",
   "metadata": {},
   "outputs": [
    {
     "data": {
      "text/plain": [
       "['Audi', 'Ford', 'BMW', 'Audi', 'Ford', 'BMW']"
      ]
     },
     "execution_count": 34,
     "metadata": {},
     "output_type": "execute_result"
    }
   ],
   "source": [
    "cars = ['Audi', 'Ford', 'BMW']\n",
    "2 * cars"
   ]
  },
  {
   "cell_type": "code",
   "execution_count": 35,
   "id": "level-vehicle",
   "metadata": {},
   "outputs": [
    {
     "data": {
      "text/plain": [
       "[5, 5, 5, 5]"
      ]
     },
     "execution_count": 35,
     "metadata": {},
     "output_type": "execute_result"
    }
   ],
   "source": [
    "[5] * 4"
   ]
  },
  {
   "cell_type": "code",
   "execution_count": 36,
   "id": "another-division",
   "metadata": {},
   "outputs": [
    {
     "data": {
      "text/plain": [
       "[11, 22, 11, 22, 11, 22]"
      ]
     },
     "execution_count": 36,
     "metadata": {},
     "output_type": "execute_result"
    }
   ],
   "source": [
    "[11, 22] * 3"
   ]
  },
  {
   "cell_type": "markdown",
   "id": "clear-coast",
   "metadata": {},
   "source": [
    "## List Slicing"
   ]
  },
  {
   "cell_type": "code",
   "execution_count": 37,
   "id": "improved-daily",
   "metadata": {},
   "outputs": [
    {
     "data": {
      "text/plain": [
       "['a', 'b', 'c', 'd', 'e', 'f']"
      ]
     },
     "execution_count": 37,
     "metadata": {},
     "output_type": "execute_result"
    }
   ],
   "source": [
    "my_list = ['a', 'b', 'c', 'd', 'e', 'f']\n",
    "my_list"
   ]
  },
  {
   "cell_type": "code",
   "execution_count": 38,
   "id": "necessary-ability",
   "metadata": {},
   "outputs": [
    {
     "data": {
      "text/plain": [
       "['b', 'c', 'd']"
      ]
     },
     "execution_count": 38,
     "metadata": {},
     "output_type": "execute_result"
    }
   ],
   "source": [
    "# we want elements from index 1 to 4 (exc)\n",
    "my_list[1:4]"
   ]
  },
  {
   "cell_type": "code",
   "execution_count": 39,
   "id": "complete-overall",
   "metadata": {},
   "outputs": [
    {
     "data": {
      "text/plain": [
       "['a', 'b', 'c', 'd']"
      ]
     },
     "execution_count": 39,
     "metadata": {},
     "output_type": "execute_result"
    }
   ],
   "source": [
    "# we want first 4 items\n",
    "# indices: 0, 1, 2, 3\n",
    "my_list[0:4]"
   ]
  },
  {
   "cell_type": "code",
   "execution_count": 40,
   "id": "fitting-government",
   "metadata": {},
   "outputs": [
    {
     "data": {
      "text/plain": [
       "['a', 'b', 'c', 'd']"
      ]
     },
     "execution_count": 40,
     "metadata": {},
     "output_type": "execute_result"
    }
   ],
   "source": [
    "# omit 0 for start\n",
    "my_list[:4]"
   ]
  },
  {
   "cell_type": "code",
   "execution_count": 41,
   "id": "artistic-cleveland",
   "metadata": {},
   "outputs": [
    {
     "data": {
      "text/plain": [
       "['a', 'b', 'c', 'd', 'e', 'f']"
      ]
     },
     "execution_count": 41,
     "metadata": {},
     "output_type": "execute_result"
    }
   ],
   "source": [
    "# get all items of list\n",
    "my_list[::]"
   ]
  },
  {
   "cell_type": "code",
   "execution_count": 42,
   "id": "interstate-lotus",
   "metadata": {},
   "outputs": [
    {
     "data": {
      "text/plain": [
       "['a', 'b', 'c', 'd', 'e', 'f']"
      ]
     },
     "execution_count": 42,
     "metadata": {},
     "output_type": "execute_result"
    }
   ],
   "source": [
    "my_list_copy = my_list[::]\n",
    "my_list_copy"
   ]
  },
  {
   "cell_type": "code",
   "execution_count": 43,
   "id": "proved-massachusetts",
   "metadata": {},
   "outputs": [
    {
     "data": {
      "text/plain": [
       "['a', 'c', 'e']"
      ]
     },
     "execution_count": 43,
     "metadata": {},
     "output_type": "execute_result"
    }
   ],
   "source": [
    "# get the items with even indices\n",
    "# 0, 2, 4, ...\n",
    "my_list[::2]"
   ]
  },
  {
   "cell_type": "code",
   "execution_count": 44,
   "id": "leading-thunder",
   "metadata": {},
   "outputs": [
    {
     "data": {
      "text/plain": [
       "['b', 'd', 'f']"
      ]
     },
     "execution_count": 44,
     "metadata": {},
     "output_type": "execute_result"
    }
   ],
   "source": [
    "# get the elements with odd index\n",
    "# 1, 3, 5 ...\n",
    "my_list[1::2]"
   ]
  },
  {
   "cell_type": "code",
   "execution_count": 45,
   "id": "composed-strategy",
   "metadata": {},
   "outputs": [
    {
     "data": {
      "text/plain": [
       "['f', 'e', 'd', 'c', 'b', 'a']"
      ]
     },
     "execution_count": 45,
     "metadata": {},
     "output_type": "execute_result"
    }
   ],
   "source": [
    "# copy the reverse of the list\n",
    "my_list_copy_reverse = my_list[::-1]\n",
    "my_list_copy_reverse"
   ]
  },
  {
   "cell_type": "markdown",
   "id": "brave-education",
   "metadata": {},
   "source": [
    "## Copy of a List and the IDs"
   ]
  },
  {
   "cell_type": "markdown",
   "id": "charged-synthetic",
   "metadata": {},
   "source": [
    "Copying -> Create a NEW List"
   ]
  },
  {
   "cell_type": "code",
   "execution_count": 46,
   "id": "fleet-motivation",
   "metadata": {},
   "outputs": [
    {
     "data": {
      "text/plain": [
       "['a', 'b', 'c', 'd', 'e', 'f']"
      ]
     },
     "execution_count": 46,
     "metadata": {},
     "output_type": "execute_result"
    }
   ],
   "source": [
    "my_list = ['a', 'b', 'c', 'd', 'e', 'f']\n",
    "my_list"
   ]
  },
  {
   "cell_type": "code",
   "execution_count": 47,
   "id": "sized-september",
   "metadata": {},
   "outputs": [
    {
     "data": {
      "text/plain": [
       "['a', 'b', 'c', 'd', 'e', 'f']"
      ]
     },
     "execution_count": 47,
     "metadata": {},
     "output_type": "execute_result"
    }
   ],
   "source": [
    "# copy the list with complete slice\n",
    "my_list_copy = my_list[:]\n",
    "my_list_copy"
   ]
  },
  {
   "cell_type": "code",
   "execution_count": 48,
   "id": "environmental-recorder",
   "metadata": {},
   "outputs": [],
   "source": [
    "# mutate the new list -> if it affects the original list\n",
    "my_list_copy[0] = 'A'\n",
    "my_list_copy[1] = 'B'"
   ]
  },
  {
   "cell_type": "code",
   "execution_count": 49,
   "id": "scheduled-input",
   "metadata": {},
   "outputs": [
    {
     "name": "stdout",
     "output_type": "stream",
     "text": [
      "My List: ['a', 'b', 'c', 'd', 'e', 'f']\n",
      "My List Copy ['A', 'B', 'c', 'd', 'e', 'f']\n"
     ]
    }
   ],
   "source": [
    "print('My List:', my_list)\n",
    "print('My List Copy', my_list_copy)"
   ]
  },
  {
   "cell_type": "markdown",
   "id": "primary-annex",
   "metadata": {},
   "source": [
    "**`id` method**"
   ]
  },
  {
   "cell_type": "code",
   "execution_count": 50,
   "id": "structural-condition",
   "metadata": {},
   "outputs": [
    {
     "data": {
      "text/plain": [
       "2690455772736"
      ]
     },
     "execution_count": 50,
     "metadata": {},
     "output_type": "execute_result"
    }
   ],
   "source": [
    "# get the id of my_list\n",
    "id(my_list)"
   ]
  },
  {
   "cell_type": "code",
   "execution_count": 51,
   "id": "close-complaint",
   "metadata": {},
   "outputs": [
    {
     "data": {
      "text/plain": [
       "2690455047296"
      ]
     },
     "execution_count": 51,
     "metadata": {},
     "output_type": "execute_result"
    }
   ],
   "source": [
    "# get the id of my_list_copy\n",
    "id(my_list_copy)"
   ]
  },
  {
   "cell_type": "code",
   "execution_count": 52,
   "id": "changing-firmware",
   "metadata": {},
   "outputs": [
    {
     "data": {
      "text/plain": [
       "False"
      ]
     },
     "execution_count": 52,
     "metadata": {},
     "output_type": "execute_result"
    }
   ],
   "source": [
    "# check if they are the same object\n",
    "id(my_list) == id(my_list_copy)"
   ]
  },
  {
   "cell_type": "markdown",
   "id": "academic-durham",
   "metadata": {},
   "source": [
    "## List Methods"
   ]
  },
  {
   "cell_type": "markdown",
   "id": "consistent-return",
   "metadata": {},
   "source": [
    "Built-in List Methods:\n",
    "\n",
    "* append() : adds an element at the end of the list\n",
    "* insert() : adds an element at specified index\n",
    "* extend() : concats list to another\n",
    "* sort()   : sorts the list (in-place)\n",
    "* sorted() : sorts the list and returns a new list (doesn't mutate the original)"
   ]
  },
  {
   "cell_type": "code",
   "execution_count": 53,
   "id": "included-drilling",
   "metadata": {},
   "outputs": [
    {
     "data": {
      "text/plain": [
       "['a', 'b', 'c', 'd', 'e']"
      ]
     },
     "execution_count": 53,
     "metadata": {},
     "output_type": "execute_result"
    }
   ],
   "source": [
    "letters = ['a', 'b', 'c', 'd', 'e']\n",
    "letters"
   ]
  },
  {
   "cell_type": "markdown",
   "id": "annoying-concrete",
   "metadata": {},
   "source": [
    "**append()**"
   ]
  },
  {
   "cell_type": "code",
   "execution_count": 54,
   "id": "robust-symposium",
   "metadata": {},
   "outputs": [
    {
     "data": {
      "text/plain": [
       "['a', 'b', 'c', 'd', 'e', 'f']"
      ]
     },
     "execution_count": 54,
     "metadata": {},
     "output_type": "execute_result"
    }
   ],
   "source": [
    "letters.append('f')\n",
    "letters"
   ]
  },
  {
   "cell_type": "code",
   "execution_count": 55,
   "id": "preliminary-operation",
   "metadata": {},
   "outputs": [
    {
     "data": {
      "text/plain": [
       "['a', 'b', 'c', 'd', 'e', 'f', 'a', 'x', 't']"
      ]
     },
     "execution_count": 55,
     "metadata": {},
     "output_type": "execute_result"
    }
   ],
   "source": [
    "# one at a time\n",
    "letters.append('a')\n",
    "letters.append('x')\n",
    "letters.append('t')\n",
    "letters"
   ]
  },
  {
   "cell_type": "markdown",
   "id": "hidden-harbor",
   "metadata": {},
   "source": [
    "**insert():**"
   ]
  },
  {
   "cell_type": "code",
   "execution_count": 56,
   "id": "lightweight-liability",
   "metadata": {},
   "outputs": [
    {
     "data": {
      "text/plain": [
       "['a', 'e', 'i', 'o', 'u']"
      ]
     },
     "execution_count": 56,
     "metadata": {},
     "output_type": "execute_result"
    }
   ],
   "source": [
    "vowels = ['a', 'e', 'i', 'o', 'u']\n",
    "vowels"
   ]
  },
  {
   "cell_type": "code",
   "execution_count": 57,
   "id": "contemporary-uzbekistan",
   "metadata": {},
   "outputs": [
    {
     "data": {
      "text/plain": [
       "['a', 'e', 'E', 'i', 'o', 'u']"
      ]
     },
     "execution_count": 57,
     "metadata": {},
     "output_type": "execute_result"
    }
   ],
   "source": [
    "# insert 'E' after 'e' \n",
    "# at index 2\n",
    "vowels.insert(2, 'E')\n",
    "vowels"
   ]
  },
  {
   "cell_type": "markdown",
   "id": "capital-audit",
   "metadata": {},
   "source": [
    "**extend():**"
   ]
  },
  {
   "cell_type": "code",
   "execution_count": 58,
   "id": "completed-settle",
   "metadata": {},
   "outputs": [],
   "source": [
    "# define two different lists\n",
    "letters = ['a', 'b', 'c', 'd', 'e']\n",
    "t = [1, 2, 3, 4, 5, 6, 7, 8, 9]"
   ]
  },
  {
   "cell_type": "code",
   "execution_count": 59,
   "id": "brilliant-episode",
   "metadata": {},
   "outputs": [],
   "source": [
    "# extend the letters list with t\n",
    "letters.extend(t)"
   ]
  },
  {
   "cell_type": "code",
   "execution_count": 60,
   "id": "opened-insertion",
   "metadata": {},
   "outputs": [
    {
     "data": {
      "text/plain": [
       "['a', 'b', 'c', 'd', 'e', 1, 2, 3, 4, 5, 6, 7, 8, 9]"
      ]
     },
     "execution_count": 60,
     "metadata": {},
     "output_type": "execute_result"
    }
   ],
   "source": [
    "# print the final value of letters\n",
    "letters"
   ]
  },
  {
   "cell_type": "markdown",
   "id": "american-truth",
   "metadata": {},
   "source": [
    "**sort():**"
   ]
  },
  {
   "cell_type": "code",
   "execution_count": 61,
   "id": "looking-devil",
   "metadata": {},
   "outputs": [
    {
     "data": {
      "text/plain": [
       "[1, 2, 3, 4, 5, 6, 7, 8, 9]"
      ]
     },
     "execution_count": 61,
     "metadata": {},
     "output_type": "execute_result"
    }
   ],
   "source": [
    "# define a list with unsorted elements\n",
    "t = [4, 2, 3, 1, 5, 6, 9, 8, 7]\n",
    "# sorts the list in-place\n",
    "t.sort()\n",
    "t"
   ]
  },
  {
   "cell_type": "code",
   "execution_count": 62,
   "id": "intermediate-ranking",
   "metadata": {},
   "outputs": [
    {
     "data": {
      "text/plain": [
       "['a', 'b', 'c', 'd']"
      ]
     },
     "execution_count": 62,
     "metadata": {},
     "output_type": "execute_result"
    }
   ],
   "source": [
    "# define an unsorted list\n",
    "a = ['c', 'b', 'a', 'd']\n",
    "a.sort()\n",
    "a"
   ]
  },
  {
   "cell_type": "markdown",
   "id": "overhead-covering",
   "metadata": {},
   "source": [
    "**reverse:**\n",
    "\n",
    "* `reverse=False` -> sorts ascending (default)\n",
    "* `reverse=True` -> sorts descending"
   ]
  },
  {
   "cell_type": "code",
   "execution_count": 63,
   "id": "radical-engagement",
   "metadata": {},
   "outputs": [
    {
     "data": {
      "text/plain": [
       "['a', 'b', 'c', 'd']"
      ]
     },
     "execution_count": 63,
     "metadata": {},
     "output_type": "execute_result"
    }
   ],
   "source": [
    "# reverse = False\n",
    "a = ['c', 'b', 'a', 'd']\n",
    "a.sort(reverse=False)\n",
    "a"
   ]
  },
  {
   "cell_type": "code",
   "execution_count": 64,
   "id": "backed-lender",
   "metadata": {},
   "outputs": [
    {
     "data": {
      "text/plain": [
       "['d', 'c', 'b', 'a']"
      ]
     },
     "execution_count": 64,
     "metadata": {},
     "output_type": "execute_result"
    }
   ],
   "source": [
    "# reverse = True\n",
    "a.sort(reverse=True)\n",
    "a"
   ]
  },
  {
   "cell_type": "markdown",
   "id": "innovative-control",
   "metadata": {},
   "source": [
    "**sorted():**"
   ]
  },
  {
   "cell_type": "code",
   "execution_count": 65,
   "id": "sonic-marijuana",
   "metadata": {},
   "outputs": [
    {
     "data": {
      "text/plain": [
       "['c', 'b', 'a', 'd']"
      ]
     },
     "execution_count": 65,
     "metadata": {},
     "output_type": "execute_result"
    }
   ],
   "source": [
    "a = ['c', 'b', 'a', 'd']\n",
    "a"
   ]
  },
  {
   "cell_type": "code",
   "execution_count": 66,
   "id": "blessed-algeria",
   "metadata": {},
   "outputs": [
    {
     "data": {
      "text/plain": [
       "['a', 'b', 'c', 'd']"
      ]
     },
     "execution_count": 66,
     "metadata": {},
     "output_type": "execute_result"
    }
   ],
   "source": [
    "# sorted(<list>)\n",
    "b = sorted(a)\n",
    "b"
   ]
  },
  {
   "cell_type": "code",
   "execution_count": 67,
   "id": "latest-visiting",
   "metadata": {},
   "outputs": [
    {
     "data": {
      "text/plain": [
       "['c', 'b', 'a', 'd']"
      ]
     },
     "execution_count": 67,
     "metadata": {},
     "output_type": "execute_result"
    }
   ],
   "source": [
    "# a is unchanged\n",
    "a"
   ]
  },
  {
   "cell_type": "code",
   "execution_count": 68,
   "id": "blind-fight",
   "metadata": {},
   "outputs": [
    {
     "data": {
      "text/plain": [
       "['d', 'c', 'b', 'a']"
      ]
     },
     "execution_count": 68,
     "metadata": {},
     "output_type": "execute_result"
    }
   ],
   "source": [
    "# sort in reverse order\n",
    "d = sorted(a, reverse=True)\n",
    "d"
   ]
  },
  {
   "cell_type": "markdown",
   "id": "joined-chase",
   "metadata": {},
   "source": [
    "## Deleting Elements from a List"
   ]
  },
  {
   "cell_type": "markdown",
   "id": "italic-pregnancy",
   "metadata": {},
   "source": [
    "We have various ways to delete elements from a list:"
   ]
  },
  {
   "cell_type": "markdown",
   "id": "waiting-green",
   "metadata": {},
   "source": [
    "* 1 - If we know the index to delete -> **pop(index)**\n",
    "\n",
    "**pop(index)** removes the element from the list and returns that element."
   ]
  },
  {
   "cell_type": "code",
   "execution_count": 69,
   "id": "surprised-bowling",
   "metadata": {},
   "outputs": [
    {
     "data": {
      "text/plain": [
       "['x', 'y', 'z', 't']"
      ]
     },
     "execution_count": 69,
     "metadata": {},
     "output_type": "execute_result"
    }
   ],
   "source": [
    "a_list = ['x', 'y', 'z', 't']\n",
    "a_list"
   ]
  },
  {
   "cell_type": "code",
   "execution_count": 70,
   "id": "another-fiction",
   "metadata": {},
   "outputs": [
    {
     "data": {
      "text/plain": [
       "'z'"
      ]
     },
     "execution_count": 70,
     "metadata": {},
     "output_type": "execute_result"
    }
   ],
   "source": [
    "# delete element at index 2\n",
    "deleted_element = a_list.pop(2)\n",
    "deleted_element"
   ]
  },
  {
   "cell_type": "code",
   "execution_count": 71,
   "id": "terminal-cricket",
   "metadata": {},
   "outputs": [
    {
     "data": {
      "text/plain": [
       "['x', 'y', 't']"
      ]
     },
     "execution_count": 71,
     "metadata": {},
     "output_type": "execute_result"
    }
   ],
   "source": [
    "# print a_list after we delete an element\n",
    "a_list"
   ]
  },
  {
   "cell_type": "markdown",
   "id": "based-juvenile",
   "metadata": {},
   "source": [
    "**pop()**: With no index -> pop() deletes the last element."
   ]
  },
  {
   "cell_type": "code",
   "execution_count": 72,
   "id": "diverse-count",
   "metadata": {},
   "outputs": [
    {
     "data": {
      "text/plain": [
       "'t'"
      ]
     },
     "execution_count": 72,
     "metadata": {},
     "output_type": "execute_result"
    }
   ],
   "source": [
    "del_el = a_list.pop()\n",
    "del_el"
   ]
  },
  {
   "cell_type": "code",
   "execution_count": 73,
   "id": "restricted-average",
   "metadata": {},
   "outputs": [
    {
     "data": {
      "text/plain": [
       "['x', 'y']"
      ]
     },
     "execution_count": 73,
     "metadata": {},
     "output_type": "execute_result"
    }
   ],
   "source": [
    "a_list"
   ]
  },
  {
   "cell_type": "markdown",
   "id": "finnish-tablet",
   "metadata": {},
   "source": [
    "* 2 - We do not need the deleted element-> **del**\n",
    "\n",
    "**del** removes the element from the list and returns None."
   ]
  },
  {
   "cell_type": "code",
   "execution_count": 74,
   "id": "genetic-geometry",
   "metadata": {},
   "outputs": [
    {
     "data": {
      "text/plain": [
       "['k', 'l', 'm', 'n', 'o']"
      ]
     },
     "execution_count": 74,
     "metadata": {},
     "output_type": "execute_result"
    }
   ],
   "source": [
    "my_list = ['k', 'l', 'm', 'n', 'o']\n",
    "my_list"
   ]
  },
  {
   "cell_type": "code",
   "execution_count": 75,
   "id": "military-sampling",
   "metadata": {},
   "outputs": [],
   "source": [
    "# delete element at index 3\n",
    "del my_list[3]"
   ]
  },
  {
   "cell_type": "code",
   "execution_count": 76,
   "id": "minor-identity",
   "metadata": {},
   "outputs": [
    {
     "data": {
      "text/plain": [
       "['k', 'l', 'm', 'o']"
      ]
     },
     "execution_count": 76,
     "metadata": {},
     "output_type": "execute_result"
    }
   ],
   "source": [
    "# my_list after deletion\n",
    "my_list"
   ]
  },
  {
   "cell_type": "code",
   "execution_count": 77,
   "id": "minus-rogers",
   "metadata": {},
   "outputs": [
    {
     "data": {
      "text/plain": [
       "['k', 'l', 'm', 'n', 'o', 'p', 'r']"
      ]
     },
     "execution_count": 77,
     "metadata": {},
     "output_type": "execute_result"
    }
   ],
   "source": [
    "# redefine the list\n",
    "my_list = ['k', 'l', 'm', 'n', 'o', 'p', 'r']\n",
    "my_list"
   ]
  },
  {
   "cell_type": "code",
   "execution_count": 78,
   "id": "extensive-heater",
   "metadata": {},
   "outputs": [],
   "source": [
    "# delete indices from 1-5\n",
    "del my_list[1:5]"
   ]
  },
  {
   "cell_type": "code",
   "execution_count": 79,
   "id": "heavy-carbon",
   "metadata": {},
   "outputs": [
    {
     "data": {
      "text/plain": [
       "['k', 'p', 'r']"
      ]
     },
     "execution_count": 79,
     "metadata": {},
     "output_type": "execute_result"
    }
   ],
   "source": [
    "# my_list after deletion\n",
    "my_list"
   ]
  },
  {
   "cell_type": "markdown",
   "id": "current-dress",
   "metadata": {},
   "source": [
    "* 3 - We know the element itself to delete -> **remove(element)**\n",
    "\n",
    "**remove(element)** removes the element from the list."
   ]
  },
  {
   "cell_type": "code",
   "execution_count": 80,
   "id": "collectible-mexico",
   "metadata": {},
   "outputs": [
    {
     "data": {
      "text/plain": [
       "['k', 'l', 'm', 'n', 'o', 'p', 'r']"
      ]
     },
     "execution_count": 80,
     "metadata": {},
     "output_type": "execute_result"
    }
   ],
   "source": [
    "# redefine my_list\n",
    "my_list = ['k', 'l', 'm', 'n', 'o', 'p', 'r']\n",
    "my_list"
   ]
  },
  {
   "cell_type": "code",
   "execution_count": 81,
   "id": "distributed-bikini",
   "metadata": {},
   "outputs": [],
   "source": [
    "# remove element 'm' from my_list\n",
    "my_list.remove('m')"
   ]
  },
  {
   "cell_type": "code",
   "execution_count": 82,
   "id": "pursuant-knife",
   "metadata": {},
   "outputs": [
    {
     "data": {
      "text/plain": [
       "['k', 'l', 'n', 'o', 'p', 'r']"
      ]
     },
     "execution_count": 82,
     "metadata": {},
     "output_type": "execute_result"
    }
   ],
   "source": [
    "# my_list after remove\n",
    "my_list"
   ]
  },
  {
   "cell_type": "code",
   "execution_count": 83,
   "id": "consecutive-maple",
   "metadata": {},
   "outputs": [],
   "source": [
    "# remove two more elements\n",
    "my_list.remove('o')\n",
    "my_list.remove('r')"
   ]
  },
  {
   "cell_type": "code",
   "execution_count": 84,
   "id": "central-victorian",
   "metadata": {},
   "outputs": [
    {
     "data": {
      "text/plain": [
       "['k', 'l', 'n', 'p']"
      ]
     },
     "execution_count": 84,
     "metadata": {},
     "output_type": "execute_result"
    }
   ],
   "source": [
    "# my_list after remove\n",
    "my_list"
   ]
  },
  {
   "cell_type": "code",
   "execution_count": 85,
   "id": "turkish-monitoring",
   "metadata": {},
   "outputs": [
    {
     "ename": "ValueError",
     "evalue": "list.remove(x): x not in list",
     "output_type": "error",
     "traceback": [
      "\u001b[1;31m---------------------------------------------------------------------------\u001b[0m",
      "\u001b[1;31mValueError\u001b[0m                                Traceback (most recent call last)",
      "\u001b[1;32m<ipython-input-85-c965c2aef40c>\u001b[0m in \u001b[0;36m<module>\u001b[1;34m\u001b[0m\n\u001b[0;32m      1\u001b[0m \u001b[1;31m# try to remove an element which does not exist\u001b[0m\u001b[1;33m\u001b[0m\u001b[1;33m\u001b[0m\u001b[1;33m\u001b[0m\u001b[0m\n\u001b[1;32m----> 2\u001b[1;33m \u001b[0mmy_list\u001b[0m\u001b[1;33m.\u001b[0m\u001b[0mremove\u001b[0m\u001b[1;33m(\u001b[0m\u001b[1;34m'x'\u001b[0m\u001b[1;33m)\u001b[0m\u001b[1;33m\u001b[0m\u001b[1;33m\u001b[0m\u001b[0m\n\u001b[0m",
      "\u001b[1;31mValueError\u001b[0m: list.remove(x): x not in list"
     ]
    }
   ],
   "source": [
    "# try to remove an element which does not exist\n",
    "my_list.remove('x')"
   ]
  },
  {
   "cell_type": "markdown",
   "id": "conventional-range",
   "metadata": {},
   "source": [
    "## List & String"
   ]
  },
  {
   "cell_type": "markdown",
   "id": "returning-stable",
   "metadata": {},
   "source": [
    "String is a sequence of characters.\n",
    "\n",
    "List is a sequence of values."
   ]
  },
  {
   "cell_type": "markdown",
   "id": "consecutive-consideration",
   "metadata": {},
   "source": [
    "To convert a String into a List -> `list()`"
   ]
  },
  {
   "cell_type": "code",
   "execution_count": 86,
   "id": "tough-coach",
   "metadata": {},
   "outputs": [
    {
     "data": {
      "text/plain": [
       "str"
      ]
     },
     "execution_count": 86,
     "metadata": {},
     "output_type": "execute_result"
    }
   ],
   "source": [
    "day = 'Monday'\n",
    "type(day)"
   ]
  },
  {
   "cell_type": "code",
   "execution_count": 87,
   "id": "economic-facility",
   "metadata": {},
   "outputs": [
    {
     "data": {
      "text/plain": [
       "['M', 'o', 'n', 'd', 'a', 'y']"
      ]
     },
     "execution_count": 87,
     "metadata": {},
     "output_type": "execute_result"
    }
   ],
   "source": [
    "# convert the string into a list\n",
    "day_letters = list(day)\n",
    "day_letters"
   ]
  },
  {
   "cell_type": "code",
   "execution_count": 88,
   "id": "printable-system",
   "metadata": {},
   "outputs": [
    {
     "data": {
      "text/plain": [
       "list"
      ]
     },
     "execution_count": 88,
     "metadata": {},
     "output_type": "execute_result"
    }
   ],
   "source": [
    "type(day_letters)"
   ]
  },
  {
   "cell_type": "markdown",
   "id": "improved-yellow",
   "metadata": {},
   "source": [
    "**split():**"
   ]
  },
  {
   "cell_type": "code",
   "execution_count": 89,
   "id": "surrounded-cooper",
   "metadata": {},
   "outputs": [
    {
     "data": {
      "text/plain": [
       "'today is another day'"
      ]
     },
     "execution_count": 89,
     "metadata": {},
     "output_type": "execute_result"
    }
   ],
   "source": [
    "text = 'today is another day'\n",
    "text"
   ]
  },
  {
   "cell_type": "code",
   "execution_count": 90,
   "id": "pleased-vector",
   "metadata": {},
   "outputs": [
    {
     "data": {
      "text/plain": [
       "['today', 'is', 'another', 'day']"
      ]
     },
     "execution_count": 90,
     "metadata": {},
     "output_type": "execute_result"
    }
   ],
   "source": [
    "# get the words as a list -> split()\n",
    "words = text.split()\n",
    "words"
   ]
  },
  {
   "cell_type": "code",
   "execution_count": 91,
   "id": "olympic-office",
   "metadata": {},
   "outputs": [
    {
     "data": {
      "text/plain": [
       "'spam-spam-ham-spam-ham'"
      ]
     },
     "execution_count": 91,
     "metadata": {},
     "output_type": "execute_result"
    }
   ],
   "source": [
    "# split from another char than space -> -\n",
    "mailbox = 'spam-spam-ham-spam-ham'\n",
    "mailbox"
   ]
  },
  {
   "cell_type": "code",
   "execution_count": 92,
   "id": "headed-least",
   "metadata": {},
   "outputs": [
    {
     "data": {
      "text/plain": [
       "['spam', 'spam', 'ham', 'spam', 'ham']"
      ]
     },
     "execution_count": 92,
     "metadata": {},
     "output_type": "execute_result"
    }
   ],
   "source": [
    "mails = mailbox.split('-')\n",
    "mails"
   ]
  },
  {
   "cell_type": "markdown",
   "id": "acceptable-russian",
   "metadata": {},
   "source": [
    "**join():**\n",
    "\n",
    "Opposite of split."
   ]
  },
  {
   "cell_type": "code",
   "execution_count": 93,
   "id": "indoor-peninsula",
   "metadata": {},
   "outputs": [
    {
     "data": {
      "text/plain": [
       "['monday', 'is', 'the', 'first', 'day']"
      ]
     },
     "execution_count": 93,
     "metadata": {},
     "output_type": "execute_result"
    }
   ],
   "source": [
    "words = ['monday', 'is', 'the', 'first', 'day']\n",
    "words"
   ]
  },
  {
   "cell_type": "code",
   "execution_count": 94,
   "id": "dense-cycle",
   "metadata": {},
   "outputs": [
    {
     "data": {
      "text/plain": [
       "'monday-is-the-first-day'"
      ]
     },
     "execution_count": 94,
     "metadata": {},
     "output_type": "execute_result"
    }
   ],
   "source": [
    "# join with '-' char between items\n",
    "sentence = '-'.join(words)\n",
    "sentence"
   ]
  },
  {
   "cell_type": "code",
   "execution_count": 95,
   "id": "local-harrison",
   "metadata": {},
   "outputs": [
    {
     "data": {
      "text/plain": [
       "'monday is the first day'"
      ]
     },
     "execution_count": 95,
     "metadata": {},
     "output_type": "execute_result"
    }
   ],
   "source": [
    "# join with whitespace char between items\n",
    "sentence = ' '.join(words)\n",
    "sentence"
   ]
  },
  {
   "cell_type": "markdown",
   "id": "interstate-leader",
   "metadata": {},
   "source": [
    "## Creating a List with Range Function"
   ]
  },
  {
   "cell_type": "code",
   "execution_count": 96,
   "id": "necessary-mother",
   "metadata": {},
   "outputs": [
    {
     "data": {
      "text/plain": [
       "range(1, 10, 2)"
      ]
     },
     "execution_count": 96,
     "metadata": {},
     "output_type": "execute_result"
    }
   ],
   "source": [
    "# range(start, end, step)\n",
    "# start = 1\n",
    "# end = 10\n",
    "# step = 2\n",
    "range(1, 10, 2)"
   ]
  },
  {
   "cell_type": "code",
   "execution_count": 97,
   "id": "continental-discovery",
   "metadata": {},
   "outputs": [
    {
     "name": "stdout",
     "output_type": "stream",
     "text": [
      "1\n",
      "3\n",
      "5\n",
      "7\n",
      "9\n"
     ]
    }
   ],
   "source": [
    "for i in range(1, 10, 2):\n",
    "    print(i)"
   ]
  },
  {
   "cell_type": "code",
   "execution_count": 98,
   "id": "registered-boston",
   "metadata": {},
   "outputs": [],
   "source": [
    "# range of numbers from 2 up to 30 and the step size 3\n",
    "my_range = range(2, 33, 3)"
   ]
  },
  {
   "cell_type": "code",
   "execution_count": 99,
   "id": "graphic-water",
   "metadata": {},
   "outputs": [
    {
     "data": {
      "text/plain": [
       "[2, 5, 8, 11, 14, 17, 20, 23, 26, 29, 32]"
      ]
     },
     "execution_count": 99,
     "metadata": {},
     "output_type": "execute_result"
    }
   ],
   "source": [
    "# convert this range into a list\n",
    "range_list = list(my_range)\n",
    "range_list"
   ]
  },
  {
   "cell_type": "code",
   "execution_count": 100,
   "id": "congressional-function",
   "metadata": {},
   "outputs": [],
   "source": [
    "# start from 20 up to  100, step size 10\n",
    "range_two = range(20, 100, 10)"
   ]
  },
  {
   "cell_type": "code",
   "execution_count": 101,
   "id": "complimentary-deviation",
   "metadata": {},
   "outputs": [
    {
     "name": "stdout",
     "output_type": "stream",
     "text": [
      "[20, 30, 40, 50, 60, 70, 80, 90]\n"
     ]
    }
   ],
   "source": [
    "# convert this range into a list\n",
    "list_two = list(range_two)\n",
    "print(list_two)"
   ]
  },
  {
   "cell_type": "markdown",
   "id": "sound-alexandria",
   "metadata": {},
   "source": [
    "## Objects and Values"
   ]
  },
  {
   "cell_type": "code",
   "execution_count": 102,
   "id": "crazy-carnival",
   "metadata": {},
   "outputs": [],
   "source": [
    "# 2 strings with the same value\n",
    "a = 'apple'\n",
    "b = 'apple'"
   ]
  },
  {
   "cell_type": "code",
   "execution_count": 103,
   "id": "structured-transfer",
   "metadata": {},
   "outputs": [
    {
     "data": {
      "text/plain": [
       "2690455811248"
      ]
     },
     "execution_count": 103,
     "metadata": {},
     "output_type": "execute_result"
    }
   ],
   "source": [
    "# the id of variable a\n",
    "id(a)"
   ]
  },
  {
   "cell_type": "code",
   "execution_count": 104,
   "id": "incoming-orleans",
   "metadata": {},
   "outputs": [
    {
     "data": {
      "text/plain": [
       "2690455811248"
      ]
     },
     "execution_count": 104,
     "metadata": {},
     "output_type": "execute_result"
    }
   ],
   "source": [
    "# the id of variable b\n",
    "id(b)"
   ]
  },
  {
   "cell_type": "code",
   "execution_count": 105,
   "id": "incident-decision",
   "metadata": {},
   "outputs": [
    {
     "data": {
      "text/plain": [
       "True"
      ]
     },
     "execution_count": 105,
     "metadata": {},
     "output_type": "execute_result"
    }
   ],
   "source": [
    "# equality check\n",
    "a == b"
   ]
  },
  {
   "cell_type": "code",
   "execution_count": 106,
   "id": "utility-gathering",
   "metadata": {},
   "outputs": [
    {
     "data": {
      "text/plain": [
       "True"
      ]
     },
     "execution_count": 106,
     "metadata": {},
     "output_type": "execute_result"
    }
   ],
   "source": [
    "# identity check\n",
    "id(a) == id(b)"
   ]
  },
  {
   "cell_type": "markdown",
   "id": "thick-cliff",
   "metadata": {},
   "source": [
    "In Python these two varibles:\n",
    "\n",
    "a and b\n",
    "* have the same values\n",
    "* they are **Immutable** (str)\n",
    "\n",
    "Since their values are the same, and they are Immutable,\n",
    "\n",
    "Pyhton did not created two seprate varibles, instead it assign both to the same address.\n",
    "\n",
    "To save memory."
   ]
  },
  {
   "cell_type": "code",
   "execution_count": 107,
   "id": "atlantic-royal",
   "metadata": {},
   "outputs": [
    {
     "data": {
      "text/plain": [
       "'orange'"
      ]
     },
     "execution_count": 107,
     "metadata": {},
     "output_type": "execute_result"
    }
   ],
   "source": [
    "# reassign another value to variable b\n",
    "b = 'orange'\n",
    "b"
   ]
  },
  {
   "cell_type": "code",
   "execution_count": 108,
   "id": "separate-sequence",
   "metadata": {},
   "outputs": [
    {
     "data": {
      "text/plain": [
       "2690455811248"
      ]
     },
     "execution_count": 108,
     "metadata": {},
     "output_type": "execute_result"
    }
   ],
   "source": [
    "# the id of variable a\n",
    "id(a)"
   ]
  },
  {
   "cell_type": "code",
   "execution_count": 109,
   "id": "great-oliver",
   "metadata": {},
   "outputs": [
    {
     "data": {
      "text/plain": [
       "2690456899952"
      ]
     },
     "execution_count": 109,
     "metadata": {},
     "output_type": "execute_result"
    }
   ],
   "source": [
    "# the id of variable b\n",
    "id(b)"
   ]
  },
  {
   "cell_type": "markdown",
   "id": "fluid-division",
   "metadata": {},
   "source": [
    "From now on, a and b are NOT the same variable.\n",
    "\n",
    "Since we changed the value of b, Python has created a new address (id) for b."
   ]
  },
  {
   "cell_type": "code",
   "execution_count": 110,
   "id": "different-union",
   "metadata": {},
   "outputs": [
    {
     "data": {
      "text/plain": [
       "False"
      ]
     },
     "execution_count": 110,
     "metadata": {},
     "output_type": "execute_result"
    }
   ],
   "source": [
    "# equality check\n",
    "a == b"
   ]
  },
  {
   "cell_type": "code",
   "execution_count": 111,
   "id": "urban-skiing",
   "metadata": {},
   "outputs": [
    {
     "data": {
      "text/plain": [
       "False"
      ]
     },
     "execution_count": 111,
     "metadata": {},
     "output_type": "execute_result"
    }
   ],
   "source": [
    "# identity check\n",
    "id(a) == id(b)"
   ]
  },
  {
   "cell_type": "code",
   "execution_count": 112,
   "id": "former-laptop",
   "metadata": {},
   "outputs": [],
   "source": [
    "# Define 2 Lists\n",
    "x = [1, 2, 3]\n",
    "y = [1, 2, 3]"
   ]
  },
  {
   "cell_type": "code",
   "execution_count": 113,
   "id": "collective-horizontal",
   "metadata": {},
   "outputs": [
    {
     "data": {
      "text/plain": [
       "True"
      ]
     },
     "execution_count": 113,
     "metadata": {},
     "output_type": "execute_result"
    }
   ],
   "source": [
    "# equality check\n",
    "# == checks for values\n",
    "x == y"
   ]
  },
  {
   "cell_type": "code",
   "execution_count": 114,
   "id": "mighty-yeast",
   "metadata": {},
   "outputs": [
    {
     "data": {
      "text/plain": [
       "2690457047424"
      ]
     },
     "execution_count": 114,
     "metadata": {},
     "output_type": "execute_result"
    }
   ],
   "source": [
    "# id of x\n",
    "id(x)"
   ]
  },
  {
   "cell_type": "code",
   "execution_count": 115,
   "id": "measured-appendix",
   "metadata": {},
   "outputs": [
    {
     "data": {
      "text/plain": [
       "2690456940288"
      ]
     },
     "execution_count": 115,
     "metadata": {},
     "output_type": "execute_result"
    }
   ],
   "source": [
    "# id of y\n",
    "id(y)"
   ]
  },
  {
   "cell_type": "code",
   "execution_count": 116,
   "id": "minus-oliver",
   "metadata": {},
   "outputs": [
    {
     "data": {
      "text/plain": [
       "False"
      ]
     },
     "execution_count": 116,
     "metadata": {},
     "output_type": "execute_result"
    }
   ],
   "source": [
    "# identity check\n",
    "# object equality (not their values)\n",
    "id(x) == id(y)"
   ]
  },
  {
   "cell_type": "markdown",
   "id": "international-fitting",
   "metadata": {},
   "source": [
    "\n",
    "**x == y** check -> equality\n",
    "\n",
    "    * it checks values of two variables \n",
    "\n",
    "\n",
    "**id(x) == id(y)** check -> identical\n",
    "\n",
    "    * it checks two objects (address - id)"
   ]
  },
  {
   "cell_type": "markdown",
   "id": "crucial-stream",
   "metadata": {},
   "source": [
    "## is Statement"
   ]
  },
  {
   "cell_type": "markdown",
   "id": "increased-auckland",
   "metadata": {},
   "source": [
    "<pre>\n",
    "x == y           -> Value Comparison (Equality)\n",
    "\n",
    "id(x) == id(y)   -> Object Comparison (Identical)\n",
    "</pre>"
   ]
  },
  {
   "cell_type": "code",
   "execution_count": 117,
   "id": "pleasant-stroke",
   "metadata": {},
   "outputs": [],
   "source": [
    "# define 2 lists\n",
    "a = [1, 2, 3, 4, 5]\n",
    "b = [1, 2, 3, 4, 5]"
   ]
  },
  {
   "cell_type": "code",
   "execution_count": 118,
   "id": "enhanced-month",
   "metadata": {},
   "outputs": [
    {
     "data": {
      "text/plain": [
       "True"
      ]
     },
     "execution_count": 118,
     "metadata": {},
     "output_type": "execute_result"
    }
   ],
   "source": [
    "# value comparison\n",
    "a == b"
   ]
  },
  {
   "cell_type": "code",
   "execution_count": 119,
   "id": "helpful-student",
   "metadata": {},
   "outputs": [
    {
     "data": {
      "text/plain": [
       "False"
      ]
     },
     "execution_count": 119,
     "metadata": {},
     "output_type": "execute_result"
    }
   ],
   "source": [
    "# object comparison\n",
    "id(a) == id(b)"
   ]
  },
  {
   "cell_type": "code",
   "execution_count": 120,
   "id": "coral-carbon",
   "metadata": {},
   "outputs": [
    {
     "data": {
      "text/plain": [
       "False"
      ]
     },
     "execution_count": 120,
     "metadata": {},
     "output_type": "execute_result"
    }
   ],
   "source": [
    "# is statement\n",
    "# if they are identical\n",
    "a is b"
   ]
  },
  {
   "cell_type": "code",
   "execution_count": 121,
   "id": "going-theology",
   "metadata": {},
   "outputs": [],
   "source": [
    "# define 2 integers\n",
    "# int is Primitive\n",
    "a = 2\n",
    "b = 2"
   ]
  },
  {
   "cell_type": "code",
   "execution_count": 122,
   "id": "three-textbook",
   "metadata": {},
   "outputs": [
    {
     "data": {
      "text/plain": [
       "True"
      ]
     },
     "execution_count": 122,
     "metadata": {},
     "output_type": "execute_result"
    }
   ],
   "source": [
    "# value comparison\n",
    "a == b"
   ]
  },
  {
   "cell_type": "code",
   "execution_count": 123,
   "id": "victorian-carroll",
   "metadata": {},
   "outputs": [
    {
     "data": {
      "text/plain": [
       "True"
      ]
     },
     "execution_count": 123,
     "metadata": {},
     "output_type": "execute_result"
    }
   ],
   "source": [
    "# object comparison\n",
    "a is b"
   ]
  },
  {
   "cell_type": "code",
   "execution_count": 124,
   "id": "latin-nevada",
   "metadata": {},
   "outputs": [],
   "source": [
    "# reassign b\n",
    "b = 888"
   ]
  },
  {
   "cell_type": "code",
   "execution_count": 125,
   "id": "historic-butler",
   "metadata": {},
   "outputs": [
    {
     "data": {
      "text/plain": [
       "False"
      ]
     },
     "execution_count": 125,
     "metadata": {},
     "output_type": "execute_result"
    }
   ],
   "source": [
    "# object comparison\n",
    "a is b"
   ]
  },
  {
   "cell_type": "markdown",
   "id": "regulation-boutique",
   "metadata": {},
   "source": [
    "## Aliasing"
   ]
  },
  {
   "cell_type": "markdown",
   "id": "million-defendant",
   "metadata": {},
   "source": [
    "Aliasing means different names referring the same object.\n",
    "\n",
    "x  ----------------> Object A\n",
    "\n",
    "y  ----------------> Object A\n",
    "\n",
    "Since x and y refers to the same object (A) they are aliases."
   ]
  },
  {
   "cell_type": "markdown",
   "id": "preliminary-polymer",
   "metadata": {},
   "source": [
    "**In Python Types are:**\n",
    "\n",
    "* Primitive Types: int, float, string, bool\n",
    "\n",
    "* Non-Primitive Types: list, dict, tuple, ..."
   ]
  },
  {
   "cell_type": "markdown",
   "id": "plain-ceramic",
   "metadata": {},
   "source": [
    "**Primitive Types:**"
   ]
  },
  {
   "cell_type": "code",
   "execution_count": 126,
   "id": "resident-malpractice",
   "metadata": {},
   "outputs": [],
   "source": [
    "# assignment in Primitive Types\n",
    "x = 24\n",
    "y = x"
   ]
  },
  {
   "cell_type": "code",
   "execution_count": 127,
   "id": "higher-alarm",
   "metadata": {},
   "outputs": [
    {
     "data": {
      "text/plain": [
       "True"
      ]
     },
     "execution_count": 127,
     "metadata": {},
     "output_type": "execute_result"
    }
   ],
   "source": [
    "# object comparison\n",
    "x is y"
   ]
  },
  {
   "cell_type": "code",
   "execution_count": 128,
   "id": "canadian-theater",
   "metadata": {},
   "outputs": [],
   "source": [
    "# reassign y\n",
    "y = 40"
   ]
  },
  {
   "cell_type": "code",
   "execution_count": 129,
   "id": "growing-colon",
   "metadata": {},
   "outputs": [
    {
     "data": {
      "text/plain": [
       "False"
      ]
     },
     "execution_count": 129,
     "metadata": {},
     "output_type": "execute_result"
    }
   ],
   "source": [
    "# object comparison\n",
    "x is y"
   ]
  },
  {
   "cell_type": "markdown",
   "id": "matched-recovery",
   "metadata": {},
   "source": [
    "**Non-Primitive Types:**"
   ]
  },
  {
   "cell_type": "code",
   "execution_count": 130,
   "id": "photographic-fiction",
   "metadata": {},
   "outputs": [],
   "source": [
    "# Assignment in Non-Primitive Types\n",
    "a = [1, 2, 3, 4, 5, 6]\n",
    "b = a"
   ]
  },
  {
   "cell_type": "code",
   "execution_count": 131,
   "id": "consolidated-stable",
   "metadata": {},
   "outputs": [
    {
     "data": {
      "text/plain": [
       "True"
      ]
     },
     "execution_count": 131,
     "metadata": {},
     "output_type": "execute_result"
    }
   ],
   "source": [
    "# object comparison\n",
    "a is b"
   ]
  },
  {
   "cell_type": "code",
   "execution_count": 132,
   "id": "beneficial-commerce",
   "metadata": {},
   "outputs": [
    {
     "name": "stdout",
     "output_type": "stream",
     "text": [
      "a: [1, 2, 3, 4, 5, 6]\n",
      "b: [1, 2, 3, 4, 5, 6]\n"
     ]
    }
   ],
   "source": [
    "# print their values\n",
    "print('a:', a)\n",
    "print('b:', b)"
   ]
  },
  {
   "cell_type": "markdown",
   "id": "immune-nursery",
   "metadata": {},
   "source": [
    "Non-Primitive Type -> Reassignment"
   ]
  },
  {
   "cell_type": "code",
   "execution_count": 133,
   "id": "expensive-insurance",
   "metadata": {},
   "outputs": [],
   "source": [
    "# reassign b\n",
    "b = [10, 20, 30, 40, 50, 60]"
   ]
  },
  {
   "cell_type": "code",
   "execution_count": 134,
   "id": "hollow-authority",
   "metadata": {},
   "outputs": [
    {
     "name": "stdout",
     "output_type": "stream",
     "text": [
      "a: [1, 2, 3, 4, 5, 6]\n",
      "b: [10, 20, 30, 40, 50, 60]\n"
     ]
    }
   ],
   "source": [
    "# print their values\n",
    "print('a:', a)\n",
    "print('b:', b)"
   ]
  },
  {
   "cell_type": "markdown",
   "id": "experimental-connecticut",
   "metadata": {},
   "source": [
    "What if we **mutate** b?"
   ]
  },
  {
   "cell_type": "code",
   "execution_count": 135,
   "id": "proved-person",
   "metadata": {},
   "outputs": [],
   "source": [
    "# Assignment in Non-Primitive Types\n",
    "a = [1, 2, 3, 4, 5, 6]\n",
    "b = a"
   ]
  },
  {
   "cell_type": "code",
   "execution_count": 136,
   "id": "moved-radius",
   "metadata": {},
   "outputs": [
    {
     "data": {
      "text/plain": [
       "True"
      ]
     },
     "execution_count": 136,
     "metadata": {},
     "output_type": "execute_result"
    }
   ],
   "source": [
    "# object comparison\n",
    "a is b"
   ]
  },
  {
   "cell_type": "code",
   "execution_count": 137,
   "id": "important-dollar",
   "metadata": {},
   "outputs": [],
   "source": [
    "# mutate b\n",
    "b[0] = 'A'\n",
    "b[1] = 'B'"
   ]
  },
  {
   "cell_type": "code",
   "execution_count": 138,
   "id": "turkish-tutorial",
   "metadata": {},
   "outputs": [
    {
     "data": {
      "text/plain": [
       "['A', 'B', 3, 4, 5, 6]"
      ]
     },
     "execution_count": 138,
     "metadata": {},
     "output_type": "execute_result"
    }
   ],
   "source": [
    "# print b\n",
    "b"
   ]
  },
  {
   "cell_type": "code",
   "execution_count": 139,
   "id": "annual-borough",
   "metadata": {},
   "outputs": [
    {
     "data": {
      "text/plain": [
       "['A', 'B', 3, 4, 5, 6]"
      ]
     },
     "execution_count": 139,
     "metadata": {},
     "output_type": "execute_result"
    }
   ],
   "source": [
    "# a has been mutated\n",
    "a"
   ]
  },
  {
   "cell_type": "code",
   "execution_count": 140,
   "id": "printable-october",
   "metadata": {},
   "outputs": [
    {
     "name": "stdout",
     "output_type": "stream",
     "text": [
      "a: ['A', 'B', 3, 4, 5, 6]\n",
      "b: ['A', 'B', 3, 4, 5, 6]\n"
     ]
    }
   ],
   "source": [
    "# print their values\n",
    "print('a:', a)\n",
    "print('b:', b)"
   ]
  },
  {
   "cell_type": "code",
   "execution_count": 141,
   "id": "legislative-reach",
   "metadata": {},
   "outputs": [
    {
     "data": {
      "text/plain": [
       "True"
      ]
     },
     "execution_count": 141,
     "metadata": {},
     "output_type": "execute_result"
    }
   ],
   "source": [
    "# object comparison\n",
    "a is b"
   ]
  },
  {
   "cell_type": "markdown",
   "id": "oriental-stand",
   "metadata": {},
   "source": [
    "For **Mutabale** types **mutation** does not break aliasing.\n",
    "\n",
    "a and b are still the same  object, because we mutated b."
   ]
  },
  {
   "cell_type": "markdown",
   "id": "protective-effort",
   "metadata": {},
   "source": [
    "## List as a Function Argument"
   ]
  },
  {
   "cell_type": "markdown",
   "id": "minimal-intermediate",
   "metadata": {},
   "source": [
    "### Mutate the List inside the function"
   ]
  },
  {
   "cell_type": "code",
   "execution_count": 142,
   "id": "genuine-immunology",
   "metadata": {},
   "outputs": [
    {
     "name": "stdout",
     "output_type": "stream",
     "text": [
      "before passing to function: ['a', 'b', 'c']\n",
      "before passing to function: ['a', 'A', 'b', 'B', 'c', 'C']\n"
     ]
    }
   ],
   "source": [
    "# Example\n",
    "letters = ['a', 'b', 'c']\n",
    "\n",
    "print(\"before passing to function:\", letters)\n",
    "\n",
    "def add_upper_cases(list_of_letters):\n",
    "    # mutation\n",
    "    list_of_letters.insert(1, 'A')\n",
    "    list_of_letters.insert(3, 'B')\n",
    "    list_of_letters.insert(5, 'C')\n",
    "    \n",
    "# call the function with the list\n",
    "add_upper_cases(letters)\n",
    "\n",
    "print(\"before passing to function:\", letters)"
   ]
  },
  {
   "cell_type": "code",
   "execution_count": 143,
   "id": "renewable-employment",
   "metadata": {},
   "outputs": [
    {
     "data": {
      "text/plain": [
       "['a', 'A', 'b', 'B', 'c', 'C']"
      ]
     },
     "execution_count": 143,
     "metadata": {},
     "output_type": "execute_result"
    }
   ],
   "source": [
    "letters"
   ]
  },
  {
   "cell_type": "markdown",
   "id": "occupied-perspective",
   "metadata": {},
   "source": [
    "When you pass a Non-Primitive Type (List) as a function parameter:\n",
    "\n",
    "* the pass by reference (they pass as the same objcet)\n",
    "* if you mutate the parameter inside the function -> original list will be mutated"
   ]
  },
  {
   "cell_type": "markdown",
   "id": "thrown-nature",
   "metadata": {},
   "source": [
    "### Reassing the List inside the function"
   ]
  },
  {
   "cell_type": "code",
   "execution_count": 144,
   "id": "precious-words",
   "metadata": {},
   "outputs": [
    {
     "name": "stdout",
     "output_type": "stream",
     "text": [
      "before passing to function: ['a', 'b', 'c']\n",
      "before passing to function: ['a', 'b', 'c']\n"
     ]
    }
   ],
   "source": [
    "# Example\n",
    "letters = ['a', 'b', 'c']\n",
    "\n",
    "print(\"before passing to function:\", letters)\n",
    "\n",
    "def add_upper_cases(list_of_letters):\n",
    "    # reassignment\n",
    "    list_of_letters = ['X', 'Y', 'Z']\n",
    "    \n",
    "# call the function with the list\n",
    "add_upper_cases(letters)\n",
    "\n",
    "print(\"before passing to function:\", letters)"
   ]
  },
  {
   "cell_type": "markdown",
   "id": "immune-concentration",
   "metadata": {},
   "source": [
    "When you pass a Non-Primitive Type (List) as a function parameter:\n",
    "\n",
    "* the pass by reference (they pass as the same objcet)\n",
    "* if you reassign the parameter inside the function -> \n",
    "    * Python will create a new list object inside the function\n",
    "    * original list will not be changed"
   ]
  }
 ],
 "metadata": {
  "kernelspec": {
   "display_name": "Python 3",
   "language": "python",
   "name": "python3"
  },
  "language_info": {
   "codemirror_mode": {
    "name": "ipython",
    "version": 3
   },
   "file_extension": ".py",
   "mimetype": "text/x-python",
   "name": "python",
   "nbconvert_exporter": "python",
   "pygments_lexer": "ipython3",
   "version": "3.8.8"
  }
 },
 "nbformat": 4,
 "nbformat_minor": 5
}
