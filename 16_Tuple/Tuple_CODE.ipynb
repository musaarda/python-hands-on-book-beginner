{
 "cells": [
  {
   "cell_type": "markdown",
   "id": "backed-canon",
   "metadata": {},
   "source": [
    "# Tuple"
   ]
  },
  {
   "cell_type": "markdown",
   "id": "computational-serbia",
   "metadata": {},
   "source": [
    "## Tuple Creation"
   ]
  },
  {
   "cell_type": "markdown",
   "id": "micro-synthetic",
   "metadata": {},
   "source": [
    "Tuple is a Sequence Type like String and List."
   ]
  },
  {
   "cell_type": "markdown",
   "id": "tight-yugoslavia",
   "metadata": {},
   "source": [
    "They can take any type as elements."
   ]
  },
  {
   "cell_type": "markdown",
   "id": "mathematical-citizen",
   "metadata": {},
   "source": [
    "Tuple's are indexed by integers (implicitly)."
   ]
  },
  {
   "cell_type": "markdown",
   "id": "reliable-graduate",
   "metadata": {},
   "source": [
    "They look like List.\n",
    "\n",
    "Main Difference:\n",
    "* List -> Mutable\n",
    "* Tuple -> Immutable"
   ]
  },
  {
   "cell_type": "markdown",
   "id": "adult-richardson",
   "metadata": {},
   "source": [
    "**Tuple** is a sequence seperated by comma."
   ]
  },
  {
   "cell_type": "markdown",
   "id": "boolean-greek",
   "metadata": {},
   "source": [
    "**Creating a Tuple by assigning elements seperated with comma**"
   ]
  },
  {
   "cell_type": "code",
   "execution_count": 1,
   "id": "tamil-occasion",
   "metadata": {},
   "outputs": [
    {
     "name": "stdout",
     "output_type": "stream",
     "text": [
      "('x', 'y', 'z', 'q', 'p')\n"
     ]
    }
   ],
   "source": [
    "t = 'x', 'y', 'z', 'q', 'p'\n",
    "print(t)"
   ]
  },
  {
   "cell_type": "code",
   "execution_count": 2,
   "id": "excellent-comparison",
   "metadata": {},
   "outputs": [
    {
     "data": {
      "text/plain": [
       "tuple"
      ]
     },
     "execution_count": 2,
     "metadata": {},
     "output_type": "execute_result"
    }
   ],
   "source": [
    "type(t)"
   ]
  },
  {
   "cell_type": "code",
   "execution_count": 3,
   "id": "retained-spare",
   "metadata": {},
   "outputs": [
    {
     "data": {
      "text/plain": [
       "(1, 2, 4, 6, 8, 20)"
      ]
     },
     "execution_count": 3,
     "metadata": {},
     "output_type": "execute_result"
    }
   ],
   "source": [
    "t2 = (1, 2, 4, 6, 8, 20)\n",
    "t2"
   ]
  },
  {
   "cell_type": "code",
   "execution_count": 4,
   "id": "directed-point",
   "metadata": {},
   "outputs": [
    {
     "data": {
      "text/plain": [
       "True"
      ]
     },
     "execution_count": 4,
     "metadata": {},
     "output_type": "execute_result"
    }
   ],
   "source": [
    "# check if t2 is a tuple\n",
    "isinstance(t2, tuple)"
   ]
  },
  {
   "cell_type": "markdown",
   "id": "native-snowboard",
   "metadata": {},
   "source": [
    "**Question:**\n",
    "\n",
    "How to create a typle with only one element?"
   ]
  },
  {
   "cell_type": "code",
   "execution_count": 5,
   "id": "prompt-optimum",
   "metadata": {},
   "outputs": [
    {
     "data": {
      "text/plain": [
       "str"
      ]
     },
     "execution_count": 5,
     "metadata": {},
     "output_type": "execute_result"
    }
   ],
   "source": [
    "one_tuple = 'x'\n",
    "type(one_tuple)"
   ]
  },
  {
   "cell_type": "code",
   "execution_count": 6,
   "id": "innocent-electronics",
   "metadata": {},
   "outputs": [
    {
     "data": {
      "text/plain": [
       "str"
      ]
     },
     "execution_count": 6,
     "metadata": {},
     "output_type": "execute_result"
    }
   ],
   "source": [
    "one_tuple = ('x')\n",
    "type(one_tuple)"
   ]
  },
  {
   "cell_type": "markdown",
   "id": "little-banks",
   "metadata": {},
   "source": [
    "**Answer:**\n",
    "    \n",
    "You add a comma after the element."
   ]
  },
  {
   "cell_type": "code",
   "execution_count": 7,
   "id": "affiliated-gnome",
   "metadata": {},
   "outputs": [
    {
     "name": "stdout",
     "output_type": "stream",
     "text": [
      "('x',)\n"
     ]
    },
    {
     "data": {
      "text/plain": [
       "tuple"
      ]
     },
     "execution_count": 7,
     "metadata": {},
     "output_type": "execute_result"
    }
   ],
   "source": [
    "one_tuple = ('x',)\n",
    "print(one_tuple)\n",
    "type(one_tuple)"
   ]
  },
  {
   "cell_type": "code",
   "execution_count": 8,
   "id": "quality-billion",
   "metadata": {},
   "outputs": [
    {
     "name": "stdout",
     "output_type": "stream",
     "text": [
      "('y',)\n"
     ]
    },
    {
     "data": {
      "text/plain": [
       "tuple"
      ]
     },
     "execution_count": 8,
     "metadata": {},
     "output_type": "execute_result"
    }
   ],
   "source": [
    "one_tuple_2 = 'y',\n",
    "print(one_tuple_2)\n",
    "type(one_tuple_2)"
   ]
  },
  {
   "cell_type": "markdown",
   "id": "alpine-wonder",
   "metadata": {},
   "source": [
    "**Create Tuple with -> `tuple()`**"
   ]
  },
  {
   "cell_type": "code",
   "execution_count": 9,
   "id": "adolescent-needle",
   "metadata": {},
   "outputs": [
    {
     "data": {
      "text/plain": [
       "()"
      ]
     },
     "execution_count": 9,
     "metadata": {},
     "output_type": "execute_result"
    }
   ],
   "source": [
    "# empty tuple\n",
    "t = tuple()\n",
    "t"
   ]
  },
  {
   "cell_type": "code",
   "execution_count": 10,
   "id": "monetary-banking",
   "metadata": {},
   "outputs": [
    {
     "data": {
      "text/plain": [
       "True"
      ]
     },
     "execution_count": 10,
     "metadata": {},
     "output_type": "execute_result"
    }
   ],
   "source": [
    "# check if t is a tuple\n",
    "isinstance(t, tuple)"
   ]
  },
  {
   "cell_type": "code",
   "execution_count": 11,
   "id": "wireless-bench",
   "metadata": {},
   "outputs": [
    {
     "data": {
      "text/plain": [
       "('x',)"
      ]
     },
     "execution_count": 11,
     "metadata": {},
     "output_type": "execute_result"
    }
   ],
   "source": [
    "# let's create a tuple with single element\n",
    "single = tuple('x')\n",
    "single"
   ]
  },
  {
   "cell_type": "markdown",
   "id": "transsexual-lesbian",
   "metadata": {},
   "source": [
    "**tuple()** -> enter a **string**, it will convert into a Tuple"
   ]
  },
  {
   "cell_type": "code",
   "execution_count": 12,
   "id": "collected-sample",
   "metadata": {},
   "outputs": [
    {
     "data": {
      "text/plain": [
       "('P', 'y', 't', 'h', 'o', 'n')"
      ]
     },
     "execution_count": 12,
     "metadata": {},
     "output_type": "execute_result"
    }
   ],
   "source": [
    "lang = tuple('Python')\n",
    "lang"
   ]
  },
  {
   "cell_type": "code",
   "execution_count": 13,
   "id": "dress-athletics",
   "metadata": {},
   "outputs": [
    {
     "data": {
      "text/plain": [
       "'P'"
      ]
     },
     "execution_count": 13,
     "metadata": {},
     "output_type": "execute_result"
    }
   ],
   "source": [
    "# get the first element of lang tuple\n",
    "lang[0]"
   ]
  },
  {
   "cell_type": "code",
   "execution_count": 14,
   "id": "forward-trace",
   "metadata": {},
   "outputs": [
    {
     "data": {
      "text/plain": [
       "'t'"
      ]
     },
     "execution_count": 14,
     "metadata": {},
     "output_type": "execute_result"
    }
   ],
   "source": [
    "# get the element at index 2\n",
    "lang[2]"
   ]
  },
  {
   "cell_type": "markdown",
   "id": "casual-zoning",
   "metadata": {},
   "source": [
    "**tuple()** -> enter a **list**, it will convert into a Tuple"
   ]
  },
  {
   "cell_type": "code",
   "execution_count": 15,
   "id": "colored-match",
   "metadata": {},
   "outputs": [
    {
     "data": {
      "text/plain": [
       "('A', 'B', 'C', 'D')"
      ]
     },
     "execution_count": 15,
     "metadata": {},
     "output_type": "execute_result"
    }
   ],
   "source": [
    "# define a list\n",
    "my_list = ['A', 'B', 'C', 'D']\n",
    "\n",
    "# pass my_list into tuple()\n",
    "list_tuple = tuple(my_list)\n",
    "\n",
    "# print the list_tuple\n",
    "list_tuple"
   ]
  },
  {
   "cell_type": "markdown",
   "id": "periodic-entrance",
   "metadata": {},
   "source": [
    "If there is indexing in a type -> `slicing`"
   ]
  },
  {
   "cell_type": "code",
   "execution_count": 16,
   "id": "infinite-search",
   "metadata": {},
   "outputs": [
    {
     "name": "stdout",
     "output_type": "stream",
     "text": [
      "('M', 'o', 'o', 'n', ' ', 'i', 's', ' ', 't', 'h', 'e', ' ', 'o', 'r', 'b', 'i', 't', ' ', 'o', 'f', ' ', 'E', 'a', 'r', 't', 'h', '.')\n"
     ]
    }
   ],
   "source": [
    "# define a text\n",
    "text = 'Moon is the orbit of Earth.'\n",
    "\n",
    "# convert the text into a tuple\n",
    "tup = tuple(text)\n",
    "\n",
    "# print the tuple\n",
    "print(tup)"
   ]
  },
  {
   "cell_type": "markdown",
   "id": "associate-village",
   "metadata": {},
   "source": [
    "`slicing[start, end, step]`"
   ]
  },
  {
   "cell_type": "code",
   "execution_count": 17,
   "id": "stable-consultancy",
   "metadata": {},
   "outputs": [
    {
     "data": {
      "text/plain": [
       "('M', 'o', 'o', 'n')"
      ]
     },
     "execution_count": 17,
     "metadata": {},
     "output_type": "execute_result"
    }
   ],
   "source": [
    "# slicing\n",
    "# slice the word -> Moon\n",
    "tup[0:4]"
   ]
  },
  {
   "cell_type": "code",
   "execution_count": 18,
   "id": "forbidden-volume",
   "metadata": {},
   "outputs": [
    {
     "data": {
      "text/plain": [
       "('E', 'a', 'r', 't', 'h')"
      ]
     },
     "execution_count": 18,
     "metadata": {},
     "output_type": "execute_result"
    }
   ],
   "source": [
    "# negative index -> start -1, right to left\n",
    "# Earth.\n",
    "# [-6 -5 -4 -3 -2] -1\n",
    "tup[-6:-1]"
   ]
  },
  {
   "cell_type": "code",
   "execution_count": 19,
   "id": "buried-nature",
   "metadata": {},
   "outputs": [
    {
     "name": "stdout",
     "output_type": "stream",
     "text": [
      "('M', 'o', 'o', 'n', ' ', 'i', 's', ' ', 't', 'h', 'e', ' ', 'o', 'r', 'b', 'i', 't', ' ', 'o', 'f', ' ', 'E', 'a', 'r', 't', 'h', '.')\n"
     ]
    }
   ],
   "source": [
    "# copy the whole tuple\n",
    "new_tup = tup[::]\n",
    "print(new_tup)"
   ]
  },
  {
   "cell_type": "code",
   "execution_count": 20,
   "id": "comprehensive-juice",
   "metadata": {},
   "outputs": [
    {
     "name": "stdout",
     "output_type": "stream",
     "text": [
      "('.', 'h', 't', 'r', 'a', 'E', ' ', 'f', 'o', ' ', 't', 'i', 'b', 'r', 'o', ' ', 'e', 'h', 't', ' ', 's', 'i', ' ', 'n', 'o', 'o', 'M')\n"
     ]
    }
   ],
   "source": [
    "# take the inverse of tuple\n",
    "inv_tup = tup[::-1]\n",
    "print(inv_tup)"
   ]
  },
  {
   "cell_type": "markdown",
   "id": "noble-butterfly",
   "metadata": {},
   "source": [
    "**Tuples are Immutable**"
   ]
  },
  {
   "cell_type": "code",
   "execution_count": 21,
   "id": "widespread-heading",
   "metadata": {},
   "outputs": [
    {
     "data": {
      "text/plain": [
       "(0, 1, 2, 34, 5)"
      ]
     },
     "execution_count": 21,
     "metadata": {},
     "output_type": "execute_result"
    }
   ],
   "source": [
    "t = tuple([0,1,2,34,5])\n",
    "t"
   ]
  },
  {
   "cell_type": "code",
   "execution_count": 22,
   "id": "classified-height",
   "metadata": {},
   "outputs": [
    {
     "data": {
      "text/plain": [
       "34"
      ]
     },
     "execution_count": 22,
     "metadata": {},
     "output_type": "execute_result"
    }
   ],
   "source": [
    "# see the item at index 3\n",
    "t[3]"
   ]
  },
  {
   "cell_type": "code",
   "execution_count": 23,
   "id": "determined-success",
   "metadata": {},
   "outputs": [
    {
     "ename": "TypeError",
     "evalue": "'tuple' object does not support item assignment",
     "output_type": "error",
     "traceback": [
      "\u001b[1;31m---------------------------------------------------------------------------\u001b[0m",
      "\u001b[1;31mTypeError\u001b[0m                                 Traceback (most recent call last)",
      "\u001b[1;32m<ipython-input-23-8b19d3a63e59>\u001b[0m in \u001b[0;36m<module>\u001b[1;34m\u001b[0m\n\u001b[0;32m      1\u001b[0m \u001b[1;31m# change the item at index 3\u001b[0m\u001b[1;33m\u001b[0m\u001b[1;33m\u001b[0m\u001b[1;33m\u001b[0m\u001b[0m\n\u001b[1;32m----> 2\u001b[1;33m \u001b[0mt\u001b[0m\u001b[1;33m[\u001b[0m\u001b[1;36m3\u001b[0m\u001b[1;33m]\u001b[0m \u001b[1;33m=\u001b[0m \u001b[1;36m3\u001b[0m\u001b[1;33m\u001b[0m\u001b[1;33m\u001b[0m\u001b[0m\n\u001b[0m",
      "\u001b[1;31mTypeError\u001b[0m: 'tuple' object does not support item assignment"
     ]
    }
   ],
   "source": [
    "# change the item at index 3\n",
    "t[3] = 3"
   ]
  },
  {
   "cell_type": "markdown",
   "id": "visible-orleans",
   "metadata": {},
   "source": [
    "TypeError: 'tuple' object does not support item assignment -> you can not **mutate** it"
   ]
  },
  {
   "cell_type": "code",
   "execution_count": 24,
   "id": "inner-particle",
   "metadata": {},
   "outputs": [
    {
     "data": {
      "text/plain": [
       "(0, 1, 2, 3, 4, 5)"
      ]
     },
     "execution_count": 24,
     "metadata": {},
     "output_type": "execute_result"
    }
   ],
   "source": [
    "# we will reassing it\n",
    "t = tuple([0,1,2,3,4,5])\n",
    "t"
   ]
  },
  {
   "cell_type": "markdown",
   "id": "cardiac-default",
   "metadata": {},
   "source": [
    "**Tuple Comparison**"
   ]
  },
  {
   "cell_type": "markdown",
   "id": "blond-productivity",
   "metadata": {},
   "source": [
    "Comparing Tuples -> the same as comparing Strings -> Alphabetical Order"
   ]
  },
  {
   "cell_type": "code",
   "execution_count": 25,
   "id": "boxed-rover",
   "metadata": {},
   "outputs": [
    {
     "data": {
      "text/plain": [
       "True"
      ]
     },
     "execution_count": 25,
     "metadata": {},
     "output_type": "execute_result"
    }
   ],
   "source": [
    "# String Comparison\n",
    "'abxc' < 'ated'"
   ]
  },
  {
   "cell_type": "code",
   "execution_count": 26,
   "id": "rational-classic",
   "metadata": {},
   "outputs": [
    {
     "data": {
      "text/plain": [
       "True"
      ]
     },
     "execution_count": 26,
     "metadata": {},
     "output_type": "execute_result"
    }
   ],
   "source": [
    "# Tuple Comparison\n",
    "('a', 'b', 'x', 'c') < ('a', 't', 'e', 'd')"
   ]
  },
  {
   "cell_type": "code",
   "execution_count": 27,
   "id": "indirect-affiliation",
   "metadata": {},
   "outputs": [
    {
     "data": {
      "text/plain": [
       "False"
      ]
     },
     "execution_count": 27,
     "metadata": {},
     "output_type": "execute_result"
    }
   ],
   "source": [
    "# String Comparison\n",
    "'abc' < 'aac'"
   ]
  },
  {
   "cell_type": "code",
   "execution_count": 28,
   "id": "advance-bobby",
   "metadata": {},
   "outputs": [
    {
     "data": {
      "text/plain": [
       "False"
      ]
     },
     "execution_count": 28,
     "metadata": {},
     "output_type": "execute_result"
    }
   ],
   "source": [
    "# Tuple Comparison\n",
    "tuple('abc') < tuple('aac')"
   ]
  },
  {
   "cell_type": "code",
   "execution_count": 29,
   "id": "unauthorized-trinity",
   "metadata": {},
   "outputs": [
    {
     "data": {
      "text/plain": [
       "True"
      ]
     },
     "execution_count": 29,
     "metadata": {},
     "output_type": "execute_result"
    }
   ],
   "source": [
    "# Tuple Comparison\n",
    "(1, 2, 3) < (5, 4, 3)"
   ]
  },
  {
   "cell_type": "code",
   "execution_count": 30,
   "id": "superior-necklace",
   "metadata": {},
   "outputs": [
    {
     "data": {
      "text/plain": [
       "True"
      ]
     },
     "execution_count": 30,
     "metadata": {},
     "output_type": "execute_result"
    }
   ],
   "source": [
    "# Tuple Comparison\n",
    "(5, 40, 200) < (6, 1, 3)"
   ]
  },
  {
   "cell_type": "code",
   "execution_count": 31,
   "id": "vietnamese-tsunami",
   "metadata": {},
   "outputs": [
    {
     "data": {
      "text/plain": [
       "False"
      ]
     },
     "execution_count": 31,
     "metadata": {},
     "output_type": "execute_result"
    }
   ],
   "source": [
    "# String Comparison\n",
    "'1243' < '1234'"
   ]
  },
  {
   "cell_type": "code",
   "execution_count": 32,
   "id": "accompanied-benjamin",
   "metadata": {},
   "outputs": [
    {
     "data": {
      "text/plain": [
       "False"
      ]
     },
     "execution_count": 32,
     "metadata": {},
     "output_type": "execute_result"
    }
   ],
   "source": [
    "# Tuple Comparison\n",
    "tuple('1243') < tuple('1234')"
   ]
  },
  {
   "cell_type": "markdown",
   "id": "cooked-heritage",
   "metadata": {},
   "source": [
    "## Tuple Assignment"
   ]
  },
  {
   "cell_type": "code",
   "execution_count": 33,
   "id": "clinical-february",
   "metadata": {},
   "outputs": [],
   "source": [
    "# define two variables\n",
    "a = 99\n",
    "b = 1"
   ]
  },
  {
   "cell_type": "code",
   "execution_count": 34,
   "id": "optimum-neighbor",
   "metadata": {},
   "outputs": [
    {
     "name": "stdout",
     "output_type": "stream",
     "text": [
      "before assignment:\n",
      "a:  99\n",
      "b:  1\n",
      "after assignment\n",
      "a:  1\n",
      "b:  99\n"
     ]
    }
   ],
   "source": [
    "# assing the value of a to b\n",
    "# and the value of b to a\n",
    "# a will be 1\n",
    "# b will be 99\n",
    "\n",
    "# Way 1 -> temporary variable\n",
    "\n",
    "print(\"before assignment:\")\n",
    "print('a: ', a)\n",
    "print('b: ', b)\n",
    "\n",
    "# assign a to temp\n",
    "temp = a\n",
    "\n",
    "# assign b to a\n",
    "a = b\n",
    "\n",
    "# assign temp to b\n",
    "b = temp\n",
    "\n",
    "print(\"after assignment\")\n",
    "print('a: ', a)\n",
    "print('b: ', b)"
   ]
  },
  {
   "cell_type": "markdown",
   "id": "dress-diving",
   "metadata": {},
   "source": [
    "We can change the value of variables -> `Tuple Assignment`"
   ]
  },
  {
   "cell_type": "code",
   "execution_count": 35,
   "id": "portable-finland",
   "metadata": {},
   "outputs": [
    {
     "name": "stdout",
     "output_type": "stream",
     "text": [
      "before assignment:\n",
      "a: 99\n",
      "b: 1\n",
      "after tuple assignment\n",
      "a: 1\n",
      "b: 99\n"
     ]
    }
   ],
   "source": [
    "# Tuple Assignment\n",
    "\n",
    "# initialize the variables\n",
    "a = 99\n",
    "b = 1\n",
    "\n",
    "print(\"before assignment:\")\n",
    "print('a:', a)\n",
    "print('b:', b)\n",
    "\n",
    "# tuple assignment\n",
    "a, b = b, a\n",
    "\n",
    "print(\"after tuple assignment\")\n",
    "print('a:', a)\n",
    "print('b:', b)"
   ]
  },
  {
   "cell_type": "markdown",
   "id": "manual-course",
   "metadata": {},
   "source": [
    "**Example:**\n",
    "\n",
    "num_1 = 500\n",
    "\n",
    "num_2 = 800\n",
    "\n",
    "via Tuple Assignment."
   ]
  },
  {
   "cell_type": "code",
   "execution_count": 36,
   "id": "accredited-shareware",
   "metadata": {},
   "outputs": [
    {
     "name": "stdout",
     "output_type": "stream",
     "text": [
      "num_1:  500\n",
      "num_2:  800\n"
     ]
    }
   ],
   "source": [
    "# tuple assignment to create two variables\n",
    "num_1, num_2 = 500, 800\n",
    "\n",
    "# print them\n",
    "print('num_1: ', num_1)\n",
    "print('num_2: ', num_2)"
   ]
  },
  {
   "cell_type": "markdown",
   "id": "lasting-ensemble",
   "metadata": {},
   "source": [
    "**Important:**\n",
    "\n",
    "In Tuple Assingment, number of variables must be the same for both sides."
   ]
  },
  {
   "cell_type": "code",
   "execution_count": 37,
   "id": "operating-performance",
   "metadata": {},
   "outputs": [
    {
     "ename": "ValueError",
     "evalue": "too many values to unpack (expected 2)",
     "output_type": "error",
     "traceback": [
      "\u001b[1;31m---------------------------------------------------------------------------\u001b[0m",
      "\u001b[1;31mValueError\u001b[0m                                Traceback (most recent call last)",
      "\u001b[1;32m<ipython-input-37-aee62c0e1ca7>\u001b[0m in \u001b[0;36m<module>\u001b[1;34m\u001b[0m\n\u001b[0;32m      1\u001b[0m \u001b[1;31m# number of items are different in two sides\u001b[0m\u001b[1;33m\u001b[0m\u001b[1;33m\u001b[0m\u001b[1;33m\u001b[0m\u001b[0m\n\u001b[1;32m----> 2\u001b[1;33m \u001b[0mnum_1\u001b[0m\u001b[1;33m,\u001b[0m \u001b[0mnum_2\u001b[0m \u001b[1;33m=\u001b[0m \u001b[1;36m500\u001b[0m\u001b[1;33m,\u001b[0m \u001b[1;36m800\u001b[0m\u001b[1;33m,\u001b[0m \u001b[1;36m600\u001b[0m\u001b[1;33m\u001b[0m\u001b[1;33m\u001b[0m\u001b[0m\n\u001b[0m",
      "\u001b[1;31mValueError\u001b[0m: too many values to unpack (expected 2)"
     ]
    }
   ],
   "source": [
    "# number of items are different in two sides\n",
    "num_1, num_2 = 500, 800, 600"
   ]
  },
  {
   "cell_type": "markdown",
   "id": "unsigned-annotation",
   "metadata": {},
   "source": [
    "**Example:**\n",
    "\n",
    "Split the user name and domain name from an email via Tuple Assingment."
   ]
  },
  {
   "cell_type": "code",
   "execution_count": 38,
   "id": "looking-humanitarian",
   "metadata": {},
   "outputs": [
    {
     "data": {
      "text/plain": [
       "['johndoe', 'example.com']"
      ]
     },
     "execution_count": 38,
     "metadata": {},
     "output_type": "execute_result"
    }
   ],
   "source": [
    "# split the string at the car '@'\n",
    "'johndoe@example.com'.split('@')"
   ]
  },
  {
   "cell_type": "code",
   "execution_count": 39,
   "id": "periodic-mirror",
   "metadata": {},
   "outputs": [],
   "source": [
    "# split the string and do tuple assignment\n",
    "user_name, domain = 'johndoe@example.com'.split('@')"
   ]
  },
  {
   "cell_type": "code",
   "execution_count": 40,
   "id": "planned-seller",
   "metadata": {},
   "outputs": [
    {
     "name": "stdout",
     "output_type": "stream",
     "text": [
      "johndoe\n",
      "example.com\n"
     ]
    }
   ],
   "source": [
    "print(user_name)\n",
    "print(domain)"
   ]
  },
  {
   "cell_type": "markdown",
   "id": "included-domain",
   "metadata": {},
   "source": [
    "**Example:**\n",
    "\n",
    "Assign each element of a list into a seperate variable via Tuple Assingment."
   ]
  },
  {
   "cell_type": "code",
   "execution_count": 41,
   "id": "wanted-marketing",
   "metadata": {},
   "outputs": [
    {
     "data": {
      "text/plain": [
       "['A', 'B', 'C', 'D']"
      ]
     },
     "execution_count": 41,
     "metadata": {},
     "output_type": "execute_result"
    }
   ],
   "source": [
    "# create a list\n",
    "my_list = ['A', 'B', 'C', 'D']\n",
    "my_list"
   ]
  },
  {
   "cell_type": "code",
   "execution_count": 42,
   "id": "bright-rapid",
   "metadata": {},
   "outputs": [],
   "source": [
    "# unpack list elements into seperate variables\n",
    "a, b, c, d = my_list"
   ]
  },
  {
   "cell_type": "code",
   "execution_count": 43,
   "id": "boxed-foster",
   "metadata": {},
   "outputs": [
    {
     "name": "stdout",
     "output_type": "stream",
     "text": [
      "a: A\n",
      "b: B\n",
      "c: C\n",
      "d: D\n"
     ]
    }
   ],
   "source": [
    "print('a:', a)\n",
    "print('b:', b)\n",
    "print('c:', c)\n",
    "print('d:', d)"
   ]
  },
  {
   "cell_type": "markdown",
   "id": "seventh-samuel",
   "metadata": {},
   "source": [
    "## Tuples and Functions"
   ]
  },
  {
   "cell_type": "markdown",
   "id": "right-syntax",
   "metadata": {},
   "source": [
    "You may notice that, functions can return only one value."
   ]
  },
  {
   "cell_type": "markdown",
   "id": "straight-british",
   "metadata": {},
   "source": [
    "**Question:** What we will do if we want the function to return multiple values."
   ]
  },
  {
   "cell_type": "markdown",
   "id": "owned-contract",
   "metadata": {},
   "source": [
    "**Answer:** `Tuple`"
   ]
  },
  {
   "cell_type": "markdown",
   "id": "circular-patrol",
   "metadata": {},
   "source": [
    "**As an example:**\n",
    "\n",
    "`divmod()` function takes two parameters: \n",
    "* dividend\n",
    "* divisor\n",
    "\n",
    "And returns a tuple of two results:\n",
    "* quotient\n",
    "* remainder"
   ]
  },
  {
   "cell_type": "code",
   "execution_count": 44,
   "id": "conventional-durham",
   "metadata": {},
   "outputs": [
    {
     "data": {
      "text/plain": [
       "(5, 3)"
      ]
     },
     "execution_count": 44,
     "metadata": {},
     "output_type": "execute_result"
    }
   ],
   "source": [
    "# divide 23 by 4\n",
    "result = divmod(23, 4)\n",
    "result"
   ]
  },
  {
   "cell_type": "code",
   "execution_count": 45,
   "id": "deadly-perfume",
   "metadata": {},
   "outputs": [
    {
     "name": "stdout",
     "output_type": "stream",
     "text": [
      "quotient: 5\n",
      "remainder: 3\n"
     ]
    }
   ],
   "source": [
    "# create separate variables -> quotient, remainder\n",
    "quotient = result[0]\n",
    "print('quotient:', quotient)\n",
    "\n",
    "remainder = result[1]\n",
    "print('remainder:', remainder)"
   ]
  },
  {
   "cell_type": "code",
   "execution_count": 46,
   "id": "moving-friendly",
   "metadata": {},
   "outputs": [
    {
     "name": "stdout",
     "output_type": "stream",
     "text": [
      "quotient: 5\n",
      "remainder: 3\n"
     ]
    }
   ],
   "source": [
    "# tuple assignment\n",
    "# unpacking\n",
    "quotient, remainder = divmod(23, 4)\n",
    "\n",
    "print('quotient:', quotient)\n",
    "print('remainder:', remainder)"
   ]
  },
  {
   "cell_type": "markdown",
   "id": "regional-booking",
   "metadata": {},
   "source": [
    "**Example:**\n",
    "\n",
    "Define a function with unknown parameters (*args).\n",
    "\n",
    "The fn will return the summation and multiplication result of these parameters."
   ]
  },
  {
   "cell_type": "code",
   "execution_count": 47,
   "id": "broadband-lighting",
   "metadata": {},
   "outputs": [],
   "source": [
    "def sum_and_multiply(*args):\n",
    "    print(args)\n",
    "    print(type(args))"
   ]
  },
  {
   "cell_type": "code",
   "execution_count": 48,
   "id": "floral-float",
   "metadata": {},
   "outputs": [
    {
     "name": "stdout",
     "output_type": "stream",
     "text": [
      "(2, 5, 4, 3)\n",
      "<class 'tuple'>\n"
     ]
    }
   ],
   "source": [
    "sum_and_multiply(2, 5, 4, 3)"
   ]
  },
  {
   "cell_type": "code",
   "execution_count": 49,
   "id": "mature-beatles",
   "metadata": {},
   "outputs": [],
   "source": [
    "# let's define\n",
    "def sum_and_multiply(*args):\n",
    "    \n",
    "    # summation\n",
    "    summation = sum(args)\n",
    "    \n",
    "    # multiplication -> for loop\n",
    "    multiplication = 1\n",
    "    for arg in args:\n",
    "        multiplication *= arg    \n",
    "        \n",
    "    # return both results\n",
    "    return (summation, multiplication)"
   ]
  },
  {
   "cell_type": "code",
   "execution_count": 50,
   "id": "matched-algeria",
   "metadata": {},
   "outputs": [
    {
     "data": {
      "text/plain": [
       "(14, 120)"
      ]
     },
     "execution_count": 50,
     "metadata": {},
     "output_type": "execute_result"
    }
   ],
   "source": [
    "sum_and_multiply(2, 5, 4, 3)"
   ]
  },
  {
   "cell_type": "code",
   "execution_count": 51,
   "id": "excess-instrument",
   "metadata": {},
   "outputs": [
    {
     "name": "stdout",
     "output_type": "stream",
     "text": [
      "summation: 14\n",
      "multiplication: 120\n"
     ]
    }
   ],
   "source": [
    "# get the result elements from the tuple \n",
    "# via Tuple Assignment\n",
    "summation, multiplication = sum_and_multiply(2, 5, 4, 3)\n",
    "\n",
    "print('summation:', summation)\n",
    "print('multiplication:', multiplication)"
   ]
  },
  {
   "cell_type": "markdown",
   "id": "creative-problem",
   "metadata": {},
   "source": [
    "**Example:**\n",
    "\n",
    "Define a function taking a list as parameter.\n",
    "\n",
    "It will return:\n",
    "* min\n",
    "* max\n",
    "* mean (average)\n",
    "\n",
    "Use statistics for mean."
   ]
  },
  {
   "cell_type": "code",
   "execution_count": 52,
   "id": "scheduled-october",
   "metadata": {},
   "outputs": [],
   "source": [
    "# import the modules\n",
    "import statistics\n",
    "\n",
    "def simple_stats(a_list):\n",
    "    \n",
    "    # minimum\n",
    "    minimum = min(a_list)\n",
    "    \n",
    "    # maximum\n",
    "    maximum = max(a_list)\n",
    "    \n",
    "    # mean\n",
    "    mean = statistics.mean(a_list)\n",
    "    \n",
    "    # return -> tuple(min, max, average)\n",
    "    return (minimum, maximum, mean)"
   ]
  },
  {
   "cell_type": "code",
   "execution_count": 53,
   "id": "other-citizen",
   "metadata": {},
   "outputs": [
    {
     "name": "stdout",
     "output_type": "stream",
     "text": [
      "minimum: 1\n",
      "maximum: 5\n",
      "average: 3\n"
     ]
    }
   ],
   "source": [
    "# define a list\n",
    "my_list = [1, 2, 3, 4, 5]\n",
    "\n",
    "# call the function and unpack the result\n",
    "minimum, maximum, average = simple_stats(my_list)\n",
    "\n",
    "print('minimum:', minimum)\n",
    "print('maximum:', maximum)\n",
    "print('average:', average)"
   ]
  },
  {
   "cell_type": "markdown",
   "id": "organizational-dealer",
   "metadata": {},
   "source": [
    "## zip() Function"
   ]
  },
  {
   "cell_type": "markdown",
   "id": "alpha-introduction",
   "metadata": {},
   "source": [
    "In Python most of the time we need to use Lists and Tuples together."
   ]
  },
  {
   "cell_type": "markdown",
   "id": "early-version",
   "metadata": {},
   "source": [
    "We will learn `zip()` function to see how we manage this."
   ]
  },
  {
   "cell_type": "markdown",
   "id": "historical-florist",
   "metadata": {},
   "source": [
    "`zip()` function takes two or more Sequence Type parameters."
   ]
  },
  {
   "cell_type": "markdown",
   "id": "worse-bullet",
   "metadata": {},
   "source": [
    "**Sequence Type:** A type, you can access its elements via indices (int and implicit).\n",
    "* List\n",
    "* Tuple\n",
    "* String\n",
    "* Range"
   ]
  },
  {
   "cell_type": "markdown",
   "id": "unable-satellite",
   "metadata": {},
   "source": [
    "`zip()` \n",
    "* takes the corresponding elements (with the same indices) from the parameters\n",
    "* returns them as Zip Object (containing Tuples)"
   ]
  },
  {
   "cell_type": "code",
   "execution_count": 54,
   "id": "attractive-brown",
   "metadata": {},
   "outputs": [
    {
     "name": "stdout",
     "output_type": "stream",
     "text": [
      "<zip object at 0x000001C5BBDCB800>\n"
     ]
    }
   ],
   "source": [
    "# define a string and a list\n",
    "text = 'xyzt'\n",
    "a_list = [1, 2, 3, 4]\n",
    "\n",
    "# zip the string and the list\n",
    "zip_obj = zip(text, a_list) \n",
    "\n",
    "print(zip_obj)"
   ]
  },
  {
   "cell_type": "markdown",
   "id": "employed-greenhouse",
   "metadata": {},
   "source": [
    "`zip object` is an **iterator**.\n",
    "\n",
    "**Iterator:** is an object which you can loop over it."
   ]
  },
  {
   "cell_type": "code",
   "execution_count": 55,
   "id": "addressed-hawaiian",
   "metadata": {},
   "outputs": [
    {
     "name": "stdout",
     "output_type": "stream",
     "text": [
      "('x', 1)\n",
      "('y', 2)\n",
      "('z', 3)\n",
      "('t', 4)\n"
     ]
    }
   ],
   "source": [
    "# loop over zip_obj\n",
    "for z in zip_obj:\n",
    "    print(z)"
   ]
  },
  {
   "cell_type": "markdown",
   "id": "modified-handle",
   "metadata": {},
   "source": [
    "As you see, each element in the zip object is a Tuple.\n",
    "* First element is from the String\n",
    "* Second element is from the List"
   ]
  },
  {
   "cell_type": "code",
   "execution_count": 56,
   "id": "double-roller",
   "metadata": {},
   "outputs": [
    {
     "ename": "TypeError",
     "evalue": "'zip' object is not subscriptable",
     "output_type": "error",
     "traceback": [
      "\u001b[1;31m---------------------------------------------------------------------------\u001b[0m",
      "\u001b[1;31mTypeError\u001b[0m                                 Traceback (most recent call last)",
      "\u001b[1;32m<ipython-input-56-da1c815e9f26>\u001b[0m in \u001b[0;36m<module>\u001b[1;34m\u001b[0m\n\u001b[0;32m      1\u001b[0m \u001b[1;31m# try to get the item at index 0\u001b[0m\u001b[1;33m\u001b[0m\u001b[1;33m\u001b[0m\u001b[1;33m\u001b[0m\u001b[0m\n\u001b[1;32m----> 2\u001b[1;33m \u001b[0mzip_obj\u001b[0m\u001b[1;33m[\u001b[0m\u001b[1;36m0\u001b[0m\u001b[1;33m]\u001b[0m\u001b[1;33m\u001b[0m\u001b[1;33m\u001b[0m\u001b[0m\n\u001b[0m",
      "\u001b[1;31mTypeError\u001b[0m: 'zip' object is not subscriptable"
     ]
    }
   ],
   "source": [
    "# try to get the item at index 0\n",
    "zip_obj[0]"
   ]
  },
  {
   "cell_type": "markdown",
   "id": "wicked-cooper",
   "metadata": {},
   "source": [
    "You can not directly access the elements of zip object (iterator)."
   ]
  },
  {
   "cell_type": "markdown",
   "id": "colored-drilling",
   "metadata": {},
   "source": [
    "If you need to loop over the iterator more than once, you can assign it to a list."
   ]
  },
  {
   "cell_type": "code",
   "execution_count": 57,
   "id": "spatial-republican",
   "metadata": {},
   "outputs": [
    {
     "data": {
      "text/plain": [
       "[('A', 10), ('B', 20), ('C', 30), ('D', 40), ('E', 50)]"
      ]
     },
     "execution_count": 57,
     "metadata": {},
     "output_type": "execute_result"
    }
   ],
   "source": [
    "# define two lists\n",
    "d1 = ['A', 'B', 'C', 'D', 'E']\n",
    "d2 = [10, 20, 30, 40, 50]\n",
    "\n",
    "# zip the lists into a zip object\n",
    "new_zip = zip(d1, d2)\n",
    "\n",
    "# convert the zip object (iterator) to a list\n",
    "zip_list = list(new_zip)\n",
    "\n",
    "# print the list\n",
    "zip_list"
   ]
  },
  {
   "cell_type": "code",
   "execution_count": 58,
   "id": "fallen-airport",
   "metadata": {},
   "outputs": [
    {
     "data": {
      "text/plain": [
       "('C', 30)"
      ]
     },
     "execution_count": 58,
     "metadata": {},
     "output_type": "execute_result"
    }
   ],
   "source": [
    "zip_list[2]"
   ]
  },
  {
   "cell_type": "markdown",
   "id": "buried-mileage",
   "metadata": {},
   "source": [
    "**Question:**\n",
    "\n",
    "What happens if the parameters are in different length?"
   ]
  },
  {
   "cell_type": "markdown",
   "id": "refined-denmark",
   "metadata": {},
   "source": [
    "**Answer:** The minimum number will decide the final length."
   ]
  },
  {
   "cell_type": "code",
   "execution_count": 59,
   "id": "crude-livestock",
   "metadata": {},
   "outputs": [
    {
     "name": "stdout",
     "output_type": "stream",
     "text": [
      "<zip object at 0x000001C5BBDCA180>\n"
     ]
    }
   ],
   "source": [
    "# two lists with different lengths\n",
    "d1 = ['A', 'B', 'C', 'D', 'E']\n",
    "d2 = [10, 20, 30]\n",
    "\n",
    "# pass the lists to the zip function\n",
    "new_zip = zip(d1, d2)\n",
    "\n",
    "print(new_zip)"
   ]
  },
  {
   "cell_type": "code",
   "execution_count": 60,
   "id": "hungry-brick",
   "metadata": {},
   "outputs": [
    {
     "data": {
      "text/plain": [
       "[('A', 10), ('B', 20), ('C', 30)]"
      ]
     },
     "execution_count": 60,
     "metadata": {},
     "output_type": "execute_result"
    }
   ],
   "source": [
    "# assing the zip object to a list\n",
    "zip_list = list(new_zip)\n",
    "zip_list"
   ]
  },
  {
   "cell_type": "code",
   "execution_count": 61,
   "id": "alleged-family",
   "metadata": {},
   "outputs": [
    {
     "data": {
      "text/plain": [
       "3"
      ]
     },
     "execution_count": 61,
     "metadata": {},
     "output_type": "execute_result"
    }
   ],
   "source": [
    "# see the length of the zip_list\n",
    "len(zip_list)"
   ]
  },
  {
   "cell_type": "markdown",
   "id": "extensive-involvement",
   "metadata": {},
   "source": [
    "**Loop over the zip list -> get Tuples**"
   ]
  },
  {
   "cell_type": "code",
   "execution_count": 62,
   "id": "geographic-warner",
   "metadata": {},
   "outputs": [
    {
     "name": "stdout",
     "output_type": "stream",
     "text": [
      "('A', 10)\n",
      "('B', 20)\n",
      "('C', 30)\n"
     ]
    }
   ],
   "source": [
    "# loop over the zip_list\n",
    "for el in zip_list:\n",
    "    print(el)"
   ]
  },
  {
   "cell_type": "code",
   "execution_count": 63,
   "id": "broke-burns",
   "metadata": {},
   "outputs": [
    {
     "name": "stdout",
     "output_type": "stream",
     "text": [
      "A is from d1 - 10 is from d2\n",
      "B is from d1 - 20 is from d2\n",
      "C is from d1 - 30 is from d2\n"
     ]
    }
   ],
   "source": [
    "# tuple unpacking\n",
    "for d1_el, d2_el in zip_list:\n",
    "    print(\"{0} is from d1 - {1} is from d2\".format(d1_el, d2_el))"
   ]
  },
  {
   "cell_type": "markdown",
   "id": "extended-voltage",
   "metadata": {},
   "source": [
    "**Example:**\n",
    "\n",
    "Check the corresponding elements (at the same index) of two lists.\n",
    "\n",
    "And print them if they are equal. (common elements)"
   ]
  },
  {
   "cell_type": "code",
   "execution_count": 64,
   "id": "infrared-webster",
   "metadata": {},
   "outputs": [
    {
     "name": "stdout",
     "output_type": "stream",
     "text": [
      "B\n",
      "d\n",
      "F\n"
     ]
    }
   ],
   "source": [
    "# define two lists\n",
    "l1 = ['a', 'B', 'C', 'd', 'e', 'F']\n",
    "l2 = ['A', 'B', 'c', 'd', 'E', 'F']\n",
    "\n",
    "# loop over the zip of them\n",
    "for e1, e2 in zip(l1, l2):\n",
    "    # check it the items are the same\n",
    "    if e1 == e2:\n",
    "        print(e1)"
   ]
  },
  {
   "cell_type": "markdown",
   "id": "raised-salmon",
   "metadata": {},
   "source": [
    "## Tuple & Dictionary"
   ]
  },
  {
   "cell_type": "markdown",
   "id": "speaking-behavior",
   "metadata": {},
   "source": [
    "We learned that to get the elements of a Dictionary -> `items()`"
   ]
  },
  {
   "cell_type": "markdown",
   "id": "activated-penny",
   "metadata": {},
   "source": [
    "And this **items()** returns a list of **Tuples**."
   ]
  },
  {
   "cell_type": "code",
   "execution_count": 65,
   "id": "subsequent-element",
   "metadata": {},
   "outputs": [
    {
     "data": {
      "text/plain": [
       "{'A': 65, 'B': 66, 'C': 67, 'a': 97, 'b': 98, 'c': 99}"
      ]
     },
     "execution_count": 65,
     "metadata": {},
     "output_type": "execute_result"
    }
   ],
   "source": [
    "# ASCII codes of first 3 letters\n",
    "asciis = {\n",
    "    'A': ord('A'),\n",
    "    'B': ord('B'),\n",
    "    'C': ord('C'),\n",
    "    'a': ord('a'),\n",
    "    'b': ord('b'),\n",
    "    'c': ord('c')\n",
    "}\n",
    "\n",
    "asciis"
   ]
  },
  {
   "cell_type": "code",
   "execution_count": 66,
   "id": "clean-anime",
   "metadata": {},
   "outputs": [
    {
     "data": {
      "text/plain": [
       "dict_items([('A', 65), ('B', 66), ('C', 67), ('a', 97), ('b', 98), ('c', 99)])"
      ]
     },
     "execution_count": 66,
     "metadata": {},
     "output_type": "execute_result"
    }
   ],
   "source": [
    "# items()\n",
    "asciis.items()"
   ]
  },
  {
   "cell_type": "code",
   "execution_count": 67,
   "id": "level-finger",
   "metadata": {},
   "outputs": [
    {
     "name": "stdout",
     "output_type": "stream",
     "text": [
      "A 65\n",
      "B 66\n",
      "C 67\n",
      "a 97\n",
      "b 98\n",
      "c 99\n"
     ]
    }
   ],
   "source": [
    "# loop over items\n",
    "for key, value in asciis.items():\n",
    "    print(key, value)"
   ]
  },
  {
   "cell_type": "markdown",
   "id": "convertible-direction",
   "metadata": {},
   "source": [
    "**Remainder:**\n",
    "\n",
    "Dictionaries are not ordered types.\n",
    "\n",
    "We can not expect its items to be ordered.\n",
    "\n",
    "Because Dictionary does not use implict integer indexing."
   ]
  },
  {
   "cell_type": "code",
   "execution_count": 68,
   "id": "optional-observer",
   "metadata": {},
   "outputs": [
    {
     "ename": "KeyError",
     "evalue": "0",
     "output_type": "error",
     "traceback": [
      "\u001b[1;31m---------------------------------------------------------------------------\u001b[0m",
      "\u001b[1;31mKeyError\u001b[0m                                  Traceback (most recent call last)",
      "\u001b[1;32m<ipython-input-68-47aa4da59c7a>\u001b[0m in \u001b[0;36m<module>\u001b[1;34m\u001b[0m\n\u001b[0;32m      1\u001b[0m \u001b[1;31m# try to access the dict element with index\u001b[0m\u001b[1;33m\u001b[0m\u001b[1;33m\u001b[0m\u001b[1;33m\u001b[0m\u001b[0m\n\u001b[1;32m----> 2\u001b[1;33m \u001b[0masciis\u001b[0m\u001b[1;33m[\u001b[0m\u001b[1;36m0\u001b[0m\u001b[1;33m]\u001b[0m\u001b[1;33m\u001b[0m\u001b[1;33m\u001b[0m\u001b[0m\n\u001b[0m",
      "\u001b[1;31mKeyError\u001b[0m: 0"
     ]
    }
   ],
   "source": [
    "# try to access the dict element with index\n",
    "asciis[0]"
   ]
  },
  {
   "cell_type": "markdown",
   "id": "random-memory",
   "metadata": {},
   "source": [
    "**Convert Tuple List into a Dictionary:**"
   ]
  },
  {
   "cell_type": "markdown",
   "id": "overhead-trinity",
   "metadata": {},
   "source": [
    "We saw that **items()** returns the elements of a Dictionary as a list of Tuples.\n",
    "\n",
    "Now let's do the opposite.\n",
    "\n",
    "This time we will a list of Tuples and convert it into a Dictionary."
   ]
  },
  {
   "cell_type": "code",
   "execution_count": 69,
   "id": "historical-permission",
   "metadata": {},
   "outputs": [
    {
     "data": {
      "text/plain": [
       "[('January', 31), ('February', 28), ('March', 31), ('April', 30)]"
      ]
     },
     "execution_count": 69,
     "metadata": {},
     "output_type": "execute_result"
    }
   ],
   "source": [
    "# define a list of tuples\n",
    "months_days = [\n",
    "    ('January', 31),\n",
    "    ('February', 28),\n",
    "    ('March', 31),\n",
    "    ('April', 30)\n",
    "]\n",
    "\n",
    "months_days"
   ]
  },
  {
   "cell_type": "code",
   "execution_count": 70,
   "id": "binding-bennett",
   "metadata": {},
   "outputs": [
    {
     "data": {
      "text/plain": [
       "{'January': 31, 'February': 28, 'March': 31, 'April': 30}"
      ]
     },
     "execution_count": 70,
     "metadata": {},
     "output_type": "execute_result"
    }
   ],
   "source": [
    "# convert to a dictionary => dict()\n",
    "months = dict(months_days)\n",
    "months"
   ]
  },
  {
   "cell_type": "markdown",
   "id": "sweet-style",
   "metadata": {},
   "source": [
    "**Example:**\n",
    "\n",
    "Use `zip()` and `range()` functions to create a Dictionary of days in a week.\n",
    "* 1: Monday\n",
    "* 2: Tuesday\n",
    "* 3: Wednesday\n",
    "* 4: Thursday\n",
    "* 5: Friday\n",
    "* 6: Saturday\n",
    "* 7: Sunday"
   ]
  },
  {
   "cell_type": "code",
   "execution_count": 71,
   "id": "comfortable-identifier",
   "metadata": {},
   "outputs": [
    {
     "name": "stdout",
     "output_type": "stream",
     "text": [
      "<zip object at 0x000001C5BBD18480>\n"
     ]
    }
   ],
   "source": [
    "# define a list for the day names\n",
    "day_names = ['Monday', 'Tuesday', 'Wednesday', 'Thursday', 'Friday', 'Saturday', 'Sunday']\n",
    "\n",
    "# define a range for the numbers\n",
    "numbers = range(1, 8)\n",
    "\n",
    "# zip numbers and day_names\n",
    "days = zip(numbers, day_names)\n",
    "\n",
    "# print the zip object\n",
    "print(days)"
   ]
  },
  {
   "cell_type": "code",
   "execution_count": 72,
   "id": "mexican-english",
   "metadata": {},
   "outputs": [
    {
     "name": "stdout",
     "output_type": "stream",
     "text": [
      "{1: 'Monday', 2: 'Tuesday', 3: 'Wednesday', 4: 'Thursday', 5: 'Friday', 6: 'Saturday', 7: 'Sunday'}\n"
     ]
    }
   ],
   "source": [
    "# convert the zip object\n",
    "days_dict = dict(days)\n",
    "\n",
    "print(days_dict)"
   ]
  },
  {
   "cell_type": "code",
   "execution_count": 73,
   "id": "directed-chassis",
   "metadata": {},
   "outputs": [
    {
     "name": "stdout",
     "output_type": "stream",
     "text": [
      "{1: 'Monday', 2: 'Tuesday', 3: 'Wednesday', 4: 'Thursday', 5: 'Friday', 6: 'Saturday', 7: 'Sunday'}\n"
     ]
    }
   ],
   "source": [
    "# do the same thing in one line\n",
    "days_dict_2 = dict(zip(numbers, day_names))\n",
    "\n",
    "print(days_dict_2)"
   ]
  },
  {
   "cell_type": "markdown",
   "id": "accurate-twist",
   "metadata": {},
   "source": [
    "**Tuple as Dictionary Key:**"
   ]
  },
  {
   "cell_type": "markdown",
   "id": "micro-roman",
   "metadata": {},
   "source": [
    "We have learned that the `key` of a Dictionary must be `Immutable` type."
   ]
  },
  {
   "cell_type": "markdown",
   "id": "modern-cologne",
   "metadata": {},
   "source": [
    "Since Tuples are Immutable, we can assign them as Dictionary keys."
   ]
  },
  {
   "cell_type": "markdown",
   "id": "exterior-retrieval",
   "metadata": {},
   "source": [
    "**Example:**\n",
    "\n",
    "We want to store the students names and grades in a dictionary.\n",
    "\n",
    "`(FirstName, LastName)` will be the key and `Grade` will be the value.\n",
    "\n",
    "<pre>\n",
    "student_grades = {\n",
    "    ('Musa', 'Arda'): 'AA',\n",
    "    ('Bruce', 'Wayne'): 'DC',\n",
    "    ('Klark', 'Kent'): 'FF',\n",
    "    ('Peter', 'Parket'): 'FD'\n",
    "}\n",
    "</pre>"
   ]
  },
  {
   "cell_type": "code",
   "execution_count": 74,
   "id": "decent-scope",
   "metadata": {},
   "outputs": [],
   "source": [
    "student_grades = {\n",
    "    ('Musa', 'Arda'): 'AA',\n",
    "    ('Bruce', 'Wayne'): 'DC',\n",
    "    ('Clark', 'Kent'): 'FF',\n",
    "    ('Peter', 'Parket'): 'FD'\n",
    "}"
   ]
  },
  {
   "cell_type": "code",
   "execution_count": 75,
   "id": "confused-literacy",
   "metadata": {},
   "outputs": [
    {
     "data": {
      "text/plain": [
       "{('Musa', 'Arda'): 'AA',\n",
       " ('Bruce', 'Wayne'): 'DC',\n",
       " ('Klark', 'Kent'): 'FF',\n",
       " ('Peter', 'Parker'): 'FD'}"
      ]
     },
     "execution_count": 75,
     "metadata": {},
     "output_type": "execute_result"
    }
   ],
   "source": [
    "# create 3 lists\n",
    "names = ['Musa', 'Bruce', 'Klark', 'Peter']\n",
    "lastnames = ['Arda', 'Wayne', 'Kent', 'Parker']\n",
    "grades = ['AA', 'DC', 'FF', 'FD']\n",
    "\n",
    "# create an empty dict\n",
    "student_grades = {}\n",
    "\n",
    "# loop over 3 list simultaniously -> zip()\n",
    "for name, lastname, grade in zip(names, lastnames, grades):\n",
    "        student_grades[(name, lastname)] = grade\n",
    "\n",
    "# print the dictionary\n",
    "student_grades"
   ]
  },
  {
   "cell_type": "markdown",
   "id": "thick-ultimate",
   "metadata": {},
   "source": [
    "## `lambda` Function as Key"
   ]
  },
  {
   "cell_type": "markdown",
   "id": "rolled-singing",
   "metadata": {},
   "source": [
    "Some built-in Python functions expect a declaration to execute.\n",
    "\n",
    "We have to declare them how to process."
   ]
  },
  {
   "cell_type": "markdown",
   "id": "heavy-bicycle",
   "metadata": {},
   "source": [
    "This declaration is a function actully.\n",
    "\n",
    "We have to pass a function as parameter."
   ]
  },
  {
   "cell_type": "markdown",
   "id": "social-pursuit",
   "metadata": {},
   "source": [
    "We saw `lambda` function before.\n",
    "\n",
    "Now we will use the lambda function as function parameters."
   ]
  },
  {
   "cell_type": "markdown",
   "id": "informative-motel",
   "metadata": {},
   "source": [
    "For example:\n",
    "\n",
    "For sorting Python has two functions: `sort()` and `sorted()`\n",
    "\n",
    "* sort()\n",
    "    * list.sort(reverse=True|False, **key=myFunc**)\n",
    "    \n",
    "* sorted()\n",
    "    * sorted(list, **key=myFunc**, reverse=True|False)"
   ]
  },
  {
   "cell_type": "markdown",
   "id": "enormous-claim",
   "metadata": {},
   "source": [
    "list.sort(reverse=True|False, key=myFunc)"
   ]
  },
  {
   "cell_type": "markdown",
   "id": "hungarian-printer",
   "metadata": {},
   "source": [
    "sorted(list, key=myFunc, reverse=True|False)"
   ]
  },
  {
   "cell_type": "markdown",
   "id": "dental-simon",
   "metadata": {},
   "source": [
    "As you see, the **myFunc** that we pass to **key** parameter is our function."
   ]
  },
  {
   "cell_type": "markdown",
   "id": "vietnamese-guinea",
   "metadata": {},
   "source": [
    "First we will, create a normal function and pass it to **key** parameter.\n",
    "\n",
    "Then we will do the same thing with lambda function."
   ]
  },
  {
   "cell_type": "markdown",
   "id": "serial-needle",
   "metadata": {},
   "source": [
    "**Example:**\n",
    "\n",
    "Sort the cars tuple by length of elements in ascending order. (number of chars in elements)"
   ]
  },
  {
   "cell_type": "markdown",
   "id": "rubber-release",
   "metadata": {},
   "source": [
    "**Define a Named Function**"
   ]
  },
  {
   "cell_type": "code",
   "execution_count": 76,
   "id": "weird-puppy",
   "metadata": {},
   "outputs": [],
   "source": [
    "# define a function to return the length\n",
    "def myFunc(e):\n",
    "    return len(e)"
   ]
  },
  {
   "cell_type": "code",
   "execution_count": 77,
   "id": "variable-dream",
   "metadata": {},
   "outputs": [],
   "source": [
    "# define a tuple\n",
    "cars = ('Mercedes', 'Audi', 'BMW', 'Porsche', 'VW')"
   ]
  },
  {
   "cell_type": "code",
   "execution_count": 78,
   "id": "eight-republic",
   "metadata": {},
   "outputs": [
    {
     "data": {
      "text/plain": [
       "4"
      ]
     },
     "execution_count": 78,
     "metadata": {},
     "output_type": "execute_result"
    }
   ],
   "source": [
    "# call the function with an element\n",
    "myFunc('Audi')"
   ]
  },
  {
   "cell_type": "code",
   "execution_count": 79,
   "id": "musical-malawi",
   "metadata": {},
   "outputs": [
    {
     "data": {
      "text/plain": [
       "2"
      ]
     },
     "execution_count": 79,
     "metadata": {},
     "output_type": "execute_result"
    }
   ],
   "source": [
    "# call the function with the element\n",
    "# at index 4 of cars tuple\n",
    "myFunc(cars[4]) "
   ]
  },
  {
   "cell_type": "code",
   "execution_count": 80,
   "id": "amended-reproduction",
   "metadata": {},
   "outputs": [
    {
     "data": {
      "text/plain": [
       "['VW', 'BMW', 'Audi', 'Porsche', 'Mercedes']"
      ]
     },
     "execution_count": 80,
     "metadata": {},
     "output_type": "execute_result"
    }
   ],
   "source": [
    "# sorted()\n",
    "# the key is myFunc function\n",
    "sorted(cars, key = myFunc)"
   ]
  },
  {
   "cell_type": "code",
   "execution_count": 81,
   "id": "funky-receipt",
   "metadata": {},
   "outputs": [
    {
     "ename": "AttributeError",
     "evalue": "'tuple' object has no attribute 'sort'",
     "output_type": "error",
     "traceback": [
      "\u001b[1;31m---------------------------------------------------------------------------\u001b[0m",
      "\u001b[1;31mAttributeError\u001b[0m                            Traceback (most recent call last)",
      "\u001b[1;32m<ipython-input-81-0d64c4d9ee49>\u001b[0m in \u001b[0;36m<module>\u001b[1;34m\u001b[0m\n\u001b[0;32m      1\u001b[0m \u001b[1;31m# sort()\u001b[0m\u001b[1;33m\u001b[0m\u001b[1;33m\u001b[0m\u001b[1;33m\u001b[0m\u001b[0m\n\u001b[0;32m      2\u001b[0m \u001b[1;31m# sort() is a list function -> operates on lists\u001b[0m\u001b[1;33m\u001b[0m\u001b[1;33m\u001b[0m\u001b[1;33m\u001b[0m\u001b[0m\n\u001b[1;32m----> 3\u001b[1;33m \u001b[0mcars\u001b[0m\u001b[1;33m.\u001b[0m\u001b[0msort\u001b[0m\u001b[1;33m(\u001b[0m\u001b[0mkey\u001b[0m \u001b[1;33m=\u001b[0m \u001b[0mmyFunc\u001b[0m\u001b[1;33m)\u001b[0m\u001b[1;33m\u001b[0m\u001b[1;33m\u001b[0m\u001b[0m\n\u001b[0m",
      "\u001b[1;31mAttributeError\u001b[0m: 'tuple' object has no attribute 'sort'"
     ]
    }
   ],
   "source": [
    "# sort()\n",
    "# sort() is a list function -> operates on lists\n",
    "cars.sort(key = myFunc)"
   ]
  },
  {
   "cell_type": "code",
   "execution_count": 82,
   "id": "nonprofit-helmet",
   "metadata": {},
   "outputs": [
    {
     "name": "stdout",
     "output_type": "stream",
     "text": [
      "---- before sort() ----\n",
      "['Mercedes', 'Audi', 'BMW', 'Porsche', 'VW']\n",
      "---- after sort() ----\n",
      "['VW', 'BMW', 'Audi', 'Porsche', 'Mercedes']\n"
     ]
    }
   ],
   "source": [
    "# sort()\n",
    "# sort() is a list function -> operates on lists\n",
    "\n",
    "# convert cars tuple to a list\n",
    "cars_list = list(cars)\n",
    "\n",
    "# print the list before sort()\n",
    "print(\"---- before sort() ----\")\n",
    "print(cars_list)\n",
    "\n",
    "# sort() -> sorts in place -> mutates the list\n",
    "cars_list.sort(key=myFunc)\n",
    "\n",
    "print(\"---- after sort() ----\")\n",
    "print(cars_list)"
   ]
  },
  {
   "cell_type": "markdown",
   "id": "personalized-institute",
   "metadata": {},
   "source": [
    "**lambda Function**"
   ]
  },
  {
   "cell_type": "markdown",
   "id": "combined-reunion",
   "metadata": {},
   "source": [
    "**lambda:** one line, anomymous function."
   ]
  },
  {
   "cell_type": "code",
   "execution_count": 83,
   "id": "modern-level",
   "metadata": {},
   "outputs": [
    {
     "data": {
      "text/plain": [
       "('Mercedes', 'Audi', 'BMW', 'Porsche', 'VW')"
      ]
     },
     "execution_count": 83,
     "metadata": {},
     "output_type": "execute_result"
    }
   ],
   "source": [
    "# redefine the cars tuple\n",
    "cars = ('Mercedes', 'Audi', 'BMW', 'Porsche', 'VW')\n",
    "cars"
   ]
  },
  {
   "cell_type": "code",
   "execution_count": 84,
   "id": "changing-oregon",
   "metadata": {},
   "outputs": [
    {
     "data": {
      "text/plain": [
       "['VW', 'BMW', 'Audi', 'Porsche', 'Mercedes']"
      ]
     },
     "execution_count": 84,
     "metadata": {},
     "output_type": "execute_result"
    }
   ],
   "source": [
    "# sorted()\n",
    "sorted(cars, key = lambda e: len(e))"
   ]
  },
  {
   "cell_type": "code",
   "execution_count": 85,
   "id": "alternative-exploration",
   "metadata": {},
   "outputs": [
    {
     "name": "stdout",
     "output_type": "stream",
     "text": [
      "['VW', 'BMW', 'Audi', 'Porsche', 'Mercedes']\n"
     ]
    }
   ],
   "source": [
    "# sort()\n",
    "\n",
    "# convert the tuple to a list\n",
    "cars_list = list(cars)\n",
    "\n",
    "# call the sort() method\n",
    "cars_list.sort(key=lambda e: len(e))\n",
    "\n",
    "print(cars_list)"
   ]
  },
  {
   "cell_type": "markdown",
   "id": "parental-medicare",
   "metadata": {},
   "source": [
    "**Question:**\n",
    "\n",
    "So far, we didn't pass any **key** parameter into sorted() or sort().\n",
    "\n",
    "How do they do the sorting?"
   ]
  },
  {
   "cell_type": "markdown",
   "id": "aware-chart",
   "metadata": {},
   "source": [
    "**Answer:**\n",
    "\n",
    "They use standard sorting:\n",
    "* numbers -> numeric sort\n",
    "* str -> alphabetical sort"
   ]
  },
  {
   "cell_type": "markdown",
   "id": "numerical-healing",
   "metadata": {},
   "source": [
    "**Example:**\n",
    "\n",
    "Sort the elements of the tuple numbers which is (2, 1, 3, 7, 6, 5, 4)."
   ]
  },
  {
   "cell_type": "code",
   "execution_count": 86,
   "id": "revised-structure",
   "metadata": {},
   "outputs": [
    {
     "data": {
      "text/plain": [
       "(2, 1, 3, 7, 6, 5, 4)"
      ]
     },
     "execution_count": 86,
     "metadata": {},
     "output_type": "execute_result"
    }
   ],
   "source": [
    "numbers = (2, 1, 3, 7, 6, 5, 4)\n",
    "numbers"
   ]
  },
  {
   "cell_type": "code",
   "execution_count": 87,
   "id": "running-document",
   "metadata": {},
   "outputs": [
    {
     "data": {
      "text/plain": [
       "[1, 2, 3, 4, 5, 6, 7]"
      ]
     },
     "execution_count": 87,
     "metadata": {},
     "output_type": "execute_result"
    }
   ],
   "source": [
    "# default -> sorts numeric\n",
    "sorted(numbers)"
   ]
  },
  {
   "cell_type": "code",
   "execution_count": 88,
   "id": "exceptional-buffer",
   "metadata": {},
   "outputs": [
    {
     "data": {
      "text/plain": [
       "[1, 2, 3, 4, 5, 6, 7]"
      ]
     },
     "execution_count": 88,
     "metadata": {},
     "output_type": "execute_result"
    }
   ],
   "source": [
    "# lambda\n",
    "# sorted(numbers) = sorted(numbers, key=lambda e: e)\n",
    "sorted(numbers, key=lambda e: e)"
   ]
  },
  {
   "cell_type": "code",
   "execution_count": 89,
   "id": "stopped-grave",
   "metadata": {},
   "outputs": [
    {
     "name": "stdout",
     "output_type": "stream",
     "text": [
      "['a', 'b', 'c', 'd', 'e', 'f']\n"
     ]
    }
   ],
   "source": [
    "# define the list\n",
    "letters = ['c', 'f', 'b', 'a', 'e', 'd']\n",
    "\n",
    "# default sort\n",
    "letters.sort()\n",
    "\n",
    "print(letters)"
   ]
  },
  {
   "cell_type": "code",
   "execution_count": 90,
   "id": "efficient-python",
   "metadata": {},
   "outputs": [
    {
     "name": "stdout",
     "output_type": "stream",
     "text": [
      "['a', 'b', 'c', 'd', 'e', 'f']\n"
     ]
    }
   ],
   "source": [
    "# redefine the letters\n",
    "letters = ['c', 'f', 'b', 'a', 'e', 'd']\n",
    "\n",
    "# letters.sort() = letters.sort(key = lambda x: x)\n",
    "letters.sort(key = lambda x: x)\n",
    "\n",
    "print(letters)"
   ]
  },
  {
   "cell_type": "code",
   "execution_count": null,
   "id": "gorgeous-destiny",
   "metadata": {},
   "outputs": [],
   "source": []
  }
 ],
 "metadata": {
  "kernelspec": {
   "display_name": "Python 3",
   "language": "python",
   "name": "python3"
  },
  "language_info": {
   "codemirror_mode": {
    "name": "ipython",
    "version": 3
   },
   "file_extension": ".py",
   "mimetype": "text/x-python",
   "name": "python",
   "nbconvert_exporter": "python",
   "pygments_lexer": "ipython3",
   "version": "3.8.8"
  }
 },
 "nbformat": 4,
 "nbformat_minor": 5
}
