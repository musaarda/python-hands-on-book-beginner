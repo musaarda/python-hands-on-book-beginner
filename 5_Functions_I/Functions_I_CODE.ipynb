{
 "cells": [
  {
   "cell_type": "markdown",
   "id": "discrete-extension",
   "metadata": {},
   "source": [
    "# Functions I"
   ]
  },
  {
   "cell_type": "markdown",
   "id": "prepared-reflection",
   "metadata": {},
   "source": [
    "## What is a Function?"
   ]
  },
  {
   "cell_type": "markdown",
   "id": "complex-anatomy",
   "metadata": {},
   "source": [
    "**Function** is a special code fragment written to perform a specific task."
   ]
  },
  {
   "cell_type": "markdown",
   "id": "derived-maria",
   "metadata": {},
   "source": [
    "Functions only run, when you call them."
   ]
  },
  {
   "cell_type": "markdown",
   "id": "little-astronomy",
   "metadata": {},
   "source": [
    "Functions may have parameters (arguments)."
   ]
  },
  {
   "cell_type": "markdown",
   "id": "bronze-judge",
   "metadata": {},
   "source": [
    "Functions may return a value back."
   ]
  },
  {
   "cell_type": "markdown",
   "id": "north-basket",
   "metadata": {},
   "source": [
    "Calling a function:\n",
    "\n",
    "**function_name()**"
   ]
  },
  {
   "cell_type": "markdown",
   "id": "valuable-attention",
   "metadata": {},
   "source": [
    "Calling a function with parameters:\n",
    "\n",
    "**function_name(parameter_1, parameter_2, ...)**"
   ]
  },
  {
   "cell_type": "markdown",
   "id": "protective-enforcement",
   "metadata": {},
   "source": [
    "Functions prevent code duplications."
   ]
  },
  {
   "cell_type": "code",
   "execution_count": 1,
   "id": "preliminary-chile",
   "metadata": {},
   "outputs": [
    {
     "data": {
      "text/plain": [
       "int"
      ]
     },
     "execution_count": 1,
     "metadata": {},
     "output_type": "execute_result"
    }
   ],
   "source": [
    "type(42)"
   ]
  },
  {
   "cell_type": "code",
   "execution_count": 2,
   "id": "corresponding-custody",
   "metadata": {},
   "outputs": [
    {
     "data": {
      "text/plain": [
       "str"
      ]
     },
     "execution_count": 2,
     "metadata": {},
     "output_type": "execute_result"
    }
   ],
   "source": [
    "type('a sunny day')"
   ]
  },
  {
   "cell_type": "code",
   "execution_count": 3,
   "id": "distributed-meaning",
   "metadata": {},
   "outputs": [
    {
     "data": {
      "text/plain": [
       "5"
      ]
     },
     "execution_count": 3,
     "metadata": {},
     "output_type": "execute_result"
    }
   ],
   "source": [
    "# int() -> converts the given argument to int\n",
    "\n",
    "int(5.68)"
   ]
  },
  {
   "cell_type": "code",
   "execution_count": 4,
   "id": "involved-asthma",
   "metadata": {},
   "outputs": [
    {
     "ename": "ValueError",
     "evalue": "invalid literal for int() with base 10: 'value'",
     "output_type": "error",
     "traceback": [
      "\u001b[1;31m---------------------------------------------------------------------------\u001b[0m",
      "\u001b[1;31mValueError\u001b[0m                                Traceback (most recent call last)",
      "\u001b[1;32m<ipython-input-4-8ea25d043ddd>\u001b[0m in \u001b[0;36m<module>\u001b[1;34m\u001b[0m\n\u001b[1;32m----> 1\u001b[1;33m \u001b[0mint\u001b[0m\u001b[1;33m(\u001b[0m\u001b[1;34m'value'\u001b[0m\u001b[1;33m)\u001b[0m\u001b[1;33m\u001b[0m\u001b[1;33m\u001b[0m\u001b[0m\n\u001b[0m",
      "\u001b[1;31mValueError\u001b[0m: invalid literal for int() with base 10: 'value'"
     ]
    }
   ],
   "source": [
    "int('value')"
   ]
  },
  {
   "cell_type": "code",
   "execution_count": 5,
   "id": "polish-sunday",
   "metadata": {},
   "outputs": [
    {
     "data": {
      "text/plain": [
       "82"
      ]
     },
     "execution_count": 5,
     "metadata": {},
     "output_type": "execute_result"
    }
   ],
   "source": [
    "int(\"82\")"
   ]
  },
  {
   "cell_type": "code",
   "execution_count": 6,
   "id": "previous-mobile",
   "metadata": {},
   "outputs": [
    {
     "data": {
      "text/plain": [
       "'45'"
      ]
     },
     "execution_count": 6,
     "metadata": {},
     "output_type": "execute_result"
    }
   ],
   "source": [
    "# str() -> converts (casts) the given argument into string\n",
    "\n",
    "str(45)"
   ]
  },
  {
   "cell_type": "code",
   "execution_count": 7,
   "id": "elect-winning",
   "metadata": {},
   "outputs": [
    {
     "data": {
      "text/plain": [
       "'4.57'"
      ]
     },
     "execution_count": 7,
     "metadata": {},
     "output_type": "execute_result"
    }
   ],
   "source": [
    "str(4.57)"
   ]
  },
  {
   "cell_type": "code",
   "execution_count": 8,
   "id": "intermediate-force",
   "metadata": {},
   "outputs": [
    {
     "data": {
      "text/plain": [
       "'Gotham'"
      ]
     },
     "execution_count": 8,
     "metadata": {},
     "output_type": "execute_result"
    }
   ],
   "source": [
    "str('Gotham')"
   ]
  },
  {
   "cell_type": "code",
   "execution_count": 9,
   "id": "direct-impact",
   "metadata": {},
   "outputs": [
    {
     "data": {
      "text/plain": [
       "12.0"
      ]
     },
     "execution_count": 9,
     "metadata": {},
     "output_type": "execute_result"
    }
   ],
   "source": [
    "# float() -> casts the given argument into float\n",
    "\n",
    "float(12)"
   ]
  },
  {
   "cell_type": "code",
   "execution_count": 10,
   "id": "concerned-tyler",
   "metadata": {},
   "outputs": [
    {
     "data": {
      "text/plain": [
       "4.0"
      ]
     },
     "execution_count": 10,
     "metadata": {},
     "output_type": "execute_result"
    }
   ],
   "source": [
    "float('4')"
   ]
  },
  {
   "cell_type": "code",
   "execution_count": 11,
   "id": "killing-bubble",
   "metadata": {},
   "outputs": [
    {
     "data": {
      "text/plain": [
       "-78.0"
      ]
     },
     "execution_count": 11,
     "metadata": {},
     "output_type": "execute_result"
    }
   ],
   "source": [
    "num = '-78'\n",
    "float(num)"
   ]
  },
  {
   "cell_type": "code",
   "execution_count": 12,
   "id": "static-fitting",
   "metadata": {},
   "outputs": [
    {
     "ename": "ValueError",
     "evalue": "could not convert string to float: '78-'",
     "output_type": "error",
     "traceback": [
      "\u001b[1;31m---------------------------------------------------------------------------\u001b[0m",
      "\u001b[1;31mValueError\u001b[0m                                Traceback (most recent call last)",
      "\u001b[1;32m<ipython-input-12-e61f3f90eb4d>\u001b[0m in \u001b[0;36m<module>\u001b[1;34m\u001b[0m\n\u001b[0;32m      1\u001b[0m \u001b[0mnum\u001b[0m \u001b[1;33m=\u001b[0m \u001b[1;34m'78-'\u001b[0m\u001b[1;33m\u001b[0m\u001b[1;33m\u001b[0m\u001b[0m\n\u001b[1;32m----> 2\u001b[1;33m \u001b[0mfloat\u001b[0m\u001b[1;33m(\u001b[0m\u001b[0mnum\u001b[0m\u001b[1;33m)\u001b[0m\u001b[1;33m\u001b[0m\u001b[1;33m\u001b[0m\u001b[0m\n\u001b[0m",
      "\u001b[1;31mValueError\u001b[0m: could not convert string to float: '78-'"
     ]
    }
   ],
   "source": [
    "num = '78-'\n",
    "float(num)"
   ]
  },
  {
   "cell_type": "markdown",
   "id": "diagnostic-justice",
   "metadata": {},
   "source": [
    "## Math Functions (math)"
   ]
  },
  {
   "cell_type": "markdown",
   "id": "graphic-stadium",
   "metadata": {},
   "source": [
    "We use **math** module to do mathematical operations."
   ]
  },
  {
   "cell_type": "markdown",
   "id": "twelve-establishment",
   "metadata": {},
   "source": [
    "**Module** is any Python file (.py) that includes executable Python code."
   ]
  },
  {
   "cell_type": "code",
   "execution_count": 13,
   "id": "occupied-princeton",
   "metadata": {},
   "outputs": [],
   "source": [
    "# import math module\n",
    "import math"
   ]
  },
  {
   "cell_type": "code",
   "execution_count": 14,
   "id": "straight-occurrence",
   "metadata": {},
   "outputs": [
    {
     "name": "stdout",
     "output_type": "stream",
     "text": [
      "<module 'math' (built-in)>\n"
     ]
    }
   ],
   "source": [
    "# see the module info\n",
    "print(math)"
   ]
  },
  {
   "cell_type": "code",
   "execution_count": 15,
   "id": "selected-somerset",
   "metadata": {},
   "outputs": [
    {
     "name": "stdout",
     "output_type": "stream",
     "text": [
      "Help on built-in module math:\n",
      "\n",
      "NAME\n",
      "    math\n",
      "\n",
      "DESCRIPTION\n",
      "    This module provides access to the mathematical functions\n",
      "    defined by the C standard.\n",
      "\n",
      "FUNCTIONS\n",
      "    acos(x, /)\n",
      "        Return the arc cosine (measured in radians) of x.\n",
      "    \n",
      "    acosh(x, /)\n",
      "        Return the inverse hyperbolic cosine of x.\n",
      "    \n",
      "    asin(x, /)\n",
      "        Return the arc sine (measured in radians) of x.\n",
      "    \n",
      "    asinh(x, /)\n",
      "        Return the inverse hyperbolic sine of x.\n",
      "    \n",
      "    atan(x, /)\n",
      "        Return the arc tangent (measured in radians) of x.\n",
      "    \n",
      "    atan2(y, x, /)\n",
      "        Return the arc tangent (measured in radians) of y/x.\n",
      "        \n",
      "        Unlike atan(y/x), the signs of both x and y are considered.\n",
      "    \n",
      "    atanh(x, /)\n",
      "        Return the inverse hyperbolic tangent of x.\n",
      "    \n",
      "    ceil(x, /)\n",
      "        Return the ceiling of x as an Integral.\n",
      "        \n",
      "        This is the smallest integer >= x.\n",
      "    \n",
      "    comb(n, k, /)\n",
      "        Number of ways to choose k items from n items without repetition and without order.\n",
      "        \n",
      "        Evaluates to n! / (k! * (n - k)!) when k <= n and evaluates\n",
      "        to zero when k > n.\n",
      "        \n",
      "        Also called the binomial coefficient because it is equivalent\n",
      "        to the coefficient of k-th term in polynomial expansion of the\n",
      "        expression (1 + x)**n.\n",
      "        \n",
      "        Raises TypeError if either of the arguments are not integers.\n",
      "        Raises ValueError if either of the arguments are negative.\n",
      "    \n",
      "    copysign(x, y, /)\n",
      "        Return a float with the magnitude (absolute value) of x but the sign of y.\n",
      "        \n",
      "        On platforms that support signed zeros, copysign(1.0, -0.0)\n",
      "        returns -1.0.\n",
      "    \n",
      "    cos(x, /)\n",
      "        Return the cosine of x (measured in radians).\n",
      "    \n",
      "    cosh(x, /)\n",
      "        Return the hyperbolic cosine of x.\n",
      "    \n",
      "    degrees(x, /)\n",
      "        Convert angle x from radians to degrees.\n",
      "    \n",
      "    dist(p, q, /)\n",
      "        Return the Euclidean distance between two points p and q.\n",
      "        \n",
      "        The points should be specified as sequences (or iterables) of\n",
      "        coordinates.  Both inputs must have the same dimension.\n",
      "        \n",
      "        Roughly equivalent to:\n",
      "            sqrt(sum((px - qx) ** 2.0 for px, qx in zip(p, q)))\n",
      "    \n",
      "    erf(x, /)\n",
      "        Error function at x.\n",
      "    \n",
      "    erfc(x, /)\n",
      "        Complementary error function at x.\n",
      "    \n",
      "    exp(x, /)\n",
      "        Return e raised to the power of x.\n",
      "    \n",
      "    expm1(x, /)\n",
      "        Return exp(x)-1.\n",
      "        \n",
      "        This function avoids the loss of precision involved in the direct evaluation of exp(x)-1 for small x.\n",
      "    \n",
      "    fabs(x, /)\n",
      "        Return the absolute value of the float x.\n",
      "    \n",
      "    factorial(x, /)\n",
      "        Find x!.\n",
      "        \n",
      "        Raise a ValueError if x is negative or non-integral.\n",
      "    \n",
      "    floor(x, /)\n",
      "        Return the floor of x as an Integral.\n",
      "        \n",
      "        This is the largest integer <= x.\n",
      "    \n",
      "    fmod(x, y, /)\n",
      "        Return fmod(x, y), according to platform C.\n",
      "        \n",
      "        x % y may differ.\n",
      "    \n",
      "    frexp(x, /)\n",
      "        Return the mantissa and exponent of x, as pair (m, e).\n",
      "        \n",
      "        m is a float and e is an int, such that x = m * 2.**e.\n",
      "        If x is 0, m and e are both 0.  Else 0.5 <= abs(m) < 1.0.\n",
      "    \n",
      "    fsum(seq, /)\n",
      "        Return an accurate floating point sum of values in the iterable seq.\n",
      "        \n",
      "        Assumes IEEE-754 floating point arithmetic.\n",
      "    \n",
      "    gamma(x, /)\n",
      "        Gamma function at x.\n",
      "    \n",
      "    gcd(x, y, /)\n",
      "        greatest common divisor of x and y\n",
      "    \n",
      "    hypot(...)\n",
      "        hypot(*coordinates) -> value\n",
      "        \n",
      "        Multidimensional Euclidean distance from the origin to a point.\n",
      "        \n",
      "        Roughly equivalent to:\n",
      "            sqrt(sum(x**2 for x in coordinates))\n",
      "        \n",
      "        For a two dimensional point (x, y), gives the hypotenuse\n",
      "        using the Pythagorean theorem:  sqrt(x*x + y*y).\n",
      "        \n",
      "        For example, the hypotenuse of a 3/4/5 right triangle is:\n",
      "        \n",
      "            >>> hypot(3.0, 4.0)\n",
      "            5.0\n",
      "    \n",
      "    isclose(a, b, *, rel_tol=1e-09, abs_tol=0.0)\n",
      "        Determine whether two floating point numbers are close in value.\n",
      "        \n",
      "          rel_tol\n",
      "            maximum difference for being considered \"close\", relative to the\n",
      "            magnitude of the input values\n",
      "          abs_tol\n",
      "            maximum difference for being considered \"close\", regardless of the\n",
      "            magnitude of the input values\n",
      "        \n",
      "        Return True if a is close in value to b, and False otherwise.\n",
      "        \n",
      "        For the values to be considered close, the difference between them\n",
      "        must be smaller than at least one of the tolerances.\n",
      "        \n",
      "        -inf, inf and NaN behave similarly to the IEEE 754 Standard.  That\n",
      "        is, NaN is not close to anything, even itself.  inf and -inf are\n",
      "        only close to themselves.\n",
      "    \n",
      "    isfinite(x, /)\n",
      "        Return True if x is neither an infinity nor a NaN, and False otherwise.\n",
      "    \n",
      "    isinf(x, /)\n",
      "        Return True if x is a positive or negative infinity, and False otherwise.\n",
      "    \n",
      "    isnan(x, /)\n",
      "        Return True if x is a NaN (not a number), and False otherwise.\n",
      "    \n",
      "    isqrt(n, /)\n",
      "        Return the integer part of the square root of the input.\n",
      "    \n",
      "    ldexp(x, i, /)\n",
      "        Return x * (2**i).\n",
      "        \n",
      "        This is essentially the inverse of frexp().\n",
      "    \n",
      "    lgamma(x, /)\n",
      "        Natural logarithm of absolute value of Gamma function at x.\n",
      "    \n",
      "    log(...)\n",
      "        log(x, [base=math.e])\n",
      "        Return the logarithm of x to the given base.\n",
      "        \n",
      "        If the base not specified, returns the natural logarithm (base e) of x.\n",
      "    \n",
      "    log10(x, /)\n",
      "        Return the base 10 logarithm of x.\n",
      "    \n",
      "    log1p(x, /)\n",
      "        Return the natural logarithm of 1+x (base e).\n",
      "        \n",
      "        The result is computed in a way which is accurate for x near zero.\n",
      "    \n",
      "    log2(x, /)\n",
      "        Return the base 2 logarithm of x.\n",
      "    \n",
      "    modf(x, /)\n",
      "        Return the fractional and integer parts of x.\n",
      "        \n",
      "        Both results carry the sign of x and are floats.\n",
      "    \n",
      "    perm(n, k=None, /)\n",
      "        Number of ways to choose k items from n items without repetition and with order.\n",
      "        \n",
      "        Evaluates to n! / (n - k)! when k <= n and evaluates\n",
      "        to zero when k > n.\n",
      "        \n",
      "        If k is not specified or is None, then k defaults to n\n",
      "        and the function returns n!.\n",
      "        \n",
      "        Raises TypeError if either of the arguments are not integers.\n",
      "        Raises ValueError if either of the arguments are negative.\n",
      "    \n",
      "    pow(x, y, /)\n",
      "        Return x**y (x to the power of y).\n",
      "    \n",
      "    prod(iterable, /, *, start=1)\n",
      "        Calculate the product of all the elements in the input iterable.\n",
      "        \n",
      "        The default start value for the product is 1.\n",
      "        \n",
      "        When the iterable is empty, return the start value.  This function is\n",
      "        intended specifically for use with numeric values and may reject\n",
      "        non-numeric types.\n",
      "    \n",
      "    radians(x, /)\n",
      "        Convert angle x from degrees to radians.\n",
      "    \n",
      "    remainder(x, y, /)\n",
      "        Difference between x and the closest integer multiple of y.\n",
      "        \n",
      "        Return x - n*y where n*y is the closest integer multiple of y.\n",
      "        In the case where x is exactly halfway between two multiples of\n",
      "        y, the nearest even value of n is used. The result is always exact.\n",
      "    \n",
      "    sin(x, /)\n",
      "        Return the sine of x (measured in radians).\n",
      "    \n",
      "    sinh(x, /)\n",
      "        Return the hyperbolic sine of x.\n",
      "    \n",
      "    sqrt(x, /)\n",
      "        Return the square root of x.\n",
      "    \n",
      "    tan(x, /)\n",
      "        Return the tangent of x (measured in radians).\n",
      "    \n",
      "    tanh(x, /)\n",
      "        Return the hyperbolic tangent of x.\n",
      "    \n",
      "    trunc(x, /)\n",
      "        Truncates the Real x to the nearest Integral toward 0.\n",
      "        \n",
      "        Uses the __trunc__ magic method.\n",
      "\n",
      "DATA\n",
      "    e = 2.718281828459045\n",
      "    inf = inf\n",
      "    nan = nan\n",
      "    pi = 3.141592653589793\n",
      "    tau = 6.283185307179586\n",
      "\n",
      "FILE\n",
      "    (built-in)\n",
      "\n",
      "\n"
     ]
    }
   ],
   "source": [
    "# see detailed docs\n",
    "\n",
    "# help() -> gives you the detailed docs\n",
    "help(math)"
   ]
  },
  {
   "cell_type": "code",
   "execution_count": 16,
   "id": "uniform-anthropology",
   "metadata": {},
   "outputs": [
    {
     "data": {
      "text/plain": [
       "3.141592653589793"
      ]
     },
     "execution_count": 16,
     "metadata": {},
     "output_type": "execute_result"
    }
   ],
   "source": [
    "# we can call any function from module -> . notation\n",
    "math.pi"
   ]
  },
  {
   "cell_type": "code",
   "execution_count": 17,
   "id": "freelance-produce",
   "metadata": {},
   "outputs": [
    {
     "name": "stdout",
     "output_type": "stream",
     "text": [
      "62.83185307179586\n"
     ]
    }
   ],
   "source": [
    "# Example:\n",
    "\n",
    "# What is the perimeter (circumference) of a circle having radius of 10 cm?\n",
    "# Perimeter = 2 * pi * r\n",
    "\n",
    "# radius\n",
    "r = 10\n",
    "\n",
    "# perimeter\n",
    "perimeter = 2 * math.pi * r\n",
    "\n",
    "print(perimeter)"
   ]
  },
  {
   "cell_type": "code",
   "execution_count": 18,
   "id": "processed-profile",
   "metadata": {},
   "outputs": [
    {
     "name": "stdout",
     "output_type": "stream",
     "text": [
      "0.49999999999999994\n"
     ]
    }
   ],
   "source": [
    "# Example:\n",
    "\n",
    "# Calculate the sine of 30 degrees -> sin(30)\n",
    "\n",
    "degree = 30\n",
    "\n",
    "# calculate radian\n",
    "radian = math.radians(degree)\n",
    "\n",
    "# calculate the sine\n",
    "sine = math.sin(radian)\n",
    "\n",
    "print(sine)"
   ]
  },
  {
   "cell_type": "markdown",
   "id": "through-mercy",
   "metadata": {},
   "source": [
    "**Composition of Functions**\n",
    "\n",
    "Chaining Functions."
   ]
  },
  {
   "cell_type": "code",
   "execution_count": 19,
   "id": "hungarian-album",
   "metadata": {},
   "outputs": [
    {
     "name": "stdout",
     "output_type": "stream",
     "text": [
      "0.49999999999999994\n"
     ]
    }
   ],
   "source": [
    "# chain the functions\n",
    "# first call math.radians(degree) \n",
    "# then pass it into math.sin()\n",
    "\n",
    "degree = 30\n",
    "sine = math.sin(math.radians(degree))\n",
    "print(sine)"
   ]
  },
  {
   "cell_type": "markdown",
   "id": "robust-white",
   "metadata": {},
   "source": [
    "## Defining Functions"
   ]
  },
  {
   "cell_type": "code",
   "execution_count": 20,
   "id": "rational-scanner",
   "metadata": {},
   "outputs": [],
   "source": [
    "# Without Parameters\n",
    "\n",
    "def my_first_function(): \n",
    "    # print line\n",
    "    print(\"This is my first function\")"
   ]
  },
  {
   "cell_type": "code",
   "execution_count": 21,
   "id": "auburn-equipment",
   "metadata": {},
   "outputs": [
    {
     "name": "stdout",
     "output_type": "stream",
     "text": [
      "This is my first function\n"
     ]
    }
   ],
   "source": [
    "# call the function\n",
    "\n",
    "my_first_function()"
   ]
  },
  {
   "cell_type": "markdown",
   "id": "underlying-nelson",
   "metadata": {},
   "source": [
    "**Indent:** Python uses indent for scoping.\n",
    "\n",
    "    * indent: tab\n",
    "    * indent: 4 space"
   ]
  },
  {
   "cell_type": "code",
   "execution_count": 22,
   "id": "complete-comparison",
   "metadata": {},
   "outputs": [
    {
     "name": "stdout",
     "output_type": "stream",
     "text": [
      "Name: John Doe\n",
      "Age: 24\n",
      "Language: Python\n"
     ]
    }
   ],
   "source": [
    "# Student Data\n",
    "print(\"Name: John Doe\")\n",
    "print(\"Age: 24\")\n",
    "print(\"Language: Python\")"
   ]
  },
  {
   "cell_type": "code",
   "execution_count": 23,
   "id": "convertible-remedy",
   "metadata": {},
   "outputs": [
    {
     "name": "stdout",
     "output_type": "stream",
     "text": [
      "Name: John Doe\n",
      "Age: 24\n",
      "Language: Python\n"
     ]
    }
   ],
   "source": [
    "# we need student data again\n",
    "\n",
    "print(\"Name: John Doe\")\n",
    "print(\"Age: 24\")\n",
    "print(\"Language: Python\")"
   ]
  },
  {
   "cell_type": "code",
   "execution_count": 24,
   "id": "preliminary-rough",
   "metadata": {},
   "outputs": [],
   "source": [
    "# Define a function for student name\n",
    "\n",
    "def student_name():\n",
    "    print(\"Name: John Doe\")"
   ]
  },
  {
   "cell_type": "code",
   "execution_count": 25,
   "id": "bibliographic-stupid",
   "metadata": {},
   "outputs": [
    {
     "name": "stdout",
     "output_type": "stream",
     "text": [
      "Name: John Doe\n"
     ]
    }
   ],
   "source": [
    "# call the function student_name\n",
    "student_name()"
   ]
  },
  {
   "cell_type": "code",
   "execution_count": 26,
   "id": "sticky-receptor",
   "metadata": {},
   "outputs": [],
   "source": [
    "# Define a function for student age\n",
    "\n",
    "def student_age():\n",
    "    print(\"Age: 24\")"
   ]
  },
  {
   "cell_type": "code",
   "execution_count": 27,
   "id": "undefined-president",
   "metadata": {},
   "outputs": [
    {
     "name": "stdout",
     "output_type": "stream",
     "text": [
      "Age: 24\n"
     ]
    }
   ],
   "source": [
    "# call the function student_age\n",
    "student_age()"
   ]
  },
  {
   "cell_type": "code",
   "execution_count": 28,
   "id": "primary-price",
   "metadata": {},
   "outputs": [],
   "source": [
    "# Define a function for student language\n",
    "\n",
    "def student_language():\n",
    "    print(\"Language: Python\")"
   ]
  },
  {
   "cell_type": "code",
   "execution_count": 29,
   "id": "enclosed-racing",
   "metadata": {},
   "outputs": [
    {
     "name": "stdout",
     "output_type": "stream",
     "text": [
      "Language: Python\n"
     ]
    }
   ],
   "source": [
    "# call the function student_language\n",
    "student_language()"
   ]
  },
  {
   "cell_type": "code",
   "execution_count": 30,
   "id": "administrative-tulsa",
   "metadata": {},
   "outputs": [
    {
     "name": "stdout",
     "output_type": "stream",
     "text": [
      "Name: John Doe\n",
      "Age: 24\n",
      "Language: Python\n"
     ]
    }
   ],
   "source": [
    "# Print Student with functions\n",
    "\n",
    "student_name()\n",
    "student_age()\n",
    "student_language()"
   ]
  },
  {
   "cell_type": "code",
   "execution_count": 31,
   "id": "southwest-violin",
   "metadata": {},
   "outputs": [
    {
     "name": "stdout",
     "output_type": "stream",
     "text": [
      "Name: John Doe\n",
      "Age: 24\n",
      "Language: Python\n"
     ]
    }
   ],
   "source": [
    "# print student data again\n",
    "# we have to call all 3 functions again\n",
    "\n",
    "student_name()\n",
    "student_age()\n",
    "student_language()"
   ]
  },
  {
   "cell_type": "code",
   "execution_count": 32,
   "id": "monthly-wings",
   "metadata": {},
   "outputs": [],
   "source": [
    "# one wrapper function to call all three\n",
    "\n",
    "def student_data():\n",
    "    student_name()\n",
    "    student_age()\n",
    "    student_language()"
   ]
  },
  {
   "cell_type": "code",
   "execution_count": 33,
   "id": "premium-judge",
   "metadata": {},
   "outputs": [
    {
     "name": "stdout",
     "output_type": "stream",
     "text": [
      "Name: John Doe\n",
      "Age: 24\n",
      "Language: Python\n"
     ]
    }
   ],
   "source": [
    "# print student data in just one function call\n",
    "student_data()"
   ]
  },
  {
   "cell_type": "code",
   "execution_count": 34,
   "id": "advisory-textbook",
   "metadata": {},
   "outputs": [
    {
     "name": "stdout",
     "output_type": "stream",
     "text": [
      "Name: John Doe\n",
      "Age: 24\n",
      "Language: Python\n"
     ]
    }
   ],
   "source": [
    "# print student data again\n",
    "student_data()"
   ]
  },
  {
   "cell_type": "markdown",
   "id": "copyrighted-cover",
   "metadata": {},
   "source": [
    "We want to print students name and lastname seperately.\n",
    "\n",
    "\"Name: John\"\n",
    "\n",
    "\"Lastname: Doe\""
   ]
  },
  {
   "cell_type": "code",
   "execution_count": 35,
   "id": "passing-import",
   "metadata": {},
   "outputs": [],
   "source": [
    "# create two seperate functions for firstname and lastname\n",
    "\n",
    "def student_firstname():\n",
    "    print(\"Name: John\")\n",
    "\n",
    "def student_lastname():\n",
    "    print(\"Lastname: Doe\")"
   ]
  },
  {
   "cell_type": "code",
   "execution_count": 36,
   "id": "suburban-howard",
   "metadata": {},
   "outputs": [],
   "source": [
    "# redefine student_name function\n",
    "# it will print students name by calling two seperate functions\n",
    "\n",
    "def student_name():\n",
    "    student_firstname()\n",
    "    student_lastname()"
   ]
  },
  {
   "cell_type": "code",
   "execution_count": 37,
   "id": "historical-festival",
   "metadata": {},
   "outputs": [
    {
     "name": "stdout",
     "output_type": "stream",
     "text": [
      "Name: John\n",
      "Lastname: Doe\n"
     ]
    }
   ],
   "source": [
    "# call the redefined student_name function\n",
    "student_name()"
   ]
  },
  {
   "cell_type": "code",
   "execution_count": 38,
   "id": "exclusive-airplane",
   "metadata": {},
   "outputs": [
    {
     "name": "stdout",
     "output_type": "stream",
     "text": [
      "Name: John\n",
      "Lastname: Doe\n",
      "Age: 24\n",
      "Language: Python\n"
     ]
    }
   ],
   "source": [
    "student_data()"
   ]
  },
  {
   "cell_type": "markdown",
   "id": "essential-editor",
   "metadata": {},
   "source": [
    "**Execution Flow**\n",
    "* Python Interpreter runs the code from the first line\n",
    "* And moves down\n",
    "* If it encounters a function call\n",
    "    * First it goes into that function\n",
    "    * Executes it\n",
    "    * Waits it to finish\n",
    "    * Returns back\n",
    "* Moves down"
   ]
  },
  {
   "cell_type": "markdown",
   "id": "southeast-harbor",
   "metadata": {},
   "source": [
    "### Parameters (Arguments)"
   ]
  },
  {
   "cell_type": "markdown",
   "id": "introductory-equilibrium",
   "metadata": {},
   "source": [
    "**Parameters** are inputs you provide to the function."
   ]
  },
  {
   "cell_type": "markdown",
   "id": "understanding-cable",
   "metadata": {},
   "source": [
    "You pass the parameters during function call."
   ]
  },
  {
   "cell_type": "code",
   "execution_count": 39,
   "id": "arranged-clear",
   "metadata": {},
   "outputs": [],
   "source": [
    "# define a function which takes a parameter\n",
    "\n",
    "def print_square(number):\n",
    "    \n",
    "    # get the square\n",
    "    sqr = number**2\n",
    "    \n",
    "    # print sqr\n",
    "    print(sqr)"
   ]
  },
  {
   "cell_type": "code",
   "execution_count": 40,
   "id": "mechanical-distance",
   "metadata": {},
   "outputs": [
    {
     "ename": "TypeError",
     "evalue": "print_square() missing 1 required positional argument: 'number'",
     "output_type": "error",
     "traceback": [
      "\u001b[1;31m---------------------------------------------------------------------------\u001b[0m",
      "\u001b[1;31mTypeError\u001b[0m                                 Traceback (most recent call last)",
      "\u001b[1;32m<ipython-input-40-33e0cc259a4b>\u001b[0m in \u001b[0;36m<module>\u001b[1;34m\u001b[0m\n\u001b[0;32m      1\u001b[0m \u001b[1;31m# call it without an argument\u001b[0m\u001b[1;33m\u001b[0m\u001b[1;33m\u001b[0m\u001b[1;33m\u001b[0m\u001b[0m\n\u001b[1;32m----> 2\u001b[1;33m \u001b[0mprint_square\u001b[0m\u001b[1;33m(\u001b[0m\u001b[1;33m)\u001b[0m\u001b[1;33m\u001b[0m\u001b[1;33m\u001b[0m\u001b[0m\n\u001b[0m",
      "\u001b[1;31mTypeError\u001b[0m: print_square() missing 1 required positional argument: 'number'"
     ]
    }
   ],
   "source": [
    "# call it without an argument\n",
    "print_square()"
   ]
  },
  {
   "cell_type": "code",
   "execution_count": 41,
   "id": "alert-eligibility",
   "metadata": {},
   "outputs": [
    {
     "name": "stdout",
     "output_type": "stream",
     "text": [
      "36\n"
     ]
    }
   ],
   "source": [
    "print_square(6)"
   ]
  },
  {
   "cell_type": "code",
   "execution_count": 42,
   "id": "lesbian-finder",
   "metadata": {},
   "outputs": [
    {
     "name": "stdout",
     "output_type": "stream",
     "text": [
      "64\n"
     ]
    }
   ],
   "source": [
    "print_square(8)"
   ]
  },
  {
   "cell_type": "code",
   "execution_count": 43,
   "id": "accompanied-loading",
   "metadata": {},
   "outputs": [
    {
     "name": "stdout",
     "output_type": "stream",
     "text": [
      "9\n"
     ]
    }
   ],
   "source": [
    "print_square(3)"
   ]
  },
  {
   "cell_type": "code",
   "execution_count": 44,
   "id": "concrete-hobby",
   "metadata": {},
   "outputs": [],
   "source": [
    "# Example:\n",
    "\n",
    "# Define a function that takes 2 parameters\n",
    "# Parameters: short, long\n",
    "# Function will print the area of the rectangle\n",
    "\n",
    "def area_of_rectangle(short, long):\n",
    "    \n",
    "    # area -> assign to a variable\n",
    "    area = short * long\n",
    "    \n",
    "    # print the area\n",
    "    print(area)"
   ]
  },
  {
   "cell_type": "code",
   "execution_count": 45,
   "id": "expressed-communist",
   "metadata": {},
   "outputs": [
    {
     "name": "stdout",
     "output_type": "stream",
     "text": [
      "24\n"
     ]
    }
   ],
   "source": [
    "# call with two parameters\n",
    "area_of_rectangle(4, 6)"
   ]
  },
  {
   "cell_type": "code",
   "execution_count": 46,
   "id": "combined-fields",
   "metadata": {},
   "outputs": [
    {
     "name": "stdout",
     "output_type": "stream",
     "text": [
      "24\n"
     ]
    }
   ],
   "source": [
    "# define two variables first\n",
    "s = 4\n",
    "u = 6\n",
    "\n",
    "# pass the variables into to the function\n",
    "area_of_rectangle(s, u)"
   ]
  },
  {
   "cell_type": "code",
   "execution_count": 47,
   "id": "empty-lightweight",
   "metadata": {},
   "outputs": [],
   "source": [
    "# Example:\n",
    "\n",
    "# Let's make student_data function as parametric\n",
    "\n",
    "# first name\n",
    "def student_firstname(first):\n",
    "    print(\"Name: \" + first)\n",
    "    \n",
    "# last name\n",
    "def student_lastname(last):\n",
    "    print(\"Lastname: \" + last)\n",
    "\n",
    "# age\n",
    "def student_age(age):\n",
    "    print(\"Age: \" + str(age))\n",
    "    \n",
    "# language\n",
    "def student_language(lang):\n",
    "    print('Language: ' + lang)\n",
    "    \n",
    "def student_data(firstname, lastname, age, language):\n",
    "    student_firstname(firstname)\n",
    "    student_lastname(lastname)\n",
    "    student_age(age)\n",
    "    student_language(language)"
   ]
  },
  {
   "cell_type": "code",
   "execution_count": 48,
   "id": "accepting-circulation",
   "metadata": {},
   "outputs": [
    {
     "name": "stdout",
     "output_type": "stream",
     "text": [
      "Name: Klark\n",
      "Lastname: Kent\n",
      "Age: 28\n",
      "Language: Python\n"
     ]
    }
   ],
   "source": [
    "# define variables to pass as arguments\n",
    "first = 'Klark'\n",
    "last = 'Kent'\n",
    "age = '28'\n",
    "lang = 'Python'\n",
    "\n",
    "# call the function\n",
    "student_data(first, last, age, lang)"
   ]
  },
  {
   "cell_type": "code",
   "execution_count": 49,
   "id": "absent-income",
   "metadata": {},
   "outputs": [
    {
     "name": "stdout",
     "output_type": "stream",
     "text": [
      "Name: Peter\n",
      "Lastname: Parker\n",
      "Age: 22\n",
      "Language: JavaScript\n"
     ]
    }
   ],
   "source": [
    "first = 'Peter'\n",
    "last = 'Parker'\n",
    "age = 22\n",
    "lang = 'JavaScript'\n",
    "\n",
    "student_data(first, last, age, lang)"
   ]
  },
  {
   "cell_type": "markdown",
   "id": "greek-implementation",
   "metadata": {},
   "source": [
    "## Scope"
   ]
  },
  {
   "cell_type": "markdown",
   "id": "selected-valuation",
   "metadata": {},
   "source": [
    "**Scope** is the region where the variables exist."
   ]
  },
  {
   "cell_type": "markdown",
   "id": "orange-plumbing",
   "metadata": {},
   "source": [
    "Scope is determined by **indentation** in Python."
   ]
  },
  {
   "cell_type": "code",
   "execution_count": 50,
   "id": "initial-radio",
   "metadata": {},
   "outputs": [],
   "source": [
    "# -------- not function scope --------\n",
    "# -------- not function scope --------\n",
    "\n",
    "# function scope example\n",
    "def scope_fn():\n",
    "    # +++ function scope starts here +++\n",
    "    \n",
    "    scope_var = 100\n",
    "    print(scope_var)\n",
    "    \n",
    "    s2 = scope_var * 2\n",
    "    print(s2)\n",
    "    \n",
    "    # +++ function scope ends here +++\n",
    "    \n",
    "# -------- not function scope --------\n",
    "# -------- not function scope --------"
   ]
  },
  {
   "cell_type": "code",
   "execution_count": 51,
   "id": "narrow-coupon",
   "metadata": {},
   "outputs": [
    {
     "name": "stdout",
     "output_type": "stream",
     "text": [
      "100\n",
      "200\n"
     ]
    }
   ],
   "source": [
    "# call the function\n",
    "scope_fn()"
   ]
  },
  {
   "cell_type": "code",
   "execution_count": 52,
   "id": "sapphire-solution",
   "metadata": {},
   "outputs": [
    {
     "ename": "NameError",
     "evalue": "name 'scope_var' is not defined",
     "output_type": "error",
     "traceback": [
      "\u001b[1;31m---------------------------------------------------------------------------\u001b[0m",
      "\u001b[1;31mNameError\u001b[0m                                 Traceback (most recent call last)",
      "\u001b[1;32m<ipython-input-52-328a9fb1e4ec>\u001b[0m in \u001b[0;36m<module>\u001b[1;34m\u001b[0m\n\u001b[0;32m      1\u001b[0m \u001b[1;31m# reach the variable inside the function\u001b[0m\u001b[1;33m\u001b[0m\u001b[1;33m\u001b[0m\u001b[1;33m\u001b[0m\u001b[0m\n\u001b[0;32m      2\u001b[0m \u001b[1;31m# try to print scope_var\u001b[0m\u001b[1;33m\u001b[0m\u001b[1;33m\u001b[0m\u001b[1;33m\u001b[0m\u001b[0m\n\u001b[1;32m----> 3\u001b[1;33m \u001b[0mprint\u001b[0m\u001b[1;33m(\u001b[0m\u001b[0mscope_var\u001b[0m\u001b[1;33m)\u001b[0m\u001b[1;33m\u001b[0m\u001b[1;33m\u001b[0m\u001b[0m\n\u001b[0m",
      "\u001b[1;31mNameError\u001b[0m: name 'scope_var' is not defined"
     ]
    }
   ],
   "source": [
    "# reach the variable inside the function\n",
    "# try to print scope_var\n",
    "print(scope_var)"
   ]
  },
  {
   "cell_type": "code",
   "execution_count": 53,
   "id": "northern-arabic",
   "metadata": {},
   "outputs": [],
   "source": [
    "# global scope\n",
    "short = 40\n",
    "long = 60"
   ]
  },
  {
   "cell_type": "code",
   "execution_count": 54,
   "id": "spectacular-center",
   "metadata": {},
   "outputs": [
    {
     "name": "stdout",
     "output_type": "stream",
     "text": [
      "40\n"
     ]
    }
   ],
   "source": [
    "# call the variable in global scope\n",
    "print(short)"
   ]
  },
  {
   "cell_type": "code",
   "execution_count": 55,
   "id": "classified-church",
   "metadata": {},
   "outputs": [],
   "source": [
    "# define a function to use global scope variables\n",
    "\n",
    "def perimeter():\n",
    "    # reached the global scope\n",
    "    area_of_rect = short * long\n",
    "    print(area_of_rect)"
   ]
  },
  {
   "cell_type": "code",
   "execution_count": 56,
   "id": "danish-claim",
   "metadata": {},
   "outputs": [
    {
     "name": "stdout",
     "output_type": "stream",
     "text": [
      "2400\n"
     ]
    }
   ],
   "source": [
    "perimeter()"
   ]
  },
  {
   "cell_type": "code",
   "execution_count": 57,
   "id": "impressed-rider",
   "metadata": {},
   "outputs": [],
   "source": [
    "# try to change the global variables\n",
    "\n",
    "def change_globals():\n",
    "    short = 50\n",
    "    print(short)"
   ]
  },
  {
   "cell_type": "code",
   "execution_count": 58,
   "id": "optimum-payment",
   "metadata": {},
   "outputs": [
    {
     "name": "stdout",
     "output_type": "stream",
     "text": [
      "50\n"
     ]
    }
   ],
   "source": [
    "change_globals()"
   ]
  },
  {
   "cell_type": "code",
   "execution_count": 59,
   "id": "facial-border",
   "metadata": {},
   "outputs": [
    {
     "data": {
      "text/plain": [
       "40"
      ]
     },
     "execution_count": 59,
     "metadata": {},
     "output_type": "execute_result"
    }
   ],
   "source": [
    "# print global short variable again\n",
    "short"
   ]
  },
  {
   "cell_type": "markdown",
   "id": "spread-blast",
   "metadata": {},
   "source": [
    "If you want to change a global variable -> `global` keyword."
   ]
  },
  {
   "cell_type": "code",
   "execution_count": 60,
   "id": "gorgeous-genome",
   "metadata": {},
   "outputs": [],
   "source": [
    "# try to change the global variables -> global keyword\n",
    "\n",
    "def change_globals():\n",
    "    global short\n",
    "    short = 5000\n",
    "    print(short)"
   ]
  },
  {
   "cell_type": "code",
   "execution_count": 61,
   "id": "american-recorder",
   "metadata": {},
   "outputs": [
    {
     "name": "stdout",
     "output_type": "stream",
     "text": [
      "5000\n"
     ]
    }
   ],
   "source": [
    "change_globals()"
   ]
  },
  {
   "cell_type": "code",
   "execution_count": 62,
   "id": "stylish-startup",
   "metadata": {},
   "outputs": [
    {
     "name": "stdout",
     "output_type": "stream",
     "text": [
      "5000\n"
     ]
    }
   ],
   "source": [
    "# print global short variable again\n",
    "print(short)"
   ]
  },
  {
   "cell_type": "markdown",
   "id": "constitutional-franchise",
   "metadata": {},
   "source": [
    "## Return"
   ]
  },
  {
   "cell_type": "markdown",
   "id": "honest-president",
   "metadata": {},
   "source": [
    "A function can return a value -> return"
   ]
  },
  {
   "cell_type": "code",
   "execution_count": 63,
   "id": "otherwise-olive",
   "metadata": {},
   "outputs": [],
   "source": [
    "# define a fn to return a value\n",
    "\n",
    "def cube(n):\n",
    "    \n",
    "    # calculate the cube\n",
    "    n_cube = n**3\n",
    "    \n",
    "    # return this n_cube\n",
    "    return n_cube"
   ]
  },
  {
   "cell_type": "code",
   "execution_count": 64,
   "id": "uniform-luxury",
   "metadata": {},
   "outputs": [
    {
     "name": "stdout",
     "output_type": "stream",
     "text": [
      "125\n"
     ]
    }
   ],
   "source": [
    "# call the function and get the returned value\n",
    "\n",
    "num = 5\n",
    "\n",
    "cube_of_num = cube(num)\n",
    "\n",
    "print(cube_of_num)"
   ]
  },
  {
   "cell_type": "code",
   "execution_count": 65,
   "id": "twelve-cylinder",
   "metadata": {},
   "outputs": [
    {
     "data": {
      "text/plain": [
       "64"
      ]
     },
     "execution_count": 65,
     "metadata": {},
     "output_type": "execute_result"
    }
   ],
   "source": [
    "# call the function again\n",
    "n = 4\n",
    "\n",
    "returned_value = cube(n)\n",
    "returned_value"
   ]
  },
  {
   "cell_type": "code",
   "execution_count": 66,
   "id": "voluntary-philip",
   "metadata": {},
   "outputs": [
    {
     "name": "stdout",
     "output_type": "stream",
     "text": [
      "27\n"
     ]
    }
   ],
   "source": [
    "# chain the functions\n",
    "print(cube(3))"
   ]
  },
  {
   "cell_type": "markdown",
   "id": "modular-parameter",
   "metadata": {},
   "source": [
    "Functions which do not return a value -> **void**"
   ]
  },
  {
   "cell_type": "markdown",
   "id": "addressed-insert",
   "metadata": {},
   "source": [
    "## Doctring - Function Documentation"
   ]
  },
  {
   "cell_type": "markdown",
   "id": "imperial-system",
   "metadata": {},
   "source": [
    "Python docstrings are the string literals that appear right after the definition of a function. It tells about the purpose of the function, input and output parameters and any special note about the function. "
   ]
  },
  {
   "cell_type": "code",
   "execution_count": 67,
   "id": "heard-grain",
   "metadata": {},
   "outputs": [],
   "source": [
    "# define a function with docstring\n",
    "\n",
    "import math\n",
    "\n",
    "def get_power(num, p):\n",
    "    \"\"\"\n",
    "        Calculates the power of number.\n",
    "        Parameters: int num, p\n",
    "        Returns: the give power of the number\n",
    "    \"\"\"\n",
    "    \n",
    "    # calculate the power\n",
    "    power = math.pow(num, p)\n",
    "    \n",
    "    # return the power\n",
    "    return power"
   ]
  },
  {
   "cell_type": "code",
   "execution_count": 68,
   "id": "adjustable-surge",
   "metadata": {},
   "outputs": [
    {
     "name": "stdout",
     "output_type": "stream",
     "text": [
      "Help on function get_power in module __main__:\n",
      "\n",
      "get_power(num, p)\n",
      "    Calculates the power of number.\n",
      "    Parameters: int num, p\n",
      "    Returns: the give power of the number\n",
      "\n"
     ]
    }
   ],
   "source": [
    "# get help for this function\n",
    "# help()\n",
    "\n",
    "help(get_power)"
   ]
  },
  {
   "cell_type": "code",
   "execution_count": 69,
   "id": "indie-research",
   "metadata": {},
   "outputs": [
    {
     "data": {
      "text/plain": [
       "\u001b[1;31mSignature:\u001b[0m \u001b[0mget_power\u001b[0m\u001b[1;33m(\u001b[0m\u001b[0mnum\u001b[0m\u001b[1;33m,\u001b[0m \u001b[0mp\u001b[0m\u001b[1;33m)\u001b[0m\u001b[1;33m\u001b[0m\u001b[1;33m\u001b[0m\u001b[0m\n",
       "\u001b[1;31mDocstring:\u001b[0m\n",
       "Calculates the power of number.\n",
       "Parameters: int num, p\n",
       "Returns: the give power of the number\n",
       "\u001b[1;31mFile:\u001b[0m      c:\\users\\musaa\\desktop\\en\\ebook\\python\\contents\\5_functions_i\\ref\\<ipython-input-67-cf8f99faa3fa>\n",
       "\u001b[1;31mType:\u001b[0m      function\n"
      ]
     },
     "metadata": {},
     "output_type": "display_data"
    }
   ],
   "source": [
    "# detail help\n",
    "# ?\n",
    "\n",
    "get_power?"
   ]
  },
  {
   "cell_type": "markdown",
   "id": "fossil-investigation",
   "metadata": {},
   "source": [
    "**Signiture:** Signature is how we call the function."
   ]
  },
  {
   "cell_type": "code",
   "execution_count": 70,
   "id": "psychological-collar",
   "metadata": {},
   "outputs": [
    {
     "data": {
      "text/plain": [
       "\u001b[1;31mSignature:\u001b[0m \u001b[0mget_power\u001b[0m\u001b[1;33m(\u001b[0m\u001b[0mnum\u001b[0m\u001b[1;33m,\u001b[0m \u001b[0mp\u001b[0m\u001b[1;33m)\u001b[0m\u001b[1;33m\u001b[0m\u001b[1;33m\u001b[0m\u001b[0m\n",
       "\u001b[1;31mSource:\u001b[0m   \n",
       "\u001b[1;32mdef\u001b[0m \u001b[0mget_power\u001b[0m\u001b[1;33m(\u001b[0m\u001b[0mnum\u001b[0m\u001b[1;33m,\u001b[0m \u001b[0mp\u001b[0m\u001b[1;33m)\u001b[0m\u001b[1;33m:\u001b[0m\u001b[1;33m\n",
       "\u001b[0m    \u001b[1;34m\"\"\"\n",
       "        Calculates the power of number.\n",
       "        Parameters: int num, p\n",
       "        Returns: the give power of the number\n",
       "    \"\"\"\u001b[0m\u001b[1;33m\n",
       "\u001b[0m    \u001b[1;33m\n",
       "\u001b[0m    \u001b[1;31m# calculate the power\u001b[0m\u001b[1;33m\n",
       "\u001b[0m    \u001b[0mpower\u001b[0m \u001b[1;33m=\u001b[0m \u001b[0mmath\u001b[0m\u001b[1;33m.\u001b[0m\u001b[0mpow\u001b[0m\u001b[1;33m(\u001b[0m\u001b[0mnum\u001b[0m\u001b[1;33m,\u001b[0m \u001b[0mp\u001b[0m\u001b[1;33m)\u001b[0m\u001b[1;33m\n",
       "\u001b[0m    \u001b[1;33m\n",
       "\u001b[0m    \u001b[1;31m# return the power\u001b[0m\u001b[1;33m\n",
       "\u001b[0m    \u001b[1;32mreturn\u001b[0m \u001b[0mpower\u001b[0m\u001b[1;33m\u001b[0m\u001b[1;33m\u001b[0m\u001b[0m\n",
       "\u001b[1;31mFile:\u001b[0m      c:\\users\\musaa\\desktop\\en\\ebook\\python\\contents\\5_functions_i\\ref\\<ipython-input-67-cf8f99faa3fa>\n",
       "\u001b[1;31mType:\u001b[0m      function\n"
      ]
     },
     "metadata": {},
     "output_type": "display_data"
    }
   ],
   "source": [
    "# most detailed help\n",
    "# ??\n",
    "\n",
    "get_power??"
   ]
  },
  {
   "cell_type": "markdown",
   "id": "beneficial-tulsa",
   "metadata": {},
   "source": [
    "**Built-in Methods and Attributes**"
   ]
  },
  {
   "cell_type": "markdown",
   "id": "governing-concrete",
   "metadata": {},
   "source": [
    "In Python, objects have built-in methods and attributes.\n",
    "\n",
    "We can get them with shortcuts."
   ]
  },
  {
   "cell_type": "code",
   "execution_count": 71,
   "id": "established-cameroon",
   "metadata": {},
   "outputs": [
    {
     "data": {
      "text/plain": [
       "'\\n        Calculates the power of number.\\n        Parameters: int num, p\\n        Returns: the give power of the number\\n    '"
      ]
     },
     "execution_count": 71,
     "metadata": {},
     "output_type": "execute_result"
    }
   ],
   "source": [
    "# Docstring -> .__doc__\n",
    "get_power.__doc__"
   ]
  },
  {
   "cell_type": "code",
   "execution_count": 72,
   "id": "educational-bankruptcy",
   "metadata": {},
   "outputs": [
    {
     "name": "stdout",
     "output_type": "stream",
     "text": [
      "\n",
      "        Calculates the power of number.\n",
      "        Parameters: int num, p\n",
      "        Returns: the give power of the number\n",
      "    \n"
     ]
    }
   ],
   "source": [
    "print(get_power.__doc__)"
   ]
  },
  {
   "cell_type": "markdown",
   "id": "familiar-delaware",
   "metadata": {},
   "source": [
    "**dunder** -> double underscores"
   ]
  },
  {
   "cell_type": "code",
   "execution_count": 73,
   "id": "emotional-welsh",
   "metadata": {},
   "outputs": [
    {
     "data": {
      "text/plain": [
       "'__main__'"
      ]
     },
     "execution_count": 73,
     "metadata": {},
     "output_type": "execute_result"
    }
   ],
   "source": [
    "# module\n",
    "\n",
    "# .__<TAB>\n",
    "get_power.__module__"
   ]
  },
  {
   "cell_type": "code",
   "execution_count": 74,
   "id": "specified-hazard",
   "metadata": {},
   "outputs": [
    {
     "data": {
      "text/plain": [
       "'get_power'"
      ]
     },
     "execution_count": 74,
     "metadata": {},
     "output_type": "execute_result"
    }
   ],
   "source": [
    "# name\n",
    "\n",
    "get_power.__name__"
   ]
  },
  {
   "cell_type": "markdown",
   "id": "announced-marketing",
   "metadata": {},
   "source": [
    "**How to get input from the user in JupyterLab?**"
   ]
  },
  {
   "cell_type": "code",
   "execution_count": 75,
   "id": "coral-tooth",
   "metadata": {},
   "outputs": [
    {
     "name": "stdin",
     "output_type": "stream",
     "text": [
      "Please enter your name: Musa Arda\n"
     ]
    },
    {
     "data": {
      "text/plain": [
       "'Musa Arda'"
      ]
     },
     "execution_count": 75,
     "metadata": {},
     "output_type": "execute_result"
    }
   ],
   "source": [
    "# ask for the user name\n",
    "\n",
    "input(\"Please enter your name:\")"
   ]
  },
  {
   "cell_type": "code",
   "execution_count": 76,
   "id": "pleasant-payment",
   "metadata": {},
   "outputs": [
    {
     "name": "stdin",
     "output_type": "stream",
     "text": [
      "Please enter your name: Musa Arda\n"
     ]
    },
    {
     "name": "stdout",
     "output_type": "stream",
     "text": [
      "The user name is: Musa Arda\n"
     ]
    }
   ],
   "source": [
    "# ask for the user name and assign to variable\n",
    "\n",
    "user_name = input(\"Please enter your name:\")\n",
    "print(\"The user name is: \" + user_name)"
   ]
  },
  {
   "cell_type": "code",
   "execution_count": null,
   "id": "paperback-nursery",
   "metadata": {},
   "outputs": [],
   "source": []
  }
 ],
 "metadata": {
  "kernelspec": {
   "display_name": "Python 3",
   "language": "python",
   "name": "python3"
  },
  "language_info": {
   "codemirror_mode": {
    "name": "ipython",
    "version": 3
   },
   "file_extension": ".py",
   "mimetype": "text/x-python",
   "name": "python",
   "nbconvert_exporter": "python",
   "pygments_lexer": "ipython3",
   "version": "3.8.8"
  }
 },
 "nbformat": 4,
 "nbformat_minor": 5
}
