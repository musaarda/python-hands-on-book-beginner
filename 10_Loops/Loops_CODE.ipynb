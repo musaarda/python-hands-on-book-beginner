{
 "cells": [
  {
   "cell_type": "markdown",
   "id": "sought-night",
   "metadata": {},
   "source": [
    "## Loops"
   ]
  },
  {
   "cell_type": "markdown",
   "id": "surgical-longitude",
   "metadata": {},
   "source": [
    "**Loop:** An iteration over a sequence."
   ]
  },
  {
   "cell_type": "markdown",
   "id": "chronic-diagram",
   "metadata": {},
   "source": [
    "In Python, loops are build via **while** and **for** keywords."
   ]
  },
  {
   "cell_type": "markdown",
   "id": "derived-pacific",
   "metadata": {},
   "source": [
    "### While Loop"
   ]
  },
  {
   "cell_type": "markdown",
   "id": "bored-chorus",
   "metadata": {},
   "source": [
    "**Example:**\n",
    "\n",
    "Let say we want to print numbers from 10 to 1 backwards."
   ]
  },
  {
   "cell_type": "code",
   "execution_count": null,
   "id": "broke-column",
   "metadata": {},
   "outputs": [],
   "source": [
    "# define a variable\n",
    "n = 10\n",
    "\n",
    "print(\"----- before While loop -----\")\n",
    "print(\"n:\", n)\n",
    "\n",
    "# while <condition>:\n",
    "#     .............\n",
    "#     .............\n",
    "#     .............\n",
    "\n",
    "# the while loop with the condition of \"n > 0\"\n",
    "while n > 0:\n",
    "    print(n)\n",
    "    n = n - 1\n",
    "\n",
    "print(\"----- after While loop -----\")\n",
    "print(\"n:\", n)"
   ]
  },
  {
   "cell_type": "markdown",
   "id": "derived-indie",
   "metadata": {},
   "source": [
    "**Operation of While Loop**\n",
    "\n",
    "While loop:\n",
    "* Checks the rule condition being True, before execution\n",
    "* If the condition is True, it exeutes once (one iteration)\n",
    "* Checks the condition again, if it's True it executes again\n",
    "* This cycle goes on, it checks for the condition before starting each iteration\n",
    "* If the condition becomes False, then the loop stops"
   ]
  },
  {
   "cell_type": "markdown",
   "id": "written-ceramic",
   "metadata": {},
   "source": [
    "**Condition Variable:**\n",
    "* It is important to set the condition variable\n",
    "* In the above example: **n = n - 1**\n",
    "* Since n has decreased by 1 at each iteration, eventually it became 0 and the loop stopped"
   ]
  },
  {
   "cell_type": "markdown",
   "id": "dramatic-metropolitan",
   "metadata": {},
   "source": [
    "If you do not set the condition variable properly -> Infinite Loop"
   ]
  },
  {
   "cell_type": "markdown",
   "id": "latest-robin",
   "metadata": {},
   "source": [
    "**Example:**\n",
    "\n",
    "Let's find the squares of odd numbers from 1 to 20."
   ]
  },
  {
   "cell_type": "code",
   "execution_count": 2,
   "id": "historic-authority",
   "metadata": {},
   "outputs": [
    {
     "name": "stdout",
     "output_type": "stream",
     "text": [
      "square of 1 is 1\n",
      "square of 3 is 9\n",
      "square of 5 is 25\n",
      "square of 7 is 49\n",
      "square of 9 is 81\n",
      "square of 11 is 121\n",
      "square of 13 is 169\n",
      "square of 15 is 225\n",
      "square of 17 is 289\n",
      "square of 19 is 361\n"
     ]
    }
   ],
   "source": [
    "x = 1\n",
    "\n",
    "while x <= 20:    \n",
    "    # odd?\n",
    "    if x % 2 == 1:\n",
    "        print(\"square of {0} is {1}\".format(x, x**2))\n",
    "        \n",
    "    # set condition variable\n",
    "    x += 1"
   ]
  },
  {
   "cell_type": "markdown",
   "id": "junior-sunday",
   "metadata": {},
   "source": [
    "**Example:**\n",
    "\n",
    "Let's find the sum of even numbers from 1 to 10."
   ]
  },
  {
   "cell_type": "code",
   "execution_count": 3,
   "id": "departmental-makeup",
   "metadata": {},
   "outputs": [
    {
     "name": "stdout",
     "output_type": "stream",
     "text": [
      "30\n"
     ]
    }
   ],
   "source": [
    "# define the condition variable\n",
    "k = 1\n",
    "# define a variable to keep the sum\n",
    "summation = 0\n",
    "\n",
    "while k < 11:\n",
    "    # even?\n",
    "    if k % 2 == 0:\n",
    "        summation += k\n",
    "        \n",
    "    # set condition variable\n",
    "    k += 1\n",
    "\n",
    "print(summation)"
   ]
  },
  {
   "cell_type": "markdown",
   "id": "honey-equivalent",
   "metadata": {},
   "source": [
    "**Example:**\n",
    "\n",
    "Find the factors of a given number."
   ]
  },
  {
   "cell_type": "code",
   "execution_count": 4,
   "id": "realistic-progress",
   "metadata": {},
   "outputs": [
    {
     "name": "stdin",
     "output_type": "stream",
     "text": [
      "Please enter a number:  12\n"
     ]
    },
    {
     "name": "stdout",
     "output_type": "stream",
     "text": [
      "2\n",
      "3\n",
      "4\n",
      "6\n"
     ]
    }
   ],
   "source": [
    "# ask for a number\n",
    "number = int(input(\"Please enter a number: \"))\n",
    "\n",
    "# condition variable\n",
    "i = 2\n",
    "\n",
    "while i < number:\n",
    "    # is number divisible by i? -> %\n",
    "    if number % i == 0:\n",
    "        print(i)\n",
    "        \n",
    "    # set condition variable\n",
    "    i += 1"
   ]
  },
  {
   "cell_type": "markdown",
   "id": "absent-circulation",
   "metadata": {},
   "source": [
    "**Example:**\n",
    "\n",
    "Find if a given number is a prime number?"
   ]
  },
  {
   "cell_type": "code",
   "execution_count": 5,
   "id": "strange-instruction",
   "metadata": {},
   "outputs": [
    {
     "name": "stdin",
     "output_type": "stream",
     "text": [
      "Please enter a number:  17\n"
     ]
    },
    {
     "name": "stdout",
     "output_type": "stream",
     "text": [
      "17 is PRIME\n"
     ]
    }
   ],
   "source": [
    "# ask for a number\n",
    "number = int(input(\"Please enter a number: \"))\n",
    "\n",
    "# assume the number is prime\n",
    "is_prime = True\n",
    "\n",
    "i = 2\n",
    "\n",
    "while i < number:\n",
    "    # is number divisible by i? -> %\n",
    "    if number % i == 0:\n",
    "        is_prime = False\n",
    "        \n",
    "    # set condition variable\n",
    "    i = i + 1\n",
    "\n",
    "# check if is_prime is True or False\n",
    "if is_prime == True:\n",
    "    print(\"{0} is PRIME\".format(number))\n",
    "else:\n",
    "    print(\"{0} is NOT PRIME\".format(number))"
   ]
  },
  {
   "cell_type": "code",
   "execution_count": 6,
   "id": "fancy-netscape",
   "metadata": {},
   "outputs": [],
   "source": [
    "# Infinite loop\n",
    "\n",
    "i = 1\n",
    "\n",
    "# while i < 10:\n",
    "#     print(i)\n",
    "#     # wrong conditional variable update\n",
    "#     i -= 1"
   ]
  },
  {
   "cell_type": "markdown",
   "id": "complicated-tissue",
   "metadata": {},
   "source": [
    "## For Loop"
   ]
  },
  {
   "cell_type": "markdown",
   "id": "headed-first",
   "metadata": {},
   "source": [
    "**Example:**\n",
    "\n",
    "Print numbers from 0 to 10."
   ]
  },
  {
   "cell_type": "code",
   "execution_count": 7,
   "id": "functional-breakdown",
   "metadata": {},
   "outputs": [
    {
     "name": "stdout",
     "output_type": "stream",
     "text": [
      "0\n",
      "1\n",
      "2\n",
      "3\n",
      "4\n",
      "5\n",
      "6\n",
      "7\n",
      "8\n",
      "9\n"
     ]
    }
   ],
   "source": [
    "# a for loop with a range\n",
    "for i in range(10):\n",
    "    print(i)"
   ]
  },
  {
   "cell_type": "raw",
   "id": "indirect-veteran",
   "metadata": {},
   "source": [
    "for <loop_variable> in <sequence>:\n",
    "    ............\n",
    "    ............"
   ]
  },
  {
   "cell_type": "code",
   "execution_count": 8,
   "id": "afraid-upgrade",
   "metadata": {},
   "outputs": [
    {
     "data": {
      "text/plain": [
       "range(6, 14, 2)"
      ]
     },
     "execution_count": 8,
     "metadata": {},
     "output_type": "execute_result"
    }
   ],
   "source": [
    "range(6, 14, 2)"
   ]
  },
  {
   "cell_type": "markdown",
   "id": "weighted-intensity",
   "metadata": {},
   "source": [
    "**For Loop Properties:**\n",
    "\n",
    "* Loops over a sequence, list, string, range...\n",
    "* range(start, end, step)\n",
    "    * start -> inc\n",
    "    * end -> exc\n",
    "    * step -> 1"
   ]
  },
  {
   "cell_type": "markdown",
   "id": "ambient-fault",
   "metadata": {},
   "source": [
    "**Example:**\n",
    "\n",
    "Print numbers from 1 to 10, step size 2."
   ]
  },
  {
   "cell_type": "code",
   "execution_count": 9,
   "id": "prepared-sharp",
   "metadata": {},
   "outputs": [
    {
     "name": "stdout",
     "output_type": "stream",
     "text": [
      "1\n",
      "3\n",
      "5\n",
      "7\n",
      "9\n"
     ]
    }
   ],
   "source": [
    "# print items in a range\n",
    "for i in range(1, 10, 2):\n",
    "    print(i)"
   ]
  },
  {
   "cell_type": "markdown",
   "id": "correct-blood",
   "metadata": {},
   "source": [
    "**Example:**\n",
    "\n",
    "Print numbers from 5 up to 30 (included) and step size is 3."
   ]
  },
  {
   "cell_type": "code",
   "execution_count": 10,
   "id": "stunning-bobby",
   "metadata": {},
   "outputs": [
    {
     "name": "stdout",
     "output_type": "stream",
     "text": [
      "5\n",
      "8\n",
      "11\n",
      "14\n",
      "17\n",
      "20\n",
      "23\n",
      "26\n",
      "29\n"
     ]
    }
   ],
   "source": [
    "for i in range(5, 31, 3):\n",
    "    print(i)"
   ]
  },
  {
   "cell_type": "markdown",
   "id": "perceived-board",
   "metadata": {},
   "source": [
    "**Example:**\n",
    "\n",
    "Find all factors of a given number."
   ]
  },
  {
   "cell_type": "code",
   "execution_count": 11,
   "id": "social-performer",
   "metadata": {},
   "outputs": [
    {
     "name": "stdin",
     "output_type": "stream",
     "text": [
      "Please enter a number:  16\n"
     ]
    },
    {
     "name": "stdout",
     "output_type": "stream",
     "text": [
      "2\n",
      "4\n",
      "8\n"
     ]
    }
   ],
   "source": [
    "# ask for a number\n",
    "number = int(input(\"Please enter a number: \"))\n",
    "\n",
    "# factors -> start at 2 -> number\n",
    "\n",
    "for x in range(2, number):\n",
    "    # is number divisible by x\n",
    "    if number % x == 0:\n",
    "        print(x)"
   ]
  },
  {
   "cell_type": "markdown",
   "id": "hazardous-mayor",
   "metadata": {},
   "source": [
    "**Example:**\n",
    "\n",
    "Check if a given number is prime."
   ]
  },
  {
   "cell_type": "code",
   "execution_count": 12,
   "id": "turned-evans",
   "metadata": {},
   "outputs": [
    {
     "name": "stdin",
     "output_type": "stream",
     "text": [
      "Please enter a number:  15\n"
     ]
    },
    {
     "name": "stdout",
     "output_type": "stream",
     "text": [
      "15 is NOT PRIME\n"
     ]
    }
   ],
   "source": [
    "# ask for a number\n",
    "number = int(input(\"Please enter a number: \"))\n",
    "\n",
    "# assume prime\n",
    "is_prime = True\n",
    "\n",
    "for p in range(2, number):    \n",
    "    # divisibility\n",
    "    if number % p == 0:\n",
    "        is_prime = False\n",
    "\n",
    "if is_prime:\n",
    "    print(\"{} is PRIME\".format(number))\n",
    "else:\n",
    "    print(\"{} is NOT PRIME\".format(number))"
   ]
  },
  {
   "cell_type": "markdown",
   "id": "incident-liberal",
   "metadata": {},
   "source": [
    "**Example:**\n",
    "\n",
    "Print odd numbers from 20 to 1 (exc), backwards."
   ]
  },
  {
   "cell_type": "code",
   "execution_count": 13,
   "id": "steady-explosion",
   "metadata": {},
   "outputs": [
    {
     "name": "stdout",
     "output_type": "stream",
     "text": [
      "19\n",
      "17\n",
      "15\n",
      "13\n",
      "11\n",
      "9\n",
      "7\n",
      "5\n",
      "3\n"
     ]
    }
   ],
   "source": [
    "# range(start, end, step)\n",
    "# step -> - (minus) -> backwards\n",
    "for i in range(20, 1, -1):\n",
    "    if i % 2 == 1:\n",
    "        print(i)"
   ]
  },
  {
   "cell_type": "markdown",
   "id": "union-purse",
   "metadata": {},
   "source": [
    "**Example:**\n",
    "\n",
    "Print odd numbers from 20 to 1 (inc), backwards."
   ]
  },
  {
   "cell_type": "code",
   "execution_count": 14,
   "id": "relevant-albert",
   "metadata": {},
   "outputs": [
    {
     "name": "stdout",
     "output_type": "stream",
     "text": [
      "19\n",
      "17\n",
      "15\n",
      "13\n",
      "11\n",
      "9\n",
      "7\n",
      "5\n",
      "3\n",
      "1\n"
     ]
    }
   ],
   "source": [
    "# range(start, end, step)\n",
    "# step -> - (minus) -> backwards\n",
    "for i in range(20, 0, -1):\n",
    "    if i % 2 == 1:\n",
    "        print(i)"
   ]
  },
  {
   "cell_type": "markdown",
   "id": "double-hartford",
   "metadata": {},
   "source": [
    "## Loop Over Strings with For"
   ]
  },
  {
   "cell_type": "code",
   "execution_count": 15,
   "id": "female-beaver",
   "metadata": {},
   "outputs": [
    {
     "name": "stdout",
     "output_type": "stream",
     "text": [
      "P\n",
      "y\n",
      "t\n",
      "h\n",
      "o\n",
      "n\n"
     ]
    }
   ],
   "source": [
    "# define a string\n",
    "text = 'Python'\n",
    "\n",
    "# loop over the chars in the string\n",
    "for character in text:\n",
    "    print(character)"
   ]
  },
  {
   "cell_type": "markdown",
   "id": "direct-mexican",
   "metadata": {},
   "source": [
    "**Example:**\n",
    "\n",
    "Concatenate the given text characters with \"-\".\n",
    "\n",
    "Python\n",
    "P-y-t-h-o-n"
   ]
  },
  {
   "cell_type": "code",
   "execution_count": 16,
   "id": "naughty-float",
   "metadata": {},
   "outputs": [
    {
     "name": "stdin",
     "output_type": "stream",
     "text": [
      "Please enter a text:  Python\n"
     ]
    },
    {
     "name": "stdout",
     "output_type": "stream",
     "text": [
      "P-y-t-h-o-n-\n"
     ]
    }
   ],
   "source": [
    "# ask for an input\n",
    "user_input = input(\"Please enter a text: \")\n",
    "\n",
    "# variable for new input\n",
    "new_input = \"\"\n",
    "\n",
    "# loop\n",
    "for letter in user_input:\n",
    "    # add - after character and concatenate into new_input\n",
    "    new_input += letter + \"-\"\n",
    "\n",
    "print(new_input)"
   ]
  },
  {
   "cell_type": "markdown",
   "id": "incident-premises",
   "metadata": {},
   "source": [
    "## len()"
   ]
  },
  {
   "cell_type": "markdown",
   "id": "introductory-journalist",
   "metadata": {},
   "source": [
    "In Python, for sequence types (str, list, ...), to get length of the object we use **len()** function."
   ]
  },
  {
   "cell_type": "code",
   "execution_count": 17,
   "id": "radical-letters",
   "metadata": {},
   "outputs": [
    {
     "data": {
      "text/plain": [
       "6"
      ]
     },
     "execution_count": 17,
     "metadata": {},
     "output_type": "execute_result"
    }
   ],
   "source": [
    "len(\"Python\")"
   ]
  },
  {
   "cell_type": "code",
   "execution_count": 18,
   "id": "little-formula",
   "metadata": {},
   "outputs": [
    {
     "data": {
      "text/plain": [
       "5"
      ]
     },
     "execution_count": 18,
     "metadata": {},
     "output_type": "execute_result"
    }
   ],
   "source": [
    "# define a list\n",
    "list_of_numbers_and_letters = [1, 2, 3, 'A', 'B']\n",
    "\n",
    "# get the length of the list\n",
    "len(list_of_numbers_and_letters)"
   ]
  },
  {
   "cell_type": "code",
   "execution_count": 19,
   "id": "baking-netherlands",
   "metadata": {},
   "outputs": [
    {
     "name": "stdin",
     "output_type": "stream",
     "text": [
      "Please enter a text to learn its length:  Python Hands-On\n"
     ]
    },
    {
     "name": "stdout",
     "output_type": "stream",
     "text": [
      "15\n"
     ]
    }
   ],
   "source": [
    "# ask for an input\n",
    "user_input = input(\"Please enter a text to learn its length: \")\n",
    "\n",
    "# get the length of the text\n",
    "length = len(user_input)\n",
    "\n",
    "print(length)"
   ]
  },
  {
   "cell_type": "code",
   "execution_count": 20,
   "id": "aggregate-waters",
   "metadata": {},
   "outputs": [
    {
     "data": {
      "text/plain": [
       "\u001b[1;31mSignature:\u001b[0m \u001b[0mlen\u001b[0m\u001b[1;33m(\u001b[0m\u001b[0mobj\u001b[0m\u001b[1;33m,\u001b[0m \u001b[1;33m/\u001b[0m\u001b[1;33m)\u001b[0m\u001b[1;33m\u001b[0m\u001b[1;33m\u001b[0m\u001b[0m\n",
       "\u001b[1;31mDocstring:\u001b[0m Return the number of items in a container.\n",
       "\u001b[1;31mType:\u001b[0m      builtin_function_or_method\n"
      ]
     },
     "metadata": {},
     "output_type": "display_data"
    }
   ],
   "source": [
    "len?"
   ]
  },
  {
   "cell_type": "markdown",
   "id": "sacred-policy",
   "metadata": {},
   "source": [
    "## enumerate()"
   ]
  },
  {
   "cell_type": "markdown",
   "id": "portuguese-serve",
   "metadata": {},
   "source": [
    "In Python, when looping over sequences we might need the index of current iteration.\n",
    "\n",
    "**enumerate()** to get index."
   ]
  },
  {
   "cell_type": "markdown",
   "id": "gorgeous-concord",
   "metadata": {},
   "source": [
    "**Example:**\n",
    "\n",
    "Remove the unnecassary \"-\" from the end of text in the above example."
   ]
  },
  {
   "cell_type": "code",
   "execution_count": 21,
   "id": "going-footwear",
   "metadata": {},
   "outputs": [
    {
     "name": "stdin",
     "output_type": "stream",
     "text": [
      "Please enter a text:  Python\n"
     ]
    },
    {
     "name": "stdout",
     "output_type": "stream",
     "text": [
      "P-y-t-h-o-n\n"
     ]
    }
   ],
   "source": [
    "# ask for an input\n",
    "user_input = input(\"Please enter a text: \")\n",
    "\n",
    "# variable for new input\n",
    "new_input = \"\"\n",
    "\n",
    "# loop with enumerate\n",
    "for index, letter in enumerate(user_input):    \n",
    "    # concatenate the letter\n",
    "    new_input += letter\n",
    "    \n",
    "    # if this is the last index\n",
    "    if index < len(user_input) - 1:\n",
    "        new_input += \"-\"\n",
    "\n",
    "print(new_input)"
   ]
  },
  {
   "cell_type": "code",
   "execution_count": 22,
   "id": "configured-automation",
   "metadata": {},
   "outputs": [
    {
     "data": {
      "text/plain": [
       "\u001b[1;31mInit signature:\u001b[0m \u001b[0menumerate\u001b[0m\u001b[1;33m(\u001b[0m\u001b[0miterable\u001b[0m\u001b[1;33m,\u001b[0m \u001b[0mstart\u001b[0m\u001b[1;33m=\u001b[0m\u001b[1;36m0\u001b[0m\u001b[1;33m)\u001b[0m\u001b[1;33m\u001b[0m\u001b[1;33m\u001b[0m\u001b[0m\n",
       "\u001b[1;31mDocstring:\u001b[0m     \n",
       "Return an enumerate object.\n",
       "\n",
       "  iterable\n",
       "    an object supporting iteration\n",
       "\n",
       "The enumerate object yields pairs containing a count (from start, which\n",
       "defaults to zero) and a value yielded by the iterable argument.\n",
       "\n",
       "enumerate is useful for obtaining an indexed list:\n",
       "    (0, seq[0]), (1, seq[1]), (2, seq[2]), ...\n",
       "\u001b[1;31mType:\u001b[0m           type\n",
       "\u001b[1;31mSubclasses:\u001b[0m     \n"
      ]
     },
     "metadata": {},
     "output_type": "display_data"
    }
   ],
   "source": [
    "enumerate?"
   ]
  },
  {
   "cell_type": "code",
   "execution_count": 23,
   "id": "secondary-command",
   "metadata": {},
   "outputs": [
    {
     "data": {
      "text/plain": [
       "5"
      ]
     },
     "execution_count": 23,
     "metadata": {},
     "output_type": "execute_result"
    }
   ],
   "source": [
    "len('pandas') - 1"
   ]
  },
  {
   "cell_type": "markdown",
   "id": "southern-scientist",
   "metadata": {},
   "source": [
    "In Python -> indices start from 0.\n",
    "\n",
    "pandas -> \n",
    "0, 1, 2, 3, 4, 5"
   ]
  },
  {
   "cell_type": "code",
   "execution_count": 24,
   "id": "invisible-nothing",
   "metadata": {},
   "outputs": [
    {
     "name": "stdout",
     "output_type": "stream",
     "text": [
      "0\n",
      "1\n",
      "2\n",
      "3\n",
      "4\n",
      "5\n"
     ]
    }
   ],
   "source": [
    "# 0, 1, 2, 3, 4, 5\n",
    "\n",
    "for index, letter in enumerate('pandas'):\n",
    "    print(index)"
   ]
  },
  {
   "cell_type": "markdown",
   "id": "adapted-partnership",
   "metadata": {},
   "source": [
    "## index Example"
   ]
  },
  {
   "cell_type": "markdown",
   "id": "urban-seventh",
   "metadata": {},
   "source": [
    "Start from 10, print up to 100 (inc) with step size of 5."
   ]
  },
  {
   "cell_type": "markdown",
   "id": "perceived-dylan",
   "metadata": {},
   "source": [
    "10, 15, 20, ..., 100"
   ]
  },
  {
   "cell_type": "markdown",
   "id": "conventional-march",
   "metadata": {},
   "source": [
    "Find \n",
    "\n",
    "the number in index of 3 = the number in 4th order.\n",
    "\n",
    "`Indices start from 0.`"
   ]
  },
  {
   "cell_type": "code",
   "execution_count": 25,
   "id": "silent-solid",
   "metadata": {},
   "outputs": [
    {
     "name": "stdout",
     "output_type": "stream",
     "text": [
      "10\n",
      "15\n",
      "20\n",
      "25\n",
      "30\n",
      "35\n",
      "40\n",
      "45\n",
      "50\n",
      "55\n",
      "60\n",
      "65\n",
      "70\n",
      "75\n",
      "80\n",
      "85\n",
      "90\n",
      "95\n",
      "100\n"
     ]
    }
   ],
   "source": [
    "# first let's see the numbers\n",
    "for number in range(10, 101, 5):\n",
    "    print(number)"
   ]
  },
  {
   "cell_type": "code",
   "execution_count": 26,
   "id": "certain-tucson",
   "metadata": {},
   "outputs": [
    {
     "name": "stdout",
     "output_type": "stream",
     "text": [
      "25\n"
     ]
    }
   ],
   "source": [
    "# index 3 -> element in 4th order\n",
    "\n",
    "number_range = range(10, 101, 5)\n",
    "\n",
    "for index, number in enumerate(number_range):\n",
    "    if index == 3:\n",
    "        print(number)"
   ]
  },
  {
   "cell_type": "code",
   "execution_count": 27,
   "id": "shaped-antique",
   "metadata": {},
   "outputs": [
    {
     "name": "stdout",
     "output_type": "stream",
     "text": [
      "25\n"
     ]
    }
   ],
   "source": [
    "# do it in one line\n",
    "for i, num in enumerate(range(10, 101, 5)):\n",
    "    if i == 3:\n",
    "        print(num)"
   ]
  },
  {
   "cell_type": "markdown",
   "id": "characteristic-missouri",
   "metadata": {},
   "source": [
    "## Nested Loops"
   ]
  },
  {
   "cell_type": "raw",
   "id": "perceived-photograph",
   "metadata": {},
   "source": [
    "# outer loop\n",
    "for .....:\n",
    "    # nested loop\n",
    "    for ......:\n",
    "    \n",
    "    # nested loop\n",
    "    for .......:\n",
    "        \n",
    "        # nested loop\n",
    "        for ......:"
   ]
  },
  {
   "cell_type": "markdown",
   "id": "mineral-identity",
   "metadata": {},
   "source": [
    "**Example:**\n",
    "\n",
    "We will draw a square of stars on screen.\n",
    "\n",
    "3 stars on a rows and 3 stars on a column."
   ]
  },
  {
   "cell_type": "code",
   "execution_count": 28,
   "id": "pleased-roller",
   "metadata": {},
   "outputs": [
    {
     "name": "stdout",
     "output_type": "stream",
     "text": [
      "* * * \n",
      "* * * \n",
      "* * * \n"
     ]
    }
   ],
   "source": [
    "# while\n",
    "\n",
    "i = 0\n",
    "\n",
    "# rows\n",
    "while i < 3:    \n",
    "    stars = \"\"\n",
    "    \n",
    "    # columns\n",
    "    j = 0\n",
    "    \n",
    "    while j < 3:\n",
    "        stars += \"* \"\n",
    "        j += 1\n",
    "        \n",
    "    # print the row stars\n",
    "    print(stars)\n",
    "    \n",
    "    # update the condition variable\n",
    "    i += 1"
   ]
  },
  {
   "cell_type": "code",
   "execution_count": 29,
   "id": "labeled-orleans",
   "metadata": {},
   "outputs": [
    {
     "name": "stdout",
     "output_type": "stream",
     "text": [
      "* * * \n",
      "* * * \n",
      "* * * \n"
     ]
    }
   ],
   "source": [
    "# for \n",
    "\n",
    "# iterate over rows\n",
    "    # iterate over columns\n",
    "    \n",
    "# rows\n",
    "for i in range(3):    \n",
    "    stars = \"\"\n",
    "    \n",
    "    # columns\n",
    "    for j in range(3):\n",
    "        stars += \"* \"\n",
    "        \n",
    "    print(stars)"
   ]
  },
  {
   "cell_type": "markdown",
   "id": "grand-powell",
   "metadata": {},
   "source": [
    "## Exit Loop: `break`"
   ]
  },
  {
   "cell_type": "markdown",
   "id": "nearby-spirituality",
   "metadata": {},
   "source": [
    "**Example:**\n",
    "\n",
    "Let's print the letters of a string.\n",
    "\n",
    "If we encounter a space character we will exit the loop."
   ]
  },
  {
   "cell_type": "code",
   "execution_count": 30,
   "id": "confident-architect",
   "metadata": {},
   "outputs": [
    {
     "name": "stdin",
     "output_type": "stream",
     "text": [
      "Please enter a text:  Python Hands-On is great\n"
     ]
    },
    {
     "name": "stdout",
     "output_type": "stream",
     "text": [
      "------  before the loop ------\n",
      "P\n",
      "y\n",
      "t\n",
      "h\n",
      "o\n",
      "n\n",
      "------  after the loop ------\n"
     ]
    }
   ],
   "source": [
    "# ask for an input\n",
    "text = input(\"Please enter a text: \")\n",
    "\n",
    "print(\"------  before the loop ------\")\n",
    "\n",
    "for character in text:    \n",
    "    # check is space\n",
    "    if character == ' ':\n",
    "        # exit the loop\n",
    "        break\n",
    "    \n",
    "    # if not space -> print it\n",
    "    print(character)\n",
    "    \n",
    "print(\"------  after the loop ------\")"
   ]
  },
  {
   "cell_type": "markdown",
   "id": "neither-burns",
   "metadata": {},
   "source": [
    "**Example:**\n",
    "\n",
    "Start from 30 up to 100 and print the numbers.\n",
    "\n",
    "If the number is a multiple of 11 we terminate execution."
   ]
  },
  {
   "cell_type": "code",
   "execution_count": 31,
   "id": "ranging-evaluation",
   "metadata": {},
   "outputs": [
    {
     "name": "stdout",
     "output_type": "stream",
     "text": [
      "------  before the loop ------\n",
      "30\n",
      "31\n",
      "32\n",
      "33\n",
      "------  after the loop ------\n"
     ]
    }
   ],
   "source": [
    "# multiple of 11\n",
    "print(\"------  before the loop ------\")\n",
    "\n",
    "for i in range(30, 101):    \n",
    "    # check for multiple of 11\n",
    "    if i % 11 == 0:\n",
    "        print(i)\n",
    "        break\n",
    "    else:\n",
    "        # it is not a multiple of 11\n",
    "        print(i)\n",
    "\n",
    "print(\"------  after the loop ------\")"
   ]
  },
  {
   "cell_type": "markdown",
   "id": "simple-heather",
   "metadata": {},
   "source": [
    "## Skip to the Next Iteration: `continue`"
   ]
  },
  {
   "cell_type": "markdown",
   "id": "negative-fleece",
   "metadata": {},
   "source": [
    "Sometimes we need only to skip the current iteretion and pass with the next one.\n",
    "\n",
    "For these cases -> **continue**"
   ]
  },
  {
   "cell_type": "markdown",
   "id": "incident-issue",
   "metadata": {},
   "source": [
    "`continue` will not finalize all the loop (like break) it will only **finalize the current iteration**."
   ]
  },
  {
   "cell_type": "markdown",
   "id": "democratic-logging",
   "metadata": {},
   "source": [
    "**Example:**\n",
    "\n",
    "We want to print even numbers from 1 to 10.\n",
    "\n",
    "`continue`"
   ]
  },
  {
   "cell_type": "code",
   "execution_count": 32,
   "id": "empirical-stationery",
   "metadata": {},
   "outputs": [
    {
     "name": "stdout",
     "output_type": "stream",
     "text": [
      "2\n",
      "4\n",
      "6\n",
      "8\n",
      "10\n"
     ]
    }
   ],
   "source": [
    "for i in range(1, 11):    \n",
    "    # if i is odd then skip it\n",
    "    if i % 2 == 1:\n",
    "        continue\n",
    "        \n",
    "    # if it comes here, which means it is even\n",
    "    print(i)"
   ]
  },
  {
   "cell_type": "markdown",
   "id": "floppy-customs",
   "metadata": {},
   "source": [
    "**Example:**\n",
    "\n",
    "Print the letters in a string.\n",
    "\n",
    "If we encounter the space caharacter we will skip that character.\n",
    "\n",
    "We will print all the chars but space."
   ]
  },
  {
   "cell_type": "code",
   "execution_count": 33,
   "id": "native-machine",
   "metadata": {},
   "outputs": [
    {
     "name": "stdin",
     "output_type": "stream",
     "text": [
      "Please enter a text:  Python Hands-On is Great\n"
     ]
    },
    {
     "name": "stdout",
     "output_type": "stream",
     "text": [
      "P\n",
      "y\n",
      "t\n",
      "h\n",
      "o\n",
      "n\n",
      "H\n",
      "a\n",
      "n\n",
      "d\n",
      "s\n",
      "-\n",
      "O\n",
      "n\n",
      "i\n",
      "s\n",
      "G\n",
      "r\n",
      "e\n",
      "a\n",
      "t\n"
     ]
    }
   ],
   "source": [
    "# ask for an input\n",
    "text = input('Please enter a text: ')\n",
    "\n",
    "for char in text:    \n",
    "    # check if space\n",
    "    if char == ' ':\n",
    "        continue\n",
    "        \n",
    "    # if not space -> we are here\n",
    "    print(char)"
   ]
  },
  {
   "cell_type": "markdown",
   "id": "forward-attack",
   "metadata": {},
   "source": [
    "## `For-Else` Structure"
   ]
  },
  {
   "cell_type": "markdown",
   "id": "accompanied-yesterday",
   "metadata": {},
   "source": [
    "Sometimes you need to know if your loop has completed successfully.\n",
    "\n",
    "**Successful Loops:** Loops with no `break` statements executed in them."
   ]
  },
  {
   "cell_type": "markdown",
   "id": "weekly-seven",
   "metadata": {},
   "source": [
    "For these case we use `for-else` structures."
   ]
  },
  {
   "cell_type": "raw",
   "id": "reduced-coupon",
   "metadata": {},
   "source": [
    "for .......:\n",
    "    ..........\n",
    "    ..........\n",
    "    break\n",
    "    ..........\n",
    "    ..........\n",
    "else:\n",
    "    ...... no break executed ......\n",
    "    \n",
    "...... the break executed in the loop ......"
   ]
  },
  {
   "cell_type": "markdown",
   "id": "stone-austria",
   "metadata": {},
   "source": [
    "**Example:**\n",
    "\n",
    "Print numbers from 2 to 10.\n",
    "\n",
    "If the number is 7, exit the loop (break).\n",
    "\n",
    "If the loop executes successfully we will print: \"Loop executed successfully\""
   ]
  },
  {
   "cell_type": "code",
   "execution_count": 34,
   "id": "general-concentrate",
   "metadata": {},
   "outputs": [
    {
     "name": "stdout",
     "output_type": "stream",
     "text": [
      "-------- Before For Loop ---------\n",
      "2\n",
      "3\n",
      "4\n",
      "5\n",
      "6\n",
      "7\n",
      "-------- After For Loop ---------\n"
     ]
    }
   ],
   "source": [
    "print(\"-------- Before For Loop ---------\")\n",
    "\n",
    "for i in range(2, 10):    \n",
    "    print(i)    \n",
    "    if i % 7 == 0:\n",
    "        break\n",
    "else:\n",
    "    print(\"Loop executed successfully\")\n",
    "    \n",
    "print(\"-------- After For Loop ---------\")"
   ]
  },
  {
   "cell_type": "code",
   "execution_count": 35,
   "id": "wooden-pattern",
   "metadata": {},
   "outputs": [
    {
     "name": "stdout",
     "output_type": "stream",
     "text": [
      "-------- Before For Loop ---------\n",
      "2\n",
      "3\n",
      "4\n",
      "5\n",
      "6\n",
      "7\n",
      "8\n",
      "9\n",
      "Loop executed successfully\n",
      "-------- After For Loop ---------\n"
     ]
    }
   ],
   "source": [
    "print(\"-------- Before For Loop ---------\")\n",
    "\n",
    "for i in range(2, 10):    \n",
    "    print(i)    \n",
    "    if i % 17 == 0:\n",
    "        break\n",
    "else:\n",
    "    print(\"Loop executed successfully\")\n",
    "    \n",
    "print(\"-------- After For Loop ---------\")"
   ]
  },
  {
   "cell_type": "code",
   "execution_count": null,
   "id": "optimum-workstation",
   "metadata": {},
   "outputs": [],
   "source": []
  }
 ],
 "metadata": {
  "kernelspec": {
   "display_name": "Python 3",
   "language": "python",
   "name": "python3"
  },
  "language_info": {
   "codemirror_mode": {
    "name": "ipython",
    "version": 3
   },
   "file_extension": ".py",
   "mimetype": "text/x-python",
   "name": "python",
   "nbconvert_exporter": "python",
   "pygments_lexer": "ipython3",
   "version": "3.8.8"
  }
 },
 "nbformat": 4,
 "nbformat_minor": 5
}
