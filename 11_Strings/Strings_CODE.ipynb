{
 "cells": [
  {
   "cell_type": "markdown",
   "id": "distributed-thinking",
   "metadata": {},
   "source": [
    "# Strings"
   ]
  },
  {
   "cell_type": "markdown",
   "id": "indonesian-soldier",
   "metadata": {},
   "source": [
    "Strings are different from other primitive types, int, float, bool."
   ]
  },
  {
   "cell_type": "markdown",
   "id": "spectacular-cliff",
   "metadata": {},
   "source": [
    "Strings are sequences."
   ]
  },
  {
   "cell_type": "markdown",
   "id": "shaped-crossing",
   "metadata": {},
   "source": [
    "Strings include array of characters in them."
   ]
  },
  {
   "cell_type": "markdown",
   "id": "artificial-jimmy",
   "metadata": {},
   "source": [
    "**Ex:**\n",
    "\n",
    "\"Python\" -> P y t h o n"
   ]
  },
  {
   "cell_type": "markdown",
   "id": "anonymous-leadership",
   "metadata": {},
   "source": [
    "**Sequence Types:**\n",
    "* String\n",
    "* List\n",
    "* Tuple"
   ]
  },
  {
   "cell_type": "markdown",
   "id": "engaged-accident",
   "metadata": {},
   "source": [
    "## String is a Squence"
   ]
  },
  {
   "cell_type": "code",
   "execution_count": 1,
   "id": "focused-component",
   "metadata": {},
   "outputs": [
    {
     "name": "stdout",
     "output_type": "stream",
     "text": [
      "orange\n"
     ]
    }
   ],
   "source": [
    "fruit = 'orange'\n",
    "print(fruit)"
   ]
  },
  {
   "cell_type": "code",
   "execution_count": 2,
   "id": "violent-reaction",
   "metadata": {},
   "outputs": [
    {
     "data": {
      "text/plain": [
       "'o'"
      ]
     },
     "execution_count": 2,
     "metadata": {},
     "output_type": "execute_result"
    }
   ],
   "source": [
    "# the first character in the string\n",
    "fruit[0]"
   ]
  },
  {
   "cell_type": "markdown",
   "id": "enormous-russell",
   "metadata": {},
   "source": [
    "In Python, for sequence types, we access elements via indices.\n",
    "\n",
    "`sequence[index]`"
   ]
  },
  {
   "cell_type": "markdown",
   "id": "voluntary-exhaust",
   "metadata": {},
   "source": [
    "**In Python, index starts from 0**:\n",
    "\n",
    "0, 1, 2, 3, ..."
   ]
  },
  {
   "cell_type": "raw",
   "id": "elder-sarah",
   "metadata": {},
   "source": [
    "get the element in the third (3rd) order \n",
    "\n",
    "Orders:\n",
    "1  2  3  4  5  6\n",
    "o  r  a  n  g  e\n",
    "0  1  2  3  4  5\n",
    "Index:"
   ]
  },
  {
   "cell_type": "code",
   "execution_count": 3,
   "id": "diagnostic-disorder",
   "metadata": {},
   "outputs": [
    {
     "data": {
      "text/plain": [
       "'a'"
      ]
     },
     "execution_count": 3,
     "metadata": {},
     "output_type": "execute_result"
    }
   ],
   "source": [
    "# we want the letter in fruit of order 3\n",
    "# order 3 = index 2\n",
    "fruit[2]"
   ]
  },
  {
   "cell_type": "code",
   "execution_count": 4,
   "id": "emerging-shield",
   "metadata": {},
   "outputs": [
    {
     "data": {
      "text/plain": [
       "'e'"
      ]
     },
     "execution_count": 4,
     "metadata": {},
     "output_type": "execute_result"
    }
   ],
   "source": [
    "# the letter in 6th order\n",
    "# order 6 = index 5\n",
    "fruit[5]"
   ]
  },
  {
   "cell_type": "raw",
   "id": "ordered-color",
   "metadata": {},
   "source": [
    "# get the last element"
   ]
  },
  {
   "cell_type": "markdown",
   "id": "right-catalyst",
   "metadata": {},
   "source": [
    "## String Length (len)"
   ]
  },
  {
   "cell_type": "markdown",
   "id": "introductory-philippines",
   "metadata": {},
   "source": [
    "In Python, to get the length of sequence types we use standard function: `len()`"
   ]
  },
  {
   "cell_type": "code",
   "execution_count": 5,
   "id": "religious-address",
   "metadata": {},
   "outputs": [
    {
     "data": {
      "text/plain": [
       "6"
      ]
     },
     "execution_count": 5,
     "metadata": {},
     "output_type": "execute_result"
    }
   ],
   "source": [
    "# length of fruit variable\n",
    "len(fruit)"
   ]
  },
  {
   "cell_type": "markdown",
   "id": "connected-friendship",
   "metadata": {},
   "source": [
    "We want to get the last element -> the index = 5"
   ]
  },
  {
   "cell_type": "code",
   "execution_count": 6,
   "id": "talented-prime",
   "metadata": {},
   "outputs": [
    {
     "name": "stdout",
     "output_type": "stream",
     "text": [
      "last index: 5\n",
      "last element: e\n"
     ]
    }
   ],
   "source": [
    "# the last element -> order 6\n",
    "# index = 5\n",
    "# last index = length - 1\n",
    "\n",
    "last_index = len(fruit) - 1\n",
    "print('last index:', last_index)\n",
    "\n",
    "last_element = fruit[last_index]\n",
    "print(\"last element:\", last_element)"
   ]
  },
  {
   "cell_type": "code",
   "execution_count": 7,
   "id": "spectacular-crash",
   "metadata": {},
   "outputs": [
    {
     "data": {
      "text/plain": [
       "'e'"
      ]
     },
     "execution_count": 7,
     "metadata": {},
     "output_type": "execute_result"
    }
   ],
   "source": [
    "# in one line\n",
    "# the last element\n",
    "fruit[len(fruit) - 1]"
   ]
  },
  {
   "cell_type": "code",
   "execution_count": 8,
   "id": "korean-creature",
   "metadata": {},
   "outputs": [
    {
     "ename": "IndexError",
     "evalue": "string index out of range",
     "output_type": "error",
     "traceback": [
      "\u001b[1;31m---------------------------------------------------------------------------\u001b[0m",
      "\u001b[1;31mIndexError\u001b[0m                                Traceback (most recent call last)",
      "\u001b[1;32m<ipython-input-8-b4ed5af4a155>\u001b[0m in \u001b[0;36m<module>\u001b[1;34m\u001b[0m\n\u001b[0;32m      1\u001b[0m \u001b[1;31m# wrong last index => fruit[6]\u001b[0m\u001b[1;33m\u001b[0m\u001b[1;33m\u001b[0m\u001b[1;33m\u001b[0m\u001b[0m\n\u001b[1;32m----> 2\u001b[1;33m \u001b[0mfruit\u001b[0m\u001b[1;33m[\u001b[0m\u001b[0mlen\u001b[0m\u001b[1;33m(\u001b[0m\u001b[0mfruit\u001b[0m\u001b[1;33m)\u001b[0m\u001b[1;33m]\u001b[0m\u001b[1;33m\u001b[0m\u001b[1;33m\u001b[0m\u001b[0m\n\u001b[0m",
      "\u001b[1;31mIndexError\u001b[0m: string index out of range"
     ]
    }
   ],
   "source": [
    "# wrong last index => fruit[6]\n",
    "fruit[len(fruit)]"
   ]
  },
  {
   "cell_type": "code",
   "execution_count": 9,
   "id": "latter-sapphire",
   "metadata": {},
   "outputs": [
    {
     "ename": "IndexError",
     "evalue": "string index out of range",
     "output_type": "error",
     "traceback": [
      "\u001b[1;31m---------------------------------------------------------------------------\u001b[0m",
      "\u001b[1;31mIndexError\u001b[0m                                Traceback (most recent call last)",
      "\u001b[1;32m<ipython-input-9-848be86271bd>\u001b[0m in \u001b[0;36m<module>\u001b[1;34m\u001b[0m\n\u001b[1;32m----> 1\u001b[1;33m \u001b[0mfruit\u001b[0m\u001b[1;33m[\u001b[0m\u001b[1;36m8\u001b[0m\u001b[1;33m]\u001b[0m\u001b[1;33m\u001b[0m\u001b[1;33m\u001b[0m\u001b[0m\n\u001b[0m",
      "\u001b[1;31mIndexError\u001b[0m: string index out of range"
     ]
    }
   ],
   "source": [
    "fruit[8]"
   ]
  },
  {
   "cell_type": "code",
   "execution_count": 10,
   "id": "color-helicopter",
   "metadata": {},
   "outputs": [
    {
     "data": {
      "text/plain": [
       "('Machine Learning', 'ALAN TURING')"
      ]
     },
     "execution_count": 10,
     "metadata": {},
     "output_type": "execute_result"
    }
   ],
   "source": [
    "x = 'Machine Learning'\n",
    "y = 'ALAN TURING'\n",
    "x, y"
   ]
  },
  {
   "cell_type": "code",
   "execution_count": 11,
   "id": "contemporary-invalid",
   "metadata": {},
   "outputs": [
    {
     "data": {
      "text/plain": [
       "(16, 11)"
      ]
     },
     "execution_count": 11,
     "metadata": {},
     "output_type": "execute_result"
    }
   ],
   "source": [
    "len(x), len(y)"
   ]
  },
  {
   "cell_type": "markdown",
   "id": "fantastic-release",
   "metadata": {},
   "source": [
    "## String Slicing"
   ]
  },
  {
   "cell_type": "markdown",
   "id": "announced-concentration",
   "metadata": {},
   "source": [
    "A part of a sequence is called a `slice`."
   ]
  },
  {
   "cell_type": "markdown",
   "id": "another-campbell",
   "metadata": {},
   "source": [
    "For slicing we use `indexing`."
   ]
  },
  {
   "cell_type": "markdown",
   "id": "spare-force",
   "metadata": {},
   "source": [
    "**Slicing:**\n",
    "\n",
    "* `sequence[start : end : step]`\n",
    "* start -> leave blank -> default: 0\n",
    "* end -> leave blank -> default: last index\n",
    "* step -> leave blank -> default: 1\n",
    "* start is included, end is excluded -> [start, end)"
   ]
  },
  {
   "cell_type": "code",
   "execution_count": 12,
   "id": "welcome-judges",
   "metadata": {},
   "outputs": [],
   "source": [
    "s = 'Python Hands-On'"
   ]
  },
  {
   "cell_type": "markdown",
   "id": "revolutionary-rider",
   "metadata": {},
   "source": [
    "<pre>\n",
    "s       | P | y | t | h | o | n |   | H | a | n | d  | s  | -  | O  | n  |\n",
    "\n",
    "index   | 0 | 1 | 2 | 3 | 4 | 5 | 6 | 7 | 8 | 9 | 10 | 11 | 12 | 13 | 14 |\n",
    "</pre>"
   ]
  },
  {
   "cell_type": "code",
   "execution_count": 13,
   "id": "delayed-basket",
   "metadata": {},
   "outputs": [
    {
     "data": {
      "text/plain": [
       "'Python'"
      ]
     },
     "execution_count": 13,
     "metadata": {},
     "output_type": "execute_result"
    }
   ],
   "source": [
    "# We want to slice 'Python'\n",
    "s[0:6]"
   ]
  },
  {
   "cell_type": "code",
   "execution_count": 14,
   "id": "specified-demographic",
   "metadata": {},
   "outputs": [
    {
     "data": {
      "text/plain": [
       "'Python'"
      ]
     },
     "execution_count": 14,
     "metadata": {},
     "output_type": "execute_result"
    }
   ],
   "source": [
    "# s[0:6]\n",
    "s[:6]"
   ]
  },
  {
   "cell_type": "markdown",
   "id": "reduced-november",
   "metadata": {},
   "source": [
    "**How to Read:**\n",
    "\n",
    "`s[0:6]` : Start slicing from index 0 up to index 6. (Step is 1)"
   ]
  },
  {
   "cell_type": "code",
   "execution_count": 15,
   "id": "accompanied-month",
   "metadata": {},
   "outputs": [
    {
     "data": {
      "text/plain": [
       "'Hands'"
      ]
     },
     "execution_count": 15,
     "metadata": {},
     "output_type": "execute_result"
    }
   ],
   "source": [
    "# We want the word Hands \n",
    "s[7:12]"
   ]
  },
  {
   "cell_type": "markdown",
   "id": "animal-pasta",
   "metadata": {},
   "source": [
    "**How to Read:**\n",
    "\n",
    "`s[7:12]` : Start slicing from index 7 up to index 12. (Step 1)"
   ]
  },
  {
   "cell_type": "markdown",
   "id": "forward-manitoba",
   "metadata": {},
   "source": [
    "**Step Size:**\n",
    "\n",
    "It determines by how much you increase/decrease the index."
   ]
  },
  {
   "cell_type": "code",
   "execution_count": 16,
   "id": "representative-locking",
   "metadata": {},
   "outputs": [
    {
     "data": {
      "text/plain": [
       "'123456789'"
      ]
     },
     "execution_count": 16,
     "metadata": {},
     "output_type": "execute_result"
    }
   ],
   "source": [
    "# define a new variable\n",
    "numbers = '123456789'\n",
    "numbers"
   ]
  },
  {
   "cell_type": "code",
   "execution_count": 17,
   "id": "korean-flesh",
   "metadata": {},
   "outputs": [
    {
     "data": {
      "text/plain": [
       "'13579'"
      ]
     },
     "execution_count": 17,
     "metadata": {},
     "output_type": "execute_result"
    }
   ],
   "source": [
    "# get the odd numbers\n",
    "numbers[::2]"
   ]
  },
  {
   "cell_type": "code",
   "execution_count": 18,
   "id": "cleared-check",
   "metadata": {},
   "outputs": [
    {
     "data": {
      "text/plain": [
       "'2468'"
      ]
     },
     "execution_count": 18,
     "metadata": {},
     "output_type": "execute_result"
    }
   ],
   "source": [
    "# get even numbers\n",
    "numbers[1::2]"
   ]
  },
  {
   "cell_type": "code",
   "execution_count": 19,
   "id": "relative-flexibility",
   "metadata": {},
   "outputs": [
    {
     "data": {
      "text/plain": [
       "'123456789'"
      ]
     },
     "execution_count": 19,
     "metadata": {},
     "output_type": "execute_result"
    }
   ],
   "source": [
    "# we want to slice all \n",
    "# copy the whole sequence\n",
    "numbers[::]"
   ]
  },
  {
   "cell_type": "code",
   "execution_count": 20,
   "id": "knowing-contact",
   "metadata": {},
   "outputs": [
    {
     "data": {
      "text/plain": [
       "'123456789'"
      ]
     },
     "execution_count": 20,
     "metadata": {},
     "output_type": "execute_result"
    }
   ],
   "source": [
    "# the complete slice means the copy\n",
    "copy_of_numbers = numbers[::]\n",
    "copy_of_numbers"
   ]
  },
  {
   "cell_type": "markdown",
   "id": "sunset-manor",
   "metadata": {},
   "source": [
    "## Negative Index"
   ]
  },
  {
   "cell_type": "markdown",
   "id": "ignored-millennium",
   "metadata": {},
   "source": [
    "Index from Left to Right:\n",
    "* normal index\n",
    "* index\n",
    "* starts from `0`\n",
    "\n",
    "Index from Right to Left:\n",
    "* reverse index\n",
    "* negative index\n",
    "* starts from `-1`\n"
   ]
  },
  {
   "cell_type": "code",
   "execution_count": 21,
   "id": "conservative-approval",
   "metadata": {},
   "outputs": [
    {
     "data": {
      "text/plain": [
       "'9'"
      ]
     },
     "execution_count": 21,
     "metadata": {},
     "output_type": "execute_result"
    }
   ],
   "source": [
    "# get the last element\n",
    "# index (normal)\n",
    "numbers[8]"
   ]
  },
  {
   "cell_type": "code",
   "execution_count": 22,
   "id": "intellectual-contribution",
   "metadata": {},
   "outputs": [
    {
     "data": {
      "text/plain": [
       "'9'"
      ]
     },
     "execution_count": 22,
     "metadata": {},
     "output_type": "execute_result"
    }
   ],
   "source": [
    "# get the last element\n",
    "# negative index\n",
    "numbers[-1]"
   ]
  },
  {
   "cell_type": "code",
   "execution_count": 23,
   "id": "sharing-adult",
   "metadata": {},
   "outputs": [
    {
     "data": {
      "text/plain": [
       "'Python'"
      ]
     },
     "execution_count": 23,
     "metadata": {},
     "output_type": "execute_result"
    }
   ],
   "source": [
    "s = 'Python'\n",
    "s"
   ]
  },
  {
   "cell_type": "markdown",
   "id": "asian-property",
   "metadata": {},
   "source": [
    "Rule:\n",
    "* Going from Start to End (Left to Right) index starts at **0**.\n",
    "* Going from End to Start (Right to Left) index starts at **-1**."
   ]
  },
  {
   "cell_type": "markdown",
   "id": "meaningful-hawaiian",
   "metadata": {},
   "source": [
    "<pre>\n",
    "s                |  P  |  y  |  t  |  h  |  o  |  n  |\n",
    "\n",
    "                 >>>>>>>>>>>\n",
    "index            |  0  |  1  |  2  |  3  |  4  |  5  |\n",
    "\n",
    "                 <<<<<<<<<<<\n",
    "negative index   | -6  | -5  | -4  | -3  | -2  | -1  |\n",
    "\n",
    "</pre>"
   ]
  },
  {
   "cell_type": "code",
   "execution_count": 24,
   "id": "legal-proposition",
   "metadata": {},
   "outputs": [
    {
     "data": {
      "text/plain": [
       "('n', 'n')"
      ]
     },
     "execution_count": 24,
     "metadata": {},
     "output_type": "execute_result"
    }
   ],
   "source": [
    "# last letter\n",
    "s[5], s[-1]"
   ]
  },
  {
   "cell_type": "code",
   "execution_count": 25,
   "id": "urban-intention",
   "metadata": {},
   "outputs": [
    {
     "data": {
      "text/plain": [
       "('P', 'P')"
      ]
     },
     "execution_count": 25,
     "metadata": {},
     "output_type": "execute_result"
    }
   ],
   "source": [
    "# first letter\n",
    "s[0], s[-6]"
   ]
  },
  {
   "cell_type": "code",
   "execution_count": 26,
   "id": "combined-america",
   "metadata": {},
   "outputs": [
    {
     "data": {
      "text/plain": [
       "('o', 'o')"
      ]
     },
     "execution_count": 26,
     "metadata": {},
     "output_type": "execute_result"
    }
   ],
   "source": [
    "# 4th index (normal index)\n",
    "# -2 index (negative index)\n",
    "s[4], s[-2]"
   ]
  },
  {
   "cell_type": "markdown",
   "id": "jewish-textbook",
   "metadata": {},
   "source": [
    "**Practical Way:**\n",
    "\n",
    "**Sum** of absolute values of Normal Index and Negative Index is **Length** of sequence."
   ]
  },
  {
   "cell_type": "raw",
   "id": "excessive-crawford",
   "metadata": {},
   "source": [
    "length of the text = 6\n",
    "negative index = -2\n",
    "index = 4\n",
    "\n",
    "2 + ..4.. = 6"
   ]
  },
  {
   "cell_type": "code",
   "execution_count": 27,
   "id": "quantitative-insulin",
   "metadata": {},
   "outputs": [
    {
     "data": {
      "text/plain": [
       "('o', 'o')"
      ]
     },
     "execution_count": 27,
     "metadata": {},
     "output_type": "execute_result"
    }
   ],
   "source": [
    "# sum of absolute values is the length\n",
    "# these indices points the same letter\n",
    "s[-2], s[4]"
   ]
  },
  {
   "cell_type": "markdown",
   "id": "super-operator",
   "metadata": {},
   "source": [
    "## Reverse Slicing"
   ]
  },
  {
   "cell_type": "markdown",
   "id": "continental-adoption",
   "metadata": {},
   "source": [
    "Reverse slicing is slicing the sequence from end to start (from right to left).\n",
    "\n",
    "We use reverse index or negative step size."
   ]
  },
  {
   "cell_type": "markdown",
   "id": "defensive-friday",
   "metadata": {},
   "source": [
    "**Reverse Slicing:**\n",
    "* sequence[end : start : -step]\n",
    "* from end to start\n",
    "* the last index **-1** (not 0)"
   ]
  },
  {
   "cell_type": "code",
   "execution_count": 28,
   "id": "future-bonus",
   "metadata": {},
   "outputs": [
    {
     "data": {
      "text/plain": [
       "'123456789'"
      ]
     },
     "execution_count": 28,
     "metadata": {},
     "output_type": "execute_result"
    }
   ],
   "source": [
    "# print numbers (normal)\n",
    "numbers[::]"
   ]
  },
  {
   "cell_type": "code",
   "execution_count": 29,
   "id": "sexual-medicine",
   "metadata": {},
   "outputs": [
    {
     "data": {
      "text/plain": [
       "'987654321'"
      ]
     },
     "execution_count": 29,
     "metadata": {},
     "output_type": "execute_result"
    }
   ],
   "source": [
    "# print numbers from end to start -> reverse order\n",
    "numbers[::-1]"
   ]
  },
  {
   "cell_type": "markdown",
   "id": "divided-detail",
   "metadata": {},
   "source": [
    "**Step Size:**\n",
    "\n",
    "* positive -> Left to Right (normal)\n",
    "* negative -> Right to Left (reverse)"
   ]
  },
  {
   "cell_type": "code",
   "execution_count": 30,
   "id": "amateur-thermal",
   "metadata": {},
   "outputs": [
    {
     "data": {
      "text/plain": [
       "'13579'"
      ]
     },
     "execution_count": 30,
     "metadata": {},
     "output_type": "execute_result"
    }
   ],
   "source": [
    "# print numbers from start to end incrementing by 2 \n",
    "# step is 2\n",
    "numbers[::2]"
   ]
  },
  {
   "cell_type": "code",
   "execution_count": 31,
   "id": "mineral-sandwich",
   "metadata": {},
   "outputs": [
    {
     "data": {
      "text/plain": [
       "'97531'"
      ]
     },
     "execution_count": 31,
     "metadata": {},
     "output_type": "execute_result"
    }
   ],
   "source": [
    "# print numbers from end to start decrementing by 2 \n",
    "# step is -2\n",
    "numbers[::-2]"
   ]
  },
  {
   "cell_type": "markdown",
   "id": "stainless-ambassador",
   "metadata": {},
   "source": [
    "<pre>\n",
    "numbers     |  1  |  2  |  3  |  4  |  5  |  6  |  7  |  8  |  9  |\n",
    "\n",
    "            >>>>>>>>>>>\n",
    "index       |  0  |  1  |  2  |  3  |  4  |  5  |  6  |  7  |  8  |\n",
    "\n",
    "            <<<<<<<<<<<\n",
    "neg. index  | -9  | -8  | -7  | -6  | -5  | -4  | -3  | -2  | -1  |\n",
    "\n",
    "</pre>"
   ]
  },
  {
   "cell_type": "markdown",
   "id": "alert-conspiracy",
   "metadata": {},
   "source": [
    "**Normal Index** -> get '456' and '654'"
   ]
  },
  {
   "cell_type": "code",
   "execution_count": 32,
   "id": "adapted-flavor",
   "metadata": {},
   "outputs": [
    {
     "data": {
      "text/plain": [
       "'456'"
      ]
     },
     "execution_count": 32,
     "metadata": {},
     "output_type": "execute_result"
    }
   ],
   "source": [
    "# normal index --------->\n",
    "# 456  -> index from 3 up to 6\n",
    "numbers[3:6]"
   ]
  },
  {
   "cell_type": "code",
   "execution_count": 33,
   "id": "operational-capability",
   "metadata": {},
   "outputs": [
    {
     "data": {
      "text/plain": [
       "'456'"
      ]
     },
     "execution_count": 33,
     "metadata": {},
     "output_type": "execute_result"
    }
   ],
   "source": [
    "# negative index  <---------\n",
    "# 456  -> index from -6 up to -3\n",
    "numbers[-6:-3:1]"
   ]
  },
  {
   "cell_type": "markdown",
   "id": "hundred-section",
   "metadata": {},
   "source": [
    "**Negative Index:** take 654."
   ]
  },
  {
   "cell_type": "code",
   "execution_count": 34,
   "id": "abroad-choir",
   "metadata": {},
   "outputs": [
    {
     "data": {
      "text/plain": [
       "'654'"
      ]
     },
     "execution_count": 34,
     "metadata": {},
     "output_type": "execute_result"
    }
   ],
   "source": [
    "# negative index and negative step\n",
    "numbers[-4:-7:-1]"
   ]
  },
  {
   "cell_type": "markdown",
   "id": "administrative-niger",
   "metadata": {},
   "source": [
    "## Strings are Immutable"
   ]
  },
  {
   "cell_type": "markdown",
   "id": "absent-bargain",
   "metadata": {},
   "source": [
    "In Python, Strings are Immutable:\n",
    "\n",
    "You can not change any part of a string."
   ]
  },
  {
   "cell_type": "markdown",
   "id": "average-museum",
   "metadata": {},
   "source": [
    "You can **reassign** but can not **mutate**."
   ]
  },
  {
   "cell_type": "code",
   "execution_count": 35,
   "id": "cross-preview",
   "metadata": {},
   "outputs": [
    {
     "data": {
      "text/plain": [
       "'w'"
      ]
     },
     "execution_count": 35,
     "metadata": {},
     "output_type": "execute_result"
    }
   ],
   "source": [
    "say_hello = 'Hello world'\n",
    "say_hello[6]"
   ]
  },
  {
   "cell_type": "code",
   "execution_count": 36,
   "id": "distinct-boost",
   "metadata": {},
   "outputs": [
    {
     "ename": "TypeError",
     "evalue": "'str' object does not support item assignment",
     "output_type": "error",
     "traceback": [
      "\u001b[1;31m---------------------------------------------------------------------------\u001b[0m",
      "\u001b[1;31mTypeError\u001b[0m                                 Traceback (most recent call last)",
      "\u001b[1;32m<ipython-input-36-0f19f374706c>\u001b[0m in \u001b[0;36m<module>\u001b[1;34m\u001b[0m\n\u001b[0;32m      1\u001b[0m \u001b[1;31m# fix the value in index = 6\u001b[0m\u001b[1;33m\u001b[0m\u001b[1;33m\u001b[0m\u001b[1;33m\u001b[0m\u001b[0m\n\u001b[1;32m----> 2\u001b[1;33m \u001b[0msay_hello\u001b[0m\u001b[1;33m[\u001b[0m\u001b[1;36m6\u001b[0m\u001b[1;33m]\u001b[0m \u001b[1;33m=\u001b[0m \u001b[1;34m'W'\u001b[0m\u001b[1;33m\u001b[0m\u001b[1;33m\u001b[0m\u001b[0m\n\u001b[0m",
      "\u001b[1;31mTypeError\u001b[0m: 'str' object does not support item assignment"
     ]
    }
   ],
   "source": [
    "# fix the value in index = 6\n",
    "say_hello[6] = 'W'"
   ]
  },
  {
   "cell_type": "markdown",
   "id": "following-traveler",
   "metadata": {},
   "source": [
    "TypeError: Strings are not mutable"
   ]
  },
  {
   "cell_type": "markdown",
   "id": "drawn-florist",
   "metadata": {},
   "source": [
    "**Question:**\n",
    "\n",
    "How do we fix the error if we can not mutate?\n",
    "\n",
    "**Answer 1:**\n",
    "\n",
    "You can reassign.\n",
    "\n",
    "**Answer 2:**\n",
    "\n",
    "We will do slicing and concatinating."
   ]
  },
  {
   "cell_type": "code",
   "execution_count": 37,
   "id": "unexpected-taste",
   "metadata": {},
   "outputs": [
    {
     "data": {
      "text/plain": [
       "'Hello '"
      ]
     },
     "execution_count": 37,
     "metadata": {},
     "output_type": "execute_result"
    }
   ],
   "source": [
    "# first slice the part before letter w\n",
    "slice_1 = say_hello[:6]\n",
    "slice_1"
   ]
  },
  {
   "cell_type": "code",
   "execution_count": 38,
   "id": "electronic-shoulder",
   "metadata": {},
   "outputs": [
    {
     "data": {
      "text/plain": [
       "'orld'"
      ]
     },
     "execution_count": 38,
     "metadata": {},
     "output_type": "execute_result"
    }
   ],
   "source": [
    "# then slice the part after letter w\n",
    "slice_2 = say_hello[7:]\n",
    "slice_2"
   ]
  },
  {
   "cell_type": "code",
   "execution_count": 39,
   "id": "efficient-salad",
   "metadata": {},
   "outputs": [
    {
     "data": {
      "text/plain": [
       "'Hello World'"
      ]
     },
     "execution_count": 39,
     "metadata": {},
     "output_type": "execute_result"
    }
   ],
   "source": [
    "# finally concatenate the parts and W\n",
    "say_hello = slice_1 + \"W\" + slice_2\n",
    "say_hello"
   ]
  },
  {
   "cell_type": "markdown",
   "id": "institutional-lodge",
   "metadata": {},
   "source": [
    "## String Methods"
   ]
  },
  {
   "cell_type": "markdown",
   "id": "right-elimination",
   "metadata": {},
   "source": [
    "**upper()**: Converts string into upper case."
   ]
  },
  {
   "cell_type": "code",
   "execution_count": 40,
   "id": "spiritual-connecticut",
   "metadata": {},
   "outputs": [
    {
     "data": {
      "text/plain": [
       "'computer'"
      ]
     },
     "execution_count": 40,
     "metadata": {},
     "output_type": "execute_result"
    }
   ],
   "source": [
    "word = 'computer'\n",
    "word"
   ]
  },
  {
   "cell_type": "code",
   "execution_count": 41,
   "id": "serial-fancy",
   "metadata": {},
   "outputs": [
    {
     "data": {
      "text/plain": [
       "'COMPUTER'"
      ]
     },
     "execution_count": 41,
     "metadata": {},
     "output_type": "execute_result"
    }
   ],
   "source": [
    "word_upper_case = word.upper()\n",
    "word_upper_case"
   ]
  },
  {
   "cell_type": "markdown",
   "id": "executed-reward",
   "metadata": {},
   "source": [
    "**lower()**: Converts string into lower case."
   ]
  },
  {
   "cell_type": "code",
   "execution_count": 42,
   "id": "coordinate-reason",
   "metadata": {},
   "outputs": [
    {
     "data": {
      "text/plain": [
       "'LEARNING'"
      ]
     },
     "execution_count": 42,
     "metadata": {},
     "output_type": "execute_result"
    }
   ],
   "source": [
    "word = 'LEARNING'\n",
    "word"
   ]
  },
  {
   "cell_type": "code",
   "execution_count": 43,
   "id": "refined-salvation",
   "metadata": {},
   "outputs": [
    {
     "data": {
      "text/plain": [
       "'learning'"
      ]
     },
     "execution_count": 43,
     "metadata": {},
     "output_type": "execute_result"
    }
   ],
   "source": [
    "word_lower_case = word.lower()\n",
    "word_lower_case"
   ]
  },
  {
   "cell_type": "markdown",
   "id": "numeric-logistics",
   "metadata": {},
   "source": [
    "**strip()**: Removes the space chars at the beginning and end of the string."
   ]
  },
  {
   "cell_type": "code",
   "execution_count": 44,
   "id": "surgical-alaska",
   "metadata": {},
   "outputs": [
    {
     "data": {
      "text/plain": [
       "'This is a sentence.'"
      ]
     },
     "execution_count": 44,
     "metadata": {},
     "output_type": "execute_result"
    }
   ],
   "source": [
    "sentence = '     This is a sentence.        '\n",
    "sentence.strip()"
   ]
  },
  {
   "cell_type": "code",
   "execution_count": 45,
   "id": "annual-reverse",
   "metadata": {},
   "outputs": [
    {
     "data": {
      "text/plain": [
       "'     This is a sentence.        '"
      ]
     },
     "execution_count": 45,
     "metadata": {},
     "output_type": "execute_result"
    }
   ],
   "source": [
    "sentence"
   ]
  },
  {
   "cell_type": "code",
   "execution_count": 46,
   "id": "furnished-brother",
   "metadata": {},
   "outputs": [
    {
     "data": {
      "text/plain": [
       "'gmail.com'"
      ]
     },
     "execution_count": 46,
     "metadata": {},
     "output_type": "execute_result"
    }
   ],
   "source": [
    "text = '#@gmail.com@#'\n",
    "new_text = text.strip('@#')\n",
    "new_text"
   ]
  },
  {
   "cell_type": "markdown",
   "id": "hungry-doubt",
   "metadata": {},
   "source": [
    "**lstrip()**: Removes the space chars at the beginning of the string.\n",
    "\n",
    "**rstrip()**: Removes the space chars at the end of the string."
   ]
  },
  {
   "cell_type": "code",
   "execution_count": 47,
   "id": "seeing-associate",
   "metadata": {},
   "outputs": [
    {
     "data": {
      "text/plain": [
       "'dashes before string'"
      ]
     },
     "execution_count": 47,
     "metadata": {},
     "output_type": "execute_result"
    }
   ],
   "source": [
    "text = '------ dashes before string'\n",
    "text.lstrip(' -')"
   ]
  },
  {
   "cell_type": "markdown",
   "id": "square-biology",
   "metadata": {},
   "source": [
    "**format():** decorates the string with variables."
   ]
  },
  {
   "cell_type": "code",
   "execution_count": 48,
   "id": "packed-tracy",
   "metadata": {},
   "outputs": [
    {
     "data": {
      "text/plain": [
       "'Python - Machine Learning'"
      ]
     },
     "execution_count": 48,
     "metadata": {},
     "output_type": "execute_result"
    }
   ],
   "source": [
    "A = 'Python'\n",
    "B = 'Machine'\n",
    "C = 'Learning'\n",
    "\n",
    "arg = '{0} - {1} {2}'.format(A, B, C)\n",
    "arg"
   ]
  },
  {
   "cell_type": "code",
   "execution_count": 49,
   "id": "compound-bottom",
   "metadata": {},
   "outputs": [
    {
     "data": {
      "text/plain": [
       "'Python - Machine Learning'"
      ]
     },
     "execution_count": 49,
     "metadata": {},
     "output_type": "execute_result"
    }
   ],
   "source": [
    "arg = '{0} - {1} {2}'\n",
    "arg.format(A, B, C)"
   ]
  },
  {
   "cell_type": "markdown",
   "id": "cheap-compression",
   "metadata": {},
   "source": [
    "**find():** Looks for char or string inside a string.\n",
    "\n",
    "* if it finds -> the first index\n",
    "* it it doesn't find -> -1"
   ]
  },
  {
   "cell_type": "code",
   "execution_count": 50,
   "id": "governmental-raise",
   "metadata": {},
   "outputs": [
    {
     "data": {
      "text/plain": [
       "0"
      ]
     },
     "execution_count": 50,
     "metadata": {},
     "output_type": "execute_result"
    }
   ],
   "source": [
    "word = 'window'\n",
    "word.find('w')"
   ]
  },
  {
   "cell_type": "code",
   "execution_count": 51,
   "id": "optional-identity",
   "metadata": {},
   "outputs": [
    {
     "data": {
      "text/plain": [
       "1"
      ]
     },
     "execution_count": 51,
     "metadata": {},
     "output_type": "execute_result"
    }
   ],
   "source": [
    "word.find('in')"
   ]
  },
  {
   "cell_type": "code",
   "execution_count": 52,
   "id": "reported-class",
   "metadata": {},
   "outputs": [
    {
     "data": {
      "text/plain": [
       "-1"
      ]
     },
     "execution_count": 52,
     "metadata": {},
     "output_type": "execute_result"
    }
   ],
   "source": [
    "word.find('t')"
   ]
  },
  {
   "cell_type": "code",
   "execution_count": 53,
   "id": "still-chemistry",
   "metadata": {},
   "outputs": [
    {
     "data": {
      "text/plain": [
       "5"
      ]
     },
     "execution_count": 53,
     "metadata": {},
     "output_type": "execute_result"
    }
   ],
   "source": [
    "# specify starting index\n",
    "word.find('w', 1)"
   ]
  },
  {
   "cell_type": "code",
   "execution_count": 54,
   "id": "caring-budapest",
   "metadata": {},
   "outputs": [
    {
     "data": {
      "text/plain": [
       "4"
      ]
     },
     "execution_count": 54,
     "metadata": {},
     "output_type": "execute_result"
    }
   ],
   "source": [
    "# start - end -> find('x', start, end)\n",
    "movie_name = 'Batman Dark Knight'\n",
    "movie_name.find('a', 2, 5)"
   ]
  },
  {
   "cell_type": "markdown",
   "id": "committed-greenhouse",
   "metadata": {},
   "source": [
    "**capitalize():** It converts the first letter -> upper"
   ]
  },
  {
   "cell_type": "code",
   "execution_count": 55,
   "id": "unsigned-climate",
   "metadata": {},
   "outputs": [
    {
     "data": {
      "text/plain": [
       "'The godfather'"
      ]
     },
     "execution_count": 55,
     "metadata": {},
     "output_type": "execute_result"
    }
   ],
   "source": [
    "movie = 'the godfather'\n",
    "movie.capitalize()"
   ]
  },
  {
   "cell_type": "markdown",
   "id": "sized-chester",
   "metadata": {},
   "source": [
    "**title():** It converts all the first letters of words -> upper"
   ]
  },
  {
   "cell_type": "code",
   "execution_count": 56,
   "id": "nearby-solomon",
   "metadata": {},
   "outputs": [
    {
     "data": {
      "text/plain": [
       "'The Godfather Part Two'"
      ]
     },
     "execution_count": 56,
     "metadata": {},
     "output_type": "execute_result"
    }
   ],
   "source": [
    "movie = 'the godfather part two'\n",
    "movie.title()"
   ]
  },
  {
   "cell_type": "code",
   "execution_count": 57,
   "id": "injured-affiliation",
   "metadata": {},
   "outputs": [
    {
     "data": {
      "text/plain": [
       "'the godfather part two'"
      ]
     },
     "execution_count": 57,
     "metadata": {},
     "output_type": "execute_result"
    }
   ],
   "source": [
    "movie"
   ]
  },
  {
   "cell_type": "code",
   "execution_count": 58,
   "id": "rolled-greensboro",
   "metadata": {},
   "outputs": [
    {
     "data": {
      "text/plain": [
       "'Python Hands On'"
      ]
     },
     "execution_count": 58,
     "metadata": {},
     "output_type": "execute_result"
    }
   ],
   "source": [
    "data = 'pYthon HANDS on'\n",
    "data.title()"
   ]
  },
  {
   "cell_type": "markdown",
   "id": "inclusive-bridge",
   "metadata": {},
   "source": [
    "**isdigit():** checks if integer."
   ]
  },
  {
   "cell_type": "code",
   "execution_count": 59,
   "id": "blind-oliver",
   "metadata": {},
   "outputs": [
    {
     "data": {
      "text/plain": [
       "False"
      ]
     },
     "execution_count": 59,
     "metadata": {},
     "output_type": "execute_result"
    }
   ],
   "source": [
    "txt = 'abc'\n",
    "txt.isdigit()"
   ]
  },
  {
   "cell_type": "code",
   "execution_count": 60,
   "id": "mental-optimization",
   "metadata": {},
   "outputs": [
    {
     "data": {
      "text/plain": [
       "True"
      ]
     },
     "execution_count": 60,
     "metadata": {},
     "output_type": "execute_result"
    }
   ],
   "source": [
    "txt = '45'\n",
    "txt.isdigit()"
   ]
  },
  {
   "cell_type": "code",
   "execution_count": 61,
   "id": "future-ethics",
   "metadata": {},
   "outputs": [
    {
     "data": {
      "text/plain": [
       "False"
      ]
     },
     "execution_count": 61,
     "metadata": {},
     "output_type": "execute_result"
    }
   ],
   "source": [
    "'4.5'.isdigit()"
   ]
  },
  {
   "cell_type": "markdown",
   "id": "special-compression",
   "metadata": {},
   "source": [
    "**startswith():** check if the string starts with a char or a string.\n",
    "\n",
    "(endswith())"
   ]
  },
  {
   "cell_type": "code",
   "execution_count": 62,
   "id": "fatty-proxy",
   "metadata": {},
   "outputs": [
    {
     "data": {
      "text/plain": [
       "False"
      ]
     },
     "execution_count": 62,
     "metadata": {},
     "output_type": "execute_result"
    }
   ],
   "source": [
    "planet = 'Mars'\n",
    "planet.startswith('T')"
   ]
  },
  {
   "cell_type": "code",
   "execution_count": 63,
   "id": "dangerous-adoption",
   "metadata": {},
   "outputs": [
    {
     "data": {
      "text/plain": [
       "True"
      ]
     },
     "execution_count": 63,
     "metadata": {},
     "output_type": "execute_result"
    }
   ],
   "source": [
    "planet.startswith('M')"
   ]
  },
  {
   "cell_type": "code",
   "execution_count": 64,
   "id": "angry-corner",
   "metadata": {},
   "outputs": [
    {
     "data": {
      "text/plain": [
       "True"
      ]
     },
     "execution_count": 64,
     "metadata": {},
     "output_type": "execute_result"
    }
   ],
   "source": [
    "planet.startswith('Ma')"
   ]
  },
  {
   "cell_type": "markdown",
   "id": "alpine-administrator",
   "metadata": {},
   "source": [
    "**replace():** replaces the string with another"
   ]
  },
  {
   "cell_type": "code",
   "execution_count": 65,
   "id": "addressed-river",
   "metadata": {},
   "outputs": [
    {
     "data": {
      "text/plain": [
       "'In 2008 Java is the most popular language.'"
      ]
     },
     "execution_count": 65,
     "metadata": {},
     "output_type": "execute_result"
    }
   ],
   "source": [
    "language = 'In 2008 Java is the most popular language.'\n",
    "language"
   ]
  },
  {
   "cell_type": "code",
   "execution_count": 66,
   "id": "suburban-concrete",
   "metadata": {},
   "outputs": [
    {
     "data": {
      "text/plain": [
       "'In 2021 Python is the most popular language.'"
      ]
     },
     "execution_count": 66,
     "metadata": {},
     "output_type": "execute_result"
    }
   ],
   "source": [
    "new_language = language.replace('2008', '2021').replace('Java', 'Python')\n",
    "new_language"
   ]
  },
  {
   "cell_type": "markdown",
   "id": "gorgeous-snake",
   "metadata": {},
   "source": [
    "## `in` Operator"
   ]
  },
  {
   "cell_type": "markdown",
   "id": "hungarian-fourth",
   "metadata": {},
   "source": [
    "To check if a string contains a char or another string -> `in`\n",
    "\n",
    "* It it contains -> True"
   ]
  },
  {
   "cell_type": "code",
   "execution_count": 67,
   "id": "opposed-sunday",
   "metadata": {},
   "outputs": [],
   "source": [
    "# define two variables\n",
    "program = 'Python Django App'\n",
    "app = 'App'"
   ]
  },
  {
   "cell_type": "code",
   "execution_count": 68,
   "id": "extended-springfield",
   "metadata": {},
   "outputs": [
    {
     "data": {
      "text/plain": [
       "True"
      ]
     },
     "execution_count": 68,
     "metadata": {},
     "output_type": "execute_result"
    }
   ],
   "source": [
    "# check if app is in program\n",
    "app in program"
   ]
  },
  {
   "cell_type": "code",
   "execution_count": 69,
   "id": "tropical-width",
   "metadata": {},
   "outputs": [
    {
     "data": {
      "text/plain": [
       "True"
      ]
     },
     "execution_count": 69,
     "metadata": {},
     "output_type": "execute_result"
    }
   ],
   "source": [
    "'Dj' in program"
   ]
  },
  {
   "cell_type": "code",
   "execution_count": 70,
   "id": "united-spoke",
   "metadata": {},
   "outputs": [
    {
     "data": {
      "text/plain": [
       "False"
      ]
     },
     "execution_count": 70,
     "metadata": {},
     "output_type": "execute_result"
    }
   ],
   "source": [
    "'Dj' in app"
   ]
  },
  {
   "cell_type": "code",
   "execution_count": 71,
   "id": "living-admission",
   "metadata": {},
   "outputs": [
    {
     "data": {
      "text/plain": [
       "True"
      ]
     },
     "execution_count": 71,
     "metadata": {},
     "output_type": "execute_result"
    }
   ],
   "source": [
    "'2' in 'abc1234'"
   ]
  },
  {
   "cell_type": "markdown",
   "id": "bearing-snowboard",
   "metadata": {},
   "source": [
    "**Example:**\n",
    "\n",
    "Ask for an input from the user.\n",
    "\n",
    "Check if the input includes char 'a' nor not.\n",
    "\n",
    "If it's true print as 'This input has a in it'"
   ]
  },
  {
   "cell_type": "code",
   "execution_count": 72,
   "id": "worse-rebecca",
   "metadata": {},
   "outputs": [],
   "source": [
    "def is_a_in_it():\n",
    "    # ask for input\n",
    "    text = input('Please enter a text: ')\n",
    "    \n",
    "    # check if text has letter a in it\n",
    "    if 'a' in text:\n",
    "        print('This input has a in: {0}'.format(text))\n",
    "    else:\n",
    "        print('This input has NO a in: {0}'.format(text))"
   ]
  },
  {
   "cell_type": "code",
   "execution_count": 73,
   "id": "automatic-orbit",
   "metadata": {},
   "outputs": [
    {
     "name": "stdin",
     "output_type": "stream",
     "text": [
      "Please enter a text:  Python is the most popular language\n"
     ]
    },
    {
     "name": "stdout",
     "output_type": "stream",
     "text": [
      "This input has a in: Python is the most popular language\n"
     ]
    }
   ],
   "source": [
    "is_a_in_it()"
   ]
  },
  {
   "cell_type": "code",
   "execution_count": 74,
   "id": "extraordinary-factor",
   "metadata": {},
   "outputs": [],
   "source": [
    "# one line return\n",
    "def is_a_in_it():\n",
    "    # ask for input\n",
    "    text = input('Please enter a text: ')\n",
    "    \n",
    "    # return if text has letter a in it\n",
    "    return 'a' in text"
   ]
  },
  {
   "cell_type": "code",
   "execution_count": 75,
   "id": "coated-turkish",
   "metadata": {},
   "outputs": [
    {
     "name": "stdin",
     "output_type": "stream",
     "text": [
      "Please enter a text:  Deep Learning\n"
     ]
    },
    {
     "data": {
      "text/plain": [
       "True"
      ]
     },
     "execution_count": 75,
     "metadata": {},
     "output_type": "execute_result"
    }
   ],
   "source": [
    "is_a_in_it()"
   ]
  },
  {
   "cell_type": "code",
   "execution_count": 76,
   "id": "realistic-thousand",
   "metadata": {},
   "outputs": [],
   "source": [
    "# one line function\n",
    "def is_a_in_it():\n",
    "    # ask the input and return if it has a in it\n",
    "    return 'a' in input('Please enter a text: ')"
   ]
  },
  {
   "cell_type": "code",
   "execution_count": 77,
   "id": "patent-blank",
   "metadata": {},
   "outputs": [
    {
     "name": "stdin",
     "output_type": "stream",
     "text": [
      "Please enter a text:  Machine Learning\n"
     ]
    },
    {
     "data": {
      "text/plain": [
       "True"
      ]
     },
     "execution_count": 77,
     "metadata": {},
     "output_type": "execute_result"
    }
   ],
   "source": [
    "is_a_in_it()"
   ]
  },
  {
   "cell_type": "markdown",
   "id": "injured-stanley",
   "metadata": {},
   "source": [
    "## String Comparison"
   ]
  },
  {
   "cell_type": "markdown",
   "id": "adjacent-metallic",
   "metadata": {},
   "source": [
    "We need to check two strings:\n",
    "* if they are equal\n",
    "* which one greater (alphabetically it comes later)"
   ]
  },
  {
   "cell_type": "code",
   "execution_count": 78,
   "id": "external-malta",
   "metadata": {},
   "outputs": [
    {
     "name": "stdout",
     "output_type": "stream",
     "text": [
      "yes it is apple\n"
     ]
    }
   ],
   "source": [
    "# define a variable\n",
    "fruit = 'apple'\n",
    "\n",
    "# check its value\n",
    "if fruit == 'apple':\n",
    "    print('yes it is apple')\n",
    "else:\n",
    "    print('no it is not apple')"
   ]
  },
  {
   "cell_type": "code",
   "execution_count": 79,
   "id": "least-purpose",
   "metadata": {},
   "outputs": [
    {
     "name": "stdout",
     "output_type": "stream",
     "text": [
      "orange is greater than apple.\n"
     ]
    }
   ],
   "source": [
    "# define two variables\n",
    "orange = 'orange'\n",
    "apple = 'apple'\n",
    "\n",
    "# compare them\n",
    "if orange < apple:\n",
    "    print('orange is smaller than apple.')\n",
    "else:\n",
    "    print('orange is greater than apple.')"
   ]
  },
  {
   "cell_type": "code",
   "execution_count": 80,
   "id": "independent-symphony",
   "metadata": {},
   "outputs": [
    {
     "data": {
      "text/plain": [
       "False"
      ]
     },
     "execution_count": 80,
     "metadata": {},
     "output_type": "execute_result"
    }
   ],
   "source": [
    "# is letter 'o' is smaller than 'a'\n",
    "'o' < 'a'"
   ]
  },
  {
   "cell_type": "markdown",
   "id": "demonstrated-eugene",
   "metadata": {},
   "source": [
    "**ASCII** codes to compare strings."
   ]
  },
  {
   "cell_type": "code",
   "execution_count": 81,
   "id": "unusual-space",
   "metadata": {},
   "outputs": [
    {
     "data": {
      "text/plain": [
       "97"
      ]
     },
     "execution_count": 81,
     "metadata": {},
     "output_type": "execute_result"
    }
   ],
   "source": [
    "# ASCI code -> ord()\n",
    "ord('a')"
   ]
  },
  {
   "cell_type": "code",
   "execution_count": 82,
   "id": "entertaining-knitting",
   "metadata": {},
   "outputs": [
    {
     "data": {
      "text/plain": [
       "111"
      ]
     },
     "execution_count": 82,
     "metadata": {},
     "output_type": "execute_result"
    }
   ],
   "source": [
    "ord('o')"
   ]
  },
  {
   "cell_type": "code",
   "execution_count": 83,
   "id": "attended-drain",
   "metadata": {},
   "outputs": [
    {
     "data": {
      "text/plain": [
       "65"
      ]
     },
     "execution_count": 83,
     "metadata": {},
     "output_type": "execute_result"
    }
   ],
   "source": [
    "ord('A')"
   ]
  },
  {
   "cell_type": "code",
   "execution_count": 84,
   "id": "widespread-casting",
   "metadata": {},
   "outputs": [
    {
     "data": {
      "text/plain": [
       "True"
      ]
     },
     "execution_count": 84,
     "metadata": {},
     "output_type": "execute_result"
    }
   ],
   "source": [
    "# see if 'A' is smaller than 'a'\n",
    "ord('A') < ord('a')"
   ]
  },
  {
   "cell_type": "code",
   "execution_count": 85,
   "id": "liberal-reverse",
   "metadata": {},
   "outputs": [
    {
     "data": {
      "text/plain": [
       "True"
      ]
     },
     "execution_count": 85,
     "metadata": {},
     "output_type": "execute_result"
    }
   ],
   "source": [
    "'A' < 'a'"
   ]
  },
  {
   "cell_type": "markdown",
   "id": "basic-billy",
   "metadata": {},
   "source": [
    "In Python 'A' is less than 'a'."
   ]
  }
 ],
 "metadata": {
  "kernelspec": {
   "display_name": "Python 3",
   "language": "python",
   "name": "python3"
  },
  "language_info": {
   "codemirror_mode": {
    "name": "ipython",
    "version": 3
   },
   "file_extension": ".py",
   "mimetype": "text/x-python",
   "name": "python",
   "nbconvert_exporter": "python",
   "pygments_lexer": "ipython3",
   "version": "3.8.8"
  }
 },
 "nbformat": 4,
 "nbformat_minor": 5
}
